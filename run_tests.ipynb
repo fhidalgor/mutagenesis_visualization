{
 "cells": [
  {
   "cell_type": "markdown",
   "metadata": {},
   "source": [
    "# Convert the ipynb to py files"
   ]
  },
  {
   "cell_type": "markdown",
   "metadata": {},
   "source": [
    "Convert main scripts"
   ]
  },
  {
   "cell_type": "code",
   "execution_count": 1,
   "metadata": {
    "execution": {
     "iopub.execute_input": "2021-02-17T06:00:45.587916Z",
     "iopub.status.busy": "2021-02-17T06:00:45.587617Z",
     "iopub.status.idle": "2021-02-17T06:00:49.021359Z",
     "shell.execute_reply": "2021-02-17T06:00:49.020265Z",
     "shell.execute_reply.started": "2021-02-17T06:00:45.587866Z"
    }
   },
   "outputs": [],
   "source": [
    "%%capture\n",
    "!jupyter nbconvert --output-dir='mutagenesis_visualization/main/scripts' --to script mutagenesis_visualization/main/notebooks/code_*.ipynb"
   ]
  },
  {
   "cell_type": "markdown",
   "metadata": {},
   "source": [
    "Dashboard"
   ]
  },
  {
   "cell_type": "code",
   "execution_count": null,
   "metadata": {},
   "outputs": [],
   "source": [
    "!jupyter nbconvert --output-dir='../mv_dashboard/' --to script mutagenesis_visualization/main/notebooks/mv_dashboard.ipynb\n"
   ]
  },
  {
   "cell_type": "markdown",
   "metadata": {},
   "source": [
    "Convert tests"
   ]
  },
  {
   "cell_type": "code",
   "execution_count": 1,
   "metadata": {
    "execution": {
     "iopub.execute_input": "2021-01-25T21:05:55.289419Z",
     "iopub.status.busy": "2021-01-25T21:05:55.289178Z",
     "iopub.status.idle": "2021-01-25T21:05:57.708184Z",
     "shell.execute_reply": "2021-01-25T21:05:57.707473Z",
     "shell.execute_reply.started": "2021-01-25T21:05:55.289394Z"
    }
   },
   "outputs": [],
   "source": [
    "%%capture\n",
    "!jupyter nbconvert --output-dir='mutagenesis_visualization/tests/scripts' --to script mutagenesis_visualization/tests/notebooks/test_*"
   ]
  },
  {
   "cell_type": "markdown",
   "metadata": {},
   "source": [
    "# Convert the doc ipynb to rst files (and clean output)"
   ]
  },
  {
   "cell_type": "markdown",
   "metadata": {},
   "source": [
    "Clean output"
   ]
  },
  {
   "cell_type": "code",
   "execution_count": null,
   "metadata": {},
   "outputs": [],
   "source": [
    "%%capture\n",
    "!jupyter nbconvert --ClearOutputPreprocessor.enabled=True --clear-output --inplace mutagenesis_visualization/tutorial/doc*.ipynb"
   ]
  },
  {
   "cell_type": "markdown",
   "metadata": {},
   "source": [
    "Convert to rst"
   ]
  },
  {
   "cell_type": "code",
   "execution_count": null,
   "metadata": {},
   "outputs": [],
   "source": [
    "%%capture\n",
    "!jupyter nbconvert --output-dir='docs/' --to rst mutagenesis_visualization/tutorial/doc*.ipynb\n",
    "\n",
    "# edit image loading from doc0_intro.rst\n",
    "with open(\"docs/doc0_intro.rst\", \"r\") as f:\n",
    "    lines = f.readlines()\n",
    "with open(\"docs/doc0_intro.rst\", \"w\") as f:\n",
    "    for line in lines:\n",
    "        if line.strip(\"\\n\") == \".. |image1| image:: ../../docs/_static/workflow_v3.png\":\n",
    "            f.write(\".. |image1| image:: _static/workflow_v3.png\\n\")\n",
    "        else:\n",
    "            f.write(line)"
   ]
  },
  {
   "cell_type": "markdown",
   "metadata": {},
   "source": [
    "# Build documentation with Sphinx"
   ]
  },
  {
   "cell_type": "code",
   "execution_count": null,
   "metadata": {},
   "outputs": [],
   "source": [
    "%%capture\n",
    "! python3 -m sphinx docs build"
   ]
  },
  {
   "cell_type": "markdown",
   "metadata": {},
   "source": [
    "# Run all tests"
   ]
  },
  {
   "cell_type": "code",
   "execution_count": null,
   "metadata": {},
   "outputs": [],
   "source": [
    "!python -m pytest mutagenesis_visualization/"
   ]
  },
  {
   "cell_type": "markdown",
   "metadata": {},
   "source": [
    "# Run Test by test"
   ]
  },
  {
   "cell_type": "markdown",
   "metadata": {},
   "source": [
    "## test_3D"
   ]
  },
  {
   "cell_type": "code",
   "execution_count": null,
   "metadata": {},
   "outputs": [],
   "source": [
    "!python -m pytest -s mutagenesis_visualization/tests/scripts/test_3D.py"
   ]
  },
  {
   "cell_type": "markdown",
   "metadata": {},
   "source": [
    "## test_bar"
   ]
  },
  {
   "cell_type": "code",
   "execution_count": null,
   "metadata": {},
   "outputs": [],
   "source": [
    "!python -m pytest -s mutagenesis_visualization/tests/scripts/test_bar.py"
   ]
  },
  {
   "cell_type": "markdown",
   "metadata": {},
   "source": [
    "## test_class"
   ]
  },
  {
   "cell_type": "code",
   "execution_count": null,
   "metadata": {},
   "outputs": [],
   "source": [
    "!python -m pytest -s mutagenesis_visualization/tests/scripts/test_class.py"
   ]
  },
  {
   "cell_type": "markdown",
   "metadata": {},
   "source": [
    "## test_create_objects"
   ]
  },
  {
   "cell_type": "code",
   "execution_count": null,
   "metadata": {},
   "outputs": [],
   "source": [
    "!python -m pytest -s mutagenesis_visualization/tests/scripts/test_create_objects.py"
   ]
  },
  {
   "cell_type": "markdown",
   "metadata": {},
   "source": [
    "## test_demo"
   ]
  },
  {
   "cell_type": "code",
   "execution_count": null,
   "metadata": {},
   "outputs": [],
   "source": [
    "!python -m pytest -s mutagenesis_visualization/tests/scripts/test_demo.py"
   ]
  },
  {
   "cell_type": "markdown",
   "metadata": {},
   "source": [
    "## test_heatmaps"
   ]
  },
  {
   "cell_type": "code",
   "execution_count": 2,
   "metadata": {
    "execution": {
     "iopub.execute_input": "2021-02-17T06:00:55.124472Z",
     "iopub.status.busy": "2021-02-17T06:00:55.124183Z",
     "iopub.status.idle": "2021-02-17T06:01:08.777472Z",
     "shell.execute_reply": "2021-02-17T06:01:08.776597Z",
     "shell.execute_reply.started": "2021-02-17T06:00:55.124438Z"
    }
   },
   "outputs": [
    {
     "name": "stdout",
     "output_type": "stream",
     "text": [
      "\u001b[1m============================= test session starts ==============================\u001b[0m\n",
      "platform darwin -- Python 3.8.3, pytest-5.4.3, py-1.9.0, pluggy-0.13.1\n",
      "rootdir: /Users/fx/Dropbox/AKuriyanLab/Code/Python/Python_Scripts/mv_repo\n",
      "plugins: dash-1.17.0\n",
      "collected 8 items                                                              \u001b[0m\u001b[1m\n",
      "\n",
      "mutagenesis_visualization/tests/scripts/test_heatmaps.py \u001b[31mF\u001b[0m\u001b[32m.\u001b[0m\u001b[32m.\u001b[0m\u001b[32m.\u001b[0m\u001b[32m.\u001b[0m\u001b[32m.\u001b[0m\u001b[32m.\u001b[0m\u001b[32m.\u001b[0m\u001b[31m        [100%]\u001b[0m\n",
      "\n",
      "=================================== FAILURES ===================================\n",
      "\u001b[31m\u001b[1m______________________________ test_plot_heatmap _______________________________\u001b[0m\n",
      "\n",
      "    \u001b[94mdef\u001b[39;49;00m \u001b[92mtest_plot_heatmap\u001b[39;49;00m():\n",
      "        \u001b[90m# Get object\u001b[39;49;00m\n",
      "        obj_test = hras_RBD()\n",
      "    \n",
      "        \u001b[90m# Define aux function\u001b[39;49;00m\n",
      "        \u001b[94mdef\u001b[39;49;00m \u001b[92m_test_plot_heatmap_output\u001b[39;49;00m(parameters):\n",
      "            error = \u001b[94mFalse\u001b[39;49;00m\n",
      "            \u001b[94mtry\u001b[39;49;00m:\n",
      "                obj_test.heatmap(\n",
      "                    **parameters\n",
      "                )  \u001b[90m# pass dictionary as arguments of method\u001b[39;49;00m\n",
      "            \u001b[94mexcept\u001b[39;49;00m:\n",
      "                error = \u001b[94mTrue\u001b[39;49;00m\n",
      "            \u001b[94mreturn\u001b[39;49;00m error\n",
      "    \n",
      "        \u001b[90m# Define dictionary of parameters\u001b[39;49;00m\n",
      "        \u001b[90m# Each dict in the list will be a different set of parameters\u001b[39;49;00m\n",
      "        list_params = [{\u001b[33m'\u001b[39;49;00m\u001b[33mshow\u001b[39;49;00m\u001b[33m'\u001b[39;49;00m: \u001b[94mFalse\u001b[39;49;00m}, {\u001b[33m'\u001b[39;49;00m\u001b[33mhierarchical\u001b[39;49;00m\u001b[33m'\u001b[39;49;00m: \u001b[94mTrue\u001b[39;49;00m, \u001b[33m'\u001b[39;49;00m\u001b[33mshow\u001b[39;49;00m\u001b[33m'\u001b[39;49;00m:\n",
      "                                         \u001b[94mFalse\u001b[39;49;00m}, {\u001b[33m'\u001b[39;49;00m\u001b[33mshow_snv\u001b[39;49;00m\u001b[33m'\u001b[39;49;00m: \u001b[94mTrue\u001b[39;49;00m, \u001b[33m'\u001b[39;49;00m\u001b[33mshow\u001b[39;49;00m\u001b[33m'\u001b[39;49;00m: \u001b[94mFalse\u001b[39;49;00m},\n",
      "                       {\u001b[33m'\u001b[39;49;00m\u001b[33mshow_cartoon\u001b[39;49;00m\u001b[33m'\u001b[39;49;00m: \u001b[94mTrue\u001b[39;49;00m, \u001b[33m'\u001b[39;49;00m\u001b[33mshow\u001b[39;49;00m\u001b[33m'\u001b[39;49;00m: \u001b[94mFalse\u001b[39;49;00m}]\n",
      "    \n",
      "        \u001b[90m# Assert\u001b[39;49;00m\n",
      "        \u001b[94mfor\u001b[39;49;00m parameters \u001b[95min\u001b[39;49;00m list_params:\n",
      ">           \u001b[94massert\u001b[39;49;00m _test_plot_heatmap_output(\n",
      "                parameters\n",
      "            ) == \u001b[94mFalse\u001b[39;49;00m, \u001b[33m\"\u001b[39;49;00m\u001b[33mplot_heatmap failed with \u001b[39;49;00m\u001b[33m{}\u001b[39;49;00m\u001b[33m parameters\u001b[39;49;00m\u001b[33m\"\u001b[39;49;00m.format(parameters)\n",
      "\u001b[1m\u001b[31mE           AssertionError: plot_heatmap failed with {'hierarchical': True, 'show': False} parameters\u001b[0m\n",
      "\u001b[1m\u001b[31mE           assert True == False\u001b[0m\n",
      "\u001b[1m\u001b[31mE            +  where True = <function test_plot_heatmap.<locals>._test_plot_heatmap_output at 0x7f97a4b029d0>({'hierarchical': True, 'show': False})\u001b[0m\n",
      "\n",
      "\u001b[1m\u001b[31mmutagenesis_visualization/tests/scripts/test_heatmaps.py\u001b[0m:65: AssertionError\n",
      "\u001b[33m=============================== warnings summary ===============================\u001b[0m\n",
      "/Users/fx/opt/anaconda3/lib/python3.8/site-packages/Bio/Alphabet/__init__.py:22\n",
      "  /Users/fx/opt/anaconda3/lib/python3.8/site-packages/Bio/Alphabet/__init__.py:22: PendingDeprecationWarning: We intend to remove or replace Bio.Alphabet in 2020, ideally avoid using it explicitly in your code. Please get in touch if you will be adversely affected by this. https://github.com/biopython/biopython/issues/2046\n",
      "    warnings.warn(\n",
      "\n",
      "-- Docs: https://docs.pytest.org/en/latest/warnings.html\n",
      "=========================== short test summary info ============================\n",
      "FAILED mutagenesis_visualization/tests/scripts/test_heatmaps.py::test_plot_heatmap\n",
      "\u001b[31m=================== \u001b[31m\u001b[1m1 failed\u001b[0m, \u001b[32m7 passed\u001b[0m, \u001b[33m1 warning\u001b[0m\u001b[31m in 11.53s\u001b[0m\u001b[31m ====================\u001b[0m\n"
     ]
    }
   ],
   "source": [
    "!python -m pytest mutagenesis_visualization/tests/scripts/test_heatmaps.py"
   ]
  },
  {
   "cell_type": "markdown",
   "metadata": {
    "execution": {
     "iopub.execute_input": "2021-01-20T00:27:30.604570Z",
     "iopub.status.busy": "2021-01-20T00:27:30.604026Z",
     "iopub.status.idle": "2021-01-20T00:27:30.609076Z",
     "shell.execute_reply": "2021-01-20T00:27:30.607775Z",
     "shell.execute_reply.started": "2021-01-20T00:27:30.604531Z"
    }
   },
   "source": [
    "## test_kernel"
   ]
  },
  {
   "cell_type": "code",
   "execution_count": null,
   "metadata": {},
   "outputs": [],
   "source": [
    "!python -m pytest mutagenesis_visualization/tests/scripts/test_kernel.py"
   ]
  },
  {
   "cell_type": "markdown",
   "metadata": {},
   "source": [
    "## test_kwargs"
   ]
  },
  {
   "cell_type": "code",
   "execution_count": null,
   "metadata": {},
   "outputs": [],
   "source": [
    "!python -m pytest mutagenesis_visualization/tests/scripts/test_kwargs.py"
   ]
  },
  {
   "cell_type": "markdown",
   "metadata": {},
   "source": [
    "## test_other"
   ]
  },
  {
   "cell_type": "code",
   "execution_count": null,
   "metadata": {},
   "outputs": [],
   "source": [
    "!python -m pytest mutagenesis_visualization/tests/scripts/test_other.py"
   ]
  },
  {
   "cell_type": "markdown",
   "metadata": {},
   "source": [
    "## test_PCA"
   ]
  },
  {
   "cell_type": "code",
   "execution_count": null,
   "metadata": {},
   "outputs": [],
   "source": [
    "!python -m pytest mutagenesis_visualization/tests/scripts/test_PCA.py"
   ]
  },
  {
   "cell_type": "markdown",
   "metadata": {},
   "source": [
    "## test_plotly"
   ]
  },
  {
   "cell_type": "code",
   "execution_count": null,
   "metadata": {},
   "outputs": [],
   "source": [
    "!python -m pytest mutagenesis_visualization/tests/scripts/test_plotly.py"
   ]
  },
  {
   "cell_type": "markdown",
   "metadata": {},
   "source": [
    "## test_process_data"
   ]
  },
  {
   "cell_type": "code",
   "execution_count": 2,
   "metadata": {
    "execution": {
     "iopub.execute_input": "2021-01-25T21:05:59.127653Z",
     "iopub.status.busy": "2021-01-25T21:05:59.127260Z",
     "iopub.status.idle": "2021-01-25T21:06:25.707516Z",
     "shell.execute_reply": "2021-01-25T21:06:25.706780Z",
     "shell.execute_reply.started": "2021-01-25T21:05:59.127621Z"
    }
   },
   "outputs": [
    {
     "name": "stdout",
     "output_type": "stream",
     "text": [
      "\u001b[1m============================= test session starts ==============================\u001b[0m\n",
      "platform darwin -- Python 3.8.3, pytest-5.4.3, py-1.9.0, pluggy-0.13.1\n",
      "rootdir: /Users/fx/Dropbox/AKuriyanLab/Code/Python/Python_Scripts/mv_repo\n",
      "plugins: dash-1.17.0\n",
      "collected 5 items                                                              \u001b[0m\u001b[1m\n",
      "\n",
      "mutagenesis_visualization/tests/scripts/test_process_data.py \u001b[32m.\u001b[0m\u001b[32m.\u001b[0m\u001b[32m.\u001b[0m\u001b[32m.\u001b[0m\u001b[32m.\u001b[0m\n",
      "\n",
      "\u001b[33m=============================== warnings summary ===============================\u001b[0m\n",
      "/Users/fx/opt/anaconda3/lib/python3.8/site-packages/Bio/Alphabet/__init__.py:22\n",
      "  /Users/fx/opt/anaconda3/lib/python3.8/site-packages/Bio/Alphabet/__init__.py:22: PendingDeprecationWarning: We intend to remove or replace Bio.Alphabet in 2020, ideally avoid using it explicitly in your code. Please get in touch if you will be adversely affected by this. https://github.com/biopython/biopython/issues/2046\n",
      "    warnings.warn(\n",
      "\n",
      "mutagenesis_visualization/tests/scripts/test_process_data.py: 20 tests with warnings\n",
      "  /Users/fx/opt/anaconda3/lib/python3.8/site-packages/xlrd/xlsx.py:266: DeprecationWarning: This method will be removed in future versions.  Use 'tree.iter()' or 'list(tree.iter())' instead.\n",
      "    for elem in self.tree.iter() if Element_has_iter else self.tree.getiterator():\n",
      "\n",
      "mutagenesis_visualization/tests/scripts/test_process_data.py: 10 tests with warnings\n",
      "  /Users/fx/opt/anaconda3/lib/python3.8/site-packages/xlrd/xlsx.py:312: DeprecationWarning: This method will be removed in future versions.  Use 'tree.iter()' or 'list(tree.iter())' instead.\n",
      "    for elem in self.tree.iter() if Element_has_iter else self.tree.getiterator():\n",
      "\n",
      "-- Docs: https://docs.pytest.org/en/latest/warnings.html\n",
      "\u001b[33m======================= \u001b[32m5 passed\u001b[0m, \u001b[33m\u001b[1m31 warnings\u001b[0m\u001b[33m in 25.27s\u001b[0m\u001b[33m ========================\u001b[0m\n"
     ]
    }
   ],
   "source": [
    "!python -m pytest -s mutagenesis_visualization/tests/scripts/test_process_data.py"
   ]
  },
  {
   "cell_type": "markdown",
   "metadata": {},
   "source": [
    "## test_pymol"
   ]
  },
  {
   "cell_type": "code",
   "execution_count": null,
   "metadata": {},
   "outputs": [],
   "source": [
    "!python -m pytest -s mutagenesis_visualization/tests/scripts/test_pymol.py"
   ]
  },
  {
   "cell_type": "markdown",
   "metadata": {},
   "source": [
    "## test_scatter"
   ]
  },
  {
   "cell_type": "code",
   "execution_count": null,
   "metadata": {},
   "outputs": [],
   "source": [
    "!python -m pytest -s mutagenesis_visualization/tests/scripts/test_scatter.py"
   ]
  },
  {
   "cell_type": "markdown",
   "metadata": {},
   "source": [
    "## test_synthesis"
   ]
  },
  {
   "cell_type": "code",
   "execution_count": null,
   "metadata": {},
   "outputs": [],
   "source": [
    "!python -m pytest -s mutagenesis_visualization/tests/scripts/test_synthesis.py"
   ]
  },
  {
   "cell_type": "markdown",
   "metadata": {},
   "source": [
    "## test_utils"
   ]
  },
  {
   "cell_type": "code",
   "execution_count": null,
   "metadata": {},
   "outputs": [],
   "source": [
    "!python -m pytest mutagenesis_visualization/tests/scripts/test_utils.py"
   ]
  },
  {
   "cell_type": "markdown",
   "metadata": {},
   "source": [
    "## Coverage"
   ]
  },
  {
   "cell_type": "code",
   "execution_count": null,
   "metadata": {},
   "outputs": [],
   "source": [
    "!coverage run -m pytest mutagenesis_visualization"
   ]
  },
  {
   "cell_type": "markdown",
   "metadata": {},
   "source": [
    "# Doc formatter"
   ]
  },
  {
   "cell_type": "code",
   "execution_count": null,
   "metadata": {},
   "outputs": [],
   "source": [
    "!docformatter --in-place --pre-summary-newline --make-summary-multi-line --wrap-summaries 79 --wrap-descriptions 72 --blank mutagenesis_visualization/main/scripts/code_class.py"
   ]
  },
  {
   "cell_type": "code",
   "execution_count": null,
   "metadata": {},
   "outputs": [],
   "source": [
    "!docformatter --in-place --pre-summary-newline --blank mutagenesis_visualization/main/notebooks/code_other.ipynb"
   ]
  },
  {
   "cell_type": "code",
   "execution_count": null,
   "metadata": {},
   "outputs": [],
   "source": [
    "!docformatter --in-place --pre-summary-newline --make-summary-multi-line --wrap-summaries 79 --wrap-descriptions 72 --blank mutagenesis_visualization/main/notebooks/code_*"
   ]
  }
 ],
 "metadata": {
  "kernelspec": {
   "display_name": "Python 3",
   "language": "python",
   "name": "python3"
  },
  "language_info": {
   "codemirror_mode": {
    "name": "ipython",
    "version": 3
   },
   "file_extension": ".py",
   "mimetype": "text/x-python",
   "name": "python",
   "nbconvert_exporter": "python",
   "pygments_lexer": "ipython3",
   "version": "3.8.3"
  }
 },
 "nbformat": 4,
 "nbformat_minor": 4
}
