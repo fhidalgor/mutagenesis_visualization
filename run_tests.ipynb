{
 "cells": [
  {
   "cell_type": "markdown",
   "metadata": {},
   "source": [
    "# Convert the ipynb to py files"
   ]
  },
  {
   "cell_type": "markdown",
   "metadata": {},
   "source": [
    "Dashboard"
   ]
  },
  {
   "cell_type": "code",
   "execution_count": null,
   "metadata": {},
   "outputs": [],
   "source": [
    "!jupyter nbconvert --output-dir='../mv_dashboard/' --to script mutagenesis_visualization/main/notebooks/mv_dashboard.ipynb\n"
   ]
  },
  {
   "cell_type": "markdown",
   "metadata": {},
   "source": [
    "# Convert the doc ipynb to rst files (and clean output)"
   ]
  },
  {
   "cell_type": "markdown",
   "metadata": {},
   "source": [
    "Clean output"
   ]
  },
  {
   "cell_type": "code",
   "execution_count": 1,
   "metadata": {},
   "outputs": [],
   "source": [
    "%%capture\n",
    "!jupyter nbconvert --ClearOutputPreprocessor.enabled=True --clear-output --inplace mutagenesis_visualization/tutorial/doc*.ipynb"
   ]
  },
  {
   "cell_type": "markdown",
   "metadata": {},
   "source": [
    "Convert to rst"
   ]
  },
  {
   "cell_type": "code",
   "execution_count": 2,
   "metadata": {},
   "outputs": [],
   "source": [
    "%%capture\n",
    "!jupyter nbconvert --output-dir='docs/' --to rst mutagenesis_visualization/tutorial/doc*.ipynb\n",
    "\n",
    "# edit image loading from doc0_intro.rst\n",
    "with open(\"docs/doc0_intro.rst\", \"r\") as f:\n",
    "    lines = f.readlines()\n",
    "with open(\"docs/doc0_intro.rst\", \"w\") as f:\n",
    "    for line in lines:\n",
    "        if line.strip(\"\\n\") == \".. |image1| image:: ../../docs/_static/workflow_v3.png\":\n",
    "            f.write(\".. |image1| image:: _static/workflow_v3.png\\n\")\n",
    "        else:\n",
    "            f.write(line)"
   ]
  },
  {
   "cell_type": "markdown",
   "metadata": {},
   "source": [
    "# Build documentation with Sphinx"
   ]
  },
  {
   "cell_type": "code",
   "execution_count": null,
   "metadata": {},
   "outputs": [],
   "source": [
    "%%capture\n",
    "! python3 -m sphinx docs build"
   ]
  },
  {
   "cell_type": "markdown",
   "metadata": {},
   "source": [
    "# Run all tests"
   ]
  },
  {
   "cell_type": "code",
   "execution_count": null,
   "metadata": {},
   "outputs": [],
   "source": [
    "!python -m pytest mutagenesis_visualization/"
   ]
  }
 ],
 "metadata": {
  "kernelspec": {
   "display_name": "Python 3.9.2 64-bit ('3.9.2': pyenv)",
   "name": "python392jvsc74a57bd067faf5689d855efec18762fc90e97f7bced5151e52ca735fd1f9e89581fc4dbb"
  },
  "language_info": {
   "codemirror_mode": {
    "name": "ipython",
    "version": 3
   },
   "file_extension": ".py",
   "mimetype": "text/x-python",
   "name": "python",
   "nbconvert_exporter": "python",
   "pygments_lexer": "ipython3",
   "version": "3.9.2"
  },
  "metadata": {
   "interpreter": {
    "hash": "67faf5689d855efec18762fc90e97f7bced5151e52ca735fd1f9e89581fc4dbb"
   }
  }
 },
 "nbformat": 4,
 "nbformat_minor": 4
}