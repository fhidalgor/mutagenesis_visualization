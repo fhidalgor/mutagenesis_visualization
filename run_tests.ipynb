{
 "cells": [
  {
   "cell_type": "markdown",
   "source": [
    "# Convert the ipynb to py files"
   ],
   "metadata": {}
  },
  {
   "cell_type": "markdown",
   "source": [
    "Dashboard"
   ],
   "metadata": {}
  },
  {
   "cell_type": "code",
   "execution_count": null,
   "source": [
    "!poetry run jupyter nbconvert --output-dir='../mv_dashboard/' --to script mutagenesis_visualization/main/notebooks/mv_dashboard.ipynb\n"
   ],
   "outputs": [],
   "metadata": {}
  },
  {
   "cell_type": "markdown",
   "source": [
    "# Convert the doc ipynb to rst files (and clean output)"
   ],
   "metadata": {}
  },
  {
   "cell_type": "markdown",
   "source": [
    "Clean output"
   ],
   "metadata": {}
  },
  {
   "cell_type": "code",
   "execution_count": 1,
   "source": [
    "%%capture\n",
    "!poetry run jupyter nbconvert --ClearOutputPreprocessor.enabled=True --clear-output --inplace mutagenesis_visualization/tutorial/doc*.ipynb"
   ],
   "outputs": [],
   "metadata": {}
  },
  {
   "cell_type": "markdown",
   "source": [
    "Convert to rst"
   ],
   "metadata": {}
  },
  {
   "cell_type": "code",
   "execution_count": 32,
   "source": [
    "%%capture\n",
    "!poetry run jupyter nbconvert --output-dir='docs/' --to rst mutagenesis_visualization/tutorial/doc*.ipynb\n",
    "\n",
    "# edit image loading from doc0_intro.rst\n",
    "with open(\"docs/doc0_intro.rst\", \"r\") as f:\n",
    "    lines = f.readlines()\n",
    "with open(\"docs/doc0_intro.rst\", \"w\") as f:\n",
    "    for line in lines:\n",
    "        print(line)\n",
    "        if line.strip(\"\\n\") == \".. |image0| image:: ../../docs/_static/workflow_v3.png\":\n",
    "            f.write(\".. |image0| image:: _static/workflow_v3.png\\n\")\n",
    "        else:\n",
    "            f.write(line)"
   ],
   "outputs": [
    {
     "output_type": "stream",
     "name": "stdout",
     "text": [
      "[NbConvertApp] Converting notebook mutagenesis_visualization/tutorial/doc0_intro.ipynb to rst\n",
      "[NbConvertApp] Writing 1864 bytes to docs/doc0_intro.rst\n",
      "[NbConvertApp] Converting notebook mutagenesis_visualization/tutorial/doc1_libraries.ipynb to rst\n",
      "[NbConvertApp] Writing 3837 bytes to docs/doc1_libraries.rst\n",
      "[NbConvertApp] Converting notebook mutagenesis_visualization/tutorial/doc2_processing.ipynb to rst\n",
      "[NbConvertApp] Writing 9697 bytes to docs/doc2_processing.rst\n",
      "[NbConvertApp] Converting notebook mutagenesis_visualization/tutorial/doc3_normalizing.ipynb to rst\n",
      "[NbConvertApp] Writing 17289 bytes to docs/doc3_normalizing.rst\n",
      "[NbConvertApp] Converting notebook mutagenesis_visualization/tutorial/doc4a_plotting_heatmaps.ipynb to rst\n",
      "[NbConvertApp] Writing 7914 bytes to docs/doc4a_plotting_heatmaps.rst\n",
      "[NbConvertApp] Converting notebook mutagenesis_visualization/tutorial/doc4b_plotting_stats.ipynb to rst\n",
      "[NbConvertApp] Writing 14065 bytes to docs/doc4b_plotting_stats.rst\n",
      "[NbConvertApp] Converting notebook mutagenesis_visualization/tutorial/doc5_plotly.ipynb to rst\n",
      "[NbConvertApp] Writing 6340 bytes to docs/doc5_plotly.rst\n",
      "[NbConvertApp] Converting notebook mutagenesis_visualization/tutorial/doc6_other_datasets.ipynb to rst\n",
      "[NbConvertApp] Writing 35851 bytes to docs/doc6_other_datasets.rst\n",
      "Tutorial introduction\n",
      "\n",
      "=====================\n",
      "\n",
      "\n",
      "\n",
      "Let’s take a look to the workflow:\n",
      "\n",
      "\n",
      "\n",
      "|image0|\n",
      "\n",
      "\n",
      "\n",
      ".. |image0| image:: mutagenesis_visualization/docs/_static/workflow_v3.png\n",
      "\n",
      "\n",
      "\n",
      "To start, you can use this software to **design site-saturation\n",
      "\n",
      "sequences** (*doc1_library.ipynb*). From here, you will pause your work\n",
      "\n",
      "with Mutagenesis_visualization to synthesize the site-saturation\n",
      "\n",
      "sequences using Twist Bio, Agilent, etc. Once you have got your DNA\n",
      "\n",
      "library ready, you will perform the necessary experiments and sequence\n",
      "\n",
      "the samples. After that, you will use a bioinformatics software (ie\n",
      "\n",
      "Flash) to pair the unpaired reads. Then you will trim the adapters to\n",
      "\n",
      "generate FASTQ files.\n",
      "\n",
      "\n",
      "\n",
      "Now you will return to the software to conduct the **data processing**\n",
      "\n",
      "of your experiment (*doc2_processing.ipynb*). Mutagenesis_visualization\n",
      "\n",
      "will read the FASTQ files and return the counts per variant. At this\n",
      "\n",
      "point, there are a few visualization plots that you can create in order\n",
      "\n",
      "to assess the quality of the DNA library. After that, you will calculate\n",
      "\n",
      "the enrichment scores using the calculate_enrichment function (you will\n",
      "\n",
      "need a pre-selection and a post-selection dataset). There are different\n",
      "\n",
      "ways of conducting the **data normalization**, and you should see what\n",
      "\n",
      "parameters fit your interests best (*doc3_normalizing.ipynb*).\n",
      "\n",
      "\n",
      "\n",
      "With the enrichment scores in hand, you will have multiple options to\n",
      "\n",
      "**plot and visualize the data**, including heatmaps, histograms, scatter\n",
      "\n",
      "plots, PCA analysis, Pymol figures, and more (*doc4a_heatmaps.ipynb* and\n",
      "\n",
      "*doc4b_plotting.ipynb*) and (*doc5_plotly.ipynb*). We have compiled\n",
      "\n",
      "**other people’s datasets** and visualized them\n",
      "\n",
      "(*doc6_other_datasets.ipynb*).\n",
      "\n",
      "\n",
      "\n",
      "You can access the jupyter notebooks and play with the code in\n",
      "\n",
      "`mybinder <https://mybinder.org/v2/gh/fhidalgor/mutagenesis_visualization/HEAD?filepath=mutagenesis_visualization%2Ftutorial%2F>`__.\n",
      "\n"
     ]
    }
   ],
   "metadata": {}
  },
  {
   "cell_type": "markdown",
   "source": [
    "# Build documentation with Sphinx"
   ],
   "metadata": {}
  },
  {
   "cell_type": "code",
   "execution_count": 28,
   "source": [
    "%%capture\n",
    "! poetry run python3 -m sphinx docs build"
   ],
   "outputs": [],
   "metadata": {}
  },
  {
   "cell_type": "markdown",
   "source": [
    "# Run all tests"
   ],
   "metadata": {}
  },
  {
   "cell_type": "code",
   "execution_count": null,
   "source": [
    "!python -m pytest mutagenesis_visualization/"
   ],
   "outputs": [],
   "metadata": {}
  }
 ],
 "metadata": {
  "kernelspec": {
   "name": "python3",
   "display_name": "Python 3.9.2 64-bit ('3.9.2': pyenv)"
  },
  "language_info": {
   "codemirror_mode": {
    "name": "ipython",
    "version": 3
   },
   "file_extension": ".py",
   "mimetype": "text/x-python",
   "name": "python",
   "nbconvert_exporter": "python",
   "pygments_lexer": "ipython3",
   "version": "3.9.2"
  },
  "metadata": {
   "interpreter": {
    "hash": "67faf5689d855efec18762fc90e97f7bced5151e52ca735fd1f9e89581fc4dbb"
   }
  },
  "interpreter": {
   "hash": "67faf5689d855efec18762fc90e97f7bced5151e52ca735fd1f9e89581fc4dbb"
  }
 },
 "nbformat": 4,
 "nbformat_minor": 4
}