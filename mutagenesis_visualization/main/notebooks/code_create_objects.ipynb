{
 "cells": [
  {
   "cell_type": "markdown",
   "metadata": {},
   "source": [
    "# Create objects"
   ]
  },
  {
   "cell_type": "markdown",
   "metadata": {
    "execution": {
     "iopub.execute_input": "2020-11-19T04:12:27.204905Z",
     "iopub.status.busy": "2020-11-19T04:12:27.204706Z",
     "iopub.status.idle": "2020-11-19T04:12:27.212691Z",
     "shell.execute_reply": "2020-11-19T04:12:27.208888Z",
     "shell.execute_reply.started": "2020-11-19T04:12:27.204885Z"
    }
   },
   "source": [
    "This notebook will create objects with the datasets that are stored in the folder data. Having this objects easily accessible may pose useful for testing purposes."
   ]
  },
  {
   "cell_type": "markdown",
   "metadata": {},
   "source": [
    "## Import"
   ]
  },
  {
   "cell_type": "code",
<<<<<<< HEAD:mutagenesis_visualization/main/notebooks/code_createobjects.ipynb
   "execution_count": 2,
   "metadata": {
    "execution": {
     "iopub.status.idle": "2020-11-19T04:41:10.918274Z",
     "shell.execute_reply": "2020-11-19T04:41:10.917472Z",
     "shell.execute_reply.started": "2020-11-19T04:41:06.451728Z"
    }
   },
   "outputs": [
    {
     "name": "stdout",
     "output_type": "stream",
     "text": [
      "importing Jupyter notebook from code_class.ipynb\n",
      "importing Jupyter notebook from code_kernel.ipynb\n",
      "importing Jupyter notebook from code_kwargs.ipynb\n",
      "importing Jupyter notebook from code_utils.ipynb\n",
      "importing Jupyter notebook from code_heatmaps.ipynb\n",
      "importing Jupyter notebook from code_bar.ipynb\n",
      "importing Jupyter notebook from code_scatter.ipynb\n",
      "importing Jupyter notebook from code_PCA.ipynb\n",
      "importing Jupyter notebook from code_other.ipynb\n",
      "importing Jupyter notebook from code_3D.ipynb\n",
      "importing Jupyter notebook from code_plotly.ipynb\n",
      "importing Jupyter notebook from code_pymol.ipynb\n"
     ]
    }
   ],
=======
   "execution_count": null,
   "metadata": {},
   "outputs": [],
>>>>>>> 5da6f754687a04ff4661b751638bd42db2bbc30e:mutagenesis_visualization/main/notebooks/code_create_objects.ipynb
   "source": [
    "import numpy as np\n",
    "import pandas as pd\n",
    "import os \n",
    "\n",
    "# Local imports\n",
    "try:\n",
    "    from mutagenesis_visualization.main.scripts.code_class import Screen\n",
    "    import mutagenesis_visualization.main.scripts.code_utils as code_utils\n",
    "except ModuleNotFoundError:\n",
    "    import import_notebook\n",
    "    from code_class import Screen\n",
    "    import code_utils"
   ]
  },
  {
   "cell_type": "markdown",
   "metadata": {},
   "source": [
    "## HRas RBD"
   ]
  },
  {
   "cell_type": "code",
<<<<<<< HEAD:mutagenesis_visualization/main/notebooks/code_createobjects.ipynb
   "execution_count": 3,
   "metadata": {
    "execution": {
     "iopub.execute_input": "2020-11-19T04:41:10.920333Z",
     "iopub.status.busy": "2020-11-19T04:41:10.920050Z",
     "iopub.status.idle": "2020-11-19T04:41:10.928966Z",
     "shell.execute_reply": "2020-11-19T04:41:10.927859Z",
     "shell.execute_reply.started": "2020-11-19T04:41:10.920301Z"
    }
   },
=======
   "execution_count": null,
   "metadata": {},
>>>>>>> 5da6f754687a04ff4661b751638bd42db2bbc30e:mutagenesis_visualization/main/notebooks/code_create_objects.ipynb
   "outputs": [],
   "source": [
    "def hras_RBD():\n",
    "    '''Create object hras_RBD'''\n",
    "    # Use relative file import to access the data folder\n",
    "    try:\n",
    "        location = os.path.dirname(os.path.realpath(__file__))\n",
    "        my_file = os.path.join(location, '../../data', 'HRas166_RBD.csv')\n",
    "    except NameError:\n",
    "        my_file = os.path.join('../../data', 'HRas166_RBD.csv')\n",
    "\n",
    "    # Load enrichment scores\n",
    "    hras_enrichment_RBD = np.genfromtxt(my_file, delimiter=',')\n",
    "\n",
    "    # Define protein sequence\n",
    "    hras_sequence = 'MTEYKLVVVGAGGVGKSALTIQLIQNHFVDEYDPTIEDSYRKQVVIDGETCLLDILDTAGQEEYSAMRDQYMRTGEGFLCVFAINNTKSFEDIHQYREQIKRVKDSDDVPMVLVGNKCDLAARTVESRQAQDLARSYGIPYIETSAKTRQGVEDAFYTLVREIRQHKLRKLNPPDESGPG'\n",
    "\n",
    "    # Define secondary structure\n",
    "    secondary = [['L0'], ['β1'] * (9 - 1), ['L1'] * (15 - 9),\n",
    "                 ['α1'] * (25 - 15), ['L2'] * (36 - 25), ['β2'] * (46 - 36),\n",
    "                 ['L3'] * (48 - 46), ['β3'] * (58 - 48), ['L4'] * (64 - 58),\n",
    "                 ['α2'] * (74 - 64), ['L5'] * (76 - 74), ['β4'] * (83 - 76),\n",
    "                 ['L6'] * (86 - 83), ['α3'] * (103 - 86), ['L7'] * (110 - 103),\n",
    "                 ['β5'] * (116 - 110), ['L8'] * (126 - 116),\n",
    "                 ['α4'] * (137 - 126), ['L9'] * (140 - 137),\n",
    "                 ['β6'] * (143 - 140), ['L10'] * (151 - 143),\n",
    "                 ['α5'] * (172 - 151), ['L11'] * (190 - 172)]\n",
    "\n",
    "    # Create object\n",
    "    hras_RBD = Screen(\n",
    "        dataset=hras_enrichment_RBD,\n",
    "        sequence=hras_sequence,\n",
    "        secondary=secondary\n",
    "    )\n",
    "    return hras_RBD"
   ]
  },
  {
   "cell_type": "markdown",
   "metadata": {},
   "source": [
    "## Beta Lactamase"
   ]
  },
  {
   "cell_type": "code",
   "execution_count": null,
   "metadata": {},
   "outputs": [],
   "source": [
    "def bla_obj():\n",
    "    '''Create object for the beta lactamase dataset'''\n",
    "\n",
    "    # Use relative file import to access the data folder\n",
    "    try:\n",
    "        location = os.path.dirname(os.path.realpath(__file__))\n",
    "        my_file = os.path.join(location, '../../data', 'df_bla_raw.pkl')\n",
    "    except NameError:\n",
    "        my_file = os.path.join('../../data', 'df_bla_raw.pkl')\n",
    "\n",
    "    # Load data\n",
    "    df_bla_raw = pd.read_pickle(my_file)\n",
    "\n",
    "    # Parse\n",
    "    df_bla, sequence_bla = code_utils.parse_pivot(\n",
    "        df_bla_raw, col_data='DMS_amp_625_(b)'\n",
    "    )\n",
    "\n",
    "    # Order of amino acid substitutions in the hras_enrichment dataset\n",
    "    aminoacids = list(df_bla.index)\n",
    "    neworder_aminoacids = list('DEKHRGNQASTPCVYMILFW')\n",
    "\n",
    "    # First residue of the hras_enrichment dataset. Because 1-Met was not mutated, the dataset starts at residue 2\n",
    "    start_position = df_bla.columns[0]\n",
    "\n",
    "    # Define sequence. If you dont know the start of the sequence, just add X's\n",
    "    sequence_bla_x = 'MSIQHFRVALIPFFAAFCLPVFAHPETLVKVKDAEDQLGARVGYIELDLNSGKILESFRP'\\\n",
    "        + 'EERFPMMSTFKVLLCGAVLSRVDAGQEQLGRRIHYSQNDLVEYSPVTEKHLTDGMTVREL'\\\n",
    "        + 'CSAAITMSDNTAANLLLTTIGGPKELTAFLHNMGDHVTRLDRWEPELNEAIPNDERDTTM'\\\n",
    "        + 'PAAMATTLRKLLTGELLTLASRQQLIDWMEADKVAGPLLRSALPAGWFIADKSGAGERGS'\\\n",
    "        + 'RGIIAALGPDGKPSRIVVIYTTGSQATMDERNRQIAEIGASLIKHW'\n",
    "\n",
    "    # Define secondary structure\n",
    "    secondary_bla = [['L0'] * 23, ['α1'] * (38 - 23), ['L1'] * 2,\n",
    "                     ['β1'] * (48 - 40), ['L2'] * 5, ['β2'] * (57 - 53),\n",
    "                     ['L3'] * (68 - 57), ['α2'] * (84 - 68), ['L4'] * (95 - 84),\n",
    "                     ['α3'] * (100 - 95), ['L5'] * (103 - 100), ['α4'] *\n",
    "                     (110 - 103), ['L6'] * (116 - 110), ['α5'] * (140 - 116),\n",
    "                     ['L7'] * (1), ['α6'] * (153 - 141), ['L8'] * (164 - 153),\n",
    "                     ['α7'] * (169 - 164), ['L9'] * (179 - 169),\n",
    "                     ['α8'] * (194 - 179), ['L10'] * 3, ['α9'] * (210 - 197),\n",
    "                     ['L11'] * (227 - 210), ['β3'] * (235 - 227),\n",
    "                     ['L12'] * (240 - 235), ['β4'] * (249 - 240),\n",
    "                     ['L13'] * (254 - 249), ['β5'] * (262 - 254),\n",
    "                     ['L14'] * (266 - 262), ['α10'] * (286 - 266)]\n",
    "\n",
    "    # Create objects\n",
    "    bla_obj = Screen(\n",
    "        df_bla, sequence_bla_x, aminoacids, start_position, 0, secondary_bla\n",
    "    )\n",
    "    return bla_obj"
   ]
  },
  {
   "cell_type": "markdown",
   "metadata": {
    "execution": {
     "iopub.execute_input": "2020-11-19T04:24:13.953876Z",
     "iopub.status.busy": "2020-11-19T04:24:13.953610Z",
     "iopub.status.idle": "2020-11-19T04:24:14.179013Z",
     "shell.execute_reply": "2020-11-19T04:24:14.171188Z",
     "shell.execute_reply.started": "2020-11-19T04:24:13.953848Z"
    }
   },
   "source": [
    "## Sumo1"
   ]
  },
  {
   "cell_type": "code",
   "execution_count": null,
   "metadata": {},
   "outputs": [],
   "source": [
    "def sumo_obj():\n",
    "    '''Create object for the sumo1 dataset'''\n",
    "\n",
    "    # Use relative file import to access the data folder\n",
    "    try:\n",
    "        location = os.path.dirname(os.path.realpath(__file__))\n",
    "        my_file = os.path.join(location, '../../data', 'df_sumo1_raw.pkl')\n",
    "    except NameError:\n",
    "        my_file = os.path.join('../../data', 'df_sumo1_raw.pkl')\n",
    "\n",
    "    df_sumo1_raw = pd.read_pickle(my_file)\n",
    "\n",
    "    # Parse\n",
    "    df_sumo1, sequence_sumo1 = code_utils.parse_pivot(\n",
    "        df_sumo1_raw, col_data='DMS'\n",
    "    )\n",
    "\n",
    "    # Order of amino acid substitutions in the hras_enrichment dataset\n",
    "    aminoacids = list(df_sumo1.index)\n",
    "    neworder_aminoacids = list('DEKHRGNQASTPCVYMILFW')\n",
    "\n",
    "    # First residue of the hras_enrichment dataset. Because 1-Met was not mutated, the dataset starts at residue 2\n",
    "    start_position = df_sumo1.columns[0]\n",
    "\n",
    "    # Full sequence\n",
    "    sequence_sumo1 = 'MSDQEAKPSTEDLGDKKEGEYIKLKVIGQDSSEIHFKVKMTTHLKKLKESYCQRQGVPMN'\\\n",
    "        + 'SLRFLFEGQRIADNHTPKELGMEEEDVIEVYQEQTGGHSTV'\n",
    "    # Define secondary structure\n",
    "    secondary_sumo1 = [['L0'] * (20), ['β1'] * (28 - 20), ['L1'] * 3,\n",
    "                       ['β2'] * (39 - 31), ['L2'] * 4, ['α1'] * (55 - 43),\n",
    "                       ['L3'] * (6), ['β3'] * (65 - 61), ['L4'] * (75 - 65),\n",
    "                       ['α2'] * (80 - 75), ['L5'] * (85 - 80),\n",
    "                       ['β4'] * (92 - 85), ['L6'] * (101 - 92)]\n",
    "\n",
    "    # Create objects\n",
    "    sumo_obj = Screen(\n",
    "        df_sumo1, sequence_sumo1, aminoacids, start_position, 1, secondary_sumo1\n",
    "    )\n",
    "    return sumo_obj"
   ]
  },
  {
   "cell_type": "markdown",
   "metadata": {},
   "source": [
    "## MAPK1"
   ]
  },
  {
   "cell_type": "code",
   "execution_count": null,
   "metadata": {},
   "outputs": [],
   "source": [
    "def mapk1_obj():\n",
    "    '''Create object for the mapk1 dataset.'''\n",
    "    # Use relative file import to access the data folder\n",
    "    try:\n",
    "        location = os.path.dirname(os.path.realpath(__file__))\n",
    "        my_file = os.path.join(location, '../../data', 'df_mapk1_raw.pkl')\n",
    "    except NameError:\n",
    "        my_file = os.path.join('../../data', 'df_mapk1_raw.pkl')\n",
    "\n",
    "    # Read excel file\n",
    "    df_mapk1_raw = pd.read_pickle(my_file)\n",
    "\n",
    "    # Parse\n",
    "    df_mapk1, sequence_mapk1 = code_utils.parse_pivot(\n",
    "        df_mapk1_raw, col_data='DMS_DOX'\n",
    "    )\n",
    "\n",
    "    # Order of amino acid substitutions in the hras_enrichment dataset\n",
    "    aminoacids = list(df_mapk1.index)\n",
    "    neworder_aminoacids = list('DEKHRGNQASTPCVYMILFW')\n",
    "\n",
    "    # First residue of the hras_enrichment dataset. Because 1-Met was not mutated, the dataset starts at residue 2\n",
    "    start_position = df_mapk1.columns[0]\n",
    "\n",
    "    # Full sequence\n",
    "    sequence_mapk1_x = 'MAAAAAAGAGPEMVRGQVFDVGPRYTNLSYIGEGAYGMVCSAYDNVNKVRVAIK'\\\n",
    "                    +'KISPFEHQTYCQRTLREIKILLRFRHENIIGINDIIRAPTIEQMKDVYIVQDLMETDLYKLLKTQ'\\\n",
    "                    +'HLSNDHICYFLYQILRGLKYIHSANVLHRDLKPSNLLLNTTCDLKICDFGLARVADPDHDHTGFL'\\\n",
    "                    +'TEYVATRWYRAPEIMLNSKGYTKSIDIWSVGCILAEMLSNRPIFPGKHYLDQLNHILGILGSPSQ'\\\n",
    "                    +'EDLNCIINLKARNYLLSLPHKNKVPWNRLFPNADSKALDLLDKMLTFNPHKRIEVEQALAHPYLE'\\\n",
    "                    +'QYYDPSDEPIAEAPFKFDMELDDLPKEKLKELIFEETARFQPGYRS'\n",
    "\n",
    "    # Create objects\n",
    "    mapk1_obj = Screen(\n",
    "        df_mapk1, sequence_mapk1_x, aminoacids, start_position, 0\n",
    "    )\n",
    "    return mapk1_obj"
   ]
  },
  {
   "cell_type": "markdown",
   "metadata": {
    "execution": {
     "iopub.execute_input": "2020-11-19T04:24:47.514226Z",
     "iopub.status.busy": "2020-11-19T04:24:47.513877Z",
     "iopub.status.idle": "2020-11-19T04:24:47.518627Z",
     "shell.execute_reply": "2020-11-19T04:24:47.516974Z",
     "shell.execute_reply.started": "2020-11-19T04:24:47.514186Z"
    }
   },
   "source": [
    "## UBE2I"
   ]
  },
  {
   "cell_type": "code",
   "execution_count": null,
   "metadata": {},
   "outputs": [],
   "source": [
    "def ube2i_obj():\n",
    "    '''Create object for the ube2i dataset.'''\n",
    "    # Use relative file import to access the data folder\n",
    "    try:\n",
    "        location = os.path.dirname(os.path.realpath(__file__))\n",
    "        my_file = os.path.join(location, '../../data', 'df_ube2i_raw.pkl')\n",
    "    except NameError:\n",
    "        my_file = os.path.join('../../data', 'df_ube2i_raw.pkl')\n",
    "\n",
    "    # Read excel file\n",
    "    col_data = 'DMS'\n",
    "    df_ube2i_raw = pd.read_pickle(my_file)\n",
    "\n",
    "    # Parse\n",
    "    df_ube2i, sequence_ube2i = code_utils.parse_pivot(\n",
    "        df_ube2i_raw, col_data=col_data\n",
    "    )\n",
    "\n",
    "    # Order of amino acid substitutions in the hras_enrichment dataset\n",
    "    aminoacids = list(df_ube2i.index)\n",
    "    neworder_aminoacids = list('DEKHRGNQASTPCVYMILFW')\n",
    "\n",
    "    # First residue of the hras_enrichment dataset. Because 1-Met was not mutated, the dataset starts at residue 2\n",
    "    start_position = df_ube2i.columns[0]  # Create object2i.columns[0]\n",
    "\n",
    "    # Full sequence\n",
    "    sequence_ube2i_x = 'MSGIALSRLAQERKAWRKDHPFGFVAVPTKNPDGTMNLMNWECAIPGKKGTP'\\\n",
    "                        +'WEGGLFKLRMLFKDDYPSSPPKCKFEPPLFHPNVYPSGTVCLSILEEDKDWRPAITIKQ'\\\n",
    "                        +'ILLGIQELLNEPNIQDPAQAEAYTIYCQNRVEYEKRVRAQAKKFAPS'\n",
    "\n",
    "    # Define secondary structure\n",
    "    secondary_ube2i = [\n",
    "        ['α1'] * (20 - 1), ['L1'] * (24 - 20), ['β1'] * (30 - 24), ['L2'] * 5,\n",
    "        ['β2'] * (46 - 35), ['L3'] * (56 - 46), ['β3'] * (63 - 56),\n",
    "        ['L4'] * (73 - 63), ['β4'] * (77 - 73), ['L5'] * (93 - 77),\n",
    "        ['α2'] * (98 - 93), ['L6'] * (107 - 98), ['α3'] * (122 - 107),\n",
    "        ['L7'] * (129 - 122), ['α4'] * (155 - 129), ['L8'] * (160 - 155)\n",
    "    ]\n",
    "\n",
    "    # Create objects\n",
    "    ube2i_obj = Screen(\n",
    "        df_ube2i, sequence_ube2i_x, aminoacids, start_position, 1,\n",
    "        secondary_ube2i\n",
    "    )\n",
    "\n",
    "    return ube2i_obj"
   ]
  },
  {
   "cell_type": "markdown",
   "metadata": {},
   "source": [
    "## TAT"
   ]
  },
  {
   "cell_type": "code",
   "execution_count": null,
   "metadata": {},
   "outputs": [],
   "source": [
    "def tat_obj():\n",
    "    '''Create object for the tat dataset.'''\n",
    "    # Use relative file import to access the data folder\n",
    "    try:\n",
    "        location = os.path.dirname(os.path.realpath(__file__))\n",
    "        my_file = os.path.join(location, '../../data', 'df_tat.pkl')\n",
    "    except NameError:\n",
    "        my_file = os.path.join('../../data', 'df_tat.pkl')\n",
    "\n",
    "    # Read data\n",
    "    df_tat = pd.read_pickle(my_file)\n",
    "\n",
    "    # Order of amino acid substitutions in the hras_enrichment dataset\n",
    "    aminoacids = list(df_tat.index)\n",
    "    neworder_aminoacids = list('DEKHRGNQASTPCVYMILFW*')\n",
    "\n",
    "    # First residue of the hras_enrichment dataset. Because 1-Met was not mutated, the dataset starts at residue 2\n",
    "    start_position = df_tat.columns[0]\n",
    "\n",
    "    # Full sequence\n",
    "    sequence_tat = 'MEPVDPRLEPWKHPGSQPKTACTNCYCKKCCFHCQVCFITKALGISYGRKKRRQRRRAHQ'\\\n",
    "                        +'NSQTHQASLSKQPTSQPRGDPTGPKE'\n",
    "\n",
    "    # Define secondary structure\n",
    "    secondary_tat = [['L1'] * (8), ['α1'] * (13 - 8), ['L2'] * (28 - 14),\n",
    "                     ['α2'] * (41 - 28), ['L3'] * (90 - 41)]\n",
    "\n",
    "    tat_obj = Screen(\n",
    "        df_tat, sequence_tat, aminoacids, start_position, 0, secondary_tat\n",
    "    )\n",
    "\n",
    "    return tat_obj"
   ]
  },
  {
   "cell_type": "markdown",
   "metadata": {},
   "source": [
    "## REV"
   ]
  },
  {
   "cell_type": "code",
   "execution_count": null,
   "metadata": {},
   "outputs": [],
   "source": [
    "def rev_obj():\n",
    "    '''Create object for the rev dataset.'''\n",
    "    # Use relative file import to access the data folder\n",
    "    try:\n",
    "        location = os.path.dirname(os.path.realpath(__file__))\n",
    "        my_file = os.path.join(location, '../../data', 'df_rev.pkl')\n",
    "    except NameError:\n",
    "        my_file = os.path.join('../../data', 'df_rev.pkl')\n",
    "\n",
    "    # Read dataset\n",
    "    df_rev = pd.read_pickle(my_file)\n",
    "\n",
    "    # Order of amino acid substitutions in the hras_enrichment dataset\n",
    "    aminoacids = list(df_rev.index)\n",
    "    neworder_aminoacids = list('DEKHRGNQASTPCVYMILFW*')\n",
    "\n",
    "    # First residue of the hras_enrichment dataset. Because 1-Met was not mureved, the dataset starts at residue 2\n",
    "    start_position = df_rev.columns[0]\n",
    "\n",
    "    # Full sequence\n",
    "    sequence_rev = 'MAGRSGDSDEDLLKAVRLIKFLYQSNPPPNPEGTRQARRNRRRRWRERQRQIHSISERIL'\\\n",
    "                    + 'STYLGRSAEPVPLQLPPLERLTLDCNEDCGTSGTQGVGSPQILVESPTILESGAKE'\n",
    "\n",
    "    # Define secondary structure\n",
    "    secondary_rev = [['L1'] * (8), ['α1'] * (25 - 8), ['L2'] * (33 - 25),\n",
    "                     ['α2'] * (68 - 33), ['L3'] * (116 - 41)]\n",
    "\n",
    "    rev_obj = Screen(\n",
    "        df_rev, sequence_rev, aminoacids, start_position, 0, secondary_rev\n",
    "    )\n",
    "    return rev_obj"
   ]
  },
  {
   "cell_type": "markdown",
   "metadata": {},
   "source": [
    "## α-synuclein"
   ]
  },
  {
   "cell_type": "code",
   "execution_count": null,
   "metadata": {},
   "outputs": [],
   "source": [
    "def asynuclein_obj():\n",
    "    '''Create object for the synuclein dataset.'''\n",
    "\n",
    "    # Use relative file import to access the data folder\n",
    "    try:\n",
    "        location = os.path.dirname(os.path.realpath(__file__))\n",
    "        my_file = os.path.join(location, '../../data', 'df_asynuclein.pkl')\n",
    "    except NameError:\n",
    "        my_file = os.path.join('../../data', 'df_asynuclein.pkl')\n",
    "    # Read dataset\n",
    "    df_asynuclein = pd.read_pickle(my_file)\n",
    "\n",
    "    # Order of amino acid substitutions in the hras_enrichment dataset\n",
    "    aminoacids = list(df_asynuclein.index)\n",
    "    neworder_aminoacids = list('DEKHRGNQASTPCVYMILFW')\n",
    "\n",
    "    # First residue of the hras_enrichment dataset. Because 1-Met was not mureved, the dataset starts at residue 2\n",
    "    start_position = df_asynuclein.columns[0]\n",
    "\n",
    "    # Full sequence\n",
    "    sequence_asynuclein = 'MDVFMKGLSKAKEGVVAAAEKTKQGVAEAAGKTKEGVLYVGSKTKEGVVHGVATVAEKTK'\\\n",
    "                    + 'EQVTNVGGAVVTGVTAVAQKTVEGAGSIAAATGFVKKDQLGKNEEGAPQEGILEDMPVDP'\\\n",
    "                    + 'DNEAYEMPSEEGYQDYEPEA'\n",
    "\n",
    "    # Define secondary structure\n",
    "    secondary_asynuclein = [['L1'] * (1), ['α1'] * (37 - 1), ['L2'] * (44 - 37),\n",
    "                            ['α2'] * (92 - 44), ['L3'] * (140 - 92)]\n",
    "\n",
    "    asynuclein_obj = Screen(\n",
    "        df_asynuclein, sequence_asynuclein, aminoacids, start_position, 0,\n",
    "        secondary_asynuclein\n",
    "    )\n",
    "\n",
    "    return asynuclein_obj"
   ]
  },
  {
   "cell_type": "markdown",
   "metadata": {},
   "source": [
    "## APH(3) II"
   ]
  },
  {
   "cell_type": "code",
   "execution_count": null,
   "metadata": {},
   "outputs": [],
   "source": [
    "def aph_obj():\n",
    "    '''Create object for the aph dataset.'''\n",
    "\n",
    "    # Use relative file import to access the data folder\n",
    "    try:\n",
    "        location = os.path.dirname(os.path.realpath(__file__))\n",
    "        my_file = os.path.join(location, '../../data', 'df_aph.pkl')\n",
    "    except NameError:\n",
    "        my_file = os.path.join('../../data', 'df_aph.pkl')\n",
    "    # Read dataset\n",
    "    df_aph = pd.read_pickle(my_file)\n",
    "\n",
    "    aminoacids = list(df_aph.index)\n",
    "    neworder_aminoacids = list('DEKHRGNQASTPCVYMILFW')\n",
    "\n",
    "    # First residue of the hras_enrichment dataset. Because 1-Met was not mureved, the dataset starts at residue 2\n",
    "    start_position = df_aph.columns[0]\n",
    "\n",
    "    # Full sequence\n",
    "    sequence_aph = 'MIEQDGLHAGSPAAWVERLFGYDWAQQTIGCSDAAVFRLSAQGRPVLFVKTDLSGALNELQ'\\\n",
    "                    + 'DEAARLSWLATTGVPCAAVLDVVTEAGRDWLLLGEVPGQDLLSSHLAPAEKVSIMADAMRR'\\\n",
    "                    + 'LHTLDPATCPFDHQAKHRIERARTRMEAGLVDQDDLDEEHQGLAPAELFARLKARMPDGED'\\\n",
    "                    + 'LVVTHGDACLPNIMVENGRFSGFIDCGRLGVADRYQDIALATRDIAEELGGEWADRFLVLY'\\\n",
    "                    + 'GIAAPDSQRIAFYRLLDEFF'\n",
    "\n",
    "    # Define secondary structure\n",
    "    secondary_aph = [['L1'] * (11), ['α1'] * (16 - 11), ['L2'] * (22 - 16),\n",
    "                     ['β1'] * (26 - 22), ['L3'] * (34 - 26), ['β2'] * (40 - 34),\n",
    "                     ['L4'] * (46 - 40), ['β3'] * (52 - 46), ['L5'] * (58 - 52),\n",
    "                     ['α2'] * (72 - 58), ['L6'] * (79 - 72), ['β4'] * (85 - 79),\n",
    "                     ['L7'] * (89 - 85), ['β5'] * (95 - 89), ['L8'] * (99 - 95),\n",
    "                     ['β6'] * (101 - 99), ['L9'] * (107 - 101), ['α3'] *\n",
    "                     (131 - 107), ['L10'] * (135 - 131), ['α4'] * (150 - 135),\n",
    "                     ['L11'] * (158 - 150), ['α5'] * (163 - 158),\n",
    "                     ['L12'] * (165 - 163), ['α6'] * (177 - 165),\n",
    "                     ['L13'] * (183 - 177), ['β7'] * (187 - 183),\n",
    "                     ['L14'] * (191 - 187), ['α7'] * (194 - 191), ['L15'] * (1),\n",
    "                     ['β8'] * (199 - 195), ['L16'] * (201 - 199),\n",
    "                     ['β9'] * (206 - 201), ['L17'] * (212 - 206),\n",
    "                     ['β10'] * (216 - 212), ['α8'] * (245 - 216), ['L18'] * (4),\n",
    "                     ['α9'] * (264 - 249)]\n",
    "\n",
    "    aph_obj = Screen(\n",
    "        np.log10(df_aph), sequence_aph, aminoacids, start_position, 0,\n",
    "        secondary_aph\n",
    "    )\n",
    "\n",
    "    return aph_obj"
   ]
  },
  {
   "cell_type": "markdown",
   "metadata": {},
   "source": [
    "## b11L5F"
   ]
  },
  {
   "cell_type": "code",
   "execution_count": null,
   "metadata": {},
   "outputs": [],
   "source": [
    "def b11L5F_obj():\n",
    "    '''Create object for the aph dataset.'''\n",
    "\n",
    "    # Use relative file import to access the data folder\n",
    "    try:\n",
    "        location = os.path.dirname(os.path.realpath(__file__))\n",
    "        my_file = os.path.join(location, '../../data', 'df_b11L5F_raw.pkl')\n",
    "    except NameError:\n",
    "        my_file = os.path.join('../../data', 'df_b11L5F_raw.pkl')\n",
    "    # Read dataset\n",
    "    df_b11L5F_raw = pd.read_pickle(my_file)\n",
    "\n",
    "    # Parse\n",
    "    col_data = 'relative_tryp_stability_score'\n",
    "    df_b11L5F, sequence_b11L5F = code_utils.parse_pivot(\n",
    "        df_b11L5F_raw, col_data=col_data\n",
    "    )\n",
    "\n",
    "    # Order of amino acid substitutions in the hras_enrichment dataset\n",
    "    aminoacids = list(df_b11L5F.index)\n",
    "    neworder_aminoacids = list('DEKHRGNQASTPVYMILFW')\n",
    "\n",
    "    # Sequence\n",
    "    sequence_b11L5F = 'CRAASLLPGTWQVTMTNEDGQTSQGQMHFQPRSPYTLDVKAQGTISDGRPI'\\\n",
    "                        +'SGKGKVTCKTPDTMDVDITYPSLGNMKVQGQVTLDSPTQFKFDVTTSDGSKVTGTLQRQE'\n",
    "\n",
    "    # First residue of the hras_enrichment dataset. Because 1-Met was not mureved, the dataset starts at residue 2\n",
    "    start_position = df_b11L5F.columns[0]\n",
    "\n",
    "    b11L5F_obj = Screen(\n",
    "        df_b11L5F, sequence_b11L5F, aminoacids, start_position, 0\n",
    "    )\n",
    "\n",
    "    return b11L5F_obj"
   ]
  }
 ],
 "metadata": {
  "kernelspec": {
   "display_name": "Python 3",
   "language": "python",
   "name": "python3"
  },
  "language_info": {
   "codemirror_mode": {
    "name": "ipython",
    "version": 3
   },
   "file_extension": ".py",
   "mimetype": "text/x-python",
   "name": "python",
   "nbconvert_exporter": "python",
   "pygments_lexer": "ipython3",
   "version": "3.8.3"
  }
 },
 "nbformat": 4,
 "nbformat_minor": 4
}
