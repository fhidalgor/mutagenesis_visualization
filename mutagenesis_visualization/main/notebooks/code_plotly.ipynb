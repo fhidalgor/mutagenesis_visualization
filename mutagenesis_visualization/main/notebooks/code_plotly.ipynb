{
 "cells": [
  {
   "cell_type": "markdown",
   "metadata": {},
   "source": [
    "# Import Modules"
   ]
  },
  {
   "cell_type": "code",
   "execution_count": 1,
   "metadata": {
    "ExecuteTime": {
     "end_time": "2020-10-12T22:36:10.914292Z",
     "start_time": "2020-10-12T22:36:06.031777Z"
    },
    "execution": {
     "iopub.execute_input": "2020-12-07T06:54:37.064165Z",
     "iopub.status.busy": "2020-12-07T06:54:37.063961Z",
     "iopub.status.idle": "2020-12-07T06:54:38.790814Z",
     "shell.execute_reply": "2020-12-07T06:54:38.790059Z",
     "shell.execute_reply.started": "2020-12-07T06:54:37.064140Z"
    }
   },
   "outputs": [
    {
     "name": "stdout",
     "output_type": "stream",
     "text": [
      "importing Jupyter notebook from code_kwargs.ipynb\n",
      "importing Jupyter notebook from code_utils.ipynb\n"
     ]
    }
   ],
   "source": [
    "import numpy as np\n",
    "import pandas as pd\n",
    "import copy\n",
    "from os import path\n",
    "import os\n",
    "from pathlib import Path\n",
    "from typing import Union\n",
    "import plotly.express as px\n",
    "import plotly.io as pio\n",
    "import plotly.graph_objects as go\n",
    "from Bio.PDB import PDBParser\n",
    "import freesasa\n",
    "\n",
    "# local modules\n",
    "try:\n",
    "    import mutagenesis_visualization.main.scripts.code_kwargs as code_kwargs\n",
    "    import mutagenesis_visualization.main.scripts.code_utils as code_utils\n",
    "except ModuleNotFoundError:\n",
    "    import import_notebook\n",
    "    import code_kwargs\n",
    "    import code_utils"
   ]
  },
  {
   "cell_type": "markdown",
   "metadata": {},
   "source": [
    "# Plotly plots"
   ]
  },
  {
   "cell_type": "markdown",
   "metadata": {},
   "source": [
    "## Rank"
   ]
  },
  {
   "cell_type": "code",
   "execution_count": 2,
   "metadata": {
    "ExecuteTime": {
     "end_time": "2020-10-12T23:15:41.370822Z",
     "start_time": "2020-10-12T23:15:41.359971Z"
    },
    "execution": {
     "iopub.execute_input": "2020-12-07T06:54:38.793071Z",
     "iopub.status.busy": "2020-12-07T06:54:38.792693Z",
     "iopub.status.idle": "2020-12-07T06:54:38.804522Z",
     "shell.execute_reply": "2020-12-07T06:54:38.803764Z",
     "shell.execute_reply.started": "2020-12-07T06:54:38.793041Z"
    }
   },
   "outputs": [],
   "source": [
    "def plot_rank_plotly(\n",
    "    self,\n",
    "    mode='pointmutant',\n",
    "    outdf=False,\n",
    "    output_html: Union[None, str, Path] = None,\n",
    "    **kwargs\n",
    "):\n",
    "    """\n",
    "    Generate a plotly rank plot so every mutation/residue is sorted based \n",
    "    on enrichment score.\n",
    "\n",
    "    Parameters\n",
    "    ----------\n",
    "    self : object from class *Screen*\n",
    "\n",
    "    mode : str, default 'pointmutant'. \n",
    "        Alternative set to \"mean\" for the mean of each position.\n",
    "\n",
    "    outdf : boolean, default False\n",
    "        If set to true, will return the df with the rank of mutations.\n",
    "        \n",
    "    output_html : str, default None\n",
    "        If you want to export the generated graph into html, add the path and name of the file.\n",
    "        Example: 'path/filename.html'.\n",
    "        \n",
    "    **kwargs : other keyword arguments\n",
    "\n",
    "    Returns\n",
    "    ----------\n",
    "    df : Pandas dataframe\n",
    "    fig : plotly object\n",
    "\n",
    "    """\n",
    "    # update kwargs\n",
    "    temp_kwargs = copy.deepcopy(code_kwargs.kwargs())\n",
    "    temp_kwargs.update(kwargs)\n",
    "    temp_kwargs['figsize'] = kwargs.get('figsize', (4, 3))\n",
    "    temp_kwargs['x_label'] = kwargs.get('x_label', 'Rank')\n",
    "    temp_kwargs['y_label'] = kwargs.get('y_label', r'$∆E^i_x$')\n",
    "\n",
    "    # Sort by enrichment scores\n",
    "    df = self.dataframe.sort_values(by=['Score']).copy()\n",
    "\n",
    "    # Chose mode:\n",
    "    if mode == 'mean':\n",
    "        df = df.groupby(by=['Position'], as_index=False).mean()\n",
    "        df.sort_values(by=['Score'], inplace=True)\n",
    "        df['Variant'] = df['Position']\n",
    "\n",
    "    # Create figure\n",
    "    fig = px.scatter(\n",
    "        x=np.arange(len(df), 0, -1), y=df['Score'], text=df['Variant']\n",
    "    )\n",
    "\n",
    "    # Style\n",
    "    pio.templates.default = \"plotly_white\"\n",
    "\n",
    "    # Axes https://plotly.com/python/axes/\n",
    "    fig.update_traces(\n",
    "        mode=\"markers\",\n",
    "        hovertemplate=\n",
    "        'Position: %{x}<br>Score: %{y}<br>Variant: %{text}<extra></extra>'\n",
    "    )\n",
    "    fig.update_xaxes(\n",
    "        title_text=temp_kwargs['x_label'],\n",
    "        showline=True,\n",
    "        linewidth=2,\n",
    "        linecolor='black',\n",
    "        ticks=\"outside\",\n",
    "        mirror=True\n",
    "    )\n",
    "    fig.update_yaxes(\n",
    "        title_text=temp_kwargs['y_label'],\n",
    "        showline=True,\n",
    "        linewidth=2,\n",
    "        linecolor='black',\n",
    "        ticks=\"outside\",\n",
    "        mirror=True\n",
    "    )\n",
    "\n",
    "    # Layout and title parameters https://plotly.com/python/figure-labels/\n",
    "    fig.update_layout(\n",
    "        width=temp_kwargs['figsize'][0] * 120,\n",
    "        height=temp_kwargs['figsize'][1] * 120,\n",
    "        font=dict(family=\"Arial, monospace\", size=12, color=\"black\"),\n",
    "        title={\n",
    "            'text': temp_kwargs['title'], 'xanchor': 'center', 'yanchor': 'top',\n",
    "            'x': 0.5\n",
    "        }\n",
    "    )\n",
    "\n",
    "    # save fig to html\n",
    "    _save_html(fig, output_html)\n",
    "\n",
    "    # return plotly object\n",
    "    if temp_kwargs['return_plot_object']:\n",
    "        return fig\n",
    "\n",
    "    if temp_kwargs['show']:\n",
    "        fig.show(config = {'displayModeBar': False})\n",
    "\n",
    "    # return dataframe\n",
    "    if outdf:\n",
    "        return df\n",
    "\n",
    "\n",
    "# save file html\n",
    "def _save_html(fig, output_html):\n",
    "    """save to html"""\n",
    "    if output_html:\n",
    "        fig.write_html(str(Path(output_html)))"
   ]
  },
  {
   "cell_type": "markdown",
   "metadata": {},
   "source": [
    "## Scatter"
   ]
  },
  {
   "cell_type": "code",
   "execution_count": 3,
   "metadata": {
    "execution": {
     "iopub.execute_input": "2020-12-07T06:54:38.807079Z",
     "iopub.status.busy": "2020-12-07T06:54:38.806875Z",
     "iopub.status.idle": "2020-12-07T06:54:38.819001Z",
     "shell.execute_reply": "2020-12-07T06:54:38.817593Z",
     "shell.execute_reply.started": "2020-12-07T06:54:38.807060Z"
    }
   },
   "outputs": [],
   "source": [
    "def plot_scatter_plotly(\n",
    "    self,\n",
    "    obj2,\n",
    "    mode='pointmutant',\n",
    "    show_results=False,\n",
    "    output_html: Union[None, str, Path] = None,\n",
    "    **kwargs\n",
    "):\n",
    "    """\n",
    "    Generate a scatter plot between object and a second object of the \n",
    "    same class.\n",
    "\n",
    "    Parameters\n",
    "    ----------\n",
    "    self : object from class *Screen*\n",
    "\n",
    "    obj2 : object from class *Screen* to do the scatter with\n",
    "\n",
    "    mode : str, default 'pointmutant'. \n",
    "        Alternative set to \"mean\" for the mean of each position.\n",
    "    \n",
    "    show_results : boolean, default False\n",
    "        If set to true, will export the details of the linear fit.\n",
    "        \n",
    "    output_html : str, default None\n",
    "        If you want to export the generated graph into html, add \n",
    "        the path and name of the file. Example: 'path/filename.html'.\n",
    "        \n",
    "    **kwargs : other keyword arguments\n",
    "\n",
    "    Returns\n",
    "    ----------\n",
    "    fig : plotly object\n",
    "\n",
    "    """\n",
    "\n",
    "    # update kwargs\n",
    "    temp_kwargs = copy.deepcopy(code_kwargs.kwargs())\n",
    "    temp_kwargs.update(kwargs)\n",
    "    temp_kwargs['figsize'] = kwargs.get('figsize', (4, 3))\n",
    "\n",
    "    # Chose mode:\n",
    "    if mode == 'pointmutant':\n",
    "        df = code_utils._process_bypointmutant(self, obj2)\n",
    "    elif mode == 'mean':\n",
    "        df = code_utils._process_meanresidue(self, obj2)\n",
    "        df['Variant'] = df['Position']\n",
    "    # raise error if mode is not \"mean\" or \"pointmutant\"\n",
    "\n",
    "    # Style\n",
    "    pio.templates.default = \"plotly_white\"\n",
    "\n",
    "    # create figure\n",
    "    fig = px.scatter(\n",
    "        x=df['dataset_1'],\n",
    "        y=df['dataset_2'],\n",
    "        trendline=\"ols\",\n",
    "        trendline_color_override=\"red\"\n",
    "    )\n",
    "\n",
    "    # Titles\n",
    "    # hide text labels\n",
    "    fig.update_traces(\n",
    "        hovertext=df['Variant'],\n",
    "        hovertemplate=\n",
    "        'Score_x: %{x}<br>Score: %{y}<br>Score_y: %{hovertext}<extra></extra>'\n",
    "    )\n",
    "    fig.update_xaxes(\n",
    "        title_text=temp_kwargs['x_label'],\n",
    "        showline=True,\n",
    "        linewidth=2,\n",
    "        linecolor='black',\n",
    "        ticks=\"outside\",\n",
    "        mirror=True\n",
    "    )\n",
    "    fig.update_yaxes(\n",
    "        title_text=temp_kwargs['y_label'],\n",
    "        showline=True,\n",
    "        linewidth=2,\n",
    "        linecolor='black',\n",
    "        ticks=\"outside\",\n",
    "        mirror=True\n",
    "    )\n",
    "\n",
    "    # Layout and title parameters https://plotly.com/python/figure-labels/\n",
    "    fig.update_layout(\n",
    "        width=temp_kwargs['figsize'][0] * 120,\n",
    "        height=temp_kwargs['figsize'][1] * 120,\n",
    "        font=dict(family=\"Arial, monospace\", size=12, color=\"black\"),\n",
    "        title={\n",
    "            'text': temp_kwargs['title'], 'xanchor': 'center', 'yanchor': 'top',\n",
    "            'x': 0.5\n",
    "        }\n",
    "    )\n",
    "\n",
    "    if show_results:\n",
    "        px.get_trendline_results(fig).px_fit_results.iloc[0].summary()\n",
    "\n",
    "    # save fig to html\n",
    "    _save_html(fig, output_html)\n",
    "\n",
    "    # return plotly object\n",
    "    if temp_kwargs['return_plot_object']:\n",
    "        return fig\n",
    "\n",
    "    if temp_kwargs['show']:\n",
    "        fig.show(config = {'displayModeBar': False})"
   ]
  },
  {
   "cell_type": "markdown",
   "metadata": {},
   "source": [
    "## Heatmap"
   ]
  },
  {
   "cell_type": "code",
   "execution_count": 4,
   "metadata": {
    "execution": {
     "iopub.execute_input": "2020-12-07T06:54:38.821187Z",
     "iopub.status.busy": "2020-12-07T06:54:38.820908Z",
     "iopub.status.idle": "2020-12-07T06:54:38.833567Z",
     "shell.execute_reply": "2020-12-07T06:54:38.832807Z",
     "shell.execute_reply.started": "2020-12-07T06:54:38.821160Z"
    }
   },
   "outputs": [],
   "source": [
    "def plot_heatmap_plotly(\n",
    "    self, output_html: Union[None, str, Path] = None, **kwargs\n",
    "):\n",
    "    """\n",
    "    Generate a plotly histogram plot.\n",
    "\n",
    "    Parameters\n",
    "    ----------\n",
    "    self : object from class *Screen*\n",
    "        \n",
    "    output_html : str, default None\n",
    "        If you want to export the generated graph into html, add the path and name of the file.\n",
    "        Example: 'path/filename.html'.\n",
    "        \n",
    "    **kwargs : other keyword arguments\n",
    "\n",
    "    Returns\n",
    "    ----------\n",
    "    fig : plotly object\n",
    "\n",
    "    """\n",
    "    # update kwargs\n",
    "    temp_kwargs = copy.deepcopy(code_kwargs.kwargs())\n",
    "    temp_kwargs.update(kwargs)\n",
    "    temp_kwargs['figsize'] = kwargs.get('figsize', (8, 3))\n",
    "    temp_kwargs['x_label'] = kwargs.get('x_label', '')\n",
    "    temp_kwargs['y_label'] = kwargs.get('y_label', '')\n",
    "\n",
    "    # sort data by rows in specified order by user\n",
    "    df = code_utils._df_rearrange(\n",
    "        code_utils._add_SNV_boolean(self.dataframe_stopcodons.copy()),\n",
    "        temp_kwargs['neworder_aminoacids'],\n",
    "        values='Score_NaN',\n",
    "        show_snv=False\n",
    "    )\n",
    "\n",
    "    # get labels for texthover and reindex\n",
    "    text_hover = self.dataframe_stopcodons.pivot(\n",
    "        values='Variant', index='Aminoacid', columns='Position'\n",
    "    )\n",
    "    text_hover = text_hover.reindex(list(df.index))\n",
    "\n",
    "    # Create figure\n",
    "    fig = go.Figure(data=go.Heatmap(\n",
    "        z = np.around(df.to_numpy(),2),\n",
    "        x = list(df.columns),\n",
    "        y = list(df.index),\n",
    "        zmin=temp_kwargs['colorbar_scale'][0],\n",
    "        zmax=temp_kwargs['colorbar_scale'][1],\n",
    "        colorscale=_matplotlib_to_plotly(temp_kwargs['colormap']),\n",
    "        text = text_hover,\n",
    "        colorbar=dict( # modify colorbar properties\n",
    "            len=0.8,\n",
    "            thickness=10,\n",
    "            outlinewidth=2,\n",
    "            outlinecolor='rgb(0,0,0)',\n",
    "            showticklabels=True,\n",
    "            xpad=0,\n",
    "        ),\n",
    "    ))\n",
    "\n",
    "    fig.update_traces(\n",
    "        hovertemplate=\n",
    "        'Aminoacid substitution: %{text}<br>Enrichment score: %{z}<extra></extra>'\n",
    "    )\n",
    "\n",
    "    # Style\n",
    "    pio.templates.default = \"plotly_white\"\n",
    "\n",
    "    # UPDATE AXES\n",
    "    fig.update_xaxes(\n",
    "        title_text=temp_kwargs['x_label'],\n",
    "        showline=True,\n",
    "        linewidth=2,\n",
    "        linecolor='black',\n",
    "        ticks=None,\n",
    "        mirror=True,\n",
    "        side=\"top\",\n",
    "        dtick=1,  #frequency of ticks\n",
    "        tickangle=0,\n",
    "        tickvals=list(df.columns),\n",
    "        ticktext=list(self.sequence),\n",
    "        tickfont=dict(size=8, color='black')\n",
    "    )\n",
    "    fig.update_yaxes(\n",
    "        title_text=temp_kwargs['y_label'],\n",
    "        showline=True,\n",
    "        linewidth=2,\n",
    "        linecolor='black',\n",
    "        ticks=None,\n",
    "        mirror=True,\n",
    "        dtick=1,  #frequency of ticks\n",
    "        autorange=\"reversed\",\n",
    "        #tickvals = list(df.columns),\n",
    "        #ticktext= ['Healthy', 'Healthy', 'Moderate', 'Diseased', 'Diseased'],\n",
    "        tickfont=dict(size=8, color='black'),\n",
    "    )\n",
    "\n",
    "    # Layout and title parameters https://plotly.com/python/figure-labels/\n",
    "    fig.update_layout(\n",
    "        width=14 * len(df.columns) / 165 * 90,\n",
    "        height=2.65 * 120,\n",
    "        font=dict(family=\"Arial, monospace\", size=12, color=\"black\"),\n",
    "        title={\n",
    "            'text': temp_kwargs['title'], 'xanchor': 'center', 'yanchor': 'top',\n",
    "            'x': 0.5\n",
    "        },\n",
    "    )\n",
    "\n",
    "    # save fig to html\n",
    "    _save_html(fig, output_html)\n",
    "\n",
    "    # return plotly object\n",
    "    if temp_kwargs['return_plot_object']:\n",
    "        return fig\n",
    "\n",
    "    if temp_kwargs['show']:\n",
    "        fig.show(config = {'displayModeBar': False})\n",
    "\n",
    "\n",
    "# Still want to add extra axis with original amino acids"
   ]
  },
  {
   "cell_type": "markdown",
   "metadata": {},
   "source": [
    "### Deprecated"
   ]
  },
  {
   "cell_type": "code",
   "execution_count": 5,
   "metadata": {
    "execution": {
     "iopub.execute_input": "2020-12-07T06:54:38.835324Z",
     "iopub.status.busy": "2020-12-07T06:54:38.834883Z",
     "iopub.status.idle": "2020-12-07T06:54:38.848572Z",
     "shell.execute_reply": "2020-12-07T06:54:38.847786Z",
     "shell.execute_reply.started": "2020-12-07T06:54:38.835293Z"
    }
   },
   "outputs": [],
   "source": [
    "\"\"\"def _plot_heatmap_plotly_imshow(\n",
    "    self, output_html: Union[None, str, Path] = None, **kwargs\n",
    "):\n",
    "    """\n",
    "    DEPRECATED. THIS VERSION USES IMSHOW INSTEAD OF GO.HEATMAP.\n",
    "    Generate a plotly histogram plot.\n",
    "\n",
    "    Parameters\n",
    "    ----------\n",
    "    self : object from class *Screen*\n",
    "        \n",
    "    output_html : str, default None\n",
    "        If you want to export the generated graph into html, add the path and name of the file.\n",
    "        Example: 'path/filename.html'.\n",
    "        \n",
    "    **kwargs : other keyword arguments\n",
    "\n",
    "    Returns\n",
    "    ----------\n",
    "    fig : plotly object\n",
    "\n",
    "    """\n",
    "    # update kwargs\n",
    "    temp_kwargs = copy.deepcopy(code_kwargs.kwargs())\n",
    "    temp_kwargs.update(kwargs)\n",
    "    temp_kwargs['figsize'] = kwargs.get('figsize', (8, 3))\n",
    "    temp_kwargs['x_label'] = kwargs.get('x_label', '')\n",
    "    temp_kwargs['y_label'] = kwargs.get('y_label', '')\n",
    "\n",
    "    # sort data by rows in specified order by user\n",
    "    df = code_utils._df_rearrange(\n",
    "        code_utils._add_SNV_boolean(self.dataframe_stopcodons.copy()),\n",
    "        temp_kwargs['neworder_aminoacids'],\n",
    "        values='Score_NaN',\n",
    "        show_snv=False\n",
    "    )\n",
    "\n",
    "    # Create figure\n",
    "    fig = px.imshow(\n",
    "        df,\n",
    "        color_continuous_scale=_matplotlib_to_plotly(temp_kwargs['colormap'], ),\n",
    "        range_color=temp_kwargs['colorbar_scale'],\n",
    "        labels={'x': 'Original', 'y': 'Substitution', 'color': 'Score'},\n",
    "    )\n",
    "\n",
    "    # Style\n",
    "    pio.templates.default = \"plotly_white\"\n",
    "\n",
    "    # UPDATE AXES\n",
    "    fig.update_xaxes(\n",
    "        title_text=temp_kwargs['x_label'],\n",
    "        showline=True,\n",
    "        linewidth=2,\n",
    "        linecolor='black',\n",
    "        ticks=None,\n",
    "        mirror=True,\n",
    "        side=\"top\",\n",
    "        dtick=1,  #frequency of ticks\n",
    "        tickangle=0,\n",
    "        tickvals=list(df.columns),\n",
    "        ticktext=list(self.sequence),\n",
    "        tickfont=dict(size=10, color='black')\n",
    "    )\n",
    "    fig.update_yaxes(\n",
    "        title_text=temp_kwargs['y_label'],\n",
    "        showline=True,\n",
    "        linewidth=2,\n",
    "        linecolor='black',\n",
    "        ticks=None,\n",
    "        mirror=True,\n",
    "        dtick=1,  #frequency of ticks\n",
    "        #tickvals = [0, 1, 2, 3, 4],\n",
    "        #ticktext= ['Healthy', 'Healthy', 'Moderate', 'Diseased', 'Diseased'],\n",
    "        tickfont=dict(size=10, color='black'),\n",
    "    )\n",
    "\n",
    "    # Layout and title parameters https://plotly.com/python/figure-labels/\n",
    "    fig.update_layout(\n",
    "        width=14 * len(df.columns) / 165 * 120,\n",
    "        height=2.65 * 120,\n",
    "        font=dict(family=\"Arial, monospace\", size=12, color=\"black\"),\n",
    "        title={\n",
    "            'text': temp_kwargs['title'], 'xanchor': 'center', 'yanchor': 'top',\n",
    "            'x': 0.5\n",
    "        },\n",
    "        coloraxis_colorbar=dict( # modify colorbar properties\n",
    "            title = 'Fitness',\n",
    "            len=0.65,\n",
    "            thickness=20,\n",
    "            outlinewidth=2,\n",
    "            outlinecolor='rgb(0,0,0)',\n",
    "            showticklabels=True,\n",
    "        )\n",
    "    )\n",
    "\n",
    "    # save fig to html\n",
    "    _save_html(fig, output_html)\n",
    "\n",
    "    # return plotly object\n",
    "    if temp_kwargs['return_plot_object']:\n",
    "        return fig\n",
    "\n",
    "    if temp_kwargs['show']:\n",
    "        fig.show(config = {'displayModeBar': False})\n",
    "\n",
    "\n",
    "# Still want to add extra axis with original amino acids\"\"\""
   ]
  },
  {
   "cell_type": "markdown",
   "metadata": {},
   "source": [
    "## Histogram"
   ]
  },
  {
   "cell_type": "code",
   "execution_count": 154,
   "metadata": {
    "execution": {
     "iopub.execute_input": "2020-12-07T08:20:02.243776Z",
     "iopub.status.busy": "2020-12-07T08:20:02.243540Z",
     "iopub.status.idle": "2020-12-07T08:20:02.260307Z",
     "shell.execute_reply": "2020-12-07T08:20:02.259420Z",
     "shell.execute_reply.started": "2020-12-07T08:20:02.243746Z"
    }
   },
   "outputs": [],
   "source": [
    "#https://plotly.com/python/histograms/\n",
    "def plot_histogram_plotly(\n",
    "    self,\n",
    "    mode='pointmutant',\n",
    "    output_html: Union[None, str, Path] = None,\n",
    "    **kwargs\n",
    "):\n",
    "    """\n",
    "    Generate a plotly histogram plot.\n",
    "\n",
    "    Parameters\n",
    "    ----------\n",
    "    self : object from class *Screen*\n",
    "\n",
    "    mode : str, default 'pointmutant'. \n",
    "        Alternative set to \"mean\" for the mean of each position.\n",
    "        \n",
    "    output_html : str, default None\n",
    "        If you want to export the generated graph into html, add the path and name of the file.\n",
    "        Example: 'path/filename.html'.\n",
    "        \n",
    "    **kwargs : other keyword arguments\n",
    "\n",
    "    Returns\n",
    "    ----------\n",
    "    fig : plotly object\n",
    "\n",
    "    """\n",
    "    # update kwargs\n",
    "    temp_kwargs = copy.deepcopy(code_kwargs.kwargs())\n",
    "    temp_kwargs.update(kwargs)\n",
    "    temp_kwargs['figsize'] = kwargs.get('figsize', (4, 3))\n",
    "    temp_kwargs['x_label'] = kwargs.get('x_label', 'Enrichment score')\n",
    "    temp_kwargs['y_label'] = kwargs.get('y_label', 'Probability density')\n",
    "    temp_kwargs['title'] = kwargs.get('title', 'Histogram')\n",
    "\n",
    "    # Copy dataframe\n",
    "    df = self.dataframe.copy()\n",
    "\n",
    "    #fig = px.histogram(data_frame=df, x='Score', histnorm='probability density')\n",
    "    # px.histogram doesnt plot 2 traces\n",
    "\n",
    "    # Create figure\n",
    "    fig = go.Figure()\n",
    "    fig.add_trace(\n",
    "        go.Histogram(\n",
    "            x=df['Score'],\n",
    "            histnorm='probability density',\n",
    "            name='Population',\n",
    "            marker_color='black',\n",
    "        )\n",
    "    )\n",
    "\n",
    "    # Create second histogram\n",
    "    if mode != 'pointmutant':\n",
    "        df = _select_grouping(self, mode)\n",
    "        # Add second trace\n",
    "        fig.add_trace(\n",
    "            go.Histogram(\n",
    "                x=df['Score'],\n",
    "                histnorm='probability density',\n",
    "                name=mode.capitalize(),\n",
    "                marker_color='green',\n",
    "            ),\n",
    "        )\n",
    "        # Overlay both histograms\n",
    "        fig.update_layout(\n",
    "            barmode='overlay',\n",
    "            legend=dict(\n",
    "                orientation=\"h\",\n",
    "                y=(\n",
    "                    1 + (\n",
    "                        1.5 / temp_kwargs['figsize'][1]**2\n",
    "                    )\n",
    "                ),\n",
    "                bgcolor='rgba(0,0,0,0)'\n",
    "            ),\n",
    "        )\n",
    "        # Reduce opacity to see both histograms\n",
    "        fig.update_traces(opacity=0.75)\n",
    "        # Title\n",
    "        temp_kwargs['title'] = 'Histogram filtered by: {}'.format(mode)\n",
    "        \n",
    "    # Style\n",
    "    pio.templates.default = \"plotly_white\"\n",
    "\n",
    "    # UPDATE AXES\n",
    "    fig.update_xaxes(\n",
    "        title_text=temp_kwargs['x_label'],\n",
    "        showline=True,\n",
    "        linewidth=2,\n",
    "        linecolor='black',\n",
    "        ticks=\"outside\",\n",
    "        mirror=True,\n",
    "        automargin=True,\n",
    "    )\n",
    "    fig.update_yaxes(\n",
    "        title_text=temp_kwargs['y_label'],\n",
    "        showline=True,\n",
    "        linewidth=2,\n",
    "        linecolor='black',\n",
    "        ticks=\"outside\",\n",
    "        mirror=True\n",
    "    )\n",
    "\n",
    "    # Layout and title parameters https://plotly.com/python/figure-labels/\n",
    "    fig.update_layout(\n",
    "        width=temp_kwargs['figsize'][0] * 120,\n",
    "        height=temp_kwargs['figsize'][1] * 120,\n",
    "        font=dict(family=\"Arial, monospace\", size=12, color=\"black\"),\n",
    "        title={\n",
    "            'text': temp_kwargs['title'], 'xanchor': 'center', 'yanchor': 'top',\n",
    "            'x': 0.5\n",
    "        }\n",
    "    )\n",
    "\n",
    "    # save fig to html\n",
    "    _save_html(fig, output_html)\n",
    "\n",
    "    # return plotly object\n",
    "    if temp_kwargs['return_plot_object']:\n",
    "        return fig\n",
    "\n",
    "    if temp_kwargs['show']:\n",
    "        fig.show(config = {'displayModeBar': False})"
   ]
  },
  {
   "cell_type": "markdown",
   "metadata": {},
   "source": [
    "## Mean"
   ]
  },
  {
   "cell_type": "code",
   "execution_count": 20,
   "metadata": {
    "execution": {
     "iopub.execute_input": "2020-12-07T06:56:12.255067Z",
     "iopub.status.busy": "2020-12-07T06:56:12.254838Z",
     "iopub.status.idle": "2020-12-07T06:56:12.545232Z",
     "shell.execute_reply": "2020-12-07T06:56:12.544483Z",
     "shell.execute_reply.started": "2020-12-07T06:56:12.255045Z"
    }
   },
   "outputs": [
    {
     "data": {
      "application/vnd.plotly.v1+json": {
       "config": {
        "plotlyServerURL": "https://plot.ly"
       },
       "data": [
        {
         "marker": {
          "color": [
           "#6A76FC",
           "#6A76FC",
           "#6A76FC",
           "#6A76FC",
           "#6A76FC",
           "#6A76FC",
           "#6A76FC",
           "#6A76FC",
           "#6A76FC",
           "#6A76FC",
           "#FD3216",
           "#FD3216",
           "#6A76FC",
           "#6A76FC",
           "#6A76FC",
           "#6A76FC",
           "#6A76FC",
           "#6A76FC",
           "#6A76FC",
           "#6A76FC",
           "#6A76FC",
           "#6A76FC",
           "#6A76FC",
           "#6A76FC",
           "#6A76FC",
           "#FD3216",
           "#6A76FC",
           "#6A76FC",
           "#6A76FC",
           "#6A76FC",
           "#6A76FC",
           "#6A76FC",
           "#6A76FC",
           "#6A76FC",
           "#6A76FC",
           "#6A76FC",
           "#6A76FC",
           "#6A76FC",
           "#6A76FC",
           "#6A76FC",
           "#FD3216",
           "#6A76FC",
           "#6A76FC",
           "#6A76FC",
           "#6A76FC",
           "#6A76FC",
           "#6A76FC",
           "#6A76FC",
           "#6A76FC",
           "#6A76FC",
           "#FD3216",
           "#6A76FC",
           "#6A76FC",
           "#6A76FC",
           "#6A76FC",
           "#6A76FC",
           "#6A76FC",
           "#6A76FC",
           "#6A76FC",
           "#FD3216",
           "#FD3216",
           "#FD3216",
           "#FD3216",
           "#6A76FC",
           "#FD3216",
           "#FD3216",
           "#FD3216",
           "#6A76FC",
           "#6A76FC",
           "#FD3216",
           "#6A76FC",
           "#6A76FC",
           "#FD3216",
           "#6A76FC",
           "#6A76FC",
           "#6A76FC",
           "#6A76FC",
           "#6A76FC",
           "#6A76FC",
           "#6A76FC",
           "#6A76FC",
           "#6A76FC",
           "#FD3216",
           "#6A76FC",
           "#6A76FC",
           "#FD3216",
           "#6A76FC",
           "#6A76FC",
           "#6A76FC",
           "#6A76FC",
           "#FD3216",
           "#6A76FC",
           "#6A76FC",
           "#6A76FC",
           "#6A76FC",
           "#6A76FC",
           "#6A76FC",
           "#FD3216",
           "#6A76FC",
           "#6A76FC",
           "#6A76FC",
           "#6A76FC",
           "#6A76FC",
           "#6A76FC",
           "#6A76FC",
           "#FD3216",
           "#6A76FC",
           "#6A76FC",
           "#6A76FC",
           "#6A76FC",
           "#6A76FC",
           "#6A76FC",
           "#6A76FC",
           "#6A76FC",
           "#6A76FC",
           "#FD3216",
           "#6A76FC",
           "#6A76FC",
           "#FD3216",
           "#6A76FC",
           "#6A76FC",
           "#FD3216",
           "#6A76FC",
           "#6A76FC",
           "#6A76FC",
           "#6A76FC",
           "#FD3216",
           "#6A76FC",
           "#6A76FC",
           "#6A76FC",
           "#6A76FC",
           "#6A76FC",
           "#6A76FC",
           "#6A76FC",
           "#6A76FC",
           "#6A76FC",
           "#6A76FC",
           "#6A76FC",
           "#6A76FC",
           "#6A76FC",
           "#6A76FC",
           "#6A76FC",
           "#6A76FC",
           "#6A76FC",
           "#6A76FC",
           "#FD3216",
           "#FD3216",
           "#FD3216",
           "#6A76FC",
           "#6A76FC",
           "#FD3216",
           "#6A76FC",
           "#6A76FC",
           "#6A76FC",
           "#6A76FC",
           "#FD3216",
           "#6A76FC",
           "#6A76FC",
           "#6A76FC",
           "#6A76FC",
           "#6A76FC",
           "#6A76FC",
           "#FD3216",
           "#6A76FC",
           "#FD3216"
          ],
          "line": {
           "width": 0
          }
         },
         "type": "bar",
         "x": [
          2,
          3,
          4,
          5,
          6,
          7,
          8,
          9,
          10,
          11,
          12,
          13,
          14,
          15,
          16,
          17,
          18,
          19,
          20,
          21,
          22,
          23,
          24,
          25,
          26,
          27,
          28,
          29,
          30,
          31,
          32,
          33,
          34,
          35,
          36,
          37,
          38,
          39,
          40,
          41,
          42,
          43,
          44,
          45,
          46,
          47,
          48,
          49,
          50,
          51,
          52,
          53,
          54,
          55,
          56,
          57,
          58,
          59,
          60,
          61,
          62,
          63,
          64,
          65,
          66,
          67,
          68,
          69,
          70,
          71,
          72,
          73,
          74,
          75,
          76,
          77,
          78,
          79,
          80,
          81,
          82,
          83,
          84,
          85,
          86,
          87,
          88,
          89,
          90,
          91,
          92,
          93,
          94,
          95,
          96,
          97,
          98,
          99,
          100,
          101,
          102,
          103,
          104,
          105,
          106,
          107,
          108,
          109,
          110,
          111,
          112,
          113,
          114,
          115,
          116,
          117,
          118,
          119,
          120,
          121,
          122,
          123,
          124,
          125,
          126,
          127,
          128,
          129,
          130,
          131,
          132,
          133,
          134,
          135,
          136,
          137,
          138,
          139,
          140,
          141,
          142,
          143,
          144,
          145,
          146,
          147,
          148,
          149,
          150,
          151,
          152,
          153,
          154,
          155,
          156,
          157,
          158,
          159,
          160,
          161,
          162,
          163,
          164,
          165,
          166
         ],
         "y": [
          -0.05903827253797709,
          -0.5225775011012225,
          -0.15207832133694926,
          -0.2879200102066062,
          -0.968849715535961,
          -0.5167499134664589,
          -0.8320388905988028,
          -0.5769300311141693,
          -1.4894001814628053,
          -0.15166116633623386,
          0.14278455763886067,
          0.09305950125540982,
          -0.30458876599820134,
          -1.4916512047308719,
          -1.4288636270603186,
          -1.4248180637255714,
          -0.6022202819075158,
          -0.5462688888125455,
          -0.6140722732344068,
          -0.6620679159013149,
          -0.037867137389863005,
          -0.06554640528888933,
          -0.23527158997240286,
          -0.1876129052474586,
          -0.04473533603748429,
          0.01160341436813343,
          -0.7996435397219404,
          -0.16491592326304255,
          -0.1447744571279137,
          -0.5714334518272783,
          -0.6994607559597122,
          -0.7509396198479558,
          -0.8100243912641745,
          -1.5237087866594032,
          -0.8101565563767714,
          -0.9338114884950672,
          -1.3988809254855517,
          -0.4476331537649112,
          -1.5315986996348896,
          -0.364138372644266,
          0.1448236118245423,
          -0.05444913173863911,
          -0.00899047919801917,
          -0.05408999348816301,
          -0.1687109205440554,
          -0.045220123634810844,
          -0.15352197331252976,
          -0.04637244849262488,
          -0.07819253363866288,
          -0.042558972673865395,
          0.03483998101997836,
          -0.6328640251955091,
          -0.8430463649745124,
          -0.9102638165572804,
          -0.10479067285166152,
          -1.2031690174741603,
          -0.6237641159677227,
          -0.4483472953034349,
          -0.7157252623186351,
          0.2692310941338419,
          0.24953916266662168,
          0.36624867741571765,
          0.04305641105294954,
          -0.06425465917786433,
          0.03222344013692989,
          0.07915581455236487,
          0.19440121261124663,
          -0.2870355702667083,
          -0.06610540201565286,
          0.04557990832323366,
          -0.03573242166793937,
          -0.019149969689934914,
          0.09569791650796321,
          -0.16964376878370163,
          -0.15194587593043724,
          -0.5933927881989277,
          -0.8235671284571877,
          -0.8000188172376967,
          -0.5705855735441543,
          -0.7933341094090085,
          -0.6917923578014902,
          -0.2636997667036015,
          0.09931081203035158,
          -0.13467836838853786,
          -0.35414899646215914,
          0.03520778499329081,
          -0.17144646138666858,
          -0.3667700125738137,
          -0.3903896612713436,
          -0.11144205691475202,
          0.10091352815529356,
          -0.7178712644751598,
          -0.00812574292538934,
          -0.005472354753945382,
          -0.09798642395849004,
          -0.1203870570774412,
          -0.2871022857966684,
          0.08480618273715824,
          -0.7389294152701478,
          -0.26177320504488755,
          -0.3124301024640672,
          -0.13094653007152288,
          -0.16806679508691272,
          -0.016490738717658552,
          -0.04070800656178435,
          0.007177465347986614,
          -0.019220084975432938,
          -0.3739956225882569,
          -0.28041247646655265,
          -0.8110091586908963,
          -1.077901827555794,
          -0.9006211468206218,
          -1.1035830374816382,
          -0.5241636558814493,
          -0.43902165567941964,
          0.16352592770948396,
          -0.10065501753724163,
          -0.8317964476331131,
          0.30942234697442256,
          -0.02712689985532992,
          -0.012630002592404191,
          0.07570049786050179,
          -0.0525107552632614,
          -0.0011599790236551234,
          -0.06187016175735145,
          -0.05090338418285334,
          0.03404288560478748,
          -0.07779662103732529,
          -0.19301990224872778,
          -0.11121734862457036,
          -0.21118718535117204,
          -0.24491360854637417,
          -0.49027256481713055,
          -0.14426369285921817,
          -0.04229913167138789,
          -0.16702180087879043,
          -0.497516168249049,
          -0.4050993458428893,
          -0.2330245062500808,
          -0.7825442163064669,
          -0.4352936714225567,
          -0.5481748411908344,
          -0.5120381301596725,
          -0.06624610236135968,
          -0.6929142086134531,
          0.2688968590805122,
          0.0429739483130473,
          0.2744036579056251,
          -0.06788660628173204,
          -0.06626715246491684,
          0.00012053481518156106,
          -0.018461763323689647,
          -0.22876547066840902,
          -0.5082528286033925,
          -0.6342567262831171,
          0.17209152232445243,
          -0.03454100094202571,
          -0.8908822663734455,
          -0.4882233175375396,
          -0.09069036517019705,
          -0.037950113697305575,
          -0.45958971907022556,
          0.0072754541074519,
          -0.1212153128028041,
          0.10955120257807131
         ]
        }
       ],
       "layout": {
        "font": {
         "color": "black",
         "family": "Arial, monospace",
         "size": 12
        },
        "height": 360,
        "showlegend": false,
        "template": {
         "data": {
          "bar": [
           {
            "error_x": {
             "color": "#2a3f5f"
            },
            "error_y": {
             "color": "#2a3f5f"
            },
            "marker": {
             "line": {
              "color": "white",
              "width": 0.5
             }
            },
            "type": "bar"
           }
          ],
          "barpolar": [
           {
            "marker": {
             "line": {
              "color": "white",
              "width": 0.5
             }
            },
            "type": "barpolar"
           }
          ],
          "carpet": [
           {
            "aaxis": {
             "endlinecolor": "#2a3f5f",
             "gridcolor": "#C8D4E3",
             "linecolor": "#C8D4E3",
             "minorgridcolor": "#C8D4E3",
             "startlinecolor": "#2a3f5f"
            },
            "baxis": {
             "endlinecolor": "#2a3f5f",
             "gridcolor": "#C8D4E3",
             "linecolor": "#C8D4E3",
             "minorgridcolor": "#C8D4E3",
             "startlinecolor": "#2a3f5f"
            },
            "type": "carpet"
           }
          ],
          "choropleth": [
           {
            "colorbar": {
             "outlinewidth": 0,
             "ticks": ""
            },
            "type": "choropleth"
           }
          ],
          "contour": [
           {
            "colorbar": {
             "outlinewidth": 0,
             "ticks": ""
            },
            "colorscale": [
             [
              0,
              "#0d0887"
             ],
             [
              0.1111111111111111,
              "#46039f"
             ],
             [
              0.2222222222222222,
              "#7201a8"
             ],
             [
              0.3333333333333333,
              "#9c179e"
             ],
             [
              0.4444444444444444,
              "#bd3786"
             ],
             [
              0.5555555555555556,
              "#d8576b"
             ],
             [
              0.6666666666666666,
              "#ed7953"
             ],
             [
              0.7777777777777778,
              "#fb9f3a"
             ],
             [
              0.8888888888888888,
              "#fdca26"
             ],
             [
              1,
              "#f0f921"
             ]
            ],
            "type": "contour"
           }
          ],
          "contourcarpet": [
           {
            "colorbar": {
             "outlinewidth": 0,
             "ticks": ""
            },
            "type": "contourcarpet"
           }
          ],
          "heatmap": [
           {
            "colorbar": {
             "outlinewidth": 0,
             "ticks": ""
            },
            "colorscale": [
             [
              0,
              "#0d0887"
             ],
             [
              0.1111111111111111,
              "#46039f"
             ],
             [
              0.2222222222222222,
              "#7201a8"
             ],
             [
              0.3333333333333333,
              "#9c179e"
             ],
             [
              0.4444444444444444,
              "#bd3786"
             ],
             [
              0.5555555555555556,
              "#d8576b"
             ],
             [
              0.6666666666666666,
              "#ed7953"
             ],
             [
              0.7777777777777778,
              "#fb9f3a"
             ],
             [
              0.8888888888888888,
              "#fdca26"
             ],
             [
              1,
              "#f0f921"
             ]
            ],
            "type": "heatmap"
           }
          ],
          "heatmapgl": [
           {
            "colorbar": {
             "outlinewidth": 0,
             "ticks": ""
            },
            "colorscale": [
             [
              0,
              "#0d0887"
             ],
             [
              0.1111111111111111,
              "#46039f"
             ],
             [
              0.2222222222222222,
              "#7201a8"
             ],
             [
              0.3333333333333333,
              "#9c179e"
             ],
             [
              0.4444444444444444,
              "#bd3786"
             ],
             [
              0.5555555555555556,
              "#d8576b"
             ],
             [
              0.6666666666666666,
              "#ed7953"
             ],
             [
              0.7777777777777778,
              "#fb9f3a"
             ],
             [
              0.8888888888888888,
              "#fdca26"
             ],
             [
              1,
              "#f0f921"
             ]
            ],
            "type": "heatmapgl"
           }
          ],
          "histogram": [
           {
            "marker": {
             "colorbar": {
              "outlinewidth": 0,
              "ticks": ""
             }
            },
            "type": "histogram"
           }
          ],
          "histogram2d": [
           {
            "colorbar": {
             "outlinewidth": 0,
             "ticks": ""
            },
            "colorscale": [
             [
              0,
              "#0d0887"
             ],
             [
              0.1111111111111111,
              "#46039f"
             ],
             [
              0.2222222222222222,
              "#7201a8"
             ],
             [
              0.3333333333333333,
              "#9c179e"
             ],
             [
              0.4444444444444444,
              "#bd3786"
             ],
             [
              0.5555555555555556,
              "#d8576b"
             ],
             [
              0.6666666666666666,
              "#ed7953"
             ],
             [
              0.7777777777777778,
              "#fb9f3a"
             ],
             [
              0.8888888888888888,
              "#fdca26"
             ],
             [
              1,
              "#f0f921"
             ]
            ],
            "type": "histogram2d"
           }
          ],
          "histogram2dcontour": [
           {
            "colorbar": {
             "outlinewidth": 0,
             "ticks": ""
            },
            "colorscale": [
             [
              0,
              "#0d0887"
             ],
             [
              0.1111111111111111,
              "#46039f"
             ],
             [
              0.2222222222222222,
              "#7201a8"
             ],
             [
              0.3333333333333333,
              "#9c179e"
             ],
             [
              0.4444444444444444,
              "#bd3786"
             ],
             [
              0.5555555555555556,
              "#d8576b"
             ],
             [
              0.6666666666666666,
              "#ed7953"
             ],
             [
              0.7777777777777778,
              "#fb9f3a"
             ],
             [
              0.8888888888888888,
              "#fdca26"
             ],
             [
              1,
              "#f0f921"
             ]
            ],
            "type": "histogram2dcontour"
           }
          ],
          "mesh3d": [
           {
            "colorbar": {
             "outlinewidth": 0,
             "ticks": ""
            },
            "type": "mesh3d"
           }
          ],
          "parcoords": [
           {
            "line": {
             "colorbar": {
              "outlinewidth": 0,
              "ticks": ""
             }
            },
            "type": "parcoords"
           }
          ],
          "pie": [
           {
            "automargin": true,
            "type": "pie"
           }
          ],
          "scatter": [
           {
            "marker": {
             "colorbar": {
              "outlinewidth": 0,
              "ticks": ""
             }
            },
            "type": "scatter"
           }
          ],
          "scatter3d": [
           {
            "line": {
             "colorbar": {
              "outlinewidth": 0,
              "ticks": ""
             }
            },
            "marker": {
             "colorbar": {
              "outlinewidth": 0,
              "ticks": ""
             }
            },
            "type": "scatter3d"
           }
          ],
          "scattercarpet": [
           {
            "marker": {
             "colorbar": {
              "outlinewidth": 0,
              "ticks": ""
             }
            },
            "type": "scattercarpet"
           }
          ],
          "scattergeo": [
           {
            "marker": {
             "colorbar": {
              "outlinewidth": 0,
              "ticks": ""
             }
            },
            "type": "scattergeo"
           }
          ],
          "scattergl": [
           {
            "marker": {
             "colorbar": {
              "outlinewidth": 0,
              "ticks": ""
             }
            },
            "type": "scattergl"
           }
          ],
          "scattermapbox": [
           {
            "marker": {
             "colorbar": {
              "outlinewidth": 0,
              "ticks": ""
             }
            },
            "type": "scattermapbox"
           }
          ],
          "scatterpolar": [
           {
            "marker": {
             "colorbar": {
              "outlinewidth": 0,
              "ticks": ""
             }
            },
            "type": "scatterpolar"
           }
          ],
          "scatterpolargl": [
           {
            "marker": {
             "colorbar": {
              "outlinewidth": 0,
              "ticks": ""
             }
            },
            "type": "scatterpolargl"
           }
          ],
          "scatterternary": [
           {
            "marker": {
             "colorbar": {
              "outlinewidth": 0,
              "ticks": ""
             }
            },
            "type": "scatterternary"
           }
          ],
          "surface": [
           {
            "colorbar": {
             "outlinewidth": 0,
             "ticks": ""
            },
            "colorscale": [
             [
              0,
              "#0d0887"
             ],
             [
              0.1111111111111111,
              "#46039f"
             ],
             [
              0.2222222222222222,
              "#7201a8"
             ],
             [
              0.3333333333333333,
              "#9c179e"
             ],
             [
              0.4444444444444444,
              "#bd3786"
             ],
             [
              0.5555555555555556,
              "#d8576b"
             ],
             [
              0.6666666666666666,
              "#ed7953"
             ],
             [
              0.7777777777777778,
              "#fb9f3a"
             ],
             [
              0.8888888888888888,
              "#fdca26"
             ],
             [
              1,
              "#f0f921"
             ]
            ],
            "type": "surface"
           }
          ],
          "table": [
           {
            "cells": {
             "fill": {
              "color": "#EBF0F8"
             },
             "line": {
              "color": "white"
             }
            },
            "header": {
             "fill": {
              "color": "#C8D4E3"
             },
             "line": {
              "color": "white"
             }
            },
            "type": "table"
           }
          ]
         },
         "layout": {
          "annotationdefaults": {
           "arrowcolor": "#2a3f5f",
           "arrowhead": 0,
           "arrowwidth": 1
          },
          "coloraxis": {
           "colorbar": {
            "outlinewidth": 0,
            "ticks": ""
           }
          },
          "colorscale": {
           "diverging": [
            [
             0,
             "#8e0152"
            ],
            [
             0.1,
             "#c51b7d"
            ],
            [
             0.2,
             "#de77ae"
            ],
            [
             0.3,
             "#f1b6da"
            ],
            [
             0.4,
             "#fde0ef"
            ],
            [
             0.5,
             "#f7f7f7"
            ],
            [
             0.6,
             "#e6f5d0"
            ],
            [
             0.7,
             "#b8e186"
            ],
            [
             0.8,
             "#7fbc41"
            ],
            [
             0.9,
             "#4d9221"
            ],
            [
             1,
             "#276419"
            ]
           ],
           "sequential": [
            [
             0,
             "#0d0887"
            ],
            [
             0.1111111111111111,
             "#46039f"
            ],
            [
             0.2222222222222222,
             "#7201a8"
            ],
            [
             0.3333333333333333,
             "#9c179e"
            ],
            [
             0.4444444444444444,
             "#bd3786"
            ],
            [
             0.5555555555555556,
             "#d8576b"
            ],
            [
             0.6666666666666666,
             "#ed7953"
            ],
            [
             0.7777777777777778,
             "#fb9f3a"
            ],
            [
             0.8888888888888888,
             "#fdca26"
            ],
            [
             1,
             "#f0f921"
            ]
           ],
           "sequentialminus": [
            [
             0,
             "#0d0887"
            ],
            [
             0.1111111111111111,
             "#46039f"
            ],
            [
             0.2222222222222222,
             "#7201a8"
            ],
            [
             0.3333333333333333,
             "#9c179e"
            ],
            [
             0.4444444444444444,
             "#bd3786"
            ],
            [
             0.5555555555555556,
             "#d8576b"
            ],
            [
             0.6666666666666666,
             "#ed7953"
            ],
            [
             0.7777777777777778,
             "#fb9f3a"
            ],
            [
             0.8888888888888888,
             "#fdca26"
            ],
            [
             1,
             "#f0f921"
            ]
           ]
          },
          "colorway": [
           "#636efa",
           "#EF553B",
           "#00cc96",
           "#ab63fa",
           "#FFA15A",
           "#19d3f3",
           "#FF6692",
           "#B6E880",
           "#FF97FF",
           "#FECB52"
          ],
          "font": {
           "color": "#2a3f5f"
          },
          "geo": {
           "bgcolor": "white",
           "lakecolor": "white",
           "landcolor": "white",
           "showlakes": true,
           "showland": true,
           "subunitcolor": "#C8D4E3"
          },
          "hoverlabel": {
           "align": "left"
          },
          "hovermode": "closest",
          "mapbox": {
           "style": "light"
          },
          "paper_bgcolor": "white",
          "plot_bgcolor": "white",
          "polar": {
           "angularaxis": {
            "gridcolor": "#EBF0F8",
            "linecolor": "#EBF0F8",
            "ticks": ""
           },
           "bgcolor": "white",
           "radialaxis": {
            "gridcolor": "#EBF0F8",
            "linecolor": "#EBF0F8",
            "ticks": ""
           }
          },
          "scene": {
           "xaxis": {
            "backgroundcolor": "white",
            "gridcolor": "#DFE8F3",
            "gridwidth": 2,
            "linecolor": "#EBF0F8",
            "showbackground": true,
            "ticks": "",
            "zerolinecolor": "#EBF0F8"
           },
           "yaxis": {
            "backgroundcolor": "white",
            "gridcolor": "#DFE8F3",
            "gridwidth": 2,
            "linecolor": "#EBF0F8",
            "showbackground": true,
            "ticks": "",
            "zerolinecolor": "#EBF0F8"
           },
           "zaxis": {
            "backgroundcolor": "white",
            "gridcolor": "#DFE8F3",
            "gridwidth": 2,
            "linecolor": "#EBF0F8",
            "showbackground": true,
            "ticks": "",
            "zerolinecolor": "#EBF0F8"
           }
          },
          "shapedefaults": {
           "line": {
            "color": "#2a3f5f"
           }
          },
          "ternary": {
           "aaxis": {
            "gridcolor": "#DFE8F3",
            "linecolor": "#A2B1C6",
            "ticks": ""
           },
           "baxis": {
            "gridcolor": "#DFE8F3",
            "linecolor": "#A2B1C6",
            "ticks": ""
           },
           "bgcolor": "white",
           "caxis": {
            "gridcolor": "#DFE8F3",
            "linecolor": "#A2B1C6",
            "ticks": ""
           }
          },
          "title": {
           "x": 0.05
          },
          "xaxis": {
           "automargin": true,
           "gridcolor": "#EBF0F8",
           "linecolor": "#EBF0F8",
           "ticks": "",
           "title": {
            "standoff": 15
           },
           "zerolinecolor": "#EBF0F8",
           "zerolinewidth": 2
          },
          "yaxis": {
           "automargin": true,
           "gridcolor": "#EBF0F8",
           "linecolor": "#EBF0F8",
           "ticks": "",
           "title": {
            "standoff": 15
           },
           "zerolinecolor": "#EBF0F8",
           "zerolinewidth": 2
          }
         }
        },
        "title": {
         "text": "Grouped by: mean",
         "x": 0.5,
         "xanchor": "center",
         "yanchor": "top"
        },
        "width": 540,
        "xaxis": {
         "autorange": true,
         "linecolor": "black",
         "linewidth": 2,
         "mirror": true,
         "range": [
          1.5,
          166.5
         ],
         "showline": true,
         "ticks": "outside",
         "title": {
          "text": "Position"
         },
         "type": "linear"
        },
        "yaxis": {
         "autorange": true,
         "linecolor": "black",
         "linewidth": 2,
         "mirror": true,
         "range": [
          -1.63703466502659,
          0.47168464280741806
         ],
         "showline": true,
         "ticks": "outside",
         "title": {
          "text": "Enrichment score"
         },
         "type": "linear"
        }
       }
      },
      "image/png": "iVBORw0KGgoAAAANSUhEUgAAAsMAAAFoCAYAAACyv/byAAAgAElEQVR4XuydB7gUtd6Hf7t0KVIEpIhI70WqFwFBRQSxoCK9evXaENSryJVi188CKr1KR4oUKQoiSFFAitKRJqD03uvO9/wzZ84Op+3uzGz/5Xl8POwmmeRNJvtuNpO4NE3TwEACJEACJEACJEACJEACcUjARRmOw1ZnlUmABEiABEiABEiABBQByjA7AgmQAAmQAAmQAAmQQNwSoAzHbdOz4iRAAiRAAiRAAiRAApRh9gESIAESIAESIAESIIG4JUAZjtumZ8VJgARIgARIgARIgAQow+wDJEACJEACJEACJEACcUuAMhy3Tc+KkwAJkAAJkAAJkAAJUIbZB0iABEiABEiABEiABOKWAGU4bpueFScBEiABEiABEiABEqAMsw+QAAmQAAmQAAmQAAnELQHKcNw2PStOAiRAAiRAAiRAAiRAGWYfIAESIAESIAESIAESiFsClOG4bXpWnARIgARIgARIgARIgDLMPkACJEACJEACJEACJBC3BCjDcdv0rDgJkAAJkAAJkAAJkABlmH2ABEiABEiABEiABEggbglQhuO26VlxEiABEiABEiABEiAByjD7AAmQAAmQAAmQAAmQQNwSoAzHbdOz4iRAAiRAAiRAAiRAApRh9gESIAESIAESIAESIIG4JUAZjtumZ8VJgARIgARIgARIgAQow+wDJEACJEACJEACJEACcUuAMhy3Tc+KkwAJkAAJkAAJkAAJUIbZB0iABEiABEiABEiABOKWAGU4bpueFScBEiABEiABEiABEqAMsw+QAAmQAAmQAAmQAAnELQHKcNw2PStOAiRAAiRAAiRAAiRAGWYfIAESIAESIAESIAESiFsClOG4bXpWnARIgARIgARIgARIgDLMPkACJEACJEACJEACJBC3BCjDcdv0rDgJkAAJkAAJkAAJkABlmH2ABEiABEiABEiABEggbglQhuO26VlxEiABEiABEiABEiAByjD7AAmQAAmQAAmQAAmQQNwSoAzHbdOz4iRAAiRAAiRAAiRAApRh9gESIAESIAESIAESIIG4JUAZjtumZ8VJgARIgARIgARIgAQow+wDJEACJEACJEACJEACcUuAMhy3Tc+KkwAJkAAJkAAJkAAJUIbZB0iABEiABEiABEiABOKWAGU4bpueFScBEiABEiABEiABEqAMsw+QAAmQAAmQAAmQAAnELQHKcNw2PStOAiRAAiRAAiRAAiRAGWYfIAESIAESIAESIAESiFsClOG4bXpWnARIgARIgARIgARIgDLMPkACJEACJEACJEACJBC3BCjDcdv0rDgJkAAJkAAJkAAJkABlmH2ABEiABEiABEiABEggbglQhuO26VlxEgg/gdOnT+Off/5BpkyZcMcdd8Dtdoe/UEEogaZpKleXy5Vq7v7ECULRmCUJkAAJxD0BynDcdwECIIHQE1i2bBl69+6NJUuW3HDxxx9/HF9++SUKFiwY+kIF8Yovv/yyqtfJkyeRM2fOFK8kovzkk09iypQpQSwJsyYBEiABEkhKgDLMPkECJBBSAosXL0bDhg3VNTt27IjKlSvD4/Fg+fLlmDFjBrJnz46VK1eiXLlyIS1XMC/WtWtXfPXVVzhx4gRy5cqVqgzLl4Fp06YFsyjMmwRIgARIIAkByjC7BAmQQMgIrFq1CrVr10apUqUwd+5clChR4oZrz5o1C48++mjMzZBShkPWxXghEiABEgiYAGU4YGRMQAIkYJXAs88+i2HDhuHXX39VUpxSeP7555ElSxZ8/PHHSJ8+PV555RWcP38et956K/r164d//etfGDVqFPLly4cxY8Zg0KBBWLduHYoVK4YHHngA77zzDm655RaV9ddff42hQ4di8uTJuP322xMv16pVK2TIkAFjx45Vr9WrVw8PPfQQDh48mDgz+9hjj+G1115DkSJFEtOtX78effr0gUi9hDp16uCDDz5AmTJlEuPI7K+89t133+HUqVNo3ry5Kv+4ceN8zgw/+OCDKFu2LMaPH6/yu++++/DJJ5+oZSPbtm1Dp06d8Mgjj6BHjx43oJMvEFmzZsWECRMwePBgVS9Jd/fdd6fIWHh88cUXivFHH32kZuXLly+PV199Fffcc49i/sMPP6BkyZJo06YN/vOf/ySudz5y5AjeeustLFq0CEePHkWVKlXwxhtvoGnTponXOnv2LD777DPMmzdPlVv+LazeffddNGjQQMUzyiBt+t5772Hp0qXImzev+iLUt29fZM6c2Wo3YzoSIAESCIgAZTggXIxMAiRgh0Dp0qWVcMqDc2k9TGa+RpMmTTB//nz1Uo0aNXD8+HFs375dCaEIl0jWE088gR07digxFkn+888/cfPNN+PDDz9Ez549sWXLFiWZRpByiGz98ccf6iWjLJJW1jKLxIrwVapUCStWrEC2bNnU/w25fO6553Dbbbehf//+EDncvHmzWtZx9epVJYULFy5UUilyPnDgQPz999/qOr6WSUgcWSby5ptvqi8MItRGfeR1EXphd+zYMWTMmFHluXr1atSqVUuJppRZ6iv1nj17Npo1a5Zic4mAivBKkDjy8OLo0aOVtBYuXFjlLVIq1xd28mWjatWqas2ziL/UWaS8bt26+Oabb/Dbb7+p9LLsRYJ8AZAlL5JHzZo1FWdD8OWBSZF7cxmEs3CTXws2bNiAXr16qS81DCRAAiQQCgKU4VBQ5jVIgASUQOXPn1+tF5ZZRSOIQMpMq7Gbgrwuf4t8iQAaMiyzwO3bt1fJRIZFykTGfvrpJzWDLOHTTz/Ff//7XyWTMjsbqAxLOUTeJIjktWzZUs2wygyxrG0WUTPE11wOEbk5c+Zg0qRJaN26tbquMXt7+PBhNavtrwyL3Ir0Sxg5ciSefvrpxPxkFlfqZhbdl156CQMGDMCePXtQtGhRXLt2TUm57NCR2u4choiKvIrESpA8JC+R7wMHDiBdunSJnGWmVmbEX3/9dcVDZtufeeYZle7y5ctquYtI+qFDh3DmzBm1DEZm24WJEf73v/+pNpHZYpkBN8ogs84ymy1B8pAHDO+8806sXbuWdw0JkAAJhIQAZTgkmHkREiABQ4ZF9ET4jCCznPLzeNIgP93LrK8hwxIvT548Kposk+jSpQumTp2qZoWNsHPnTvXTvqST9IHIsEigzFobAnn9+nUl2S1atFBLO0TSJI6IoDkYgi4SaMii5GMIsMQVoRWx9TUzLPmLUBoz1SK1Mksrs7ciwDLDLDPSxoN2Fy9eVF8wZMnJggUL/O5khoh+++23kOUgEoyZb1nfLEsoJFy6dEktWWnXrp1aelGtWjU1SyxLPmS23AgyIy+z4TIDLLO8EuShSFlGsWvXLki7yLIImeGXBwSl/EYZ5LXGjRsn5iXLNeS6ko6BBEiABEJBgDIcCsq8BgmQgCIgyxNkCYNInLEmVITvxx9/TCQ0ceJE9ZN6Uhk2zxzLDKPMNIrAyRpicxBZlLB///6AZNgQvqR55ciRQ4mcIXmpNaWIruQhP/WLSJtnZeUnf5lZ9SXD5pla4zoiuyLWxpIOWdss1xDRlJ05RNZlRlpmsf0NhoiaZ6GNhxtlWYes25Ygs8yytrpDhw5q/bWwkKUUqQVZViHlmzlzplp/vHv37sSosqZb/p1Uho0lGEZEmZmXpTCUYX9bk/FIgATsEqAM2yXI9CRAAn4TkLW2Q4YMSRSilBIaomuWYflbZl6NIGImD5MZ8mXOR4TN+InemBk2C5dItYiqyK15zbBIpSyNMILMbMpSAXld1gbLOleZcZYZ0JSCyL0IoIimiKrxEJ/ElfW58rovGZYlFvIQnBEMGZX1uSKYEowdN4YPH65mi2WvZplNvummm/xuB0OGzVzSkmHji4LxZUZm+c0zw8aFZRZb1hgLW1l7LOuYq1evrmbrZZmLPEAp+yjLWuKUyiD5iAzLzLp8mWEgARIggVAQoAyHgjKvQQIkoAjIbgz169dXs4uyntS8A4G8LzOHMjsqh3KkJcOynlQkK+khFfKTuyyrkFlYWecqs5wvvvgipk+frh7qkiACKD/3J5VhWZ+8d+/exH2ARTRFQuUhve7du6vZWZFAKaM8cCZB1gNLPiKJIqUyQ9u2bVv1IJ+Iv4QrV66gePHiaomDLxmWMogEysN/EqTcsgzEeDjOyE9EW9ZMy4NrUj/ZwziQYFWGRYpl1l6WSUg9JcgsuKwBli8Wa9aswffff6/WE8uXHpFfCfLFQviLyBuz2JThQFqMcUmABIJJgDIcTLrMmwRIIBkB+WletgwTIZYHpWTXBZlVFcGV7bwkyC4MskZV1tCK3CadGZY4MmMra4ZFnmWrNFmXKg+tyRpX2YlBfpYXWZSZRslH5Fge9pLZYpHapDIsecp6ZtlNQmYmZZa3QIEC6gAQOShDBFDWB0te3bp1U2t35VQ5uYbxUNiFCxdUfeQ1kWjZwULW3xr18iXDUgZZ/ytrj0W0RahFkPft23fDyXVST9kWTYJcS74YGOH//u//lBzLg3HCOaVgVYaNBxclT5FwqausO5alLbK9mjzg99dff6kvC7K7xvvvv6+WWYhAy1ITCfKwnDw0Rxnm4EACJBApBCjDkdISLAcJxBEBmUUcMWKE2glCflY3guwOISIo606NkJoMnzt3Tu2sILsgGEF2qpBZWZmpNYKxw4TxbxFZmQGWNanmZRIib7JXr8ilBMlLliKIVEuQ5RUixCKBxrpZkWeRcWONrcQTkZaH+4zt4GRnBVnXLEs7ZMs2Y9Y3aXMbxzGLTBplkC8LsmzCvI+xpNu6dauSTflPdrcwB2PXhpSWkBjxZNmHzHb//vvvapcMCcYWbeZZbWOZhnkts3w5kPoZ7SZ85CE8WRdtLNWQ/EXIjTXDIviyl7DIufHwX0plkHLcdddd6ssK1wzH0YDAqpJAmAlQhsPcALw8CcQ7AXlYSuRSDrdIbSuwtBjJA3git7KmN7V1syJ1IpkymytbjqUkoiJ0Mssp24pJPrJ7RGpB4shOEzJLnFqQOon8Gg/0BdLOxtZm8vBcSkGEVKRRvgi88MILgWTtWFzZc1jqZywZSSlj2e5NdgCRddwMJEACJBCpBCjDkdoyLBcJkEDICMisrCHDIbuohQvJg3IyIy5rcWVWXb5I5M6d20JOTEICJEACJGAQoAyzL5AACcQ9gWiRYVmeIHssSwjnrHDcdxgCIAESiCkClOGYak5WhgRIwAoBeRBPHpYzjlu2kkco0vzyyy/qcA05fll2cGAgARIgARKwT4AybJ8hcyABEiABEiABEiABEohSApThKG04FpsESIAESIAESIAESMA+AcqwfYbMgQRIgARIgARIgARIIEoJUIajtOFYbBIgARIgARIgARIgAfsEKMP2GTIHEiABEiABEiABEiCBKCVAGY7ShmOxSYAESIAESIAESIAE7BOgDNtnyBxIgARIgARIgARIgASilABlOEobjsUmARIgARIgARIgARKwT4AybJ8hcyABEiABEiABEiABEohSApThKG04FpsESIAESIAESIAESMA+AcqwfYbMgQRIgARIgARIgARIIEoJUIajtOFYbBIgARIgARIgARIgAfsEKMP2GTIHEiABEiABEiABEiCBKCVAGY7ShmOxSYAESIAESIAESIAE7BOgDNtnyBxIgARIgARIgARIgASilABlOEobjsUmARIgARIgARIgARKwT4AybJ8hcyABEiABEiABEiABEohSApThKG04FpsESIAESIAESIAESMA+AcqwfYbMgQRIgARIgARIgARIIEoJUIajtOFYbBIgARIgARIgARIgAfsEKMP2GTIHEiABEiABEiABEiCBKCVAGY7ShmOxSYAESIAESIAESIAE7BOgDNtnyBxIgARIgARIgARIgASilABlOEobjsUmARIgARIgARIgARKwT4AybJ8hcyABEiABEiABEiABEohSApThKG04FpsESIAESIAESIAESMA+AcqwfYbMgQRIgARIgARIgARIIEoJUIajtOFYbBIgARIgARIgARIgAfsEKMP2GTIHEiABEiABEiABEiCBKCVAGY7ShmOxSYAESIAESIAESIAE7BOgDNtnyBxIgARIgARIgARIgASilABlOEobjsUmARIgARIgARIgARKwT4AybJGhy+WymJLJSIAESIAESIAESMB5ApqmOZ9pHORIGbbYyJRhi+CYjARIgARIgARIICgEKMPWsFKGrXGDIcPseBYBMhkJkAAJkAAJkIAjBOgk9jBShi3yY8ezCI7JSIAESIAESIAEHCVAJ7GHkzJskR87nkVwTEYCJEACJEACJOAoATqJPZyUYYv82PEsgmMyEiABEiABEiABRwnQSezhpAxb5MeOZxEck5EACZAACZAACThKgE5iDydl2CI/djyL4JiMBEiABEiABEjAUQJ0Ens4KcMW+bHjWQTHZCRAAiRAAiRAAo4SoJPYw0kZtsiPHc8iOCYjARIgARIgARJwlACdxB5OyrBFfux4FsExGQmQAAmQAAmQgKME6CT2cFKGLfJjx7MIjsnikoA2cSi0z3qrurvHfg+UrxqXHFhpEiABEggGATqJPaqUYYv82PEsgmOyuCRAGY7LZmelSYAEQkSATmIPNGXYIj92PIvgmCwuCVCG47LZWWkSIIEQEaCT2ANNGbbIjx3PIjgmi0sClOG4bHZWmgRIIEQE6CT2QFOGLfJjx7MIjsnikgBlOC6bPb4rvW/XjfUvUjy+ebD2QSVAJ7GHlzJskR87nkVwTBaXBCjDcdnscV1pbVR/aAM/VAzcU34GipeJax6sfHAJ0Ens8aUMW+THjmcRHJPFJQHKcFw2e1xXmjIc180f8srTSewhpwxb5MeOZxEck8UlAcpwXDZ7XFeaMhzm5t+z48YC3FEyzAUK7uXpJPb4UoYt8mPHswiOyWKXwJlT0P73nF6/wkXhekP/iVgCZTh2m501S5kAZTg0PUN7pYN+oXTp4PpklHfMWTAL2pvPqH+7Ph8DV/3GoSlQmK5CJ7EHnjJskR87nkVwTBa7BM6cgqdBaf3Dp0VnuF7WD9lQMvztWB66Ebstz5qlQIAyHJpu4bmrCHDlMlwNm1KGZazVtNCAj7GrUIYtNihl2CI4JotdAklkWNuxBVi/EshXAK52z1GGY7flWTPKcNj6AGVYR08nsdcFKcMW+bHjWQTHZLFLgDIcu23LmgVMgDPDASOzlIAyTBm21HGSJKIMW6RIGbYIjslilwBlOHbbljULmABlOGBklhJQhinDljoOZdgJbPxJwhmKzCWmCFCGY6o5WRl7BCjD9vj5m5oyTBn2t6+kFY8zwxYpcmbYIjgmi10CQZZhbdGcRHauex+KXY6sWUwQoAyHphkpw5RhJ3oaZdgiRcqwRXBMFrsEgizDnmY1gAP7gIrV4P56XuxyZM1iggBlODTNSBmmDDvR0yjDFilShi2CY7LYJUAZjt22Zc0CJkAZDhiZpQSRIMPa5BHeX61aPm2pHnYT0UnsEaQMW+THjmcRHJPFLgHKcOy2LWuWSECJz6qf1b9dHV8CKtdMkQ5lODSdJhJk2NOyASBbSRYvA/cUvW+EOtBJ7BGnDFvkx45nEVysJzt3Brh4wVvLvLfGeo299aMMx09bx3FNRYa1T/6nCLhHfUcZDnNfoAzrDUAnsdcRKcMW+UVSx9MGfght2tf64Dz2e+C2OyzWislsEzh3Bp76JfXB6YmOcL35se0soyYDynDUNBULap0AZdg6u2CkpAxThp3oV5RhixQjToZH9ddleOZKyrDFNnUkGWVY/yLQojOcPoGOD9A50kOZiU0ClGGbAB1OThmmDDvRpSjDFilShi2Ci/VklGHKcKz38TivH2U4sjpAXMvwiaOJjeHKk0/9rWlaZDVQlJSGMmyxoSjDFsHFejLKMGU4kD6+eb03dvmqgaQMKK62dAFw4Zz3g7Nx84DSM7KXAGU4snpDPMuwp1Zh4NpVyL7r7k9GUYZtdE3KsEV4ESvDn30Nbe5UvVaVa8DV9jmLNWQySwQow1Ejw577K+hlrVoLrv8baam57SbytKgP7NoW9KfQRYa17u30+r4/GC7KsOWmowxbRheUhJRhyrATHYsybJFiJMuw59WO+ode976UYYvtazkZZdg5Gd6xBdrP3+tNkT4DtOljHT10wzyrQhm23OOBo4fgeai63u4tn1bjTiwHx2V46wYvrpy5gQKFYxmf43WjDFOGnehUlGETRVlrY0iuL7iUYV+E4vR9yrCjMqz27xTJeuktyrCNWyqoM8Miw40r6+3U9jnKcEI7+bvPsPbFO9DGDlSp3HPWUoYD7OeUYcpwgF0mxeiOyPC1a9dw5swZ5MiRA+nTp3eiXCHNY9GiRejTpw9WrFiBxx57DKNGjULOnDnTLANlOKRNFD0XowxThgPorTGxTIIynGKLU4YDuBFsRKUMU4ZtdJ/EpLZkePPmzejevTsWLlyIhg0bolu3bhg/fjy++OIL3HprdBw2cPDgQZQuXRr9+vVD/fr1VR1y5cqFcePGUYad6GHxlgdl2LcMy7r2Y4e9g9AT+rKeZGHHFliZGdb6vOTN++2vUu2BXCbh0M1JGaYMO9SVrGRjlmHUqufNIkcuaG8+o49Hn4+Bq35jK9n7lSZcJ9DxATq/msevSJZl+Pjx4yhXrhxuv/12FCxYEGfPnlVCef/996NChQqQ2dZoCKNHj8ann34KEXsJq1evRq1atXD16tU0Z7k5MxwNrRuGMkaIDGtdW3uF8MuJoQHh76Ebn32NxHXtnbvB9cKbieXTRnzuLXfp8vB0a69/mAWwTMJzb1ng1Am4atWHa9CUmJBh7bknvFwGTwu4PblMImBkqSZwes2wE8sktF4vePvHu/qSi3gJN8hw+vTQFszSx4wPh1GG46UTOFBPyzI8YcIEtG3bFkePHsWcOXPUTKoI8Pbt21GmTBmcOHFCzbBGenjnnXewbt06zJw5UxX1wIEDKFSoEA4fPox8+fR9+1IKlOFIb9kwlS9CZFjtlHDiKFw168JlQZ4s0XNChod+Cm3YJ+ry7v5jKcMJDeF5qBpw8G919K86AjjAQBkOEFga0SNRhj11igKXLqrZT5kFjadAGeYyCSf6u2UZ/uqrrzBixAj88ccf+PrrrxNlWJYdyEzx77//jsqV9YcqIjn06tULu3fvhsi9hJMnTyJ37tzYtWsXihUrpl7buHFjsipUqlRJvXbq3JWwVy/T8P9DxnFfqnJc/GAksvTsov6+/EJvXHlK/5koGkKWV9skFvPiZ3p7RFtwnT+LbA+WVcW++mh7XHrlg7BUIdsjVeA6eQzXq92NC/0mh6QMrjOnkO0hfbuyq807wr1zC9JtWA0tbwHVDzMNeFvvo++PRJb/6X30SruuuPzv1xPLl2n058g4Wp8dvvjhaGR5s5Pel599Exlmj4f74H5cL3cnLgyZnWqdsjWrBNfpE7hWvS4ufj4p1XjZGxYFrl3DtXua4uI7Q0PCKOlFsna4F+492+G5ozTOj0n917SsT9aG+/DfuF6xBi4MnBFwWdP/shBZeugsL/UegKv3PRpwHqklcB07jGzNq+nt+dQzatwJVki3Zlli1p4K1aBlvilYl0o134zTRyHTF3odpS2kTVIKMibL2CxB2lbaOKWQafD7yDhpsB5v6kp48ge+m0S2RiXhunQR1+5uhIsf6PvNxkvIfl9x4MplXKv3IJA+PdL/pH9ZvNh3MLL01bcWFSbCJlgha6f74d611ed9bOX66X/7OTHZtSp3ARkyJv7bPIZl+ny0ep2HblihDFiW4aVLl6o1ttOnT8fp06fVWmGZXe3ZsycGDBiACxcuIEuWLNZKFcJU/fv3x08//YTZs/UP1/3796NIkSI4f/48brpJH2hfeeWVZCWSJSESBoy6ikuX9LfvrOzBuj/c6u/qd3qwZp3+d86cGs6cccHj0eOVK6NhyzaX+rtWDQ9W/abHy59Pw+Ej+usSShTTsHN3QrzqHqxao8e7/TYNe/d74z1dZmliGtfFc9CyZEv894ht3jVUeW/RcPSYnq5mNQ9Wr9Xzq1BWw6at+uvp0gFZbwLOnNWzMNejWlUP1q7X09yUBbjuAS5f1uNVrujBHxv192pU8+C3hLxz5dJw8qS3rGVLa9i6PXmdbs2v4aHc3g+6xZfqYtee5PGKFtHw1z5vfgULaDhwMHm8UiU0/LnTG++WPBqOHU9e90oVNGzYpL+eIQOQKRNwLuFsAnPdq1f1YE1C3bNlA65c0f+TYM6jfpXTKHnpjxT517jTg21/6owqV/Jg+S/63wVu1XDwkLes5jrWqq5h1Rr9vTtu17BnrzeeOV0tU/8oU0rD3W4vy+mH6ya2gbltzG2WMaNe//Pn9aKb29pc9xzZgYuXgKtX9XgVy2nYuEUvU4PKJ1D88qbEuqf2R1p99Ia+fPkitEwpjyFzTtbFocMJ7Vndg9UJ94bcW/+Ct+7TDtXFqVPJ271qJQ+qXVmeWMSJe+vhwkX9n+b7WNrst4T7+OYcGs6e897H5vumpqkM5vtM8kvtPr6tsIYHsnnL+sO5utj/t9GXve0u6e/J6I0361hdn/ex2w1kz6bh9Bk9v04ll6p72wjGuCD3sfSjEwn3aO0a1/HnDj1NqZIa5i/UE8kYdvq0C8bhVuYx7P6KB3H71R0p9vnid2iJ93HtGh6sTBjrko5hhQtp+Psfoz01rE7o80nv4841fk+8zk6tNJau0fuHuR9KP86S2fcYljWr3o+N+9h8P5jHx6RjmLmPnrqeHdN26IelJL2PzfEOugth7pbiKl7SMcwc768MpfHjxvwqntzHlSskfGgA+HGJG8dPJO/zMv7UvObtH5P/rpc4hpnvY3NfljFMxm7jPjaPYeYxwjxuqj5hGldrV/dgZcJ9Zx6Hk9bRPIaZ+4PEk3HfuI/Nn4XmzwmJZ24Dcz2kzVT5kVYAACAASURBVGpc9d7HqY051zxufP3n3eptGcPOXwCuX9djd2h1LTGZjAFTZ+qbACS9j0sW17BjV/LPGum7jbN7+S88Xzfx89lcd/M4IPmbP+/NdTffW3Ifd7rT2+c3e8pj5boMqnwyTt152Vv3nA3vVa9ThlPrBWm/blmGJds2bdpg4sTk6xFFhl94wbuGyVrRQpPqm2++Qe/evdXyDgnLli1D06ZN1e4YaQVjmcTQsdfwxyZdIls/7sK4KfpRiJ1auTB6kv537erAqdPAth26RDa934Wps/X3nm7rwojx+t/31AH27AP27gfy5ALq1HJh9vf6e13aujAyIV7jhi78sVnDwcNAwVuB11/yClLSMvf9P01d+47bgdsKAkt/1WN0buPCqAl63k896sKs7zUl9eVKAfIh8VvCwVjmenRo6cKYyXqaqhV1Gd6wGciQHmjxqAsTpiXUvbULoyfqf99VAzh+Avhzly7Zje91Yfp3yeve4G7gkQe99Vi0FPjuh+R1b3KfC2v/0HD4KFC4AFC6JCBxk7J8tIkLi5eLDAAl7gAK5AeWrUxe91aPu/DtHE19MJQvo3+IrkkYe8x179jSha8T6l69CnDpMrBpK5AxA/D4wy5Mmq6X9blOLpQu4W2FASM07NwD3JwD6PWqt34nTwHv99PTNKwL7NgF7D8gAzBQo4oL835MqHsbF0YmtJP0m1XrROr1tixZHPgpYQzuYorX/CEX6t3lLcM3MzX8+ltC3Vu7MCqhbdo84cKUmRquXpMvRECmjMDaBI83t7W57jWqQknj5m36F4fHmrgweYZe1uc7u1BK/7wPKHw6QMPfB4H8eYE3u6Xel82ZzpqvYXHC54C5Lz/5sAt1anljStlWrvG2u9H3mj3ggrSjEaRfr98IyIePcDHu484mXrXuBE6f1e/jzJmBRxq7IGwlmMsg7KUt9+wFcuUE6tZO+T5u1ACQ/mwEafMFi/V/mdvz4cYu1UeMIP3V131cpiRwc3Zg1To91advu2TSLDG80ktTX87lPpa2TilcuQq83tc7hkmf3b5Tv4+l3MYY1vXfLhQr6s2h3xD5sq6PYf+q6Uq8j59u58KIcXp+Moat3+i9j8uWBhYuSah7WxfW/K7Hu6OIC0tW6GOYXEOuZQQZU4wx58F7XZgxz3sfyzhrjGHm/mvu19UqA5ev6Pexv2NY9mzAu296yyDlkjFWgvk+viUP8NYr3ngyVn/8pR5P2Ml9bgRpAyMIN+EnIel9LLxXrEpgZLrfZQyTvmmE8VO1xDHMXF/zeCZ9X77UGvexXMsYw8x9vm5tqM8ZYwxrcLcLM+clH7/vrQds34HE+7haZdMYZvrskvvu1zX6GFakMFC8KBLvY/Nn3OPNXPh+kaakVcaUPLmROIZ1Mn2+yL0qY5KvcO0a8FofvdwSX770b/lTv48/6uVtJ7nel8P0eDKOG/dxzpuB+v9yQcYdCeay3n+P/pluhO8XAd//lHz8lvt4xSoNx0/KhJb0bWDJCj2V2QNkDJu7UFPjrNzH/+nozVvaa3jCPdSuhQvSh42QMYP+xZUy7Ks3pPy+LRkW6DNmzMDixYvxzz//oGjRonj88cdRp04da6UJQypjWYTsiNGgQQO0bt1abas2dGjaP5saMjx83HU1qIsMt2/hxuhJ+jf5p9u6MWK8/rd8IMiguWW7BplsfvgBNybP0N97toMbQ8fofze826VkeM8+Td38dWu7MXOe/t4zHdwYlhCvyf0u/L4ROHBIQ6ECLvTsps8wphT+98H1hA8SF4oUkptPv0n/3c6N4eP0vFs3d2PGPI8aHMuXcSFbVmDVWmPA89ajc2s3Rk3U08hgJ9+sf9+kqQ+SVs3dGDtFf+/fbd0YnlB3EXoZ+Lbv1FS+Te5zY8qshLq3d2PoWP3ve+u50Lyptx4LlmiYNT+h7u3dGJYQ76FGbqz53YNDR0QIXShbCpC4SVk+3syNH3/2KBkuWcylvjT8/Ise75l2bgxLqHu7J92YOtuj5LZiWZeS4dXrk9e9Sxs3Rk7Qy1OzqkvF37BFUzL81KNujJuqv/fS026UKekdvPoP9WDHbk3J8Af/807NnTgJ9PpIn5q4v75LSca+fzTkuwWoeacbcxYkr3uzB9xYucaDo/JBUkiX7oU/J9TJxOjJh924p463DBO/9ahBOGm7S3+d9K1HyXClci7I7LAhIea2Nte9VjUXLlwANm7VkDkT8PhDbkyYrpe167/dKF3CP5k199WPvvBg/wENt+aTLwym6ctUezXw7VwPFi1NXveWj7mVfBpByvbLaj1ev/fSqfZKKUi/li9ZIsMdnvLex+b7pHZ1l/rFRO5j6SePNXFD2Ko+ZeIv7Pf9A+z+S0PuXEC9u1K+j0XgpD8bQdp8/qLkffnRJm7VR4wg/dW4j83XNd/H5Uq71AzYyjV6fv3fT6fuUyO89OZ1JcNyH0tbpxREhru/pfdRGcOkz27bod/HUm5jDOv+HzdK3OEt36cDPYlj2N213In38X86uDHENIat+0NLvI/li6ghEO+8kU6Nf0YwxjC5hlwrtfBq7+uJ97GMs8YYZu6/5n5dvYpLzQrLfezvGCYy/FEvbx+VcV3KJ8F8H+fNA/R93RtPxurlCfdg9mwuSNunFGTsF34Skt7HwnvZyuR9XsYw6ZtGGDPZkziGmetu/kySMUzGe+M+lmsZY5i5z4sAHjiExDHsvvpuTP9OL5+5PRvd48LWP0Ue9fu4ehXvGPasaZx/5EE3flmtj2G33+ZSExXGfWz+LGzxiBvzfvTg3HmRUhfky4UxhpnrIWOYjEm+goxx3f6nt5PEl3w3b9Pv40/fTn3M+WywR93HIsMN73arcUeC+fNYvtjJ2GyEuT96MG9hyvfxspUeNTkkX/JEhn9arsczs5QxbPYPHjXOyn38Qmdv3tJeQ77Wy9CplRvSh40QSc8x+WqPSHzfsgzLMonnnnsOS5YsQd68eSOxbn6XaezYsejQoQOyZ8+OatWqYdq0aciTJ0+a6SnDyWX42En9xi6U30UZTug9oZThb2bqg2SjeyjDxs0romME+ZJCGdZpRJMMfzncu1RAvnClFiJZhv39MIoGGV6yIkHWm3m/3FCGvf1y737vmCO/JBmTXfKlNi0Z3ndAT5cjm4sy7O8N42A8yzI8ZMgQJcPmtbUOlivkWclWaufOnfN7BwzK8I0yLDNPRpBZU/lgkpDWzPDzndxqdsAIMuNkhFiaGT50RJ9xTDoz3G+ozqhapRtnhl962svy8FENA0bqHz4y+2BegvHHJi1xZvj9nunU7EVKIZ5nhv0dSDgznJxUpMwM+9uGsSLDxk/xVSq4bviFJ+nM8KZtujwVv90Vspnh1H7dogyn/CVNZsrlly8Jacmw/NogvzoY4b9vX+fMsL83vkPxLMvwnj171G4Rd999N1q0aKF2kDAHOYQjGk+j85erIcMbtnhnLWTdabwuk0gqwx99oYteqRKpL5N49Tk3ihVN+SeuWJFhf/vTx196EpdJ9PnvjT+vvt/PK8Pyk5wRZAmNsUwimmVYZs+N0O3Z1Gf+zCyTLpOQ5R4Smt5/4zIJf/lThinD/iz1srpMwt9+mFY8Y8mcxHmgoVv9xJ9SCOYyiXDKsHz5lyDLCIwliHaWSRgzuB/3dnaZhLlNKMNO9PzQ5GFZhmfNmoVHH019e55o2WfYKuaU1ufIekvKcHKi8jNnSmuGKcNeVlZl2FiH+NYr0TszbOUeNMuwfEDLmmw7gTJMGY50Gfa3f4sMb9+li+MTzbzPOjixZjhcMmxeHiNrfQeN1r/8BiLD8hCdEVL7IpGUsZU1w5Rhf3tqZMWzLMNXrlxJc8cFWXNrCGNkVdmZ0lCGU18mkZQwZdh3n7Miw75z1WNE+jIJf+thjkcZTv4gVaw+QOdv/4iFZRL+1tXfePJwtzGLGs8y7C8vyrBVUtGfzrIMG1WfO3eu2o5MTm6TQyoeeeQRVK3qx14nUc6OMkwZ9mc3CX+7OWXYX1J6PMpwaGTY2DFCdssJ124S/vaMcMnwF8P0JWGVy3vX/ifdTcLfOjgdjzJsj2gwZ4ZfeyH1JWFcM2yv3ayktiXDTz/9NEaOHKmuW6pUKfz555/qbzl8Q6Q4lgNlmDIcazJsXo987AQSt9EL9tZqVsYJyrB/Mnz4iE735WfdAW+tlrRdvhrhCcvWav72j3DIcNKyGV9qI1WGjS35cufU9xkOdGu1aF0m4W8fCuXMMGXYaqsEJ51lGf7ll1/UfsKDBw9G+/bt1Wlthw4dwltvvYUpU6bg1KlTcMsj9DEaKMOU4ViTYdnn0wiy566xpzRlWF+fGG37DJv3J006DPuztVrSNOYHuPLklsNWdC7B3mfY348QynByUuaZYdk/WHaoMILsV0sZTrt3ReLMsLFdZOnicnAQ9xn2d3zwFc+yDMspc1999RW2bdt2w9pgOXyjcOHC2LJlC8qWLevr+lH7PmWYMkwZdubQDSuDQKzODO/YrdOQQ2jM+5NaOXTDaRk2t5Mc/mBXhrNkNp38dV5L9dANf/sHZZgy7G9f8TdepMlwWuXmoRv+tmrK8SzLsHFQhZzgJie2GUFOo5Nt1WTrNTmRLlYDZTh8MnzshHdT8xzZIvsEOn/7fySsGebMcHhPoDP3FTmNUPqEBKsn0EW6DDe9z/tLxHc/eCjD/g4WAcRzYmbYfDk5Gc4I5lM0g73PsN3dJAJAdkNUyrBVctGXzrIMywNzhQoVwj333IN27dqhTJkyWLFiBeQwDpHjNWvWxP1uEuZNtH9YrDl6HHOF0t5ZFfPBFUm7YKiOYzbvM5y0DE7vJmE+ylSObI7k45j9HRLSkuH9/3hz8efo0aTX9Hc3CcqwLsPdTXsdX7sOfDEsNMskKMP6l9ykxzH7ew9xZjg4M8NmATZfgTKsjwtJj2M2M0prn2Era4bTuhc4M+zvSJFyPMsyLNktWrQIrVu3xpEjCU9pyIljdepgzJgxKF68uL2SRXhqXzPD/+noRsWyXmEdOMrjqAybZ1XSQhUrMmzeI7JaZS/XWJFhY32utGXn1s6utacM+x5MhP+583o88yzU1WtAt//puwUEe81wIDIsM34SnnrUjWFj9Q/lpFurRdvM8JlzOoHGDdzIk9t3myWNQRkOvQyvWO09MGfzNkDk79Z8QPUqbsxZoL/3bHs3hib00UcedOOX1R4cPQ51+miJO4BFS/W+LF/GjaVBIuDzftTvydIlXDfck1b2GQ68N+kpODNslVz0pbMlw1LdY8eOqYflRIjlxLnq1avH9INzRhNThkO3TKJnNzcKFUj5pLpYkeFgDh2UYet0I1GGzbXZsVuDcYJfNMuw9RbypqQMh1aGk15Njh2mDN9IhTPDTtzZocnDlgy///77aveIs2fPIlu2bGjTpg12796NL7/8EjVq1AhNDcJ0FcqwNRnu8JR31jNzJvh1HDNl2F4npwxb50cZTpmdEw/Q+fvrlr+tRxlOWYalrSTUu8tlaTeJ1JZJUIa5TMLfezMa4lmW4b///hu33XYbevfujZ49eyJTpkxqBwmRY3lv9erV0VB/y2WkDFuT4bTOgTc3hqwDlllfCZRhy91UJaQMW+dHGaYM16nlwrHjUEfKy3MgH/VKl2qHirR9htPq+f5urUYZ1pDzZqDh3W512I+EZzq4MWwMZdj6yBp5KS3L8KhRozBw4ECsXbv2hlrJcon8+fNj165d6kS6WA2UYcqwk1urBfM+oQxbp0sZpgzHqgzL2lsjnD0HjJuqy53sRzx8nP53/X+5QBmmDFsfQaMnpWUZnjFjBpo3b46kW6vJ0cz16tXDX3/9hdtvvz16SARYUsowZZgyHDv7DKd2+1OGKcOxKsPmll25RqMMp9DV5QG66/rzs6hWycWZ4QA9KZqiW5ZheXBOZn7Lly+PJ554AuXKlcPKlSsxfvx45MuXD3JCnSGM0QTE37JShv2X4TW/e2cgzCfmpMWayyT87Ym+43Fm2DcjynBgjLhmOGVe0bRMIlQy/HzndJDjqY0waNT1qNlNwsxIdr3gMonAxoloim1ZhqWSmzdvVlurbdiwIbHODz74IIYOHarWE8dyoAz7L8NW+gFl2Aq1lNNQhq2z5MwwZ4bjYWb4wCHvhMXFS8Dng51bJtHr1XRquzUj9P0/yvAdRVzgPsPWx+VgpLQlw0aBzp8/rx6aK1iwILJnzx6MckZcnpRhyjCXSXCZhHzRkPBMe+9+v/fUcWHfP8DuvzTkziVP8bsxc573wZsff9bFo3Rx4KFGKe8pndYJdObBMBq2Vjt6XK9vpbIuDEl46KjJ/S5wN4mI+1hTBbpwAfjv2/raACfWDFOGvSdJLlvpwfETAGU48vq+LRmWGeF169ahY8eO+PHHH9G3b18lxLLlWsmSJSOvtg6WiDJMGaYMU4YDleE3urpRpFDKe2abh6dYkWE5Tc4IR44Bb3+iSxZl2MEPI4ezogynDJTLJBzuaBGWnWUZPnjwIEqXLo0qVapgwYIFap1wgQIF1MEb165dw7Zt27hmOMkJdCdO6jMk99RxY/KMhNN5TKfuNLzbhT37gD37NHUCU93aN84oGVu5BPJBEgkn0Fnp81wmYYVaymlidZnE3v16feXEvptzOMfLnJPTyyRiSYZXr9fHs0cay0liXsH/dKAncQwLlwzLGGkE2RZt5AR9vJW+Ypz2KM8vXLkCyJfaDOmBVs3dGDslYUeFtm4MH6//HQ/LJMx9njJMGQ7OaBrZuVqW4cmTJ+Pll1/Gnj17sHTpUsha4d9++w233nqrWi/M3SRuPI7Z3A3MD5+Yj6CkDHspUYadGzhiUYado5N2TpThwElHggz/p6N3+cnvm7TErcIow77bkzJMGfbdS2IvhmUZ7tevH+bMmYNFixbhpZdewpQpU3Do0CGcPn0auXLlwo4dO1CiRInYI5ZQo0CXSYRLhmWjeCPIDMiSFfq/zXtJmo9xLV/GhWxZgVVr9XhPt3VjRMIMifmDpFplLpPgMonwLZMI1cBCGQ6cdFoy/MlAfZmErKsO5pphynDg7WakoAxThq33nuhNaVmG58+fjyZNmmD06NHo2rUrOnTogHfeeUedSDdz5kzs35/wG2b0skmz5NEiw+ZKTJ3toQzLw07t3BiWsKl8uyfdEC6XLgMVy7qQJTNg/Pxr/iLQpY078afWmlVdKj5lmDIcr2uG0xocU5PhYH8UmI9jpgxbp00Zpgxb7z3Rm9KyDMu6YNlWberUqWq/YTlsQ5ZLtGrVCiNGjECXLl2il4ofJacMc2aYMkwZpgwnHywpw5raV7fv66kf2+zHR0zYolCGKcNh63xhvLBlGTbKfObMGeTIoT+9IqfRyTKJokWLhrFKobk0ZZgyTBmmDFOGKcNmAtF66Ia5DpRhynBoLCqyrmJbhiOrOqErDWWYMkwZpgwHU4Y3b9PHs/Tpgfvrp7wdW7j2GeYyiZQJUIY1dcBG9SpuzFmg78bBfYa5z3DozMz6lSjDFtlRhinDhgy3ecL75Lo8fFimpO99ZC12O0vJuJuEJWwqUbgeoPO3xCLDsluChIL5XZgxzwM5QaxcaRde6JzygR4S96U3r8PjAeRBWHkw1snAZRJcJkEZ1u+o/Qc0fPQFZdjJ8SVYeVGGLZKlDFOGDRnu915krw2kDFu8yaNAhpPW7LU+1+NWhkU8jHBbQe8XUm6tFlj/5zKJlHnx0I3A+lG0xbYsw8ePH1dHMFeuXPmGOl+4cAGzZ8/GI488gixZskQbD7/LSxmmDFOGuUwiWMsk/B6IkkQ0DvORl1s+Fl8zw6kxowwH1psow5ThwHpMbMQOWIavXLkCTdOU8H7xxRdqn2EjyOsrV65EgwYNsGvXLrXLRKwGyjBlmDJMGY40GfZ3vI3FZRKUYX9bP+14Tsnwmt8TTvNrl06tIzZC3/+7jqPHgdtvk5MLAZlxlWA+gKrFI27M+9GDc+eB0iVc6Ppv7xe7zds0DBqt592+hRu1qoVmWRpnhp3pX5GaS8Ay/PTTT2PkyJFp1id79uyQmeMMGTJEar1tl4syTBmmDFOGKcPJh9JwrRmmDNv+WFMZOCHD8tBcaoEyDNxRxIXXXkj9l5v/vn1dtYOvtf9mxik5iTM9Ij5yCViGRXJ//vlnrFq1Sh2u8eGHH95ASrZZK1++PAoUKBDTBCnDlGHKMGWYMkwZNhPgbhL6bhKUYb1X8AG66NHAgGXYqNqJEydw4MABVKhQIeJrK8s3DHl1qrCUYcowZZgyTBmOHxk2amr+yT5p7SnDgclwrTu9Sxxy5QSGjtGXP3CZBGeGnXI1f/OxLMNygblz5+Kbb77BqVOn4JF9ekxh8uTJyJYtm7/lCEo8Wc/cp08frFixAo899hhGjRqFnDlzJrtWz549MW7cuMTXy5YtiwULFqRZJspw/MnwsRPeLrFnr5Z4HHO87SZxc3Yvh7x5XJgwXb/3RRJkfV8shUjfWs0qa64Zlr1wXbhyRT9WPUN6oFVzN8ZOSVjn2taN4eP1v+vUcqF1c/+2n6MMBybDr7/o5br7Lw2fDaYMS5/jMgmrI5v1dJZleNOmTahYsaJ6SK5mzZrInDnzDaUYMGAAsmbNar1kNlMePHgQpUuXRr9+/VC/fn1069YNuXLlukF6jUtI+Zs1a6Ye/JMgu2BUq1aNMgzg6bZujEj4UJD9SEdN1Acr2Z/0+nWoPU7lg6T/+85uL7ZgiYZZ8/Vr9ezmRqECKUuWxJG4EswPYDzezI0ff/bg9BmgZDEXCt4K/PyLHu+Zdm4MG6fn3e5JN6bO9uDSZaBiWReyZAZWr9fjmesuf1et6C2DzGDE68ywPLRihF9Wa5Rh6VPt3Rg2Vu9T99RxYd8/gHy4584F1LvLjZnz9Pfe6OpGkULh/8JAGaYMp/YBF8o1w5ThlFth/iLvNoEP3uvfeME1w/ak0bIMDxo0CG+//Tb++uuviNxCbfTo0fj000+xefNmRWj16tWoVasWrl69ivRypFNCkH9nzJgRIveXL19WR0nnzp3bJ1XODFOGKcMAZViXXMqwd8iMxQfoODPs8yNRHS4ha2QDWTNMGfbN1d8YlGF/SaUcz7IMy/KIrl27QmZg3W7/fkKyV9TkqWXd8t69e5O9UaRIEQwcOBDr1q1TD/lJkPXNhQoVwuHDh5Evn3efF2OGW3bAOHv2rIo7Z84cNG3aNM3iUoYpw5RhyjDXDCcfJinDPIHO3wfo4lGGZeb91nxp7yZhxZUow1aoedNYluGTJ0+ievXq6Ny5M9q0aaOWIJgfUpNdJYIdZJ1v+/btk11GZoVln+Pdu3djwoQJ6n0pr8z4Jt3/WHbFkHXF/fv3R/78+dGjRw+sX79ezSQbYciQIcmu8dxzz6nXzl28mvje+o3ApGn6TxqdWmsoWzplAr/+BsyYo8fr2ErD15P0v+veBezdD+z7G+rn1do1NMxboL/XoZWGMQnx7m+g4f57Aqc7a54LK1bp6dq31DB2sp734w9rmLvAhUuX5ChhQFa3rP1dj9euhYZxU/R4bZ7UMGGq/nflClDLJDZtBWSi/YNe3p91Ai9Z8hSLlwPzF+rX6v68hgL5U85V4kjcpIyaNdbw8woXzpwFihWVwUfELaFOLTWMS6h7i0dlOYYLly/LNjZA5kzAug16vLYtNIxPqHu7pzRULOctg7TF5m2A7B74/lvO1t0JfuY8ps92YdXahLo/pWHcNzrXpx7TMP07F65dA8qX0fuYEf7YhMS2NnOoVkVPZ4TV64Bps/T8numgoUSMbS0ubHq+q9evelVAvi9v3wnIqrCmjTQIW9X3WmoYk9Cn6tQC/jkI/LUPkIeC7qrpvY9fflZDoYJOt3Dg+fV426WOY5b7WO5rJ8OA4a7EMaxHN2fztlJOGaOMsc48hlWtCFy5CnUfyxj2eDMN38zQ27OdaYyoVU0fI/0JXwx14Z8DQJ7cwBsv+5fGn3xDGefCReCq92MNN/v5UT58rPfn/H+3T73uH3/hwvETwG2FgJee8caT+2XQSD2PR5tqWLjYhfMXoMYUGVuMsG0HMGq8dwyTMSkUYekvwJwfkn8eN6wHNL435foeOAj0H6KnadJIwz11glfSbFn0rWxlwwCGwAlYluH58+ejSZMmqV5RZm1FkIMZpNGTPrgn15OZajkQ5KefflKHg0jYv38/ZMb4/PnzuOmmm1It1vbt21GmTBns2LEDJUqUUPGmT5+eLP4TTzyhXrtw6Vrie+s3ABOm6f/s3EaXq5SCyPD07/R3OrUGRk/U/66XIMN7E2T4rhrA3ITn+Dq2Ar6epMdr1ED/L9Awcx6wfKWeqkMrYExCfk88DMxZAF2GSwHZbgLWJMhw+6eAsd/oadq2AMZP0f+uIjLsATZu0T9IPuodaGnSjv/TMmDeQj3Oqy8gVRmWOBI3KcuHHwSWLIeS4eJ36DJsfBHo0BIYM1lP89RjgHBJlOHMwLo/9PfMdZe/K5X3llnazJDhD3s5W3enc5s2G1i5JqHdTXVv2RyQ9wwZlr5ohN83edu6XQtgXEK7V68CSDojiGRPnaX/69mOsj7b6dKHNz9h0+MdvQw1qgJnzgHbd+gy/FAjnZ8E8/15d23g7wNeGf5XTe993O0/QOEIkOHX+0LJsNzHcl87Gb4aBhhjWM/uTuZsLS8Zo4z73TyGVa0E9QCdIcMyDk7+Nvl9Urs6IO/5E/oP0dv+ltxAj27+pIi/OB/1B+Rh5CKFgK7PeusvMjxghP7vx5oCCxYDl6/Inrz62GKEbX8CI8br/5KxSMakUISff9HbVkLl8t7P43vrAQ/el3IJ5Etxv8H6e00bAQ3uDl5Jb8qsL/+kDFtjbFmGDx06hLVrE6abUrh2o0aNwnrohizj6N27N0RuJSxbtkwtfThz5swNpV26dKlaTiEP2Ekwlk0cPXoUt9xyS6pUU1smMfsHfQ3hkw+71QNZKYVlNb6ogwAAIABJREFUKzUYx6bKQ18XL3pjyXt79mlqZqFube+DN890cGNYwrYzTe53oel9gS9NkQfFlqzQvzX+u50bwxMeIpP1cDPmeXDxkswQupAtK7BqbfKHyPgAHR+gk9Oe+ACdph60fKyJG1wmkXyE4zKJ6F4mYU0l/E9lPnQjrWUS9f+V8udnuE6gM9dQTtCTekho3NCFZg+k/HmcdJ/h++v79zCc/zS9MblMwgo1Ez/N5teI06dPq4fU5EE02XNYdpUI5y4SRtWMZRELFy5Uu0S0bt1abas2dOhQJciy1liEfevWrShXrpw6RES2VOvevbtaSrF48eI0ydrpeGYZ7v4fN0rc4b1BzB8klGHuJmHv9tZTi7CtWJX8S5BI7aRvPZDtwyqVc6ndOIyw9g8tceeQLm3cGDlBbwvKMLBlO2U4rX4ZCzL8fCc3ypbyjsv+PhYTC1urOTHmpJUHZTg4hO04SXBKFF25Wp4ZlmrKXsLPPPOMevCsYcOGkHW0IpMTJ05E3bp1w05i7Nix6NChA+ThONkqbdq0aciTJ4/abk3WARuzxh9//DE+//xzHDlyBKVKlVLxZNu4tIKdjhdtMjztO12Emjfl1mpGn+DWajoJ7ibB3SSSjpOxIMMvdHaro3ADDZRh38Qow74ZWYlhx0msXC/W0liW4Z07d6JkyZJ48cUX1Uzwb7/9hkmTJqkH6vbs2ZO4pVm4gcmM9blz53yuX5a1x3LUdN68ef0qsp2OF00yLPsHyz7CRnjhDf2nIe4zzH2GKcNcJpHSYEkZ5jIJKzPDskzPHGQpUkqByyRS5mLHSfySnhiPZFmGZbmBrMndt2+fkmDZ2UFOfJO1trJ1mSxDkAfWYjXY6XiUYd+9godu+Gbkbwwuk/CXVPJ4gZxANzrhQBo5sYyHbujPPbzzhrOH8VhpSTkYyHg+wvzcQ1on0HFm2App/9KkNjPsX2p54FHDoNH6LzKy1EuWboU6cM1wqIkH/3qWZXjEiBGJh26ICBsyvHHjRlSqVEmtxZVdGWI1hEqGL1/W13reVtgVlgfoIn1mWLZGMsK+vzX0G6IPkjyBzsuFMmx9FPJXhrs961YnHRpBjpXlCXSUYes9L3ZTUoaD07Z2nCQ4JYquXC3LsPHg2SuvvKLW5Mo2Zu+8844S5C1btuCff/654aS36MLiu7R2Op6/M8PmWZUjx4C3P9GXKIRyN4lIl2FzS+3dr+H/BlCGk/ZeyrDv+zm1GCLDvT7U7zvZaUW26kvpATrKsJcgl0lwmURadxxl2Pp4lFZKO04SnBJFV66WZViqKQ+hGYdPGNUWMZYT3OrVqxddJAIsrZ2OFw0yLPtvSujQ0h3Ra4Ypw747LmXYNyN/Ywwc5aEM+4BFGaYMU4Z1Atxazd+RNfzxbMmwauz9+7Fy5Uq1E0PhwoWVBAf7sI3wY0PiaXtWdqaLdBmWbYVSC8bau3Tp9BPoZD2ePGAnM8hOBn/XDFOGfVOnDPtm5G8MyrBvUpRhyjBlmDLse6SIrBi2ZVh2apAlEUmD7DQhJ8HFaojlmeG0ZNjcniLGlGGg33vOfhFw+p5xQoYPHPIe8flQI+99HetbqyVtC8qw795JGaYMU4Ypw75HisiKYVmGr127hhYtWmDGjBkp1igUxzGHEyVlGOoJbcpw5MuwrHE1gjxwaMzu+3vohpxWWKVCyk9sU4b1NepcM+wdjSnDlOF4kOE/d3rHVdlBJqXAZRLhtLTArm1ZhufPn48mTZpADraQk9vSye/mpiA7SiR9LbCiRXZsyjBleMMWDRkzRL4Mm+8kEWOZ3ZRAGQ58jOHMsG9mlGHKcKzLsO+7gDPD/jKKlHiWZXj48OHo379/xByuEWqglGFdhk+f0cm/9oKzS2K4Zjg4PZoybI8rZdg3P8owZZgyTBn2PVJEVgzLMiyHasiRxaNGjUKzZs2QKVOmyKpZkEtDGQ4uYMpwcPhShu1xpQz75kcZpgxThinDvkeKyIphWYavX7+Ojh07Yvz48apGxYoVu6Fm69atw8033xxZtXWwNJRhB2GmkBVlODh8KcP2uFKGffOjDFOGKcOUYd8jRWTFsCzDcsjGvffeiwcffBC1a9dOdsCGHMaROXMqh4tHFgNLpaEMW8LmdyKrMmycQPfwg278+LO+jENOBit4K/DzL/oDD8+0c2PYOH3dbLsn3Zg624NLl4GKZV3IkhlYvV6P93RbN0aM1+PJ31Ureh+SGDrGA64ZBvgAne8H6J582LuEKOfNQJFCoT8+NumN99Kb1+HxANUquyBHFDsZKMOU4WDL8IlT+hXkmY1wHMfs7/3CB+j8JRX+eJZleODAgfj888+xa9eu8NciDCWgDAcXuhUZTlqinu9fpwwngcKZYXv91srM8Ls9Im/rPcowUL2KC3K4kHyplb3SWzV3Y+wU/cvNC53dKFc68C8tH3/pwb5/KMPBlGF7d3BoU1OGQ8vbztUsy7ActNGoUSPs3LkT+fLls1OGqExLGQ5us1GGg8PXaRk2ZtGltDdnB0qXCFwgglPT4OQaKzI8c54ufRIebcKZYcpwcO6XlHK1exxz6Epq/0qUYfsMQ5WDZRnes2cP7rvvPsihGyLFhQoVSjyVTQrfq1cv3HTTTaGqR8ivQxkOLnLKcHD4Oi3DwSll5OYaKzIcTMJcJsGZYc4M6wQow8EcaZzN27IML1myBK+++mqqpVm8eDFy5MjhbGkjKDfKcHAbgzIcHL6UYXtcKcO++a39w3sYgaxJDneQg4GMg2ZkffSoifqsOJdJhKdlODMcHO52nCQ4JYquXC3LcHRV0/nS2ul4y1ZqmDxDH5C7/8eNEnd4PzBSm1U5cgx4+5PrKk2T+11oel/gP23Kg2JLVugfVHKqmPEB0bq5GzPmeXDxElC+jAv+HsfsPFVvjk7IsPkn/L/2aXyADgBl2F6vpQzb4xeO1JThcFBP/ZqU4eC0hx0nCU6JoitXWzJ88OBBLF++HLLnsEceTTaFrl27cjeJVPoCZdj3TeKEDJuvMmWWhzJMGfbd8XzEoAzbRhjyDCjDIUee5gUpw8FpD8qwPa6WZfjQoUOoXLkyjhw5guzZsyfbU3jTpk3cZ5gybLl3UoYto0szIWeG7XGlDNvjF47UlOFwUOfMsBDgmuHI6ntplcayDE+YMAFt27bF77//rqQ43oKdb2GcGfbdWyjDvhlZiUEZtkLNmyYQGd67X8PNOYBI3FrNHoXoSk0Zjqz2kuV4RpB93WM5UIajp3Uty/CwYcMwdOhQrF27Nnpq62BJKcMOwkwhK5Hhy5f19c13VnKhUAF7D+JwmYQOmTJsr98mleHDx/Q+Kge2yOEuDJFHgDIceW0SLyWiDEdPS1uWYTlso0SJEpCT6Bo0aBA9NXaopJRhh0CGKBuZjTdCjmy44QS6y1e8hZAH7XgCHSA7AhhP3cvDllUqUPSkl5hl+NO3I+8wjRDdTlF1GZHhg4f1Iue7BdxNIqpaL7oLSxmOnvYLSIZPnjyJBx54ILF2v/32mz7A5MuHwoULI10674fDjz/+yK3VUukHXCYR3htk2w4NX43wHsdcu7pX9MZM9lCGQRlOrYdO/877oPDjzQLf0SW8PZ9XFwIvvKHvysOt1dgfgk2AMhxsws7lH5AMywEb7777rl9X79OnDw/dsCDDm7d5ZzBlmzMjxNvWan51MouRKMO60LVv4cakbz24eg2oVM6FZzt45Y4zwxY7F5NFPIFgyvD2nd7xO9ZPY4z4ho6AAlKGI6AR/CxCQDKcNM9r166pZRJyAp0EOWijQoUKyJs3r5+Xj95owVomkRoRyrBzfSWeZXj3X94PayH65XDKsHM9izlFA4FgynA01J9lDB0BynDoWNu9ki0Zbty4MX744QccO3YMefLkQZs2bTBx4kSMHTsW7dq1s1u2iE5PGY7o5kmzcPEsw0nBdPvfdc4MR29XZsktEKAMW4DGJJYIUIYtYQtLIssyvGHDBrWl2sKFC3Hfffepwl++fBmfffYZBg8ejH379sEQxrDULMgXpQwHGXAQs6cMe+FShoPY0Zh1RBKgDEdks8RkoSjD0dOslmV44MCBGD9+PH799dcbanv69GnkzJkTGzduVEsmYjVQhqO3ZSnDlOHo7b0suV0ClGG7BJneXwKUYX9JhT+eZRmWtcL33nsvZIu1YsWKJdZk0qRJaN26NY4ePYpbbrkl/DUMUgkow0ECG4JsKcOU4RB0M14iQglQhiO0YWKwWCLDJ095KyYPKgcr2HGSYJUpmvK1LMMXLlxA3bp1sW7dOjRt2lTNAi9fvhwrVqxA586dMXLkyGjiEHBZ7XS8tLZWS60gfIAu4CZKNQFl2Ium+1v6NlNlSnI3Ced6GHOKZAJmGX6okXcHFXm4dOwUfaeVFzq7Ua508MQlkvmwbNFJwI6TRGeNnS21ZRmWYpw9exZvv/22EuDNmzejTJkyaNGiBV566SVkypTJ2ZJGWG52Oh5lOLyNSRn2zZ9bq/lmxBjRScAsw51aeWV41VrKcHS2KEstBOw4CQkCtmQ4ngHa6XiU4fD2HF8yvH6jvv1Yh5ZujBivzxQ93daNqhW9M0VDx3iwYYuGjBmAfu/F3klklOHw9lFePXgEKMPBY8ucw0fAjpOEr9SRc+WAZFgO3XjvvffUsohcuXKpB+hSC7179466Qzc8Hg80TbvhJL3U6men41GGw3sDpCXD5pLJMa7Dx1GGeRxzePsrr+4sAcqwszyZW2QQsOMkkVGD8JYiIBmW45hlG7XXXnsNBQsWxCuvvJJq6eUAjhw5coS3dgFcXUS4ZcuWKFeuHPr27eszpZ2ORxn2iTeoESjDvvFyZtg3I8aITgKU4ehsN5Y6bQJ2nIRsbSyT2L59O4YMGaLE8eabb45qlrJnco8ePTB//nzIMdKhkOFv5yQ8qNHFjRJ3+H5Qgw/QOdfFKMO+WVKGfTNijOgkQBmOznZjqSnDwewDAc0MmwsiB2s8//zzOH/+fNQth0gK9OGHH0bNmjWxdetWlCxZMugybKVBKcNWqKWchjLsmyVl2DcjxohOApTh6Gw3lpoyHMw+YFmGt23bpgTyv//9L1q1aoVbb731hhPnsmbNGsxyB5T3iRMnsHfv3mRpihQpoo6RvnTpEjJnzoxOnTrh9ttvpwx38j5hHRDoKIlMGfbdUJRh34wYIzoJUIajs91YaspwMPuAZRmWJQVNmjRJtWwioPKQXSSEcePGoX379smKMnr0aHTs2DHx9dRkuG3btsnSTpgwQb12/MzlkFTx+Amg/yB914IG9TQ0rKcvswgkzP3BjZW/6UsyWj3hwaRpuvQ+0tSDH35049JloFQJDe1aBp53IOUId9xde1z4eoJe98eaeXBnZX33iKRhyzZXIqOWj3tQvqw33oQpbmz704UMGYDeb+h79cZS2LjFhSnf6oykr5QrkzKjWKoz6xIfBHol7P5SqYKGJx/1jnXrN7jw7Wy9z7dv5UHJ4uzz8dEjYqOWeXLo29nKJgAMgROwLMMHDx7E6tWrU72iiHIGMYUICNI55AG5pMHtdt8wm52aDB8+fDhZWpkJl3D9emjEUZZJvPuZfq0H73Ohyb2+1xknLfS07zT8/It+ozzd1oUR4/W/Wz7mwqz5Gi5egtpo/rmOgecdAc3sdxG27dQwcKRe9zZPuFC7Wsr1/WOzlsioSxsXqlTwxhs2TsPGhK3VPnsn9mbS123QMHqSt69ULh/bfcLvzsOIUU/gpTf1cbR6ZRc6tPT261XrNIyfqvf55zu5ULYU+3zUN3YcVSBdOv1ziDJsrdEty7C1y0V2Ki6TAMqXceF5LpNQHZVbq+nSwK3VInvcYukCI8BlEoHxYuzoIMDdJOy1ky0Znjt3Lr755hucOnUq2czr5MmTkS1bNnulC3FqyjBl2NzlKMOU4RAPQbxcCAhQhkMAmZcIOQHKsD3klmV406ZNqFixIooVK6YepJMH0MxhwIABiKSH6PzB1KVLF8hDdbK9mq8Q6o7H3SR8tYj/7/MBOt+s+ACdb0aMEZ0EKMPR2W4sddoEQu0ksdYelmV40KBBePvtt/HXX38hS5YsscbFZ31C3fEowz6bxO8IlGHfqCjDvhkxRnQSoAxHZ7ux1JThYPYByzIsyyO6du0KeZBOHkSLt0AZjt4Wpwz7bjvKsG9GjBGdBCjD0dluLDVlOJh9wLIMy9HM1atXR+fOndGmTRu1jZohiFLgaDqK2QpgyrAVapGRhjLsux0ow74ZMUZ0EpD73whlSpp2k1irYeyUhJNBO7vVzjoMJBAtBELtJNHCxd9yWpbhaNpn2F8YgcQLdcfjMolAWiftuJRh3ywpw74ZMUZsEVhFGY6tBo2z2oTaSWINr2UZPnToENauXZsqj0aNGkXMPsPBaLRQdzzKsHOtSBn2zZIy7JsRY8QWAZHhM+f0OhW6Vd9znYEEooVAqJ0kWrj4W86AZfjatWtInz59qvmfOXMGW7ZsUUso0ornbwEjNV6oOx5l2LmeQBn2zZIy7JsRY5AACZBApBAItZNESr2dKkdAMnzkyBHkz58fK1euRK1atVQZ+vbti9q1a6Nx48bq38uXL0fdunURSccxOwXLnE+oOx5l2LlWpAz7ZkkZ9s2IMUiABEggUgiE2kkipd5OlSMgGZZjieUY4l9//VUJsITy5curh+heffVVyrBTrZJCPpRh5+BShn2zpAz7ZsQYJEACJBApBCjD9lqCMmyRX6g7HmXYYkOlkIwy7JslZdg3I8YgARIggUghEGoniZR6O1UOyrBFkqHueJRhiw1FGbYEjjJsCRsTkQAJkEBYCITaScJSySBelDJsEW6oOx5l2GJDUYYtgaMMW8LGRCRAAiQQFgKhdpKwVDKIF7Ukw/PmzVO7RUiQtcPt2rXDCy+8oP4t64kfeeQRPkDncKNRhp0DymUSvllShn0zYgwSIAESiBQClGF7LWFJhv25JHeT8IeS/3Eow/6z8hWTMuyLECAyPC7hNK6OrdyoUoF7rvqmxhgkQAIkEB4ClGF73AOS4UuXLmHatGl+XbFFixbImDGjX3GjMVKoOx5l2LleQhl2jiVzIgESIAESCD+BUDtJ+GvsbAkCkmFnLx3duYW641GGnesvlGHnWDInEiABEiCB8BMItZOEv8bOloAybJFnqDseZdhiQ6WQjDLsHEvmRAIkQAIkEH4CoXaS8NfY2RJQhi3yDHXHowxbbCjKsHPgmBMJkAAJkEBEEgi1k0QkBBuFogxbhBfqjkcZtthQlGHnwDEnEiABEiCBiCQQaieJSAg2CkUZtggv1B2PMmyxoSjDzoFjTiRAAiRAAhFJINROEpEQbBSKMmwRXqg7HmXYYkNRhp0Dx5xIgARIgAQikkConSQiIdgoFGXYIrxQdzzKsMWGogw7B445kQAJkAAJRCSBUDtJREKwUSjKsEV4oe54lGGLDUUZdg4ccyIBEiABEohIAqF2koiEYKNQlGGL8ELd8SjDFhuKMuwcOOZEAiRAAiQQkQRC7SQRCcFGoSjDFuGFuuNRhi02FGXYOXDMiQRIgARIICIJhNpJIhKCjUJRhi3CC3XHowxbbCjKsHPgmBMJkAAJkEBEEgi1k0QkBBuFogxbhBfqjkcZtthQlGHnwDEnEiABEiCBiCQQaieJSAg2CkUZtggv1B2PMmyxoSjDzoFjTiRAAiRAAhFJINROEpEQbBSKMmwRXqg7HmXYYkNRhp0Dx5xIgARIgAQikkConSQiIdgoFGXYIrxQdzzKsMWGogw7B445kQAJkAAJRCSBUDtJREKwUSjKsEV4oe54lGGLDWVThtf8rqkcqlV2oWpFV2JuQ8d4sGGLhowZgH7vpXOucMyJBEiABEiABAIkEGonCbB4ER+dMmyxiULd8SjDFhvKhgyndUXKsHPtwZxIgARIgATsEQi1k9grbeSlpgxbbJNQd7xgy/C8RR5FolABF57v5LZIJTqSbduh4asRen3bPelG7ereGV9/a0AZ9pcU45EACZAACQSbQKidJNj1CXX+lGGLxEPd8ZyW4ec6uXFTZm/lixUNXAgtogt7Mspw2JuABSABEiABEnCQQKidxMGiR0RWcSHDHo8HmqYhXTrn1naGuuM5LcMf906HbFkjog+GvBCU4ZAj5wVJgARIgASCSCDUThLEqoQl65iXYRHhli1boly5cujbt2+KkHv27Ilx48Ylvle2bFksWLAgzQYJdcejDDt3f1CGnWPJnEiABEiABMJPINROEv4aO1uCmJbhDRs2oEePHpg/fz769OmTqgzXrFkTzZo1Q4MGDRTdLFmyoFq1apRhZ/taxORGGY6YpmBBSIAESIAEHCBAGbYHMaZl+OGHH4aI7tatW1GyZMkUZfjq1avImDEjNm3ahMuXL6No0aLInTu3T6qh7nicGfbZJH5HoAz7jYoRSYAESIAEooBAqJ0kCpAEVMSoluETJ05g7969ySpcpEgR5MmTB5cuXULmzJnRqVMn3H777SnKsEhwxYoVkT17dpw9e1blNWfOHDRt2jQx3x07diS7RqlSpdRrV6/puxIEO4gM79yj73kr4V81An/gbfocDdev6+mb3u9C1puCXerIzH/7Tg2DRuksWz/uQq1qgbMcMU7Dxq36PsOfvB3bu29EZiuyVCRAAiRAAgaBDOn1zyF5PoohcAJRLcOyzrd9+/bJaj169Gh07Ngx8fW0ZHjVqlVqCUX//v2RP39+taxi/fr1WL16dWL6559/Ptk1Bg8erF47efZy4NSZIqwEdu52YfQEfeB4/GEP7qwc+OAxfoobW7e7kCED0LdHwjeMsNaKFycBEiABEohXArmyZ6IM22j8qJZh+QYkD8glDW63G8ZPBvJeWjKcNO327dtRpkwZyGxwiRIlUkXLnyRs9LowJ+UyiTA3AC9PAiRAAiTgKAE6iT2cUS3D/lY9LRleunQp1q1bh27duqnsjGUTR48exS233EIZ9hdyFMUTGb54yVtg8zHL/laDh274S4rxSIAESIAEgk2AMmyPcFzKsMz+ylrjRo0aqYfrZNs1WS4hW6p1794du3btwuLFi9Mky45nr+MxNQmQAAmQAAmQgDME6CT2OMaFDHfp0gXyUJ2sDZbQr18/DBkyBCLFEj7++GN8/vnnOHLkCOTBuGnTpqmH6tIK7Hj2Oh5TkwAJkAAJkAAJOEOATmKPY1zIsD+IZO3x8ePHkTdvXn+iJ65J5pObfuFiJBIgARIgARIggSARoAzbA0sZtsiPHc8iOCYjARIgARIgARJwlACdxB5OyrBFfux4FsExGQmQAAmQAAmQgKME6CT2cFKGLfJjx7MIjslIgARIgARIgAQcJUAnsYeTMmyRHzueRXBMRgIkQAIkQAIk4CgBOok9nJRhi/zY8SyCYzISIAESIAESIAFHCdBJ7OGkDFvkx45nERyTkQAJkAAJkAAJOEqATmIPJ2XYIj/zcc8Ws2AyEiABEiABEiABEnCMALd7tYaSMmyNW+I+wxaTMxkJkAAJkAAJkAAJOEqAMmwNJ2XYGjemIoGIINCzZ0889thjqFGjRkSUh4UgASHw0EMPYfr06ciUKROBkEBEENixY4c6fXbQoEERUR4WIrIIUIYjqz1YGhIIiABlOCBcjBwiApThEIHmZfwmQBn2G1VcRqQMx2Wzs9KxQoAyHCstGVv1oAzHVnvGQm0ow7HQisGrA2U4eGyZMwkEnQBlOOiIeQELBCjDFqAxSVAJUIaDijfqM6cMR30TsgLxTIAyHM+tH7l1pwxHbtvEa8kow/Ha8v7VmzLsHyfGIgESIAESIAESIAESiEEClOEYbFRWiQRIgARIgARIgARIwD8ClGH/ODEWCZAACZAACZAACZBADBKgDMdgo7JKJEACJEACJEACJEAC/hGgDPvHibFIICoIyOlDPCo8KpoqJgp57do1pE+fPlld0uqH7KMx0fQRXYnU+mVahWa/jOgmDXrhKMNBR8wLkIAzBGTniHHjxiVmVrZsWSxYsED9e8CAAep0paNHj+LFF1/Ee++9B7fb7cyFmQsJpEBg9erVqFWrFi5cuIAsWbKoGH/99Re6deuGWbNm4c4778SYMWNQoUIF9d6iRYvQp08frFixQp2aOGrUKOTMmZNsScBRAjIWTp48GcuXL0/Ml2Ono4hjMjPKcEw2KysViwRq1qyJZs2aoUGDBqp6IiDVqlVTQvzEE09g7ty5yJAhA9q0aQMZ/Lt06RKLGFinMBO4dOkShg4dil69euHs2bOJMuzxeFCvXj1UqlQJPXr0wJAhQ9SXt127duH48eMoXbq0+sJWv359Jcy5cuW64ctdmKvFy0c5gcOHD+ODDz7Al19+iTp16twgwxw7o7xxQ1B8ynAIIPMSJGCXwNWrV5ExY0Zs2rQJly9fRtGiRZE7d26Vbfv27XHLLbfg888/V//+7LPP8MMPPyTOGtu9NtOTgJmAzLi98soreP311/Hkk08myrDs41qqVCkcOXIEefPmxZUrV5ApUyYlJX/++Sc+/fRTbN68WWVlzCpLv05pmQWJk0CgBD788ENs3bpV/RIxe/bsRBnm2BkoyfiMTxmOz3ZnraOMgEhwxYoVkT17djUbJ2HOnDlo2rSpmo17/PHH8fLLL6vXp06dir59+yaKR5RVlcWNcAIiufILxO7du1GiRIlEGV6yZIn61ULWXhqhePHiSoI3btyIdevWYebMmeqtAwcOoFChQpDZvHz58kV4jVm8aCAgv1hkzpwZY8eOxbBhwxJlmGNnNLRe+MtIGQ5/G7AEJOCTwKpVq9R6y/79+yN//vzqZ+j169erGba77roLnTt3xr///W+VjyyXkH+LaDCQQLAIyPIHswwby3XOnDmTeElZxiNLImRmWOR5woQJ6r2TJ0+qXzYkj2LFigWriMw3DgkklWGOnXHYCSxUmTJsARqTkEC4CWzfvh1lypSB/DQtP1l3TgYWAAAKfUlEQVTLjFz37t1VseThkS+++AK//vpruIvJ68cwgaQyvHbtWlSvXj3ZzLCsL5bZuZ9++kn9fC1h//79KFKkCM6fP4+bbrophimxaqEmkFSGk16fY2eoWyQ6rkcZjo52YinjnMDSpUvVz8wyyybB+OlPdo/o3bs30qVLh6+++kq99/7776v3J02aFOfUWP1gEkgqw//88w8KFy4M+X/BggXV8omsWbOq5TqyTEL6qYiIhGXLlqklPuZZ5GCWlXnHD4GkMsyxM37a3k5NKcN26DEtCYSIgDwYUq5cOchPfrKlmswCi4wsXrxYbVklW1VJHJllk9k52VqtVatWISodLxOPBJLKsDC4++670bBhQ7zzzjsYOHCgerJfvpidO3dOLYtYuHCh+hWjdevWals1mTVmIAEnCSSVYY6dTtKN3bwow7HbtqxZjBH4+OOP1Y4R8rS+PLU/bdo09VCdbGklewsPHjxYPWAnW6sNGjSIh2/EWPtHWnVkDbA8IHfx4kX14JIEWSrRpEkT9VqBAgXUPsO1a9dW74mkdOjQQfVRWUss/TdPnjyRVi2WJ8oJyHZ+8iXLvM8wx84ob9QQFJ8yHALIvAQJOEVAxFf2bJWtq5IGmX2Tgza4BtMp2szHCgHZTUKW76S0S4RscyX9VPYYZiCBUBLg2BlK2tF3Lcpw9LUZS0wCJEACJEACJEACJOAQAcqwQyCZDQmQAAmQAAmQAAmQQPQRoAxHX5uxxCRAAiRAAiRAAiRAAg4RoAw7BJLZkAAJkAAJkAAJkAAJRB8BynD0tRlLTAIkQAIkQAIkQAIk4BAByrBDIJkNCZAACZAACZAACZBA9BGgDEdfm7HEJEACJEACJEACJEACDhGgDDsEktmQAAmQAAmQAAmQAAlEHwHKcPS1GUtMAiRAAiRAAiRAAiTgEAHKsEMgmQ0JkAAJkAAJkAAJkED0EaAMR1+bscQkQAIkQAIkQAIkQAIOEaAMOwSS2ZAACZAACZAACZAACUQfAcpw9LUZS0wCJEACJEACJEACJOAQAcqwQyCZDQmQAAmQAAmQAAmQQPQRoAxHX5uxxCRAAiRAAiRAAiRAAg4RoAw7BJLZkAAJkAAJkAAJkAAJRB8BynD0tRlLTAIkEEICx48fx+HDhxOv6Ha7kTVrVhQuXBgul8t2SU6dOoVDhw6hTJkyyfJK6z3bF2YGJEACJEACigBlmB2BBEiABNIg8PHHH6NHjx7JYhQrVgxDhw7FfffdZ4vfuHHj0L59e2iahvPnz+O1117Diy++iPLly8P8nq2LMDEJkAAJkECqBCjD7BwkQAIk4IcM79ixQ8W6fv26minu06cP1q5di3379iFnzpyWGe7evRurV69Gy5YtsXXrVpQrVw5//PEHKlWqBPN7li/AhCRAAiRAAmkSoAyzg5AACZCAHzIsM7fmMGPGDDRv3hxLlixB/fr1sWvXLrz55pv4+eefkS1bNjz55JNKmLNkyYJLly7hueeew7x581QWtWrVQv/+/SGzy3PmzFHxfvrpJ9SsWRN//vmnel1mpDNnzpwo3ZJu8eLF6NWrFzZs2ICSJUuqGeROnTqpPCUPWbZx9OhRTJs2TQn6yy+/jOeff57tSwIkQAIkkAYByjC7BwmQAAkEKMOXL19G586dMXHiROzduxe5c+dG5cqVce7cObzxxhvqtS+//BIdO3bE6NGj8dFHHylRHj58uFpv/NZbb6FQoUJYunRp4lIIyfOrr75SyyREhEW0f/3118QlFCLAco0777xTCe6sWbPw3XffqfzlOiLFX3/9NerUqaP+PXPmTMydOxebN29Ws80MJEACJEACKROgDLNnkAAJkIAfMtyiRQsV6+zZs5g/f776W4R45MiRmDx5Mlq1aqVmbu+55x71Xu/evfHuu+9i//796Nu3L5YtW6bkVsR55cqVakmECOz/t3f/rth+cRzATzEpFhOLgf/AxGCT/BiVyWZQImUzsxBlkWwsouzyYzQz2hhIGQwGFunpc+rWne/3kfOMx+uUgftcN+d17uHd6X1dmnvBX2sSza/FyfLOzk4O3BGoYwwMDKSnp6d8Kh3vdXx8nCsccRodN+V1dXWlo6OjfEptECBAgIAw7DNAgACBYoHGDXSjo6P52niaRE9PTxocHMwBOL6P0+C1tbX09vaWqw0xIvwODQ3l+kP0jIeHh/PPx8fH86lvhOuoU/w0DPf396fOzs50enr6uYbV1dV8yvz6+ppPi+/u7nIgjxG1jvjb9vb28umyQYAAAQLCsM8AAQIEigUaYfhrZ7j5jeJpE9vb2ykehRYBNMbV1VWuNDQ6xfH9wcFB/rq/v8/VhfjZ4eHhZxXiu5PhCMO9vb35pLcxolaxsLCQQ3icHEdfODrIjREdYmG4eMtdQIDALxNQk/hlG265BAiUCfwkDEd9IcLo9fV17vXG2NzcTEtLS7m2cHJyktra2tLk5GT6+PjIdYe5ubn8FImbm5v/hOHG+zSfGk9NTeV6xvPzc2ptbc2/Y2JiIt3e3uZecNQkhOGyvTWbAAECISAM+xwQIEDgG4GfhOFGP3dkZCT3hB8eHtL8/Hzu7EbgXVlZyTWKuKEtTnfjSRLr6+u57xtBufGc4ej+9vX1pY2NjVzBOD8//3wtgvDY2FhaXFxMs7Oz6ezsLP+O5eXlFHUJYdjHmAABAv8mIAz/m5urCBD4JQIRYqMT/F1NIiguLi7yUxyiAhEjusH7+/v5hrmXl5ccauMJEDHa29vT7u5ufrZw8+nv+/t7vgHv8vIy/6OPqFI0gnJct7W1lcNw4z1mZmZyqG5paflrGI6/YXp6+pfslmUSIECgXEAYLjdzBQECBP4qEKfEHR0duRbxdcSTKCIYd3d3f/uvnKN7HIE5Qu7XETfjPT4+5lPn/3vd1hAgQIBAmYAwXOZlNgECBAgQIECAQEUCwnBFm2kpBAgQIECAAAECZQLCcJmX2QQIECBAgAABAhUJCMMVbaalECBAgAABAgQIlAkIw2VeZhMgQIAAAQIECFQkIAxXtJmWQoAAAQIECBAgUCYgDJd5mU2AAAECBAgQIFCRgDBc0WZaCgECBAgQIECAQJmAMFzmZTYBAgQIECBAgEBFAsJwRZtpKQQIECBAgAABAmUCwnCZl9kECBAgQIAAAQIVCQjDFW2mpRAgQIAAAQIECJQJCMNlXmYTIECAAAECBAhUJCAMV7SZlkKAAAECBAgQIFAmIAyXeZlNgAABAgQIECBQkYAwXNFmWgoBAgQIECBAgECZgDBc5mU2AQIECBAgQIBARQLCcEWbaSkECBAgQIAAAQJlAsJwmZfZBAgQIECAAAECFQkIwxVtpqUQIECAAAECBAiUCQjDZV5mEyBAgAABAgQIVCQgDFe0mZZCgAABAgQIECBQJiAMl3mZTYAAAQIECBAgUJGAMFzRZloKAQIECBAgQIBAmYAwXOZlNgECBAgQIECAQEUCwnBFm2kpBAgQIECAAAECZQLCcJmX2QQIECBAgAABAhUJCMMVbaalECBAgAABAgQIlAkIw2VeZhMgQIAAAQIECFQkIAxXtJmWQoAAAQIECBAgUCbwB+usAqSLFSoxAAAAAElFTkSuQmCC",
      "text/html": [
       "<div>                            <div id=\"cdea460b-f12c-4b43-8545-5dc4828e4bab\" class=\"plotly-graph-div\" style=\"height:360px; width:540.0px;\"></div>            <script type=\"text/javascript\">                require([\"plotly\"], function(Plotly) {                    window.PLOTLYENV=window.PLOTLYENV || {};                                    if (document.getElementById(\"cdea460b-f12c-4b43-8545-5dc4828e4bab\")) {                    Plotly.newPlot(                        \"cdea460b-f12c-4b43-8545-5dc4828e4bab\",                        [{\"marker\": {\"color\": [\"#6A76FC\", \"#6A76FC\", \"#6A76FC\", \"#6A76FC\", \"#6A76FC\", \"#6A76FC\", \"#6A76FC\", \"#6A76FC\", \"#6A76FC\", \"#6A76FC\", \"#FD3216\", \"#FD3216\", \"#6A76FC\", \"#6A76FC\", \"#6A76FC\", \"#6A76FC\", \"#6A76FC\", \"#6A76FC\", \"#6A76FC\", \"#6A76FC\", \"#6A76FC\", \"#6A76FC\", \"#6A76FC\", \"#6A76FC\", \"#6A76FC\", \"#FD3216\", \"#6A76FC\", \"#6A76FC\", \"#6A76FC\", \"#6A76FC\", \"#6A76FC\", \"#6A76FC\", \"#6A76FC\", \"#6A76FC\", \"#6A76FC\", \"#6A76FC\", \"#6A76FC\", \"#6A76FC\", \"#6A76FC\", \"#6A76FC\", \"#FD3216\", \"#6A76FC\", \"#6A76FC\", \"#6A76FC\", \"#6A76FC\", \"#6A76FC\", \"#6A76FC\", \"#6A76FC\", \"#6A76FC\", \"#6A76FC\", \"#FD3216\", \"#6A76FC\", \"#6A76FC\", \"#6A76FC\", \"#6A76FC\", \"#6A76FC\", \"#6A76FC\", \"#6A76FC\", \"#6A76FC\", \"#FD3216\", \"#FD3216\", \"#FD3216\", \"#FD3216\", \"#6A76FC\", \"#FD3216\", \"#FD3216\", \"#FD3216\", \"#6A76FC\", \"#6A76FC\", \"#FD3216\", \"#6A76FC\", \"#6A76FC\", \"#FD3216\", \"#6A76FC\", \"#6A76FC\", \"#6A76FC\", \"#6A76FC\", \"#6A76FC\", \"#6A76FC\", \"#6A76FC\", \"#6A76FC\", \"#6A76FC\", \"#FD3216\", \"#6A76FC\", \"#6A76FC\", \"#FD3216\", \"#6A76FC\", \"#6A76FC\", \"#6A76FC\", \"#6A76FC\", \"#FD3216\", \"#6A76FC\", \"#6A76FC\", \"#6A76FC\", \"#6A76FC\", \"#6A76FC\", \"#6A76FC\", \"#FD3216\", \"#6A76FC\", \"#6A76FC\", \"#6A76FC\", \"#6A76FC\", \"#6A76FC\", \"#6A76FC\", \"#6A76FC\", \"#FD3216\", \"#6A76FC\", \"#6A76FC\", \"#6A76FC\", \"#6A76FC\", \"#6A76FC\", \"#6A76FC\", \"#6A76FC\", \"#6A76FC\", \"#6A76FC\", \"#FD3216\", \"#6A76FC\", \"#6A76FC\", \"#FD3216\", \"#6A76FC\", \"#6A76FC\", \"#FD3216\", \"#6A76FC\", \"#6A76FC\", \"#6A76FC\", \"#6A76FC\", \"#FD3216\", \"#6A76FC\", \"#6A76FC\", \"#6A76FC\", \"#6A76FC\", \"#6A76FC\", \"#6A76FC\", \"#6A76FC\", \"#6A76FC\", \"#6A76FC\", \"#6A76FC\", \"#6A76FC\", \"#6A76FC\", \"#6A76FC\", \"#6A76FC\", \"#6A76FC\", \"#6A76FC\", \"#6A76FC\", \"#6A76FC\", \"#FD3216\", \"#FD3216\", \"#FD3216\", \"#6A76FC\", \"#6A76FC\", \"#FD3216\", \"#6A76FC\", \"#6A76FC\", \"#6A76FC\", \"#6A76FC\", \"#FD3216\", \"#6A76FC\", \"#6A76FC\", \"#6A76FC\", \"#6A76FC\", \"#6A76FC\", \"#6A76FC\", \"#FD3216\", \"#6A76FC\", \"#FD3216\"], \"line\": {\"width\": 0}}, \"type\": \"bar\", \"x\": [2, 3, 4, 5, 6, 7, 8, 9, 10, 11, 12, 13, 14, 15, 16, 17, 18, 19, 20, 21, 22, 23, 24, 25, 26, 27, 28, 29, 30, 31, 32, 33, 34, 35, 36, 37, 38, 39, 40, 41, 42, 43, 44, 45, 46, 47, 48, 49, 50, 51, 52, 53, 54, 55, 56, 57, 58, 59, 60, 61, 62, 63, 64, 65, 66, 67, 68, 69, 70, 71, 72, 73, 74, 75, 76, 77, 78, 79, 80, 81, 82, 83, 84, 85, 86, 87, 88, 89, 90, 91, 92, 93, 94, 95, 96, 97, 98, 99, 100, 101, 102, 103, 104, 105, 106, 107, 108, 109, 110, 111, 112, 113, 114, 115, 116, 117, 118, 119, 120, 121, 122, 123, 124, 125, 126, 127, 128, 129, 130, 131, 132, 133, 134, 135, 136, 137, 138, 139, 140, 141, 142, 143, 144, 145, 146, 147, 148, 149, 150, 151, 152, 153, 154, 155, 156, 157, 158, 159, 160, 161, 162, 163, 164, 165, 166], \"y\": [-0.05903827253797709, -0.5225775011012225, -0.15207832133694926, -0.2879200102066062, -0.968849715535961, -0.5167499134664589, -0.8320388905988028, -0.5769300311141693, -1.4894001814628053, -0.15166116633623386, 0.14278455763886067, 0.09305950125540982, -0.30458876599820134, -1.4916512047308719, -1.4288636270603186, -1.4248180637255714, -0.6022202819075158, -0.5462688888125455, -0.6140722732344068, -0.6620679159013149, -0.037867137389863005, -0.06554640528888933, -0.23527158997240286, -0.1876129052474586, -0.04473533603748429, 0.01160341436813343, -0.7996435397219404, -0.16491592326304255, -0.1447744571279137, -0.5714334518272783, -0.6994607559597122, -0.7509396198479558, -0.8100243912641745, -1.5237087866594032, -0.8101565563767714, -0.9338114884950672, -1.3988809254855517, -0.4476331537649112, -1.5315986996348896, -0.364138372644266, 0.1448236118245423, -0.05444913173863911, -0.00899047919801917, -0.05408999348816301, -0.1687109205440554, -0.045220123634810844, -0.15352197331252976, -0.04637244849262488, -0.07819253363866288, -0.042558972673865395, 0.03483998101997836, -0.6328640251955091, -0.8430463649745124, -0.9102638165572804, -0.10479067285166152, -1.2031690174741603, -0.6237641159677227, -0.4483472953034349, -0.7157252623186351, 0.2692310941338419, 0.24953916266662168, 0.36624867741571765, 0.04305641105294954, -0.06425465917786433, 0.03222344013692989, 0.07915581455236487, 0.19440121261124663, -0.2870355702667083, -0.06610540201565286, 0.04557990832323366, -0.03573242166793937, -0.019149969689934914, 0.09569791650796321, -0.16964376878370163, -0.15194587593043724, -0.5933927881989277, -0.8235671284571877, -0.8000188172376967, -0.5705855735441543, -0.7933341094090085, -0.6917923578014902, -0.2636997667036015, 0.09931081203035158, -0.13467836838853786, -0.35414899646215914, 0.03520778499329081, -0.17144646138666858, -0.3667700125738137, -0.3903896612713436, -0.11144205691475202, 0.10091352815529356, -0.7178712644751598, -0.00812574292538934, -0.005472354753945382, -0.09798642395849004, -0.1203870570774412, -0.2871022857966684, 0.08480618273715824, -0.7389294152701478, -0.26177320504488755, -0.3124301024640672, -0.13094653007152288, -0.16806679508691272, -0.016490738717658552, -0.04070800656178435, 0.007177465347986614, -0.019220084975432938, -0.3739956225882569, -0.28041247646655265, -0.8110091586908963, -1.077901827555794, -0.9006211468206218, -1.1035830374816382, -0.5241636558814493, -0.43902165567941964, 0.16352592770948396, -0.10065501753724163, -0.8317964476331131, 0.30942234697442256, -0.02712689985532992, -0.012630002592404191, 0.07570049786050179, -0.0525107552632614, -0.0011599790236551234, -0.06187016175735145, -0.05090338418285334, 0.03404288560478748, -0.07779662103732529, -0.19301990224872778, -0.11121734862457036, -0.21118718535117204, -0.24491360854637417, -0.49027256481713055, -0.14426369285921817, -0.04229913167138789, -0.16702180087879043, -0.497516168249049, -0.4050993458428893, -0.2330245062500808, -0.7825442163064669, -0.4352936714225567, -0.5481748411908344, -0.5120381301596725, -0.06624610236135968, -0.6929142086134531, 0.2688968590805122, 0.0429739483130473, 0.2744036579056251, -0.06788660628173204, -0.06626715246491684, 0.00012053481518156106, -0.018461763323689647, -0.22876547066840902, -0.5082528286033925, -0.6342567262831171, 0.17209152232445243, -0.03454100094202571, -0.8908822663734455, -0.4882233175375396, -0.09069036517019705, -0.037950113697305575, -0.45958971907022556, 0.0072754541074519, -0.1212153128028041, 0.10955120257807131]}],                        {\"font\": {\"color\": \"black\", \"family\": \"Arial, monospace\", \"size\": 12}, \"height\": 360, \"showlegend\": false, \"template\": {\"data\": {\"bar\": [{\"error_x\": {\"color\": \"#2a3f5f\"}, \"error_y\": {\"color\": \"#2a3f5f\"}, \"marker\": {\"line\": {\"color\": \"white\", \"width\": 0.5}}, \"type\": \"bar\"}], \"barpolar\": [{\"marker\": {\"line\": {\"color\": \"white\", \"width\": 0.5}}, \"type\": \"barpolar\"}], \"carpet\": [{\"aaxis\": {\"endlinecolor\": \"#2a3f5f\", \"gridcolor\": \"#C8D4E3\", \"linecolor\": \"#C8D4E3\", \"minorgridcolor\": \"#C8D4E3\", \"startlinecolor\": \"#2a3f5f\"}, \"baxis\": {\"endlinecolor\": \"#2a3f5f\", \"gridcolor\": \"#C8D4E3\", \"linecolor\": \"#C8D4E3\", \"minorgridcolor\": \"#C8D4E3\", \"startlinecolor\": \"#2a3f5f\"}, \"type\": \"carpet\"}], \"choropleth\": [{\"colorbar\": {\"outlinewidth\": 0, \"ticks\": \"\"}, \"type\": \"choropleth\"}], \"contour\": [{\"colorbar\": {\"outlinewidth\": 0, \"ticks\": \"\"}, \"colorscale\": [[0.0, \"#0d0887\"], [0.1111111111111111, \"#46039f\"], [0.2222222222222222, \"#7201a8\"], [0.3333333333333333, \"#9c179e\"], [0.4444444444444444, \"#bd3786\"], [0.5555555555555556, \"#d8576b\"], [0.6666666666666666, \"#ed7953\"], [0.7777777777777778, \"#fb9f3a\"], [0.8888888888888888, \"#fdca26\"], [1.0, \"#f0f921\"]], \"type\": \"contour\"}], \"contourcarpet\": [{\"colorbar\": {\"outlinewidth\": 0, \"ticks\": \"\"}, \"type\": \"contourcarpet\"}], \"heatmap\": [{\"colorbar\": {\"outlinewidth\": 0, \"ticks\": \"\"}, \"colorscale\": [[0.0, \"#0d0887\"], [0.1111111111111111, \"#46039f\"], [0.2222222222222222, \"#7201a8\"], [0.3333333333333333, \"#9c179e\"], [0.4444444444444444, \"#bd3786\"], [0.5555555555555556, \"#d8576b\"], [0.6666666666666666, \"#ed7953\"], [0.7777777777777778, \"#fb9f3a\"], [0.8888888888888888, \"#fdca26\"], [1.0, \"#f0f921\"]], \"type\": \"heatmap\"}], \"heatmapgl\": [{\"colorbar\": {\"outlinewidth\": 0, \"ticks\": \"\"}, \"colorscale\": [[0.0, \"#0d0887\"], [0.1111111111111111, \"#46039f\"], [0.2222222222222222, \"#7201a8\"], [0.3333333333333333, \"#9c179e\"], [0.4444444444444444, \"#bd3786\"], [0.5555555555555556, \"#d8576b\"], [0.6666666666666666, \"#ed7953\"], [0.7777777777777778, \"#fb9f3a\"], [0.8888888888888888, \"#fdca26\"], [1.0, \"#f0f921\"]], \"type\": \"heatmapgl\"}], \"histogram\": [{\"marker\": {\"colorbar\": {\"outlinewidth\": 0, \"ticks\": \"\"}}, \"type\": \"histogram\"}], \"histogram2d\": [{\"colorbar\": {\"outlinewidth\": 0, \"ticks\": \"\"}, \"colorscale\": [[0.0, \"#0d0887\"], [0.1111111111111111, \"#46039f\"], [0.2222222222222222, \"#7201a8\"], [0.3333333333333333, \"#9c179e\"], [0.4444444444444444, \"#bd3786\"], [0.5555555555555556, \"#d8576b\"], [0.6666666666666666, \"#ed7953\"], [0.7777777777777778, \"#fb9f3a\"], [0.8888888888888888, \"#fdca26\"], [1.0, \"#f0f921\"]], \"type\": \"histogram2d\"}], \"histogram2dcontour\": [{\"colorbar\": {\"outlinewidth\": 0, \"ticks\": \"\"}, \"colorscale\": [[0.0, \"#0d0887\"], [0.1111111111111111, \"#46039f\"], [0.2222222222222222, \"#7201a8\"], [0.3333333333333333, \"#9c179e\"], [0.4444444444444444, \"#bd3786\"], [0.5555555555555556, \"#d8576b\"], [0.6666666666666666, \"#ed7953\"], [0.7777777777777778, \"#fb9f3a\"], [0.8888888888888888, \"#fdca26\"], [1.0, \"#f0f921\"]], \"type\": \"histogram2dcontour\"}], \"mesh3d\": [{\"colorbar\": {\"outlinewidth\": 0, \"ticks\": \"\"}, \"type\": \"mesh3d\"}], \"parcoords\": [{\"line\": {\"colorbar\": {\"outlinewidth\": 0, \"ticks\": \"\"}}, \"type\": \"parcoords\"}], \"pie\": [{\"automargin\": true, \"type\": \"pie\"}], \"scatter\": [{\"marker\": {\"colorbar\": {\"outlinewidth\": 0, \"ticks\": \"\"}}, \"type\": \"scatter\"}], \"scatter3d\": [{\"line\": {\"colorbar\": {\"outlinewidth\": 0, \"ticks\": \"\"}}, \"marker\": {\"colorbar\": {\"outlinewidth\": 0, \"ticks\": \"\"}}, \"type\": \"scatter3d\"}], \"scattercarpet\": [{\"marker\": {\"colorbar\": {\"outlinewidth\": 0, \"ticks\": \"\"}}, \"type\": \"scattercarpet\"}], \"scattergeo\": [{\"marker\": {\"colorbar\": {\"outlinewidth\": 0, \"ticks\": \"\"}}, \"type\": \"scattergeo\"}], \"scattergl\": [{\"marker\": {\"colorbar\": {\"outlinewidth\": 0, \"ticks\": \"\"}}, \"type\": \"scattergl\"}], \"scattermapbox\": [{\"marker\": {\"colorbar\": {\"outlinewidth\": 0, \"ticks\": \"\"}}, \"type\": \"scattermapbox\"}], \"scatterpolar\": [{\"marker\": {\"colorbar\": {\"outlinewidth\": 0, \"ticks\": \"\"}}, \"type\": \"scatterpolar\"}], \"scatterpolargl\": [{\"marker\": {\"colorbar\": {\"outlinewidth\": 0, \"ticks\": \"\"}}, \"type\": \"scatterpolargl\"}], \"scatterternary\": [{\"marker\": {\"colorbar\": {\"outlinewidth\": 0, \"ticks\": \"\"}}, \"type\": \"scatterternary\"}], \"surface\": [{\"colorbar\": {\"outlinewidth\": 0, \"ticks\": \"\"}, \"colorscale\": [[0.0, \"#0d0887\"], [0.1111111111111111, \"#46039f\"], [0.2222222222222222, \"#7201a8\"], [0.3333333333333333, \"#9c179e\"], [0.4444444444444444, \"#bd3786\"], [0.5555555555555556, \"#d8576b\"], [0.6666666666666666, \"#ed7953\"], [0.7777777777777778, \"#fb9f3a\"], [0.8888888888888888, \"#fdca26\"], [1.0, \"#f0f921\"]], \"type\": \"surface\"}], \"table\": [{\"cells\": {\"fill\": {\"color\": \"#EBF0F8\"}, \"line\": {\"color\": \"white\"}}, \"header\": {\"fill\": {\"color\": \"#C8D4E3\"}, \"line\": {\"color\": \"white\"}}, \"type\": \"table\"}]}, \"layout\": {\"annotationdefaults\": {\"arrowcolor\": \"#2a3f5f\", \"arrowhead\": 0, \"arrowwidth\": 1}, \"coloraxis\": {\"colorbar\": {\"outlinewidth\": 0, \"ticks\": \"\"}}, \"colorscale\": {\"diverging\": [[0, \"#8e0152\"], [0.1, \"#c51b7d\"], [0.2, \"#de77ae\"], [0.3, \"#f1b6da\"], [0.4, \"#fde0ef\"], [0.5, \"#f7f7f7\"], [0.6, \"#e6f5d0\"], [0.7, \"#b8e186\"], [0.8, \"#7fbc41\"], [0.9, \"#4d9221\"], [1, \"#276419\"]], \"sequential\": [[0.0, \"#0d0887\"], [0.1111111111111111, \"#46039f\"], [0.2222222222222222, \"#7201a8\"], [0.3333333333333333, \"#9c179e\"], [0.4444444444444444, \"#bd3786\"], [0.5555555555555556, \"#d8576b\"], [0.6666666666666666, \"#ed7953\"], [0.7777777777777778, \"#fb9f3a\"], [0.8888888888888888, \"#fdca26\"], [1.0, \"#f0f921\"]], \"sequentialminus\": [[0.0, \"#0d0887\"], [0.1111111111111111, \"#46039f\"], [0.2222222222222222, \"#7201a8\"], [0.3333333333333333, \"#9c179e\"], [0.4444444444444444, \"#bd3786\"], [0.5555555555555556, \"#d8576b\"], [0.6666666666666666, \"#ed7953\"], [0.7777777777777778, \"#fb9f3a\"], [0.8888888888888888, \"#fdca26\"], [1.0, \"#f0f921\"]]}, \"colorway\": [\"#636efa\", \"#EF553B\", \"#00cc96\", \"#ab63fa\", \"#FFA15A\", \"#19d3f3\", \"#FF6692\", \"#B6E880\", \"#FF97FF\", \"#FECB52\"], \"font\": {\"color\": \"#2a3f5f\"}, \"geo\": {\"bgcolor\": \"white\", \"lakecolor\": \"white\", \"landcolor\": \"white\", \"showlakes\": true, \"showland\": true, \"subunitcolor\": \"#C8D4E3\"}, \"hoverlabel\": {\"align\": \"left\"}, \"hovermode\": \"closest\", \"mapbox\": {\"style\": \"light\"}, \"paper_bgcolor\": \"white\", \"plot_bgcolor\": \"white\", \"polar\": {\"angularaxis\": {\"gridcolor\": \"#EBF0F8\", \"linecolor\": \"#EBF0F8\", \"ticks\": \"\"}, \"bgcolor\": \"white\", \"radialaxis\": {\"gridcolor\": \"#EBF0F8\", \"linecolor\": \"#EBF0F8\", \"ticks\": \"\"}}, \"scene\": {\"xaxis\": {\"backgroundcolor\": \"white\", \"gridcolor\": \"#DFE8F3\", \"gridwidth\": 2, \"linecolor\": \"#EBF0F8\", \"showbackground\": true, \"ticks\": \"\", \"zerolinecolor\": \"#EBF0F8\"}, \"yaxis\": {\"backgroundcolor\": \"white\", \"gridcolor\": \"#DFE8F3\", \"gridwidth\": 2, \"linecolor\": \"#EBF0F8\", \"showbackground\": true, \"ticks\": \"\", \"zerolinecolor\": \"#EBF0F8\"}, \"zaxis\": {\"backgroundcolor\": \"white\", \"gridcolor\": \"#DFE8F3\", \"gridwidth\": 2, \"linecolor\": \"#EBF0F8\", \"showbackground\": true, \"ticks\": \"\", \"zerolinecolor\": \"#EBF0F8\"}}, \"shapedefaults\": {\"line\": {\"color\": \"#2a3f5f\"}}, \"ternary\": {\"aaxis\": {\"gridcolor\": \"#DFE8F3\", \"linecolor\": \"#A2B1C6\", \"ticks\": \"\"}, \"baxis\": {\"gridcolor\": \"#DFE8F3\", \"linecolor\": \"#A2B1C6\", \"ticks\": \"\"}, \"bgcolor\": \"white\", \"caxis\": {\"gridcolor\": \"#DFE8F3\", \"linecolor\": \"#A2B1C6\", \"ticks\": \"\"}}, \"title\": {\"x\": 0.05}, \"xaxis\": {\"automargin\": true, \"gridcolor\": \"#EBF0F8\", \"linecolor\": \"#EBF0F8\", \"ticks\": \"\", \"title\": {\"standoff\": 15}, \"zerolinecolor\": \"#EBF0F8\", \"zerolinewidth\": 2}, \"yaxis\": {\"automargin\": true, \"gridcolor\": \"#EBF0F8\", \"linecolor\": \"#EBF0F8\", \"ticks\": \"\", \"title\": {\"standoff\": 15}, \"zerolinecolor\": \"#EBF0F8\", \"zerolinewidth\": 2}}}, \"title\": {\"text\": \"Grouped by: mean\", \"x\": 0.5, \"xanchor\": \"center\", \"yanchor\": \"top\"}, \"width\": 540.0, \"xaxis\": {\"linecolor\": \"black\", \"linewidth\": 2, \"mirror\": true, \"showline\": true, \"ticks\": \"outside\", \"title\": {\"text\": \"Position\"}}, \"yaxis\": {\"linecolor\": \"black\", \"linewidth\": 2, \"mirror\": true, \"showline\": true, \"ticks\": \"outside\", \"title\": {\"text\": \"Enrichment score\"}}},                        {\"responsive\": true}                    ).then(function(){\n",
       "                            \n",
       "var gd = document.getElementById('cdea460b-f12c-4b43-8545-5dc4828e4bab');\n",
       "var x = new MutationObserver(function (mutations, observer) {{\n",
       "        var display = window.getComputedStyle(gd).display;\n",
       "        if (!display || display === 'none') {{\n",
       "            console.log([gd, 'removed!']);\n",
       "            Plotly.purge(gd);\n",
       "            observer.disconnect();\n",
       "        }}\n",
       "}});\n",
       "\n",
       "// Listen for the removal of the full notebook cells\n",
       "var notebookContainer = gd.closest('#notebook-container');\n",
       "if (notebookContainer) {{\n",
       "    x.observe(notebookContainer, {childList: true});\n",
       "}}\n",
       "\n",
       "// Listen for the clearing of the current output cell\n",
       "var outputEl = gd.closest('.output');\n",
       "if (outputEl) {{\n",
       "    x.observe(outputEl, {childList: true});\n",
       "}}\n",
       "\n",
       "                        })                };                });            </script>        </div>"
      ]
     },
     "metadata": {},
     "output_type": "display_data"
    }
   ],
   "source": [
    """"    import os\n",
    "    directory = os.getcwd()\n",
    "    new_directory = directory.replace('tests', 'main')\n",
    "    os.chdir(new_directory)\n",
    "\n",
    "    from code_create_objects import (hras_RBD)\n",
    "    os.chdir(directory)\n",
    "    plot_mean_plotly(hras_RBD())""""
   ]
  },
  {
   "cell_type": "code",
   "execution_count": 19,
   "metadata": {
    "execution": {
     "iopub.execute_input": "2020-12-07T06:56:07.645725Z",
     "iopub.status.busy": "2020-12-07T06:56:07.645437Z",
     "iopub.status.idle": "2020-12-07T06:56:07.665072Z",
     "shell.execute_reply": "2020-12-07T06:56:07.663959Z",
     "shell.execute_reply.started": "2020-12-07T06:56:07.645700Z"
    }
   },
   "outputs": [],
   "source": [
    "def plot_mean_plotly(\n",
    "    self, mode='mean', output_html: Union[None, str, Path] = None, **kwargs\n",
    "):\n",
    "    """\n",
    "    Generate a plotlu mean plot.\n",
    "\n",
    "    Parameters\n",
    "    ----------\n",
    "    self : object from class *Screen*\n",
    "\n",
    "    mode : str, default 'mean'\n",
    "        Specify what enrichment scores to show. If mode = 'mean', it will show the mean of \n",
    "        each position. If mode = 'A', it will show the alanine substitution profile. Can be \n",
    "        used for each amino acid. Use the one-letter code and upper case.\n",
    "        \n",
    "    output_html : str, default None\n",
    "        If you want to export the generated graph into html, add the path and name of the file.\n",
    "        Example: 'path/filename.html'.\n",
    "        \n",
    "    **kwargs : other keyword arguments\n",
    "\n",
    "    Returns\n",
    "    ----------\n",
    "    fig : plotly object\n",
    "\n",
    "    """\n",
    "    # update kwargs\n",
    "    temp_kwargs = copy.deepcopy(code_kwargs.kwargs())\n",
    "    temp_kwargs.update(kwargs)\n",
    "    temp_kwargs['figsize'] = kwargs.get('figsize', (4.5, 3))\n",
    "    temp_kwargs['x_label'] = kwargs.get('x_label', 'Position')\n",
    "    temp_kwargs['y_label'] = kwargs.get('y_label', 'Enrichment score')\n",
    "    temp_kwargs['title'] = kwargs.get('title', 'Filtered by: {}'.format(mode))\n",
    "    temp_kwargs['color_gof'] = kwargs.get('color_gof', '#FD3216')\n",
    "    temp_kwargs['color_lof'] = kwargs.get('color_lof', '#6A76FC')\n",
    "\n",
    "    # Chose mode:\n",
    "    df = _select_grouping(self, mode)\n",
    "\n",
    "    # Calculate colors\n",
    "    df['Color'] = df.apply(\n",
    "        code_utils._color_data,\n",
    "        axis=1,\n",
    "        args=(temp_kwargs['color_gof'], temp_kwargs['color_lof'])\n",
    "    )\n",
    "\n",
    "    # Create figure\n",
    "    #fig = px.bar(data_frame=df, x='Position', y='Score', color='Color')\n",
    "    #px.bar was switching colors when the first value of Score was negative\n",
    "\n",
    "    fig = go.Figure(\n",
    "        data=[\n",
    "            go.Bar(\n",
    "                x=df['Position'],\n",
    "                y=df['Score'],\n",
    "                marker_color=df['Color'],\n",
    "                marker_line_width=0,\n",
    "            )\n",
    "        ]\n",
    "    )\n",
    "\n",
    "    # Style\n",
    "    pio.templates.default = \"plotly_white\"\n",
    "\n",
    "    # UPDATE AXES\n",
    "    fig.update_xaxes(\n",
    "        title_text=temp_kwargs['x_label'],\n",
    "        showline=True,\n",
    "        linewidth=2,\n",
    "        linecolor='black',\n",
    "        ticks=\"outside\",\n",
    "        mirror=True,\n",
    "    )\n",
    "    fig.update_yaxes(\n",
    "        title_text=temp_kwargs['y_label'],\n",
    "        showline=True,\n",
    "        linewidth=2,\n",
    "        linecolor='black',\n",
    "        ticks=\"outside\",\n",
    "        mirror=True,\n",
    "    )\n",
    "\n",
    "    # Color and width of bars\n",
    "    #fig.update_traces(marker_line_width=0, )\n",
    "\n",
    "    # Layout and title parameters https://plotly.com/python/figure-labels/\n",
    "    fig.update_layout(\n",
    "        width=temp_kwargs['figsize'][0] * 120,\n",
    "        height=temp_kwargs['figsize'][1] * 120,\n",
    "        showlegend=False,\n",
    "        font=dict(family=\"Arial, monospace\", size=12, color=\"black\"),\n",
    "        title={\n",
    "            'text': temp_kwargs['title'], 'xanchor': 'center', 'yanchor': 'top',\n",
    "            'x': 0.5\n",
    "        }\n",
    "    )\n",
    "\n",
    "    # save fig to html\n",
    "    _save_html(fig, output_html)\n",
    "\n",
    "    # return plotly object\n",
    "    if temp_kwargs['return_plot_object']:\n",
    "        return fig\n",
    "\n",
    "    if temp_kwargs['show']:\n",
    "        fig.show(config = {'displayModeBar': False})\n",
    "\n",
    "\n",
    "def _select_grouping(self, mode):\n",
    "    """\n",
    "    Choose the subset of substitutions based on mode input.\n",
    "    For example, if mode=='A', then return data for Alanine.\n",
    "\n",
    "    """\n",
    "    # convert to upper case\n",
    "    mode = mode.upper()\n",
    "\n",
    "    # Select grouping\n",
    "    if mode == 'MEAN':\n",
    "        df = self.dataframe.groupby('Position', as_index=False).mean()\n",
    "    else:\n",
    "        df = self.dataframe.loc[self.dataframe['Aminoacid'] == mode].copy()\n",
    "\n",
    "    return df"
   ]
  },
  {
   "cell_type": "markdown",
   "metadata": {},
   "source": [
    "## 3D"
   ]
  },
  {
   "cell_type": "code",
   "execution_count": 159,
   "metadata": {
    "execution": {
     "iopub.execute_input": "2020-12-07T17:13:56.130215Z",
     "iopub.status.busy": "2020-12-07T17:13:56.129682Z",
     "iopub.status.idle": "2020-12-07T17:13:56.156357Z",
     "shell.execute_reply": "2020-12-07T17:13:56.155671Z",
     "shell.execute_reply.started": "2020-12-07T17:13:56.130186Z"
    }
   },
   "outputs": [],
   "source": [
    "def plot_scatter_3D_plotly(\n",
    "    self,\n",
    "    mode='mean',\n",
    "    pdb_path=None,\n",
    "    df_coordinates=None,\n",
    "    position_correction=0,\n",
    "    chain='A',\n",
    "    squared=False,\n",
    "    output_html: Union[None, str, Path] = None,\n",
    "    **kwargs\n",
    "):\n",
    "    \"\"\"\n",
    "    Generates a 3-D scatter plot of the x,y,z coordinates of the C-alpha atoms\n",
    "    of the residues, color coded by the enrichment scores. PDBs may have atoms\n",
    "    missing, you should fix the PDB before using this method. Use matplotlib\n",
    "    for interactive plot.\n",
    "\n",
    "    Parameters\n",
    "    -----------\n",
    "    self : object from class *Screen*\n",
    "        **kwargs : other keyword arguments.\n",
    "\n",
    "    mode : str, default 'mean'\n",
    "        Specify what enrichment scores to use. If mode = 'mean', it will use the mean of\n",
    "        each position to classify the residues. If mode = 'A', it will use the Alanine substitution profile.\n",
    "        Can be used for each amino acid. Use the one-letter code and upper case.\n",
    "\n",
    "    pdb : str, default None\n",
    "        User should specify the path PDB chain.\n",
    "\n",
    "    df_coordinates: pandas dataframe, default None\n",
    "        If no pdb is included, the user must pass the 3-D coordinates of the residues to plot.\n",
    "        In here you have more flexibility and you can select other atoms besides the C-alpha.\n",
    "\n",
    "    position_correction : int, default 0\n",
    "        If the pdb structure has a different numbering of positions than you dataset,\n",
    "        you can correct for that. If your start_position = 2, but in the PDB that same residue\n",
    "        is at position 20, position_correction needs to be set at 18.\n",
    "\n",
    "    chain : str, default 'A'\n",
    "        Chain of the PDB file to get the coordinates and SASA from.\n",
    "\n",
    "    squared : boolean, False\n",
    "        If this parameter is True, the algorithm will center the data, and plot the square value of the\n",
    "        distance.\n",
    "\n",
    "    output_html : str, default None\n",
    "        If you want to export the generated graph into html, add the path and name of the file.\n",
    "        Example: 'path/filename.html'.\n",
    "\n",
    "    **kwargs : other keyword arguments\n",
    "\n",
    "    Returns\n",
    "    ---------\n",
    "    fig : plotly object\n",
    "\n",
    "    \"\"\"\n",
    "\n",
    "    # update kwargs\n",
    "    temp_kwargs = copy.deepcopy(code_kwargs.kwargs())\n",
    "    temp_kwargs.update(kwargs)\n",
    "    temp_kwargs['x_label'] = kwargs.get('x_label', 'x (Å)')\n",
    "    temp_kwargs['y_label'] = kwargs.get('y_label', 'y (Å)')\n",
    "    temp_kwargs['z_label'] = kwargs.get('z_label', 'z (Å)')\n",
    "    \n",
    "    # Get Scores and colors\n",
    "    df = _color_3D_scatter(\n",
    "        self.dataframe, mode, temp_kwargs['lof'], temp_kwargs['gof']\n",
    "    )\n",
    "\n",
    "    # If coordinates is not an input, get it from the pdb\n",
    "    if df_coordinates is None:\n",
    "        df_coordinates = _parse_pdbcoordinates(\n",
    "            self, pdb_path, position_correction, chain\n",
    "        )\n",
    "\n",
    "    # Plot figure\n",
    "    x, y, z = ('x', 'y', 'z')\n",
    "    if squared is True:\n",
    "        x, y, z = ('x_cent', 'y_cent', 'z_cent')\n",
    "    fig = px.scatter_3d(\n",
    "        df_coordinates,\n",
    "        x=x,\n",
    "        y=y,\n",
    "        z=z,\n",
    "        color=df['Score'],\n",
    "        color_continuous_scale=_matplotlib_to_plotly(temp_kwargs['colormap'], ),\n",
    "        range_color=temp_kwargs['colorbar_scale']\n",
    "    )\n",
    "\n",
    "    # update axes\n",
    "    fig = _update_axes(fig, temp_kwargs)\n",
    "\n",
    "    # for the clickable part\n",
    "    fig.update_traces(\n",
    "        hovertext=df['Position'], hovertemplate='Position: %{hovertext}'\n",
    "    )\n",
    "    # title\n",
    "    fig = _update_layout(fig, temp_kwargs)\n",
    "\n",
    "    # save fig to html\n",
    "    _save_html(fig, output_html)\n",
    "\n",
    "    # return plotly object\n",
    "    if temp_kwargs['return_plot_object']:\n",
    "        return fig\n",
    "\n",
    "    # show only if asked\n",
    "    if temp_kwargs['show']:\n",
    "        fig.show(config = {'displayModeBar': False})\n",
    "\n",
    "\n",
    "def _update_layout(fig, temp_kwargs):\n",
    "    fig.update_layout(\n",
    "        font=dict(family=\"Arial, monospace\", size=12, color=\"black\"),\n",
    "        title={\n",
    "            'text': temp_kwargs['title'], 'xanchor': 'center', 'yanchor': 'top',\n",
    "            'x': 0.5\n",
    "        },\n",
    "        coloraxis_colorbar=dict( # modify colorbar properties\n",
    "        title = 'Fitness',\n",
    "        len=0.4,\n",
    "        thickness=15,\n",
    "        outlinewidth=2,\n",
    "        outlinecolor='rgb(0,0,0)',\n",
    "        showticklabels=True,\n",
    "        )\n",
    "    )\n",
    "    return fig\n",
    "\n",
    "\n",
    "def _update_axes(fig, temp_kwargs):\n",
    "    """Separeated this portion of the code because it is clumsy. It changes the\n",
    "    axes looks."""\n",
    "    # Layout and title parameters https://plotly.com/python/figure-labels/\n",
    "    fig.update_layout(\n",
    "        scene=dict(\n",
    "            xaxis=dict(\n",
    "                title_text=temp_kwargs['x_label'],\n",
    "                showline=True,\n",
    "                linewidth=2,\n",
    "                linecolor='black',\n",
    "                ticks=\"outside\",\n",
    "                mirror=True,\n",
    "                backgroundcolor='#9467bd',\n",
    "            ),\n",
    "            yaxis=dict(\n",
    "                title_text=temp_kwargs['y_label'],\n",
    "                showline=True,\n",
    "                linewidth=2,\n",
    "                linecolor='black',\n",
    "                ticks=\"outside\",\n",
    "                mirror=True,\n",
    "                backgroundcolor='#9467bd',\n",
    "            ),\n",
    "            zaxis=dict(\n",
    "                title_text=temp_kwargs['z_label'],\n",
    "                showline=True,\n",
    "                linewidth=2,\n",
    "                linecolor='black',\n",
    "                ticks=\"outside\",\n",
    "                mirror=True,\n",
    "                backgroundcolor='#9467bd',  #change the color of axis\n",
    "            )\n",
    "        )\n",
    "    )\n",
    "    return fig"
   ]
  },
  {
   "cell_type": "markdown",
   "metadata": {},
   "source": [
    "# PDB properties"
   ]
  },
  {
   "cell_type": "code",
   "execution_count": 12,
   "metadata": {
    "execution": {
     "iopub.execute_input": "2020-12-07T06:54:38.943552Z",
     "iopub.status.busy": "2020-12-07T06:54:38.943297Z",
     "iopub.status.idle": "2020-12-07T06:54:38.953628Z",
     "shell.execute_reply": "2020-12-07T06:54:38.953036Z",
     "shell.execute_reply.started": "2020-12-07T06:54:38.943534Z"
    }
   },
   "outputs": [],
   "source": [
    "def plot_scatter_3D_pdbprop_plotly(\n",
    "    self,\n",
    "    plot=['Distance', 'SASA', 'log B-factor'],\n",
    "    mode='mean',\n",
    "    pdb_path=None,\n",
    "    custom=None,\n",
    "    position_correction=0,\n",
    "    chain='A',\n",
    "    output_df=False,\n",
    "    output_html: Union[None, str, Path] = None,\n",
    "    **kwargs\n",
    "):\n",
    "    \"\"\"\n",
    "    Generates a 3-D scatter plot of different properties obtained from the PDB.\n",
    "    PDBs may have atoms missing, you should fix the PDB before using this\n",
    "    method. We recommend you use matplotlib for interactive plot.\n",
    "\n",
    "    Parameters\n",
    "    -----------\n",
    "    self : object from class *Screen*\n",
    "        **kwargs : other keyword arguments.\n",
    "\n",
    "    plot : list, default ['Distance', 'SASA', 'log B-factor']\n",
    "        List of 3 elements to plot. Other options are 'Score' and Custom. If custom, add the\n",
    "        label to the third element of the list ie ['Distance', 'SASA', 'Conservation'].\n",
    "\n",
    "    mode : str, default 'mean'\n",
    "        Specify what enrichment scores to use. If mode = 'mean', it will use the mean of\n",
    "        each position to classify the residues. If mode = 'A', it will use the Alanine substitution profile. \n",
    "        Can be used for each amino acid. Use the one-letter code and upper case.\n",
    "\n",
    "    pdb_path : str, default None\n",
    "        User should specify the path PDB.\n",
    "\n",
    "    custom : list or dataframe or np.array, default None\n",
    "        If you want to add a custom dataset to plot, use custom. On the parameter\n",
    "        plot, the 3rd item of the list will be the label for your custom dataset.\n",
    "\n",
    "    df_color : pandas dataframe, default None\n",
    "        The color of each residue can also be included. You must label that label column.\n",
    "\n",
    "    color_by_score : boolean, default True\n",
    "        If set to False, the points in the scatter will not be colored based on the enrichment score.\n",
    "\n",
    "    position_correction : int, default 0\n",
    "        If the pdb structure has a different numbering of positions than you dataset,\n",
    "        you can correct for that. If your start_position = 2, but in the PDB that same residue\n",
    "        is at position 20, position_correction needs to be set at 18.\n",
    "\n",
    "    chain : str, default 'A'\n",
    "        Chain of the PDB file to get the coordinates and SASA from.\n",
    "\n",
    "    output_df : boolean, default False\n",
    "        If true, this method will return the dataframe with the data.\n",
    "        Set return_plot_object for this to work.\n",
    "\n",
    "    output_html : str, default None\n",
    "        If you want to export the generated graph into html, add the path and name of the file.\n",
    "        Example: 'path/filename.html'.\n",
    "\n",
    "    **kwargs : other keyword arguments\n",
    "\n",
    "    Returns\n",
    "    ---------\n",
    "    fig : plotly object\n",
    "\n",
    "    df_items : pandas dataframe\n",
    "        Contains the plotted data. Needs to have output_df set to true.\n",
    "\n",
    "    \"\"\"\n",
    "    # Update kwargs\n",
    "    temp_kwargs = copy.deepcopy(code_kwargs.kwargs())\n",
    "    temp_kwargs.update(kwargs)\n",
    "    temp_kwargs['x_label'] = kwargs.get('x_label', plot[0])\n",
    "    temp_kwargs['y_label'] = kwargs.get('y_label', plot[1])\n",
    "    temp_kwargs['z_label'] = kwargs.get('z_label', plot[2])\n",
    "\n",
    "    # Get Scores and colors\n",
    "    df_scores = _color_3D_scatter(\n",
    "        self.dataframe, mode, temp_kwargs['lof'], temp_kwargs['gof']\n",
    "    )\n",
    "\n",
    "    # If coordinates is not an input, get it from the pdb\n",
    "    df_items = _parse_pdbcoordinates(\n",
    "        self, pdb_path, position_correction, chain, sasa=True\n",
    "    )\n",
    "\n",
    "    # Add scores\n",
    "    df_items['Score'] = list(df_scores['Score'])\n",
    "\n",
    "    # Custom data\n",
    "    if custom is not None:\n",
    "        df_items[plot[2]] = custom\n",
    "\n",
    "        # Plot figure\n",
    "    fig = px.scatter_3d(\n",
    "        df_items,\n",
    "        x=plot[0],\n",
    "        y=plot[1],\n",
    "        z=plot[2],\n",
    "        color='Score',\n",
    "        color_continuous_scale=_matplotlib_to_plotly(temp_kwargs['colormap'], ),\n",
    "        range_color=temp_kwargs['colorbar_scale'],\n",
    "    )\n",
    "\n",
    "    # update axes\n",
    "    fig = _update_axes(fig, temp_kwargs)\n",
    "\n",
    "    # for the clickable part\n",
    "    fig.update_traces(\n",
    "        hovertext=df_items['Position'], hovertemplate='Position: %{hovertext}'\n",
    "    )\n",
    "    # title\n",
    "    fig = _update_layout(fig, temp_kwargs)\n",
    "\n",
    "    # save fig to html\n",
    "    _save_html(fig, output_html)\n",
    "\n",
    "    # return plotly object\n",
    "    if temp_kwargs['return_plot_object']:\n",
    "        return fig\n",
    "\n",
    "    # show only if asked\n",
    "    if temp_kwargs['show']:\n",
    "        fig.show(config = {'displayModeBar': False})\n",
    "\n",
    "    if output_df:\n",
    "        return df_items, df_scores"
   ]
  },
  {
   "cell_type": "markdown",
   "metadata": {},
   "source": [
    "## Aux functions (stolen from code_3D)"
   ]
  },
  {
   "cell_type": "code",
   "execution_count": 13,
   "metadata": {
    "execution": {
     "iopub.execute_input": "2020-12-07T06:54:38.956018Z",
     "iopub.status.busy": "2020-12-07T06:54:38.955771Z",
     "iopub.status.idle": "2020-12-07T06:54:38.971757Z",
     "shell.execute_reply": "2020-12-07T06:54:38.971117Z",
     "shell.execute_reply.started": "2020-12-07T06:54:38.956000Z"
    }
   },
   "outputs": [],
   "source": [
    "def _color_3D_scatter(df, mode, lof, gof):\n",
    "    \"\"\"\n",
    "    Color the data points by enrichment scores.\n",
    "\n",
    "    Parameters\n",
    "    -----------\n",
    "    df : pandas dataframe\n",
    "        The input is a dataframe that has colum with ['Position', 'Aminoacid', 'Score'].\n",
    "\n",
    "    mode : str\n",
    "        Specify what enrichment scores to use. If mode = 'mean', it will use the mean of\n",
    "        each position to classify the residues. If mode = 'A', it will use the Alanine substitution profile.\n",
    "        Can be used for each amino acid. Use the one-letter code and upper case.\n",
    "\n",
    "    gof : int, default is 1\n",
    "        cutoff for determining gain of function mutations based on mutagenesis data.\n",
    "\n",
    "    lof : int, default is -1\n",
    "        cutoff for determining loss of function mutations based on mutagenesis data.\n",
    "\n",
    "    Returns\n",
    "    ---------\n",
    "    df_grouped: pandas dataframe\n",
    "        New dataframe with added column of ['Color'] and the ['Score'] values of the\n",
    "        mode you chose.\n",
    "\n",
    "    \"\"\"\n",
    "\n",
    "    # Copy df\n",
    "    df_grouped = df.copy()\n",
    "\n",
    "    # Select grouping.\n",
    "    if mode == 'mean':\n",
    "        df_grouped = df_grouped.groupby(['Position'], as_index=False).mean()\n",
    "    else:\n",
    "        df_grouped = df_grouped.loc[df_grouped['Aminoacid'] == mode]\n",
    "\n",
    "    # Select colors based on Score values\n",
    "    df_grouped['Color'] = 'green'\n",
    "    df_grouped.loc[df_grouped['Score'] < lof, 'Color'] = 'blue'\n",
    "    df_grouped.loc[df_grouped['Score'] > gof, 'Color'] = 'red'\n",
    "\n",
    "    return df_grouped\n",
    "\n",
    "\n",
    "def _centroid(df):\n",
    "    """\n",
    "    Find center of x,y,z using centroid method. \n",
    "    The input is a dataframe with columns x, y, z.\n",
    "    Returns the center of each of the three dimensions\n",
    "    """\n",
    "    return df['x'].mean(), df['y'].mean(), df['z'].mean()\n",
    "\n",
    "\n",
    "def _parse_pdbcoordinates(\n",
    "    self, pdb_path, position_correction, chain, sasa=False\n",
    "):\n",
    "    """parse coordinate of CA atoms. Will also return the bfactor and SASA using freesasa.\n",
    "    If PDB is missing atoms, it can handle it."""\n",
    "\n",
    "    # Get structure from PDB\n",
    "    structure = PDBParser().get_structure('pdb', pdb_path)\n",
    "\n",
    "    coordinates = []\n",
    "    commands = []\n",
    "    bfactors = []\n",
    "    positions_worked = []  # positions present in pdb\n",
    "\n",
    "    # Iterate over each CA atom and geet coordinates\n",
    "    for i in np.arange(self.start_position + position_correction,\n",
    "                       self.end_position + position_correction):\n",
    "        # first check if atom exists\n",
    "        try:\n",
    "            structure[0][chain][int(i)].has_id(\"CA\")\n",
    "            # Get atom from pdb and geet coordinates\n",
    "            atom = list(structure[0][chain][int(i)][\"CA\"].get_vector()) + [i]\n",
    "            coordinates.append(atom)\n",
    "            # Get SASA command for each residue and bfactor\n",
    "            residue = \"s{}, chain {} and resi {}\".format(str(i), chain, str(i))\n",
    "            commands.append(residue)\n",
    "            bfactor = (structure[0][chain][int(i)][\"CA\"].get_bfactor())\n",
    "            bfactors.append(np.log10(bfactor))\n",
    "            positions_worked.append(i)\n",
    "        except:\n",
    "            print(\"residue {} not found\".format(str(i)))\n",
    "            coordinates.append([np.nan, np.nan, np.nan, i])\n",
    "\n",
    "    # Convert to df\n",
    "    df_coordinates = pd.DataFrame(\n",
    "        columns=['x', 'y', 'z', 'Position'], data=coordinates\n",
    "    )\n",
    "\n",
    "    # Center data\n",
    "    x, y, z = _centroid(df_coordinates)\n",
    "    df_coordinates['x_cent'] = (df_coordinates['x'] - x).abs()**2\n",
    "    df_coordinates['y_cent'] = (df_coordinates['y'] - y).abs()**2\n",
    "    df_coordinates['z_cent'] = (df_coordinates['z'] - z).abs()**2\n",
    "    df_coordinates['Distance'] = df_coordinates['x_cent'] + \\\n",
    "        df_coordinates['y_cent']+df_coordinates['z_cent']\n",
    "\n",
    "    # Add sasa values\n",
    "    if sasa:\n",
    "        # Get structure for SASA\n",
    "        structure_sasa = freesasa.Structure(pdb_path)\n",
    "        result = freesasa.calc(structure_sasa)\n",
    "        # Calculate sasa\n",
    "        sasa = freesasa.selectArea(commands, structure_sasa, result)\n",
    "        df_sasa = pd.DataFrame(columns=['SASA'], data=sasa.values())\n",
    "        df_sasa['log B-factor'] = bfactors\n",
    "        df_sasa['Position'] = positions_worked\n",
    "\n",
    "        # Merge\n",
    "        df_coordinates = df_coordinates.merge(\n",
    "            df_sasa, how='outer', on='Position'\n",
    "        )\n",
    "\n",
    "    return df_coordinates\n",
    "\n",
    "\n",
    "def _matplotlib_to_plotly(cmap, pl_entries=255):\n",
    "    """convert a matplotlib colorscale into plotly rgb format"""\n",
    "    h = 1.0 / (pl_entries - 1)\n",
    "    pl_colorscale = []\n",
    "\n",
    "    for k in range(pl_entries):\n",
    "        C = list(map(np.uint8, np.array(cmap(k * h)[:3]) * 255))\n",
    "        pl_colorscale.append([k * h, 'rgb' + str((C[0], C[1], C[2]))])\n",
    "\n",
    "    return pl_colorscale"
   ]
  },
  {
   "cell_type": "code",
   "execution_count": null,
   "metadata": {},
   "outputs": [],
   "source": []
  }
 ],
 "metadata": {
  "kernelspec": {
   "display_name": "Python 3",
   "language": "python",
   "name": "python3"
  },
  "language_info": {
   "codemirror_mode": {
    "name": "ipython",
    "version": 3
   },
   "file_extension": ".py",
   "mimetype": "text/x-python",
   "name": "python",
   "nbconvert_exporter": "python",
   "pygments_lexer": "ipython3",
   "version": "3.8.3"
  },
  "toc": {
   "base_numbering": 1,
   "nav_menu": {},
   "number_sections": true,
   "sideBar": true,
   "skip_h1_title": false,
   "title_cell": "Table of Contents",
   "title_sidebar": "Contents",
   "toc_cell": false,
   "toc_position": {
    "height": "100px",
    "left": "21px",
    "top": "69.2px",
    "width": "165px"
   },
   "toc_section_display": true,
   "toc_window_display": true
  },
  "toc-autonumbering": true,
  "toc-showcode": false,
  "varInspector": {
   "cols": {
    "lenName": 16,
    "lenType": 16,
    "lenVar": 40
   },
   "kernels_config": {
    "python": {
     "delete_cmd_postfix": "",
     "delete_cmd_prefix": "del ",
     "library": "var_list.py",
     "varRefreshCmd": "print(var_dic_list())"
    },
    "r": {
     "delete_cmd_postfix": ") ",
     "delete_cmd_prefix": "rm(",
     "library": "var_list.r",
     "varRefreshCmd": "cat(var_dic_list()) "
    }
   },
   "oldHeight": 122.4,
   "position": {
    "height": "423.4px",
    "left": "944.6px",
    "right": "20px",
    "top": "119px",
    "width": "315.4px"
   },
   "types_to_exclude": [
    "module",
    "function",
    "builtin_function_or_method",
    "instance",
    "_Feature"
   ],
   "varInspector_section_display": "block",
   "window_display": false
  }
 },
 "nbformat": 4,
 "nbformat_minor": 4
}
