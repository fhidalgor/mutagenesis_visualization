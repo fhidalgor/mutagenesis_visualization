{
 "cells": [
  {
   "cell_type": "markdown",
   "metadata": {},
   "source": [
    "# Import Modules"
   ]
  },
  {
   "cell_type": "code",
   "execution_count": 1,
   "metadata": {
    "ExecuteTime": {
     "end_time": "2020-10-12T22:36:10.914292Z",
     "start_time": "2020-10-12T22:36:06.031777Z"
    },
    "execution": {
     "iopub.execute_input": "2020-11-14T00:56:35.102932Z",
     "iopub.status.busy": "2020-11-14T00:56:35.102699Z",
     "iopub.status.idle": "2020-11-14T00:56:35.387975Z",
     "shell.execute_reply": "2020-11-14T00:56:35.387103Z",
     "shell.execute_reply.started": "2020-11-14T00:56:35.102907Z"
    }
   },
   "outputs": [],
   "source": [
    "from matplotlib.colors import LinearSegmentedColormap\n",
    "from matplotlib import rcParams"
   ]
  },
  {
   "cell_type": "markdown",
   "metadata": {},
   "source": [
    "# Kwargs"
   ]
  },
  {
   "cell_type": "code",
   "execution_count": 2,
   "metadata": {
    "ExecuteTime": {
     "end_time": "2020-10-06T23:17:05.630845Z",
     "start_time": "2020-10-06T23:17:05.622474Z"
    },
    "execution": {
     "iopub.execute_input": "2020-11-14T00:56:36.059563Z",
     "iopub.status.busy": "2020-11-14T00:56:36.058119Z",
     "iopub.status.idle": "2020-11-14T00:56:36.070461Z",
     "shell.execute_reply": "2020-11-14T00:56:36.069646Z",
     "shell.execute_reply.started": "2020-11-14T00:56:36.059524Z"
    }
   },
   "outputs": [],
   "source": [
    "def kwargs():\n",
    "    \"\"\"\n",
    "    Kwargs used in the methods and some other functions. Not all kwargs work on\n",
    "    each method, read the individual description.\n",
    "\n",
    "    Parameters\n",
    "    -----------\n",
    "    colormap : cmap, default custom bluewhitered\n",
    "        Used for heatmaps. You can use your own colormap or the ones provided by\n",
    "        matplotlib. Example colormap = copy.copy((plt.cm.get_cmap('Blues_r')))\n",
    "\n",
    "    colorbar_scale: list, default [-1, 1]\n",
    "        Scale min and max used in heatmaps and correlation heatmaps.\n",
    "\n",
    "    color: str, default 'k'\n",
    "        Color used for the kernel plot line.\n",
    "\n",
    "    title : str, default 'Title'\n",
    "        Title of plot.\n",
    "\n",
    "    x_label : str, default 'x_label'\n",
    "        Label of x axis.\n",
    "\n",
    "    y_label : str, default 'y_label'\n",
    "        Label of y axis.\n",
    "\n",
    "    xscale: tuple, default (None, None)\n",
    "        MinMax of x axis.\n",
    "\n",
    "    yscale: tuple, default (None, None)\n",
    "        MinMax of y axis.\n",
    "\n",
    "    tick_spacing: int, default 1\n",
    "        Space of axis ticks. Used for scatter and cumulative plots.\n",
    "\n",
    "    outputfilepath : str, default ''\n",
    "        Path where file will be exported to.\n",
    "\n",
    "    outputfilename : str, default ''\n",
    "        Name of the exported file.\n",
    "\n",
    "    dpi : int, default 600\n",
    "        Dots Per Inch in the created image.\n",
    "\n",
    "    neworder_aminoacids: list, default list('DEKHRGNQASTPCVYMILFW*')\n",
    "        Order of amino acids to display in heatmaps. Used for heatmaps.\n",
    "\n",
    "    gof: int, default 1\n",
    "        Cutoff of the enrichment score to classify a mutation as gain of function.\n",
    "        Used on pymol and 3D methods.\n",
    "\n",
    "    lof: int, default -1\n",
    "        Cutoff of the enrichment score to classify a mutation as loss of funtion.\n",
    "        Used on pymol and 3D methods.\n",
    "\n",
    "    color_gof : str, default 'red'\n",
    "        Color to color mutations above the gof cutoff.\n",
    "        Used in pymol, 3D and mean methods.\n",
    "\n",
    "    color_lof : str, default 'blue'\n",
    "        Color to color mutations below the lof cutoff.\n",
    "        Used in pymol, 3D and mean methods.\n",
    "\n",
    "    cartoon_colors: list, default ['lightgreen', 'lavender', 'k']\n",
    "        Colors used for secondary structure cartoon. Used for heatmap, mean and mean_count plots.\n",
    "\n",
    "    text_labels: str, default 'None'\n",
    "        Text labels that you can add to mean and mean_count plots. You will need to specify the coordinates.\n",
    "\n",
    "    show: boolean, default True\n",
    "        Whether to execute plt.show() or not on a matplotlib object.\n",
    "\n",
    "    random_state : int, default 554\n",
    "        Random state used for PCA function.\n",
    "\n",
    "    bins : int, default 50\n",
    "        Number of bins used for kernel and histograms.\n",
    "    \n",
    "    return_plot_object : boolean, default False\n",
    "        If true, will return plotting object.\n",
    "    \n",
    "    figsize_x : int\n",
    "    \n",
    "    figsize_y : int\n",
    "    \n",
    "    \n",
    "    Returns\n",
    "    --------\n",
    "    default_kwargs : dict\n",
    "        Dictionary with the default kwargs.\n",
    "\n",
    "    \"\"\"\n",
    "    default_kwargs = {\n",
    "        'figsize_x': None,\n",
    "        'figsize_y': None,\n",
    "        'colormap': _generatecolormap(),\n",
    "        'colorbar_scale': [-1, 1],\n",
    "        'color': 'k',\n",
    "        'title': 'Title',\n",
    "        'x_label': 'x_label',\n",
    "        'y_label': 'y_label',\n",
    "        'z_label': 'z_label',\n",
    "        'xscale': (None, None),\n",
    "        'yscale': (None, None),\n",
    "        'tick_spacing': 1,\n",
    "        'dpi': 600,\n",
    "        'aminoacids': list('ACDEFGHIKLMNPQRSTVWY*'),\n",
    "        'neworder_aminoacids': list('DEKHRGNQASTPCVYMILFW*'),\n",
    "        'gof': 1,\n",
    "        'lof': -1,\n",
    "        'color_gof': 'red',\n",
    "        'color_lof': 'blue',\n",
    "        'cartoon_colors': ['lightgreen', 'lavender', 'k'],\n",
    "        'text_labels': None,\n",
    "        'show': True,\n",
    "        'random_state': 554,\n",
    "        'bins': 50,\n",
    "        'return_plot_object':False,\n",
    "    }\n",
    "\n",
    "    return default_kwargs\n",
    "\n",
    "\n",
    "def _generatecolormap():\n",
    "    cmap = LinearSegmentedColormap(\n",
    "        'BlueWhiteRed',\n",
    "        {\n",
    "            'red': ((0.0, 0.0, 0.0), (0.15, 0.0, 0.0), (0.475, 1.0, 1),\n",
    "                    (0.525, 1.0, 1), (0.85, 1.0, 1.0), (1.0, .8, 1)), 'green':\n",
    "            ((0.0, 0.0, .0), (0.15, 0.5, 0.5), (0.475, 1.0, 1), (0.525, 1.0, 1),\n",
    "             (0.85, 0.0, 0.0), (1.0, 0.0, 0.0)), 'blue':\n",
    "            ((0.0, .5, .5), (0.15, 1, 1), (0.475, 1.0, 1), (0.525, 1.0, 1),\n",
    "             (0.85, 0.0, 0.0), (1.0, 0.0, 0.0))\n",
    "        },\n",
    "    )\n",
    "    return cmap"
   ]
  },
  {
   "cell_type": "code",
   "execution_count": 4,
   "metadata": {
    "execution": {
     "iopub.execute_input": "2020-10-20T20:38:41.768192Z",
     "iopub.status.busy": "2020-10-20T20:38:41.767987Z",
     "iopub.status.idle": "2020-10-20T20:38:41.775651Z",
     "shell.execute_reply": "2020-10-20T20:38:41.772670Z",
     "shell.execute_reply.started": "2020-10-20T20:38:41.768172Z"
    }
   },
   "outputs": [],
   "source": [
    "def _parameters():\n",
    "    # normal font\n",
    "    rcParams['font.family'] = 'sans-serif'\n",
    "    rcParams['font.sans-serif'] = ['Arial']\n",
    "\n",
    "    # math font\n",
    "    rcParams['mathtext.fontset'] = 'custom'\n",
    "    rcParams['mathtext.rm'] = 'Arial'\n",
    "    rcParams['svg.fonttype'] = 'none'\n",
    "\n",
    "    # add grid\n",
    "    rcParams['grid.color'] = 'silver'\n",
    "    rcParams['grid.linestyle'] = '--'\n",
    "    rcParams['grid.linewidth'] = 1\n",
    "    rcParams['lines.dashed_pattern'] = [5, 10]\n",
    "    rcParams['axes.axisbelow'] = True\n",
    "    # Parameters for all graphs\n",
    "    rcParams['xtick.labelsize'] = 9\n",
    "    rcParams['ytick.labelsize'] = 9\n",
    "    return\n",
    "\n",
    "\n",
    "def _font_parameters():\n",
    "    # math font\n",
    "    rcParams['mathtext.fontset'] = 'custom'\n",
    "    rcParams['mathtext.rm'] = 'Arial'\n",
    "    rcParams['svg.fonttype'] = 'none'\n",
    "    return"
   ]
  }
 ],
 "metadata": {
  "kernelspec": {
   "display_name": "Python 3",
   "language": "python",
   "name": "python3"
  },
  "language_info": {
   "codemirror_mode": {
    "name": "ipython",
    "version": 3
   },
   "file_extension": ".py",
   "mimetype": "text/x-python",
   "name": "python",
   "nbconvert_exporter": "python",
   "pygments_lexer": "ipython3",
   "version": "3.8.3"
  },
  "toc": {
   "base_numbering": 1,
   "nav_menu": {},
   "number_sections": true,
   "sideBar": true,
   "skip_h1_title": false,
   "title_cell": "Table of Contents",
   "title_sidebar": "Contents",
   "toc_cell": false,
   "toc_position": {
    "height": "100px",
    "left": "21px",
    "top": "69.2px",
    "width": "165px"
   },
   "toc_section_display": true,
   "toc_window_display": true
  },
  "toc-autonumbering": true,
  "toc-showcode": false,
  "varInspector": {
   "cols": {
    "lenName": 16,
    "lenType": 16,
    "lenVar": 40
   },
   "kernels_config": {
    "python": {
     "delete_cmd_postfix": "",
     "delete_cmd_prefix": "del ",
     "library": "var_list.py",
     "varRefreshCmd": "print(var_dic_list())"
    },
    "r": {
     "delete_cmd_postfix": ") ",
     "delete_cmd_prefix": "rm(",
     "library": "var_list.r",
     "varRefreshCmd": "cat(var_dic_list()) "
    }
   },
   "oldHeight": 122.4,
   "position": {
    "height": "423.4px",
    "left": "944.6px",
    "right": "20px",
    "top": "119px",
    "width": "315.4px"
   },
   "types_to_exclude": [
    "module",
    "function",
    "builtin_function_or_method",
    "instance",
    "_Feature"
   ],
   "varInspector_section_display": "block",
   "window_display": false
  }
 },
 "nbformat": 4,
 "nbformat_minor": 4
}
