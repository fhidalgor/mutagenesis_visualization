{
 "cells": [
  {
   "cell_type": "code",
   "execution_count": 6,
   "metadata": {},
   "outputs": [
    {
     "data": {
      "text/plain": "PosixPath('test/test2_0_vs_1.png')"
     },
     "execution_count": 6,
     "metadata": {},
     "output_type": "execute_result"
    }
   ],
   "source": [
    "from pathlib import Path\n",
    "output_file = Path(\"test/test2.png\")\n",
    "comb = [0, 1]\n",
    "test = Path(output_file.stem+\"_\"+str(comb[0])+\"_vs_\"+str(comb[1])+output_file.suffix)\n",
    "output_file.with_name(output_file.stem+\"_\"+str(comb[0])+\"_vs_\"+str(comb[1])+output_file.suffix)\n"
   ]
  },
  {
   "cell_type": "code",
   "execution_count": 3,
   "metadata": {},
   "outputs": [
    {
     "data": {
      "text/plain": "'test2'"
     },
     "execution_count": 3,
     "metadata": {},
     "output_type": "execute_result"
    }
   ],
   "source": [
    "output_file.stem"
   ]
  }
 ],
 "metadata": {
  "kernelspec": {
   "display_name": "Python 3.9.2 64-bit ('mutagenesis-visualization-NsjifA68-py3.9': venv)",
   "name": "python392jvsc74a57bd0722ba8cd244824779673bda02dd3c9429b019b25bafc8b2e589590aff5be60cf"
  },
  "language_info": {
   "codemirror_mode": {
    "name": "ipython",
    "version": 3
   },
   "file_extension": ".py",
   "mimetype": "text/x-python",
   "name": "python",
   "nbconvert_exporter": "python",
   "pygments_lexer": "ipython3",
   "version": "3.9.2"
  },
  "orig_nbformat": 2
 },
 "nbformat": 4,
 "nbformat_minor": 2
}