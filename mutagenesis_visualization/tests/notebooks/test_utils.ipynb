{
 "cells": [
  {
   "cell_type": "markdown",
   "metadata": {},
   "source": [
    "# Test of code_utils\n"
   ]
  },
  {
   "cell_type": "code",
   "execution_count": 1,
   "metadata": {
    "execution": {
     "iopub.execute_input": "2021-01-25T20:53:35.518839Z",
     "iopub.status.busy": "2021-01-25T20:53:35.518410Z",
     "iopub.status.idle": "2021-01-25T20:53:35.975366Z",
     "shell.execute_reply": "2021-01-25T20:53:35.974745Z",
     "shell.execute_reply.started": "2021-01-25T20:53:35.518804Z"
    }
   },
   "outputs": [
    {
     "name": "stdout",
     "output_type": "stream",
     "text": [
      "importing Jupyter notebook from code_utils.ipynb\n"
     ]
    }
   ],
   "source": [
    "import pandas as pd\n",
    "import numpy as np\n",
    "import os\n",
    "\n",
    "try:\n",
    "    import mutagenesis_visualization.main.scripts.code_utils as code_utils\n",
    "except ModuleNotFoundError:\n",
    "    import import_notebook\n",
    "    directory = os.getcwd()\n",
    "    new_directory = directory.replace('tests','main')\n",
    "    os.chdir(new_directory)\n",
    "    import code_utils as code_utils\n",
    "    os.chdir(directory)"
   ]
  },
  {
   "cell_type": "markdown",
   "metadata": {},
   "source": [
    "## Internal functions"
   ]
  },
  {
   "cell_type": "markdown",
   "metadata": {},
   "source": [
    "### Parse dataset"
   ]
  },
  {
   "cell_type": "code",
   "execution_count": null,
   "metadata": {},
   "outputs": [],
   "source": [
    "def test_common():\n",
    "    # lists\n",
    "    list_a = list('abcde')\n",
    "    list_b = list('efghi')\n",
    "    list_c = list('jklmn')\n",
    "    list_d = list('mklj')\n",
    "\n",
    "    # error message\n",
    "    error_message = '_common not returning the common elements of two lists'\n",
    "\n",
    "    # assert\n",
    "    assert code_utils._common(list_a, list_b) == ['e'], error_message\n",
    "    assert code_utils._common(list_a, list_c) == [], error_message\n",
    "    assert code_utils._common(list_c, list_d) == list('jklm'), error_message"
   ]
  },
  {
   "cell_type": "markdown",
   "metadata": {},
   "source": [
    "### SNV internal"
   ]
  },
  {
   "cell_type": "code",
   "execution_count": null,
   "metadata": {},
   "outputs": [],
   "source": [
    "def test_aminoacids_snv():\n",
    "    """testing full capabilities of function"""\n",
    "    \n",
    "    # Create dict with codons\n",
    "    codontable = code_utils._dict_codontoaa()\n",
    "    \n",
    "    # Create input arguments\n",
    "    pairs = [['F', 'L'], ['I', 'M'], ['T', 'A'], ['S', 'R'],\n",
    "         ['F', 'P'], ['I', 'G'], ['T', 'L'], ['S', 'H'], ['A','A']]\n",
    "    \n",
    "    # Expected answer\n",
    "    expected_answer = [True]*4 + [False]*5\n",
    "    \n",
    "    # Calculate answer and assert\n",
    "    for pair, exp_ans in zip(pairs, expected_answer):\n",
    "        calculated_answer = code_utils._aminoacids_snv(\n",
    "            pair[0], pair[1], codontable, same_aa_SNV=False)\n",
    "        assert exp_ans == calculated_answer, 'Error in determining SNV'\n",
    "    \n",
    "    # Now change the same_aa_SNV parameter\n",
    "    expected_answer = code_utils._aminoacids_snv('A', 'A', codontable, same_aa_SNV=True)\n",
    "    \n",
    "    assert  expected_answer == True, 'Error in determining SNV when the two amino acids are the same'"
   ]
  },
  {
   "cell_type": "code",
   "execution_count": null,
   "metadata": {},
   "outputs": [],
   "source": [
    "def test_codons_snv():\n",
    "    """testing full capabilities of function"""\n",
    "    \n",
    "    # Create input arguments\n",
    "    pairs = [['AAA', 'AAT'], ['ACA', 'ACT'], ['ATA', 'TTA'], ['CCC', 'CCT'],\n",
    "         ['AAA', 'ACC'], ['CAA', 'CCC'], ['ATA', 'TTT'], ['CCC', 'AAA'], ['AAA','AAA']]\n",
    "    \n",
    "    # Expected answer\n",
    "    expected_answer = [True]*4 + [False]*5\n",
    "    \n",
    "    # Calculate answer and assert\n",
    "    for pair, exp_ans in zip(pairs, expected_answer):\n",
    "        calculated_answer = code_utils._codons_pointmutants(\n",
    "            pair[0], pair[1], same_codon_SNV=False)\n",
    "        assert exp_ans == calculated_answer, 'Error in determining SNV'\n",
    "    \n",
    "    # Now change the same_aa_SNV parameter\n",
    "    expected_answer = code_utils._codons_pointmutants('CAA', 'CAA', same_codon_SNV=True)\n",
    "    \n",
    "    assert  expected_answer == True, 'Error in determining SNV when the two codons are the same'"
   ]
  },
  {
   "cell_type": "markdown",
   "metadata": {},
   "source": [
    "### _are_pointmutants"
   ]
  },
  {
   "cell_type": "code",
   "execution_count": null,
   "metadata": {},
   "outputs": [],
   "source": [
    "def test_are_pointmutants():\n",
    "    assert code_utils._are_pointmutants('M', 'ATG')==False\n",
    "    assert code_utils._are_pointmutants('A', 'ATG')==False\n",
    "    assert code_utils._are_pointmutants('F', 'TTA')==True\n"
   ]
  },
  {
   "cell_type": "markdown",
   "metadata": {},
   "source": [
    "### test _are_pointmutants_list"
   ]
  },
  {
   "cell_type": "code",
   "execution_count": null,
   "metadata": {},
   "outputs": [],
   "source": [
    "def test_are_pointmutants_list():\n",
    "    assert code_utils._are_pointmutants_list('A', ['ATG', 'ATT', 'ACT'])==[False, False,True]\n",
    "    "
   ]
  },
  {
   "cell_type": "markdown",
   "metadata": {},
   "source": [
    "### Scatter Internal"
   ]
  },
  {
   "cell_type": "code",
   "execution_count": null,
   "metadata": {},
   "outputs": [],
   "source": [
    "def test_process_bypointmutant():\n",
    "    """testing that output type is a dataframe"""\n",
    "    # Create mock objects\n",
    "    self = type('', (), {})()\n",
    "    obj = type('', (), {})()\n",
    "\n",
    "    # Create dataframes as attributes of the objects\n",
    "    self.dataframe = pd.DataFrame(np.array([[1, 2], [4, 5], [7, 8]]),\n",
    "                                  columns=['Score_NaN', 'Variant'])\n",
    "    obj.dataframe = pd.DataFrame(np.array([[7, 8], [9, 0]]),\n",
    "                                 columns=['Score_NaN', 'Variant'])\n",
    "\n",
    "    # Call the function we are testing\n",
    "    df = code_utils._process_bypointmutant(self, obj)\n",
    "\n",
    "    # Assert\n",
    "    assert len(df) == 2, 'truncation of longer dataset is not working properly'"
   ]
  },
  {
   "cell_type": "code",
   "execution_count": null,
   "metadata": {},
   "outputs": [],
   "source": [
    "def test_process_meanresidue():\n",
    "    """testing full capabilities of function"""\n",
    "    # Create mock objects\n",
    "    self = type('', (), {})()\n",
    "    obj = type('', (), {})()\n",
    "\n",
    "    # Create dataframes as attributes of the objects\n",
    "    self.dataframe = pd.DataFrame(np.array([[1, 2], [1, 6], [2, 8], [2, 4]]),\n",
    "                                  columns=['Position', 'Score'])\n",
    "    obj.dataframe = pd.DataFrame(np.array([[7, 8], [9, 0], [1, 6]]),\n",
    "                                 columns=['Position', 'Score'])\n",
    "    expected_answer = pd.DataFrame(np.array([[4, 6, 1, -2], [6, 8, 2, -2]]),\n",
    "                                   columns=['dataset_1', 'dataset_2', 'Position', 'd1 - d2'])\n",
    "    # Call the function we are testing\n",
    "    df = code_utils._process_meanresidue(self, obj)\n",
    "\n",
    "    # Assert\n",
    "    assert df.equals(expected_answer), 'error in _process_meanresidue'"
   ]
  },
  {
   "cell_type": "code",
   "execution_count": null,
   "metadata": {},
   "outputs": [],
   "source": [
    "def test_color_data():\n",
    "    """testing full capabilities of function"""\n",
    "    df = pd.DataFrame()\n",
    "    df['Score'] = [1, 2, 3, 0, -1, -2, -3]\n",
    "    df['Expected_Answer'] = ['red']*3+['blue']*4\n",
    "    df['Calculated_answer'] = [code_utils._color_data(\n",
    "        df.loc[i], 'red', 'blue') for i in range(0, len(df['Score']))]\n",
    "    assert (df['Expected_Answer'] == df['Calculated_answer']\n",
    "            ).all(), 'error when assigning a color'"
   ]
  },
  {
   "cell_type": "markdown",
   "metadata": {},
   "source": [
    "## To manipulate reads"
   ]
  },
  {
   "cell_type": "code",
   "execution_count": null,
   "metadata": {},
   "outputs": [],
   "source": [
    "def test_translate_codons():\n",
    "    """testing full capabilities of function"""\n",
    "    list_codons = ['AAA', 'AAC', 'AAG', 'AAT', 'ACA', 'ACC', 'ACG', 'ACT', 'AGA', 'AGC', 'AGG', 'AGT', 'ATA', 'ATC', 'ATG', 'ATT', 'CAA', 'CAC', 'CAG', 'CAT', 'CCA', 'CCC', 'CCG', 'CCT', 'CGA', 'CGC', 'CGG', 'CGT', 'CTA', 'CTC', 'CTG',\n",
    "                   'CTT', 'GAA', 'GAC', 'GAG', 'GAT', 'GCA', 'GCC', 'GCG', 'GCT', 'GGA', 'GGC', 'GGG', 'GGT', 'GTA', 'GTC', 'GTG', 'GTT', 'TAA', 'TAC', 'TAG', 'TAT', 'TCA', 'TCC', 'TCG', 'TCT', 'TGA', 'TGC', 'TGG', 'TGT', 'TTA', 'TTC', 'TTG', 'TTT']\n",
    "    list_aminoacids = ['K', 'N', 'K', 'N', 'T', 'T', 'T', 'T', 'R', 'S', 'R', 'S', 'I', 'I', 'M', 'I', 'Q', 'H', 'Q', 'H', 'P', 'P', 'P', 'P', 'R', 'R', 'R', 'R', 'L', 'L',\n",
    "                       'L', 'L', 'E', 'D', 'E', 'D', 'A', 'A', 'A', 'A', 'G', 'G', 'G', 'G', 'V', 'V', 'V', 'V', '*', 'Y', '*', 'Y', 'S', 'S', 'S', 'S', '*', 'C', 'W', 'C', 'L', 'F', 'L', 'F']\n",
    "    df = pd.DataFrame(index=list_codons)\n",
    "    translation = code_utils._translate_codons(df)\n",
    "    assert (translation ==\n",
    "            list_aminoacids), 'error when translating the codons of the dataframe index'"
   ]
  },
  {
   "cell_type": "code",
   "execution_count": null,
   "metadata": {},
   "outputs": [],
   "source": [
    "def test_is_DNA():\n",
    "    """testing full capabilities of function"""\n",
    "    df = pd.DataFrame(index=['A', 'C', 'T', 'G', 'P', 'L'])\n",
    "    df2 = pd.DataFrame(index=['ATA', 'CAT', 'TGG', 'TGT'])\n",
    "    assert (code_utils._is_DNA(\n",
    "        df) == False), 'error determining if the index of the dataframe contains DNA'\n",
    "    assert (code_utils._is_DNA(df2) ==\n",
    "            True), 'error determining if the index of the dataframe contains DNA'"
   ]
  },
  {
   "cell_type": "markdown",
   "metadata": {},
   "source": [
    "## Shannon"
   ]
  },
  {
   "cell_type": "code",
   "execution_count": 2,
   "metadata": {
    "execution": {
     "iopub.execute_input": "2021-01-25T20:53:40.914371Z",
     "iopub.status.busy": "2021-01-25T20:53:40.914155Z",
     "iopub.status.idle": "2021-01-25T20:53:40.919897Z",
     "shell.execute_reply": "2021-01-25T20:53:40.918649Z",
     "shell.execute_reply.started": "2021-01-25T20:53:40.914349Z"
    }
   },
   "outputs": [],
   "source": [
    "def test_parseMSA():\n",
    "    # Load file\n",
    "    try:\n",
    "        location = os.path.dirname(os.path.realpath(__file__))\n",
    "        my_file = os.path.join(location, '../../data/for_tests', \"msa.fasta\")\n",
    "    except NameError:\n",
    "        my_file = os.path.join('../../data/for_tests', \"msa.fasta\")\n",
    "    # Read MSA\n",
    "    msa, seq_lengths, index = code_utils._parseMSA(my_file, \"fasta\", 0)\n",
    "                                                   \n",
    "    assert seq_lengths == [20]                                        "
   ]
  },
  {
   "cell_type": "code",
   "execution_count": 8,
   "metadata": {
    "execution": {
     "iopub.execute_input": "2021-01-25T20:54:34.153994Z",
     "iopub.status.busy": "2021-01-25T20:54:34.153650Z",
     "iopub.status.idle": "2021-01-25T20:54:34.163875Z",
     "shell.execute_reply": "2021-01-25T20:54:34.163094Z",
     "shell.execute_reply.started": "2021-01-25T20:54:34.153966Z"
    }
   },
   "outputs": [],
   "source": [
    "def test_shannon_entropy_list_msa():\n",
    "    # Load file\n",
    "    try:\n",
    "        location = os.path.dirname(os.path.realpath(__file__))\n",
    "        my_file = os.path.join(location, '../../data/for_tests', \"msa.fasta\")\n",
    "    except NameError:\n",
    "        my_file = os.path.join('../../data/for_tests', \"msa.fasta\")\n",
    "        \n",
    "    # Read MSA\n",
    "    msa, seq_lengths, index = code_utils._parseMSA(my_file, \"fasta\", 0)\n",
    "    \n",
    "    # Calculate entropy\n",
    "    shannon = code_utils._shannon_entropy_list_msa(msa)\n",
    "                                                   \n",
    "    assert code_utils._shannon_entropy_list_msa(msa) == [-0.0]*20                                        "
   ]
  }
 ],
 "metadata": {
  "kernelspec": {
   "display_name": "Python 3",
   "language": "python",
   "name": "python3"
  },
  "language_info": {
   "codemirror_mode": {
    "name": "ipython",
    "version": 3
   },
   "file_extension": ".py",
   "mimetype": "text/x-python",
   "name": "python",
   "nbconvert_exporter": "python",
   "pygments_lexer": "ipython3",
   "version": "3.8.3"
  }
 },
 "nbformat": 4,
 "nbformat_minor": 4
}
