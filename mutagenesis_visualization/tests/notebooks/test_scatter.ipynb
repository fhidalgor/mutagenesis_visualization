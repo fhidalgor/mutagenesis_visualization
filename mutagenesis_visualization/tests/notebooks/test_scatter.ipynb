{
 "cells": [
  {
   "cell_type": "markdown",
   "metadata": {},
   "source": [
    "# Tests for plot_scatter"
   ]
  },
  {
   "cell_type": "code",
   "execution_count": 2,
   "metadata": {},
   "outputs": [],
   "source": [
    "import pandas as pd\n",
    "import numpy as np\n",
    "\n",
    "try:\n",
    "    from mutagenesis_visualization.main.scripts.code_create_objects import (\n",
    "        hras_RBD,\n",
    "        aph_obj,\n",
    "    )\n",
    "except ModuleNotFoundError:\n",
    "    import import_notebook\n",
    "    import os\n",
    "    directory = os.getcwd()\n",
    "    new_directory = directory.replace('tests', 'main')\n",
    "    os.chdir(new_directory)\n",
    "\n",
    "    import code_create_objects\n",
    "    from code_create_objects import (\n",
    "         hras_RBD,\n",
    "         aph_obj,\n",
    "     )\n",
    "    os.chdir(directory)\n"
   ]
  },
  {
   "cell_type": "code",
   "execution_count": 7,
   "metadata": {},
   "outputs": [],
   "source": [
    "import traceback\n",
    "def test_plot_scatter():\n",
    "    \n",
    "    # Create dictionary with objects\n",
    "    dict_obj = {\n",
    "        'obj_test_1': hras_RBD(),\n",
    "        'obj_test_2': aph_obj(),\n",
    "    }\n",
    "\n",
    "    # Define aux function\n",
    "    def _test_plot_scatter(obj_test, parameters):\n",
    "        error = False\n",
    "        try:\n",
    "            obj_test.scatter(obj_test,\n",
    "                **parameters\n",
    "            )  # pass dictionary as arguments of method\n",
    "        except Exception as e:\n",
    "            \n",
    "            print(e)\n",
    "            print(traceback.format_exc())\n",
    "            error = True\n",
    "        return error\n",
    "\n",
    "    # Define dictionary of parameters\n",
    "    # Each dict in the list will be a different set of parameters\n",
    "    list_params = [\n",
    "        {\n",
    "            'show': False,\n",
    "        },\n",
    "        {\n",
    "            'figsize': (3, 2.5),\n",
    "            'y_label': r'$∆E^i_x$',\n",
    "            'show': False,\n",
    "        },\n",
    "    ]\n",
    "\n",
    "    # Assert\n",
    "    for obj_label, obj_test in dict_obj.items(): # Loop over the dictionary\n",
    "        for parameters in list_params: # Loop over the parameters\n",
    "            assert _test_plot_scatter( # Assert that that set of parameters works on that object\n",
    "                obj_test,\n",
    "                parameters,\n",
    "            ) == False, \"plot_scatter failed with {} object and {} parameters\".format(\n",
    "                obj_label,\n",
    "                parameters,\n",
    "            )"
   ]
  },
  {
   "cell_type": "code",
   "execution_count": 8,
   "metadata": {},
   "outputs": [
    {
     "name": "stderr",
     "output_type": "stream",
     "text": [
      "findfont: Font family ['cursive'] not found. Falling back to DejaVu Sans.\n"
     ]
    },
    {
     "data": {
      "image/png": "[encoded data removed]",
      "text/plain": [
       "<Figure size 144x144 with 1 Axes>"
      ]
     },
     "metadata": {
      "needs_background": "light"
     },
     "output_type": "display_data"
    },
    {
     "data": {
      "image/png": "[encoded data removed]",
      "text/plain": [
       "<Figure size 216x180 with 1 Axes>"
      ]
     },
     "metadata": {
      "needs_background": "light"
     },
     "output_type": "display_data"
    },
    {
     "data": {
      "image/png": "[encoded data removed]",
      "text/plain": [
       "<Figure size 144x144 with 1 Axes>"
      ]
     },
     "metadata": {
      "needs_background": "light"
     },
     "output_type": "display_data"
    },
    {
     "data": {
      "image/png": "[encoded data removed]",
      "text/plain": [
       "<Figure size 216x180 with 1 Axes>"
      ]
     },
     "metadata": {
      "needs_background": "light"
     },
     "output_type": "display_data"
    }
   ],
   "source": [
    "test_plot_scatter()"
   ]
  }
 ],
 "metadata": {
  "kernelspec": {
   "display_name": "Python 3",
   "language": "python",
   "name": "python3"
  },
  "language_info": {
   "codemirror_mode": {
    "name": "ipython",
    "version": 3
   },
   "file_extension": ".py",
   "mimetype": "text/x-python",
   "name": "python",
   "nbconvert_exporter": "python",
   "pygments_lexer": "ipython3",
   "version": "3.8.5"
  }
 },
 "nbformat": 4,
 "nbformat_minor": 4
}
