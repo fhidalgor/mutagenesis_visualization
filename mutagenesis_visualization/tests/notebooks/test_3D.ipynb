{
 "cells": [
  {
   "cell_type": "markdown",
   "metadata": {},
   "source": [
    "## Import Modules"
   ]
  },
  {
   "cell_type": "code",
   "execution_count": 1,
   "metadata": {
    "execution": {
     "iopub.execute_input": "2020-11-22T23:54:30.748570Z",
     "iopub.status.busy": "2020-11-22T23:54:30.748037Z",
     "iopub.status.idle": "2020-11-22T23:54:33.248980Z",
     "shell.execute_reply": "2020-11-22T23:54:33.247977Z",
     "shell.execute_reply.started": "2020-11-22T23:54:30.748534Z"
    }
   },
   "outputs": [
    {
     "name": "stdout",
     "output_type": "stream",
     "text": [
      "importing Jupyter notebook from code_3D.ipynb\n",
      "importing Jupyter notebook from code_kwargs.ipynb\n",
      "importing Jupyter notebook from code_utils.ipynb\n"
     ]
    }
   ],
   "source": [
    "import pandas as pd\n",
    "import numpy as np\n",
    "\n",
    "try:\n",
    "    from mutagenesis_visualization.main.scripts.code_3D import (\n",
    "        _centroid, _color_3D_scatter\n",
    "    )\n",
    "except ModuleNotFoundError:\n",
    "    import import_notebook\n",
    "    import os\n",
    "    directory = os.getcwd()\n",
    "    new_directory = directory.replace('tests', 'main')\n",
    "    os.chdir(new_directory)\n",
    "    from code_3D import (\n",
    "        _centroid, _color_3D_scatter\n",
    "    )\n",
    "    os.chdir(directory)\n",
    "\n"
   ]
  },
  {
   "cell_type": "markdown",
   "metadata": {},
   "source": [
    "## Test 3D Scatter functions\n"
   ]
  },
  {
   "cell_type": "code",
   "execution_count": 5,
   "metadata": {
    "execution": {
     "iopub.execute_input": "2020-11-22T23:54:47.646264Z",
     "iopub.status.busy": "2020-11-22T23:54:47.645801Z",
     "iopub.status.idle": "2020-11-22T23:54:47.658955Z",
     "shell.execute_reply": "2020-11-22T23:54:47.656725Z",
     "shell.execute_reply.started": "2020-11-22T23:54:47.646232Z"
    }
   },
   "outputs": [],
   "source": [
    "def test_centroid():\n",
    "    \"\"\"tests the mean calculated in each of the three dimensions is correct\"\"\"\n",
    "    df = pd.DataFrame({\"x\": [1, 2, 9], \"y\": [4, 5, 9], \"z\": [5, 8, 8]})\n",
    "    assert _centroid(df) == (4.0, 6.0, 7.0), \"function _centroid failed\""
   ]
  },
  {
   "cell_type": "code",
   "execution_count": null,
   "metadata": {},
   "outputs": [],
   "source": [
    "# what about scores between -1 and 1?\n",
    "# check correct input for Aminoacid\n",
    "# should there be 5 columns?"
   ]
  },
  {
   "cell_type": "code",
   "execution_count": 2,
   "metadata": {},
   "outputs": [],
   "source": [
    "def test_color_3D_scatter():\n",
    "    \"\"\"check that output is expected: returns new dataframe with Color column added\"\"\"\n",
    "    df_1 = pd.DataFrame({\n",
    "        \"Position\": [1, 2, 9], \"Aminoacid\": [1, 2, 3], \"Score\": [5, -8, 8]\n",
    "    })\n",
    "    df_solution = pd.DataFrame({\n",
    "        \"Position\": [1, 2, 9], \"Aminoacid\": [1, 2, 3], \"Score\": [5, -8, 8],\n",
    "        \"Color\": [\"red\", \"blue\", \"red\"]\n",
    "    })\n",
    "    df_calculated = _color_3D_scatter(df_1, 'mean', 1, -1)\n",
    "\n",
    "    assert df_solution.equals(df_calculated) == True"
   ]
  }
 ],
 "metadata": {
  "kernelspec": {
   "display_name": "Python 3",
   "language": "python",
   "name": "python3"
  },
  "language_info": {
   "codemirror_mode": {
    "name": "ipython",
    "version": 3
   },
   "file_extension": ".py",
   "mimetype": "text/x-python",
   "name": "python",
   "nbconvert_exporter": "python",
   "pygments_lexer": "ipython3",
   "version": "3.8.3"
  }
 },
 "nbformat": 4,
 "nbformat_minor": 4
}
