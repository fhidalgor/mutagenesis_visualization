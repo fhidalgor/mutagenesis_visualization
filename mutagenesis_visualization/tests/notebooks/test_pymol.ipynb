{
 "cells": [
  {
   "cell_type": "markdown",
   "metadata": {},
   "source": [
    "# Import Modules"
   ]
  },
  {
   "cell_type": "code",
   "execution_count": null,
   "metadata": {},
   "outputs": [],
   "source": []
  },
  {
   "cell_type": "code",
   "execution_count": 7,
   "metadata": {
    "execution": {
     "iopub.execute_input": "2020-11-22T23:54:30.748570Z",
     "iopub.status.busy": "2020-11-22T23:54:30.748037Z",
     "iopub.status.idle": "2020-11-22T23:54:33.248980Z",
     "shell.execute_reply": "2020-11-22T23:54:33.247977Z",
     "shell.execute_reply.started": "2020-11-22T23:54:30.748534Z"
    }
   },
   "outputs": [
    {
     "name": "stdout",
     "output_type": "stream",
     "text": [
      "importing Jupyter notebook from code_pymol.ipynb\n"
     ]
    }
   ],
   "source": [
    "import pandas as pd\n",
    "import numpy as np\n",
    "\n",
    "try:\n",
    "    from mutagenesis_visualization.main.scripts.code_pymol import (\n",
    "        _light_parameters, _array_to_pymol,\n",
    "    )\n",
    "except ModuleNotFoundError:\n",
    "    import import_notebook\n",
    "    import os\n",
    "    directory = os.getcwd()\n",
    "    new_directory = directory.replace('tests', 'main')\n",
    "    os.chdir(new_directory)\n",
    "    from code_pymol import (\n",
    "        _light_parameters, _array_to_pymol,\n",
    "    )\n",
    "    os.chdir(directory)\n",
    "\n",
    "try:\n",
    "    from ipymol import viewer as pymol\n",
    "except ModuleNotFoundError:\n",
    "    pass"
   ]
  },
  {
   "cell_type": "markdown",
   "metadata": {},
   "source": [
    "# Test map into Pymol functions\n"
   ]
  },
  {
   "cell_type": "code",
   "execution_count": null,
   "metadata": {},
   "outputs": [],
   "source": [
    "def test_array_to_pymol():\n",
    "    \"\"\"test that output is same as expected\"\"\"\n",
    "    assert _array_to_pymol([1, 2,\n",
    "                            3]) == '1+2+3', \"function _array_to_pymol failed\""
   ]
  },
  {
   "cell_type": "code",
   "execution_count": 8,
   "metadata": {},
   "outputs": [],
   "source": [
    "def _test_light_parameters():\n",
    "    \"\"\"check that there is no error when function runs, checks output is function's output\"\"\"\n",
    "    def _test_light_parameters_output():\n",
    "        \"\"\"checks if function runs or gives error\"\"\"\n",
    "        try:\n",
    "            _light_parameters()\n",
    "        except:\n",
    "            error = True\n",
    "            return error\n",
    "\n",
    "    assert _test_light_parameters_output() == _light_parameters(\n",
    "    ), \"function _light_parameters failed\""
   ]
  },
  {
   "cell_type": "code",
   "execution_count": 12,
   "metadata": {},
   "outputs": [],
   "source": [
    "_test_light_parameters()"
   ]
  },
  {
   "cell_type": "code",
   "execution_count": 11,
   "metadata": {},
   "outputs": [
    {
     "ename": "NameError",
     "evalue": "name '_test_light_parameters_output' is not defined",
     "output_type": "error",
     "traceback": [
      "\u001b[0;31m---------------------------------------------------------------------------\u001b[0m",
      "\u001b[0;31mNameError\u001b[0m                                 Traceback (most recent call last)",
      "\u001b[0;32m<ipython-input-11-aa4a2d9151fe>\u001b[0m in \u001b[0;36m<module>\u001b[0;34m\u001b[0m\n\u001b[0;32m----> 1\u001b[0;31m \u001b[0m_test_light_parameters_output\u001b[0m\u001b[0;34m(\u001b[0m\u001b[0;34m)\u001b[0m\u001b[0;34m\u001b[0m\u001b[0;34m\u001b[0m\u001b[0m\n\u001b[0m",
      "\u001b[0;31mNameError\u001b[0m: name '_test_light_parameters_output' is not defined"
     ]
    }
   ],
   "source": [
    "_test_light_parameters_output()"
   ]
  }
 ],
 "metadata": {
  "kernelspec": {
   "display_name": "Python 3",
   "language": "python",
   "name": "python3"
  },
  "language_info": {
   "codemirror_mode": {
    "name": "ipython",
    "version": 3
   },
   "file_extension": ".py",
   "mimetype": "text/x-python",
   "name": "python",
   "nbconvert_exporter": "python",
   "pygments_lexer": "ipython3",
   "version": "3.8.3"
  }
 },
 "nbformat": 4,
 "nbformat_minor": 4
}
