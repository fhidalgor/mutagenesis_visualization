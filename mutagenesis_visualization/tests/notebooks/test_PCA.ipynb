{
 "cells": [
  {
   "cell_type": "markdown",
   "metadata": {},
   "source": [
    "# Test of code_PCA"
   ]
  },
  {
   "cell_type": "code",
   "execution_count": 1,
   "metadata": {
    "execution": {
     "iopub.execute_input": "2021-01-22T01:25:29.171865Z",
     "iopub.status.busy": "2021-01-22T01:25:29.171615Z",
     "iopub.status.idle": "2021-01-22T01:25:37.298864Z",
     "shell.execute_reply": "2021-01-22T01:25:37.297967Z",
     "shell.execute_reply.started": "2021-01-22T01:25:29.171840Z"
    }
   },
   "outputs": [
    {
     "name": "stdout",
     "output_type": "stream",
     "text": [
      "importing Jupyter notebook from code_create_objects.ipynb\n",
      "/Users/fx/Dropbox/AKuriyanLab/Code/Python/Python_Scripts/mv_repo/mutagenesis_visualization/main/notebooks\n",
      "importing Jupyter notebook from code_class.ipynb\n",
      "importing Jupyter notebook from code_kernel.ipynb\n",
      "importing Jupyter notebook from code_kwargs.ipynb\n",
      "importing Jupyter notebook from code_utils.ipynb\n",
      "importing Jupyter notebook from code_heatmaps.ipynb\n",
      "importing Jupyter notebook from code_bar.ipynb\n",
      "importing Jupyter notebook from code_scatter.ipynb\n",
      "importing Jupyter notebook from code_PCA.ipynb\n",
      "importing Jupyter notebook from code_other.ipynb\n",
      "importing Jupyter notebook from code_plotly.ipynb\n",
      "importing Jupyter notebook from code_pymol.ipynb\n",
      "importing Jupyter notebook from code_process_data.ipynb\n"
     ]
    }
   ],
   "source": [
    "import pandas as pd\n",
    "import numpy as np\n",
    "import traceback\n",
    "\n",
    "try:\n",
    "    from mutagenesis_visualization.main.scripts.code_create_objects import (\n",
    "        hras_RBD,\n",
    "        aph_obj,\n",
    "    )\n",
    "except ModuleNotFoundError:\n",
    "    import import_notebook\n",
    "    import os\n",
    "    directory = os.getcwd()\n",
    "    new_directory = directory.replace('tests', 'main')\n",
    "    os.chdir(new_directory)\n",
    "\n",
    "    import code_create_objects\n",
    "    from code_create_objects import (\n",
    "        hras_RBD,\n",
    "        aph_obj,\n",
    "    )\n",
    "    os.chdir(directory)"
   ]
  },
  {
   "cell_type": "markdown",
   "metadata": {},
   "source": [
    "# Test of plot_correlation"
   ]
  },
  {
   "cell_type": "code",
   "execution_count": 5,
   "metadata": {
    "execution": {
     "iopub.execute_input": "2021-01-20T00:13:22.153917Z",
     "iopub.status.busy": "2021-01-20T00:13:22.153064Z",
     "iopub.status.idle": "2021-01-20T00:13:22.163486Z",
     "shell.execute_reply": "2021-01-20T00:13:22.162479Z",
     "shell.execute_reply.started": "2021-01-20T00:13:22.153877Z"
    }
   },
   "outputs": [],
   "source": [
    "def test_plot_correlation():\n",
    "\n",
    "    # Create dictionary with objects\n",
    "    dict_obj = {\n",
    "        'obj_test_1': hras_RBD(),\n",
    "        #'obj_test_2': aph_obj(),\n",
    "    }\n",
    "\n",
    "    # Define aux function\n",
    "    def _test_plot_correlation(obj_test, parameters):\n",
    "        error = False\n",
    "        try:\n",
    "            obj_test.correlation(\n",
    "                **parameters\n",
    "            )  # pass dictionary as arguments of method\n",
    "        except Exception as e:\n",
    "            \n",
    "            error = True\n",
    "        return error\n",
    "\n",
    "    # Define dictionary of parameters\n",
    "    # Each dict in the list will be a different set of parameters\n",
    "    list_params = [\n",
    "        {\n",
    "            'show': False,\n",
    "        },\n",
    "        {\n",
    "            'figsize': (3, 2.5),\n",
    "            'y_label': r'$∆E^i_x$',\n",
    "            'show': False,\n",
    "        },\n",
    "    ]\n",
    "\n",
    "    # Assert\n",
    "    for obj_label, obj_test in dict_obj.items():  # Loop over the dictionary\n",
    "        for parameters in list_params:  # Loop over the parameters\n",
    "            assert _test_plot_correlation( # Assert that that set of parameters works on that object\n",
    "                obj_test,\n",
    "                parameters,\n",
    "            ) == False, \"plot_correlation failed with {} object and {} parameters\".format(\n",
    "                obj_label,\n",
    "                parameters,\n",
    "            )"
   ]
  },
  {
   "cell_type": "markdown",
   "metadata": {},
   "source": [
    "# Test of plot_individualcorrelation"
   ]
  },
  {
   "cell_type": "code",
   "execution_count": 4,
   "metadata": {},
   "outputs": [],
   "source": [
    "def test_plot_individual_correlation():\n",
    "\n",
    "    # Create dictionary with objects\n",
    "    dict_obj = {\n",
    "        'obj_test_1': hras_RBD(),\n",
    "        'obj_test_2': aph_obj(),\n",
    "    }\n",
    "\n",
    "    # Define aux function\n",
    "    def _test_plot_individual_correlation(obj_test, parameters):\n",
    "        error = False\n",
    "        try:\n",
    "            obj_test.individual_correlation(\n",
    "                **parameters\n",
    "            )  # pass dictionary as arguments of method\n",
    "        except Exception as e:\n",
    "            \n",
    "            print(e)\n",
    "            print(traceback.format_exc())\n",
    "            error = True\n",
    "        return error\n",
    "\n",
    "    # Define dictionary of parameters\n",
    "    # Each dict in the list will be a different set of parameters\n",
    "    list_params = [\n",
    "        {\n",
    "            'show': False,\n",
    "        },\n",
    "        {\n",
    "            'figsize': (3, 2.5),\n",
    "            'y_label': r'$∆E^i_x$',\n",
    "            'show': False,\n",
    "        },\n",
    "    ]\n",
    "\n",
    "    # Assert\n",
    "    for obj_label, obj_test in dict_obj.items():  # Loop over the dictionary\n",
    "        for parameters in list_params:  # Loop over the parameters\n",
    "            assert _test_plot_individual_correlation( # Assert that that set of parameters works on that object\n",
    "                obj_test,\n",
    "                parameters,\n",
    "            ) == False, \"plot_individual_correlation failed with {} object and {} parameters\".format(\n",
    "                obj_label,\n",
    "                parameters,\n",
    "            )"
   ]
  },
  {
   "cell_type": "markdown",
   "metadata": {},
   "source": [
    "# Test of plot_group_correlation"
   ]
  },
  {
   "cell_type": "code",
   "execution_count": 10,
   "metadata": {
    "execution": {
     "iopub.execute_input": "2021-01-20T00:17:08.232723Z",
     "iopub.status.busy": "2021-01-20T00:17:08.232428Z",
     "iopub.status.idle": "2021-01-20T00:17:08.241795Z",
     "shell.execute_reply": "2021-01-20T00:17:08.240966Z",
     "shell.execute_reply.started": "2021-01-20T00:17:08.232692Z"
    }
   },
   "outputs": [],
   "source": [
    "def test_plot_group_correlation():\n",
    "\n",
    "    # Create dictionary with objects\n",
    "    dict_obj = {\n",
    "        'obj_test_1': hras_RBD(),\n",
    "        #'obj_test_2': aph_obj(),\n",
    "    }\n",
    "\n",
    "    # Define aux function\n",
    "    def _test_plot_group_correlation(obj_test, parameters):\n",
    "        error = False\n",
    "        try:\n",
    "            obj_test.group_correlation(\n",
    "                r2=0.75,\n",
    "                groups=['DE', 'HKR', 'QN', 'CST', 'AG', 'ILMV', 'WYF', 'P'],\n",
    "                **parameters\n",
    "            )  # pass dictionary as arguments of method\n",
    "        except Exception as e:\n",
    "            \n",
    "            error = True\n",
    "        return error\n",
    "\n",
    "    # Define dictionary of parameters\n",
    "    # Each dict in the list will be a different set of parameters\n",
    "    list_params = [\n",
    "        {\n",
    "            'show': False,\n",
    "        },\n",
    "        {\n",
    "            'figsize': (3, 2.5),\n",
    "            'y_label': r'$∆E^i_x$',\n",
    "            'show': False,\n",
    "        },\n",
    "    ]\n",
    "\n",
    "    # Assert\n",
    "    for obj_label, obj_test in dict_obj.items():  # Loop over the dictionary\n",
    "        for parameters in list_params:  # Loop over the parameters\n",
    "            assert _test_plot_group_correlation( # Assert that that set of parameters works on that object\n",
    "                obj_test,\n",
    "                parameters,\n",
    "            ) == False, \"plot_group_correlation failed with {} object and {} parameters\".format(\n",
    "                obj_label,\n",
    "                parameters,\n",
    "            )"
   ]
  },
  {
   "cell_type": "markdown",
   "metadata": {},
   "source": [
    "# Test of plot_pca"
   ]
  },
  {
   "cell_type": "code",
   "execution_count": 2,
   "metadata": {
    "execution": {
     "iopub.execute_input": "2021-01-22T01:27:41.712137Z",
     "iopub.status.busy": "2021-01-22T01:27:41.711901Z",
     "iopub.status.idle": "2021-01-22T01:27:41.721215Z",
     "shell.execute_reply": "2021-01-22T01:27:41.720469Z",
     "shell.execute_reply.started": "2021-01-22T01:27:41.712111Z"
    }
   },
   "outputs": [],
   "source": [
    "def test_plot_pca():\n",
    "\n",
    "    # Create dictionary with objects\n",
    "    dict_obj = {\n",
    "        'obj_test_1': hras_RBD(),\n",
    "        'obj_test_2': aph_obj(),\n",
    "    }\n",
    "\n",
    "    # Define aux function\n",
    "    def _test_plot_pca(obj_test, parameters):\n",
    "        error = False\n",
    "        try:\n",
    "            obj_test.pca(**parameters)  # pass dictionary as arguments of method\n",
    "        except Exception as e:\n",
    "            \n",
    "            print(e)\n",
    "            print(traceback.format_exc())\n",
    "            error = True\n",
    "        return error\n",
    "\n",
    "    # Define dictionary of parameters\n",
    "    # Each dict in the list will be a different set of parameters\n",
    "    list_params = [\n",
    "        {\n",
    "            'show': False,\n",
    "        },\n",
    "        {\n",
    "            'mode': 'individual',\n",
    "            'show': False,\n",
    "        },\n",
    "        {\n",
    "            'mode': 'secondary',\n",
    "            'figsize': (3, 2.5),\n",
    "            'y_label': r'$∆E^i_x$',\n",
    "            'show': False,\n",
    "        },\n",
    "    ]\n",
    "\n",
    "    # Assert\n",
    "    for obj_label, obj_test in dict_obj.items():  # Loop over the dictionary\n",
    "        for parameters in list_params:  # Loop over the parameters\n",
    "            assert _test_plot_pca( # Assert that that set of parameters works on that object\n",
    "                obj_test,\n",
    "                parameters,\n",
    "            ) == False, \"plot_pca failed with {} object and {} parameters\".format(\n",
    "                obj_label,\n",
    "                parameters,\n",
    "            )"
   ]
  },
  {
   "cell_type": "code",
   "execution_count": null,
   "metadata": {},
   "outputs": [],
   "source": []
  }
 ],
 "metadata": {
  "kernelspec": {
   "display_name": "Python 3",
   "language": "python",
   "name": "python3"
  },
  "language_info": {
   "codemirror_mode": {
    "name": "ipython",
    "version": 3
   },
   "file_extension": ".py",
   "mimetype": "text/x-python",
   "name": "python",
   "nbconvert_exporter": "python",
   "pygments_lexer": "ipython3",
   "version": "3.8.3"
  }
 },
 "nbformat": 4,
 "nbformat_minor": 4
}
