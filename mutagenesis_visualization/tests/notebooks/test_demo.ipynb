{
 "cells": [
  {
   "cell_type": "code",
   "execution_count": 1,
   "metadata": {
    "execution": {
     "iopub.execute_input": "2020-11-21T05:41:42.210009Z",
     "iopub.status.busy": "2020-11-21T05:41:42.209739Z",
     "iopub.status.idle": "2020-11-21T05:41:45.936730Z",
     "shell.execute_reply": "2020-11-21T05:41:45.932141Z",
     "shell.execute_reply.started": "2020-11-21T05:41:42.209981Z"
    }
   },
   "outputs": [
    {
     "name": "stdout",
     "output_type": "stream",
     "text": [
      "importing Jupyter notebook from code_demo.ipynb\n",
      "importing Jupyter notebook from code_class.ipynb\n",
      "importing Jupyter notebook from code_kernel.ipynb\n",
      "importing Jupyter notebook from code_kwargs.ipynb\n",
      "importing Jupyter notebook from code_utils.ipynb\n",
      "importing Jupyter notebook from code_heatmaps.ipynb\n",
      "importing Jupyter notebook from code_bar.ipynb\n",
      "importing Jupyter notebook from code_scatter.ipynb\n",
      "importing Jupyter notebook from code_PCA.ipynb\n",
      "importing Jupyter notebook from code_other.ipynb\n",
      "importing Jupyter notebook from code_3D.ipynb\n",
      "importing Jupyter notebook from code_plotly.ipynb\n"
     ]
    }
   ],
   "source": [
    "try:\n",
    "    from mutagenesis_visualization.main.scripts.code_demo import (\n",
    "        demo, demo_datasets, demo_pdbs, demo_fasta\n",
    "    )\n",
    "except ModuleNotFoundError:\n",
    "    import import_notebook\n",
    "    import os\n",
    "    directory = os.getcwd()\n",
    "    new_directory = directory.replace('tests', 'main')\n",
    "    os.chdir(new_directory)\n",
    "    from code_demo import (demo, demo_datasets, demo_pdbs, demo_fasta)\n",
    "    os.chdir(directory)"
   ]
  },
  {
   "cell_type": "code",
   "execution_count": 28,
   "metadata": {
    "execution": {
     "iopub.execute_input": "2020-11-21T05:48:33.590842Z",
     "iopub.status.busy": "2020-11-21T05:48:33.590565Z",
     "iopub.status.idle": "2020-11-21T05:48:33.597088Z",
     "shell.execute_reply": "2020-11-21T05:48:33.596383Z",
     "shell.execute_reply.started": "2020-11-21T05:48:33.590814Z"
    }
   },
   "outputs": [],
   "source": [
    "def test_demo():\n",
    "    """\n",
    "    This function will test that demo is capable of generating the \n",
    "    types of figures ('heatmap', 'miniheatmap', 'mean', 'kernel', 'pca',\n",
    "    'position', 'secondary_mean', 'correlation', 'individual_correlation') that demo()\n",
    "    is supposed to. Will raise an error if at least one of the plots does not work.\n",
    "    """\n",
    "    def _test_output_demo(argument):\n",
    "        """\n",
    "        Aux function for test_demo.\n",
    "        Will try to run a demo function, will return True if there is an error.\n",
    "        """\n",
    "        error = False\n",
    "        try:\n",
    "            demo(argument, show=False)\n",
    "        except:\n",
    "            error = True\n",
    "        return error\n",
    "\n",
    "    arguments = [\n",
    "        'heatmap', 'miniheatmap', 'mean', 'kernel', 'pca', 'position',\n",
    "        'secondary_mean', 'correlation', 'individual_correlation'\n",
    "    ]\n",
    "    solutions = [_test_output_demo(argument) for argument in arguments]\n",
    "\n",
    "    failed = [arg for arg, sol in zip(arguments, solutions) if sol is True]\n",
    "\n",
    "    assert any(solutions) == False, 'the following failed: {}'.format(\n",
    "        str(failed)\n",
    "    )"
   ]
  },
  {
   "cell_type": "code",
   "execution_count": null,
   "metadata": {},
   "outputs": [],
   "source": [
    "def test_demo_pdbs():\n",
    "    """test that function returns dictionary"""\n",
    "    assert (\n",
    "        str(type(demo_pdbs()))\n",
    "    ) == \"<class 'dict'>\", \"function demo_pdbs failed\""
   ]
  },
  {
   "cell_type": "code",
   "execution_count": null,
   "metadata": {},
   "outputs": [],
   "source": [
    "def test_demo_datasets():\n",
    "    """test that function returns dictionary"""\n",
    "    assert (\n",
    "        str(type(demo_datasets()))\n",
    "    ) == \"<class 'dict'>\", \"function demo_datasets failed\""
   ]
  },
  {
   "cell_type": "code",
   "execution_count": null,
   "metadata": {},
   "outputs": [],
   "source": [
    "def test_demo_fasta():\n",
    "    """test that function returns dictionary"""\n",
    "    assert (\n",
    "        str(type(demo_fasta()))\n",
    "    ) == \"<class 'dict'>\", \"function demo_fasta failed\""
   ]
  }
 ],
 "metadata": {
  "kernelspec": {
   "display_name": "Python 3",
   "language": "python",
   "name": "python3"
  },
  "language_info": {
   "codemirror_mode": {
    "name": "ipython",
    "version": 3
   },
   "file_extension": ".py",
   "mimetype": "text/x-python",
   "name": "python",
   "nbconvert_exporter": "python",
   "pygments_lexer": "ipython3",
   "version": "3.8.3"
  }
 },
 "nbformat": 4,
 "nbformat_minor": 4
}
