{
 "cells": [
  {
   "cell_type": "markdown",
   "metadata": {
    "execution": {
     "iopub.execute_input": "2020-11-13T04:23:34.797446Z",
     "iopub.status.busy": "2020-11-13T04:23:34.796905Z",
     "iopub.status.idle": "2020-11-13T04:23:35.479407Z",
     "shell.execute_reply": "2020-11-13T04:23:35.478761Z",
     "shell.execute_reply.started": "2020-11-13T04:23:34.797414Z"
    }
   },
   "source": [
    "# Test of code_heatmaps\n"
   ]
  },
  {
   "cell_type": "markdown",
   "metadata": {},
   "source": [
    "## Import modules"
   ]
  },
  {
   "cell_type": "code",
   "execution_count": 1,
   "metadata": {
    "execution": {
     "iopub.execute_input": "2021-01-22T01:33:56.486136Z",
     "iopub.status.busy": "2021-01-22T01:33:56.485778Z",
     "iopub.status.idle": "2021-01-22T01:34:03.274648Z",
     "shell.execute_reply": "2021-01-22T01:34:03.272599Z",
     "shell.execute_reply.started": "2021-01-22T01:33:56.486107Z"
    }
   },
   "outputs": [
    {
     "name": "stdout",
     "output_type": "stream",
     "text": [
      "importing Jupyter notebook from code_heatmaps.ipynb\n",
      "importing Jupyter notebook from code_kwargs.ipynb\n",
      "importing Jupyter notebook from code_utils.ipynb\n",
      "importing Jupyter notebook from code_create_objects.ipynb\n",
      "/Users/fx/Dropbox/AKuriyanLab/Code/Python/Python_Scripts/mv_repo/mutagenesis_visualization/main/notebooks\n",
      "importing Jupyter notebook from code_class.ipynb\n",
      "importing Jupyter notebook from code_kernel.ipynb\n",
      "importing Jupyter notebook from code_bar.ipynb\n",
      "importing Jupyter notebook from code_scatter.ipynb\n",
      "importing Jupyter notebook from code_PCA.ipynb\n",
      "importing Jupyter notebook from code_other.ipynb\n",
      "importing Jupyter notebook from code_plotly.ipynb\n",
      "importing Jupyter notebook from code_pymol.ipynb\n",
      "importing Jupyter notebook from code_process_data.ipynb\n"
     ]
    }
   ],
   "source": [
    "import pandas as pd\n",
    "import numpy as np\n",
    "\n",
    "try:\n",
    "    from mutagenesis_visualization.main.scripts.code_heatmaps import (\n",
    "        _hierarchical_sort, _helix, _labels, _sheet, _loop, plot_heatmap,\n",
    "        plot_heatmap_rows, plot_heatmap_columns\n",
    "    )\n",
    "    from mutagenesis_visualization.main.scripts.code_create_objects import (\n",
    "        hras_RBD\n",
    "    )\n",
    "except ModuleNotFoundError:\n",
    "    import import_notebook\n",
    "    import os\n",
    "    directory = os.getcwd()\n",
    "    new_directory = directory.replace('tests', 'main')\n",
    "    os.chdir(new_directory)\n",
    "    from code_heatmaps import (\n",
    "        _hierarchical_sort, _helix, _labels, _sheet, _loop, plot_heatmap,\n",
    "        plot_heatmap_rows, plot_heatmap_columns\n",
    "    )\n",
    "    from code_create_objects import (hras_RBD)\n",
    "    os.chdir(directory)"
   ]
  },
  {
   "cell_type": "markdown",
   "metadata": {},
   "source": [
    "## Test main functions"
   ]
  },
  {
   "cell_type": "code",
   "execution_count": 2,
   "metadata": {
    "execution": {
     "iopub.execute_input": "2020-11-23T23:42:23.495250Z",
     "iopub.status.busy": "2020-11-23T23:42:23.494981Z",
     "iopub.status.idle": "2020-11-23T23:42:23.502378Z",
     "shell.execute_reply": "2020-11-23T23:42:23.501373Z",
     "shell.execute_reply.started": "2020-11-23T23:42:23.495220Z"
    }
   },
   "outputs": [],
   "source": [
    "def test_plot_heatmap():\n",
    "    # Get object\n",
    "    obj_test = hras_RBD()\n",
    "\n",
    "    # Define aux function\n",
    "    def _test_plot_heatmap_output(parameters):\n",
    "        error = False\n",
    "        try:\n",
    "            obj_test.heatmap(\n",
    "                **parameters\n",
    "            )  # pass dictionary as arguments of method\n",
    "        except:\n",
    "            error = True\n",
    "        return error\n",
    "\n",
    "    # Define dictionary of parameters\n",
    "    # Each dict in the list will be a different set of parameters\n",
    "    list_params = [{'show': False}, {'hierarchical': True, 'show':\n",
    "                                     False}, {'show_snv': True, 'show': False},\n",
    "                   {'show_cartoon': True, 'show': False}]\n",
    "\n",
    "    # Assert\n",
    "    for parameters in list_params:\n",
    "        assert _test_plot_heatmap_output(\n",
    "            parameters\n",
    "        ) == False, \"plot_heatmap failed with {} parameters\".format(parameters)"
   ]
  },
  {
   "cell_type": "markdown",
   "metadata": {},
   "source": [
    "## Test plot_heatmap_rows"
   ]
  },
  {
   "cell_type": "code",
   "execution_count": 2,
   "metadata": {
    "execution": {
     "iopub.execute_input": "2021-01-22T01:34:03.279651Z",
     "iopub.status.busy": "2021-01-22T01:34:03.279407Z",
     "iopub.status.idle": "2021-01-22T01:34:03.295967Z",
     "shell.execute_reply": "2021-01-22T01:34:03.294272Z",
     "shell.execute_reply.started": "2021-01-22T01:34:03.279623Z"
    }
   },
   "outputs": [],
   "source": [
    "def test_plot_heatmap_rows():\n",
    "    # Get object\n",
    "    obj_test = hras_RBD()\n",
    "\n",
    "    # Define aux function\n",
    "    def _test_plot_heatmap_rows_output(parameters):\n",
    "        error = False\n",
    "        try:\n",
    "            obj_test.heatmap_rows(\n",
    "                **parameters\n",
    "            )  # pass dictionary as arguments of method\n",
    "        except:\n",
    "            error = True\n",
    "        return error\n",
    "\n",
    "    # Define dictionary of parameters\n",
    "    # Each dict in the list will be a different set of parameters\n",
    "    list_params = [{'show': False}]\n",
    "\n",
    "    # Assert\n",
    "    for parameters in list_params:\n",
    "        assert _test_plot_heatmap_rows_output(\n",
    "            parameters\n",
    "        ) == False, \"plot_heatmap_rows failed with {} parameters\".format(parameters)"
   ]
  },
  {
   "cell_type": "markdown",
   "metadata": {},
   "source": [
    "## Test plot_heatmap_columns"
   ]
  },
  {
   "cell_type": "code",
   "execution_count": 5,
   "metadata": {
    "execution": {
     "iopub.execute_input": "2021-01-22T01:34:31.967569Z",
     "iopub.status.busy": "2021-01-22T01:34:31.966620Z",
     "iopub.status.idle": "2021-01-22T01:34:31.974009Z",
     "shell.execute_reply": "2021-01-22T01:34:31.973045Z",
     "shell.execute_reply.started": "2021-01-22T01:34:31.967528Z"
    }
   },
   "outputs": [],
   "source": [
    "def test_plot_heatmap_columns():\n",
    "    # Get object\n",
    "    obj_test = hras_RBD()\n",
    "\n",
    "    # Define aux function\n",
    "    def _test_plot_heatmap_columns_output(parameters):\n",
    "        error = False\n",
    "        try:\n",
    "            obj_test.heatmap_columns(\n",
    "                **parameters\n",
    "            )  # pass dictionary as arguments of method\n",
    "        except:\n",
    "            error = True\n",
    "        return error\n",
    "\n",
    "    # Define dictionary of parameters\n",
    "    # Each dict in the list will be a different set of parameters\n",
    "    list_params = [{'segment':[20,40],'show': False}]\n",
    "\n",
    "    # Assert\n",
    "    for parameters in list_params:\n",
    "        assert _test_plot_heatmap_columns_output(\n",
    "            parameters\n",
    "        ) == False, \"plot_heatmap_columns failed with {} parameters\".format(parameters)"
   ]
  },
  {
   "cell_type": "markdown",
   "metadata": {
    "execution": {
     "iopub.execute_input": "2020-11-13T04:38:18.165953Z",
     "iopub.status.busy": "2020-11-13T04:38:18.165758Z",
     "iopub.status.idle": "2020-11-13T04:38:18.169695Z",
     "shell.execute_reply": "2020-11-13T04:38:18.168850Z",
     "shell.execute_reply.started": "2020-11-13T04:38:18.165933Z"
    }
   },
   "source": [
    "## Test aux functions"
   ]
  },
  {
   "cell_type": "code",
   "execution_count": null,
   "metadata": {},
   "outputs": [],
   "source": [
    "def test_hierarchical_sort():\n",
    "    df = pd.DataFrame([[1, 7, 6, 2], [0, 0, 0, 0], [10, 10, 10, 10],\n",
    "                       [1, 1, 1, 1]])\n",
    "    result = _hierarchical_sort(df.T)\n",
    "    assert (result == [2, 0, 1, 3]).all(), 'columns are not properly sorted out'"
   ]
  },
  {
   "cell_type": "code",
   "execution_count": null,
   "metadata": {},
   "outputs": [],
   "source": [
    "def test_helix():\n",
    "    """testing function produces matplotlib object"""\n",
    "    assert (\n",
    "        str(type(_helix(0, 5))) == \"<class 'matplotlib.patches.Rectangle'>\"\n",
    "    ), \"function _helix failed\""
   ]
  },
  {
   "cell_type": "code",
   "execution_count": null,
   "metadata": {},
   "outputs": [],
   "source": [
    "def test_labels():\n",
    "    \"\"\"testing function produces tuple\"\"\"\n",
    "    assert (\n",
    "        str(type(_labels(1)))\n",
    "    ) == \"<class 'tuple'>\", \"function _labels failed\""
   ]
  },
  {
   "cell_type": "code",
   "execution_count": null,
   "metadata": {},
   "outputs": [],
   "source": [
    "def test_sheet():\n",
    "    \"\"\"testing function prouduces matplotlib object\"\"\"\n",
    "    assert (\n",
    "        str(type(_sheet(1, 5)))\n",
    "    ) == \"<class 'matplotlib.patches.FancyArrow'>\", \"function _sheet failed\""
   ]
  },
  {
   "cell_type": "code",
   "execution_count": null,
   "metadata": {},
   "outputs": [],
   "source": [
    "def test_loop():\n",
    "    """testing function produces matplotlib object"""\n",
    "    assert (\n",
    "        str(type(_loop(1, 5)))\n",
    "    ) == \"<class 'matplotlib.patches.Rectangle'>\", \"function _loop failed\""
   ]
  }
 ],
 "metadata": {
  "kernelspec": {
   "display_name": "Python 3",
   "language": "python",
   "name": "python3"
  },
  "language_info": {
   "codemirror_mode": {
    "name": "ipython",
    "version": 3
   },
   "file_extension": ".py",
   "mimetype": "text/x-python",
   "name": "python",
   "nbconvert_exporter": "python",
   "pygments_lexer": "ipython3",
   "version": "3.8.3"
  }
 },
 "nbformat": 4,
 "nbformat_minor": 4
}
