{
 "cells": [
  {
   "cell_type": "markdown",
   "metadata": {},
   "source": [
    "# Test of code_bar"
   ]
  },
  {
   "cell_type": "code",
   "execution_count": 1,
   "metadata": {
    "execution": {
     "iopub.execute_input": "2021-01-22T17:13:48.807423Z",
     "iopub.status.busy": "2021-01-22T17:13:48.806969Z",
     "iopub.status.idle": "2021-01-22T17:13:53.517251Z",
     "shell.execute_reply": "2021-01-22T17:13:53.516418Z",
     "shell.execute_reply.started": "2021-01-22T17:13:48.807395Z"
    }
   },
   "outputs": [
    {
     "name": "stdout",
     "output_type": "stream",
     "text": [
      "importing Jupyter notebook from code_create_objects.ipynb\n",
      "/Users/fx/Dropbox/AKuriyanLab/Code/Python/Python_Scripts/mv_repo/mutagenesis_visualization/main/notebooks\n",
      "importing Jupyter notebook from code_class.ipynb\n",
      "importing Jupyter notebook from code_kernel.ipynb\n",
      "importing Jupyter notebook from code_kwargs.ipynb\n",
      "importing Jupyter notebook from code_utils.ipynb\n",
      "importing Jupyter notebook from code_heatmaps.ipynb\n",
      "importing Jupyter notebook from code_bar.ipynb\n",
      "importing Jupyter notebook from code_scatter.ipynb\n",
      "importing Jupyter notebook from code_PCA.ipynb\n",
      "importing Jupyter notebook from code_other.ipynb\n",
      "importing Jupyter notebook from code_plotly.ipynb\n",
      "importing Jupyter notebook from code_pymol.ipynb\n",
      "importing Jupyter notebook from code_process_data.ipynb\n"
     ]
    }
   ],
   "source": [
    "import pandas as pd\n",
    "import numpy as np\n",
    "import traceback\n",
    "\n",
    "try:\n",
    "    from mutagenesis_visualization.main.scripts.code_create_objects import (\n",
    "        hras_RBD,\n",
    "        hras_counts,\n",
    "        aph_obj,\n",
    "    )\n",
    "except ModuleNotFoundError:\n",
    "    import import_notebook\n",
    "    import os\n",
    "    directory = os.getcwd()\n",
    "    new_directory = directory.replace('tests', 'main')\n",
    "    os.chdir(new_directory)\n",
    "\n",
    "    import code_create_objects\n",
    "    from code_create_objects import (\n",
    "        hras_RBD,\n",
    "        hras_counts,\n",
    "        aph_obj,\n",
    "     )\n",
    "    os.chdir(directory)\n"
   ]
  },
  {
   "cell_type": "markdown",
   "metadata": {},
   "source": [
    "# Test bar graph with mean enrichment"
   ]
  },
  {
   "cell_type": "code",
   "execution_count": 3,
   "metadata": {
    "execution": {
     "iopub.execute_input": "2021-01-22T17:14:00.875965Z",
     "iopub.status.busy": "2021-01-22T17:14:00.875656Z",
     "iopub.status.idle": "2021-01-22T17:14:00.885375Z",
     "shell.execute_reply": "2021-01-22T17:14:00.883785Z",
     "shell.execute_reply.started": "2021-01-22T17:14:00.875933Z"
    }
   },
   "outputs": [],
   "source": [
    "def test_plot_mean():\n",
    "    \n",
    "    # Create dictionary with objects\n",
    "    dict_obj = {\n",
    "        'obj_test_1': hras_RBD(),\n",
    "        'obj_test_2': aph_obj(),\n",
    "    }\n",
    "\n",
    "    # Define aux function\n",
    "    def _test_plot_mean_output(obj_test, parameters):\n",
    "        error = False\n",
    "        try:\n",
    "            obj_test.mean(\n",
    "                **parameters\n",
    "            )  # pass dictionary as arguments of method\n",
    "        except:\n",
    "            error = True\n",
    "        return error\n",
    "\n",
    "    # Define dictionary of parameters\n",
    "    # Each dict in the list will be a different set of parameters\n",
    "    list_params = [\n",
    "        {\n",
    "            'show': False,\n",
    "        },\n",
    "        {\n",
    "            'mode':'A',\n",
    "            'figsize': (3, 2.5),\n",
    "            'y_label': r'$∆E^i_x$',\n",
    "            'show': False,\n",
    "            'return_plot_object':True,\n",
    "        },\n",
    "    ]\n",
    "\n",
    "    # Assert\n",
    "    for obj_label, obj_test in dict_obj.items(): # Loop over the dictionary\n",
    "        for parameters in list_params: # Loop over the parameters\n",
    "            assert _test_plot_mean_output( # Assert that that set of parameters works on that object\n",
    "                obj_test,\n",
    "                parameters,\n",
    "            ) == False, \"plot_mean failed with {} object and {} parameters\".format(\n",
    "                obj_label,\n",
    "                parameters,\n",
    "            )"
   ]
  },
  {
   "cell_type": "markdown",
   "metadata": {},
   "source": [
    "## Test Mean Differential Graph\n"
   ]
  },
  {
   "cell_type": "code",
   "execution_count": 5,
   "metadata": {
    "execution": {
     "iopub.execute_input": "2021-01-22T17:15:06.402309Z",
     "iopub.status.busy": "2021-01-22T17:15:06.401823Z",
     "iopub.status.idle": "2021-01-22T17:15:06.412319Z",
     "shell.execute_reply": "2021-01-22T17:15:06.410864Z",
     "shell.execute_reply.started": "2021-01-22T17:15:06.402272Z"
    }
   },
   "outputs": [],
   "source": [
    "def test_plot_meandifferential():\n",
    "    \n",
    "    # Create dictionary with objects\n",
    "    dict_obj = {\n",
    "        'obj_test_1': hras_RBD(),\n",
    "        'obj_test_2': aph_obj(),\n",
    "    }\n",
    "\n",
    "    # Define aux function\n",
    "    def _test_plot_meandifferential_output(obj_test, parameters):\n",
    "        error = False\n",
    "        try:\n",
    "            obj_test.differential(obj_test,\n",
    "                **parameters\n",
    "            )  # pass dictionary as arguments of method\n",
    "        except:\n",
    "            error = True\n",
    "        return error\n",
    "\n",
    "    # Define dictionary of parameters\n",
    "    # Each dict in the list will be a different set of parameters\n",
    "    list_params = [\n",
    "        {\n",
    "            'show': False,\n",
    "        },\n",
    "        {\n",
    "            'show_cartoon':True,\n",
    "            'figsize': (3, 2.5),\n",
    "            'y_label': r'$∆E^i_x$',\n",
    "            'show': False,\n",
    "        },\n",
    "    ]\n",
    "\n",
    "    # Assert\n",
    "    for obj_label, obj_test in dict_obj.items(): # Loop over the dictionary\n",
    "        for parameters in list_params: # Loop over the parameters\n",
    "            assert _test_plot_meandifferential_output( # Assert that that set of parameters works on that object\n",
    "                obj_test,\n",
    "                parameters,\n",
    "            ) == False, \"plot_meandifferential failed with {} object and {} parameters\".format(\n",
    "                obj_label,\n",
    "                parameters,\n",
    "            )"
   ]
  },
  {
   "cell_type": "markdown",
   "metadata": {},
   "source": [
    "## Test Plot Mean Counts Graph"
   ]
  },
  {
   "cell_type": "code",
   "execution_count": 15,
   "metadata": {
    "execution": {
     "iopub.execute_input": "2021-01-22T17:20:23.488975Z",
     "iopub.status.busy": "2021-01-22T17:20:23.488645Z",
     "iopub.status.idle": "2021-01-22T17:20:23.499115Z",
     "shell.execute_reply": "2021-01-22T17:20:23.495938Z",
     "shell.execute_reply.started": "2021-01-22T17:20:23.488942Z"
    }
   },
   "outputs": [],
   "source": [
    "def test_plot_meancounts():\n",
    "    \n",
    "    # Create dictionary with objects\n",
    "    dict_obj = {\n",
    "        'obj_test_1': hras_counts(),\n",
    "  #      'obj_test_2': aph_obj(),\n",
    "    }\n",
    "\n",
    "    # Define aux function\n",
    "    def _test_plot_meancounts_output(obj_test, parameters):\n",
    "        error = False\n",
    "        try:\n",
    "            obj_test.mean_counts(\n",
    "                **parameters\n",
    "            )  # pass dictionary as arguments of method\n",
    "        except Exception as e:\n",
    "            \n",
    "            print(e)\n",
    "            print(traceback.format_exc())\n",
    "            error = True\n",
    "        return error\n",
    "\n",
    "    # Define dictionary of parameters\n",
    "    # Each dict in the list will be a different set of parameters\n",
    "    list_params = [\n",
    "        {\n",
    "            'show': False,\n",
    "        },\n",
    "        {\n",
    "            'figsize': (3, 2.5),\n",
    "            'y_label': r'$∆E^i_x$',\n",
    "            'show': False,\n",
    "            'text_labels':[[1,1,'label']]\n",
    "        },\n",
    "    ]\n",
    "\n",
    "    # Assert\n",
    "    for obj_label, obj_test in dict_obj.items(): # Loop over the dictionary\n",
    "        for parameters in list_params: # Loop over the parameters\n",
    "            assert _test_plot_meancounts_output( # Assert that that set of parameters works on that object\n",
    "                obj_test,\n",
    "                parameters,\n",
    "            ) == False, \"plot_meancounts failed with {} object and {} parameters\".format(\n",
    "                obj_label,\n",
    "                parameters,\n",
    "            )"
   ]
  },
  {
   "cell_type": "markdown",
   "metadata": {},
   "source": [
    "## Test Plot Positional Graph"
   ]
  },
  {
   "cell_type": "code",
   "execution_count": 9,
   "metadata": {
    "execution": {
     "iopub.execute_input": "2021-01-20T03:18:11.879189Z",
     "iopub.status.busy": "2021-01-20T03:18:11.878652Z",
     "iopub.status.idle": "2021-01-20T03:18:11.888091Z",
     "shell.execute_reply": "2021-01-20T03:18:11.886660Z",
     "shell.execute_reply.started": "2021-01-20T03:18:11.879157Z"
    }
   },
   "outputs": [],
   "source": [
    "#does not work when the position is 1 --should make a note of this somewhere\n",
    "def test_plot_position():\n",
    "    \n",
    "    # Create dictionary with objects\n",
    "    dict_obj = {\n",
    "        'obj_test_1': hras_RBD(),\n",
    "        'obj_test_2': aph_obj(),\n",
    "    }\n",
    "\n",
    "    # Define aux function\n",
    "    def _test_plot_position_output(obj_test, parameters):\n",
    "        error = False\n",
    "        try:\n",
    "            obj_test.position(position = 15,\n",
    "                **parameters\n",
    "            )  # pass dictionary as arguments of method\n",
    "        except:\n",
    "            error = True\n",
    "        return error\n",
    "\n",
    "    # Define dictionary of parameters\n",
    "    # Each dict in the list will be a different set of parameters\n",
    "    list_params = [\n",
    "        {\n",
    "            'show': False,\n",
    "        },\n",
    "        {\n",
    "            'figsize': (3, 2.5),\n",
    "            'y_label': r'$∆E^i_x$',\n",
    "            'show': False,\n",
    "        },\n",
    "    ]\n",
    "\n",
    "    # Assert\n",
    "    for obj_label, obj_test in dict_obj.items(): # Loop over the dictionary\n",
    "        for parameters in list_params: # Loop over the parameters\n",
    "            assert _test_plot_position_output( # Assert that that set of parameters works on that object\n",
    "                obj_test,\n",
    "                parameters,\n",
    "            ) == False, \"plot_position failed with {} object and {} parameters\".format(\n",
    "                obj_label,\n",
    "                parameters,\n",
    "            )"
   ]
  },
  {
   "cell_type": "code",
   "execution_count": 12,
   "metadata": {},
   "outputs": [],
   "source": [
    "def test_plot_library_representation():\n",
    "    \n",
    "    # Create dictionary with objects\n",
    "    dict_obj = {\n",
    "        'obj_test_1': hras_counts(),\n",
    " #       'obj_test_2': aph_obj(),\n",
    "    }\n",
    "\n",
    "    # Define aux function\n",
    "    def _test_plot_library_representation(obj_test, parameters):\n",
    "        error = False\n",
    "        try:\n",
    "            obj_test.library_representation(\n",
    "                **parameters\n",
    "            )  # pass dictionary as arguments of method\n",
    "        except Exception as e:\n",
    "            \n",
    "            print(e)\n",
    "            print(traceback.format_exc())\n",
    "            error = True\n",
    "        return error\n",
    "\n",
    "    # Define dictionary of parameters\n",
    "    # Each dict in the list will be a different set of parameters\n",
    "    list_params = [\n",
    "        {\n",
    "            'show': False,\n",
    "        },\n",
    "        {\n",
    "            'figsize': (3, 2.5), #legend does not change to scale --line 70-80 of code_bar of plot_library_representation\n",
    "            'y_label': r'$∆E^i_x$', #y_label does not change --line 47 of code_bar of plot_library_representation\n",
    "            'show': False,\n",
    "            'title':'go bears'\n",
    "        },\n",
    "    ]\n",
    "\n",
    "    # Assert\n",
    "    for obj_label, obj_test in dict_obj.items(): # Loop over the dictionary\n",
    "        for parameters in list_params: # Loop over the parameters\n",
    "            assert _test_plot_library_representation( # Assert that that set of parameters works on that object\n",
    "                obj_test,\n",
    "                parameters,\n",
    "            ) == False, \"plot_library failed with {} object and {} parameters\".format(\n",
    "                obj_label,\n",
    "                parameters,\n",
    "            )"
   ]
  },
  {
   "cell_type": "code",
   "execution_count": 11,
   "metadata": {},
   "outputs": [
    {
     "data": {
      "image/png": "[encoded data removed]",
      "text/plain": [
       "<Figure size 720x288 with 1 Axes>"
      ]
     },
     "metadata": {
      "needs_background": "light"
     },
     "output_type": "display_data"
    },
    {
     "data": {
      "image/png": "[encoded data removed]",
      "text/plain": [
       "<Figure size 216x180 with 1 Axes>"
      ]
     },
     "metadata": {
      "needs_background": "light"
     },
     "output_type": "display_data"
    }
   ],
   "source": [
    "test_plot_library_representation()"
   ]
  }
 ],
 "metadata": {
  "kernelspec": {
   "display_name": "Python 3",
   "language": "python",
   "name": "python3"
  },
  "language_info": {
   "codemirror_mode": {
    "name": "ipython",
    "version": 3
   },
   "file_extension": ".py",
   "mimetype": "text/x-python",
   "name": "python",
   "nbconvert_exporter": "python",
   "pygments_lexer": "ipython3",
   "version": "3.8.3"
  }
 },
 "nbformat": 4,
 "nbformat_minor": 4
}
