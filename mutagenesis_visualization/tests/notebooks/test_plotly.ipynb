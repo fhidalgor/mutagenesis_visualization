{
 "cells": [
  {
   "cell_type": "markdown",
   "metadata": {},
   "source": [
    "# Test of code_plotly"
   ]
  },
  {
   "cell_type": "code",
   "execution_count": 3,
   "metadata": {
    "execution": {
     "iopub.execute_input": "2021-01-22T19:00:54.094493Z",
     "iopub.status.busy": "2021-01-22T19:00:54.094284Z",
     "iopub.status.idle": "2021-01-22T19:00:57.223357Z",
     "shell.execute_reply": "2021-01-22T19:00:57.222393Z",
     "shell.execute_reply.started": "2021-01-22T19:00:54.094473Z"
    }
   },
   "outputs": [
    {
     "name": "stdout",
     "output_type": "stream",
     "text": [
      "importing Jupyter notebook from code_create_objects.ipynb\n",
      "/Users/fx/Dropbox/AKuriyanLab/Code/Python/Python_Scripts/mv_repo/mutagenesis_visualization/main/notebooks\n",
      "importing Jupyter notebook from code_class.ipynb\n",
      "importing Jupyter notebook from code_kernel.ipynb\n",
      "importing Jupyter notebook from code_kwargs.ipynb\n",
      "importing Jupyter notebook from code_utils.ipynb\n",
      "importing Jupyter notebook from code_heatmaps.ipynb\n",
      "importing Jupyter notebook from code_bar.ipynb\n",
      "importing Jupyter notebook from code_scatter.ipynb\n",
      "importing Jupyter notebook from code_PCA.ipynb\n",
      "importing Jupyter notebook from code_other.ipynb\n",
      "importing Jupyter notebook from code_plotly.ipynb\n",
      "importing Jupyter notebook from code_pymol.ipynb\n",
      "importing Jupyter notebook from code_process_data.ipynb\n"
     ]
    }
   ],
   "source": [
    "import pandas as pd\n",
    "import numpy as np\n",
    "import os\n",
    "import traceback\n",
    "try:\n",
    "    from mutagenesis_visualization.main.scripts.code_create_objects import (\n",
    "        hras_RBD\n",
    "    )\n",
    "    location = os.path.dirname(os.path.realpath(__file__))\n",
    "    pdb_path = os.path.join(location, '../../data', '5p21.pdb')\n",
    "\n",
    "except ModuleNotFoundError:\n",
    "    import import_notebook\n",
    "    directory = os.getcwd()\n",
    "    new_directory = directory.replace('tests', 'main')\n",
    "    os.chdir(new_directory)\n",
    "    pdb_path = '../../data/5p21.pdb'\n",
    "    from code_create_objects import (hras_RBD)\n",
    "    os.chdir(directory)"
   ]
  },
  {
   "cell_type": "code",
   "execution_count": 4,
   "metadata": {
    "execution": {
     "iopub.execute_input": "2021-01-22T19:00:57.225375Z",
     "iopub.status.busy": "2021-01-22T19:00:57.225112Z",
     "iopub.status.idle": "2021-01-22T19:00:57.234069Z",
     "shell.execute_reply": "2021-01-22T19:00:57.233159Z",
     "shell.execute_reply.started": "2021-01-22T19:00:57.225348Z"
    }
   },
   "outputs": [
    {
     "data": {
      "text/plain": [
       "\"class Student:\\n    def __init__(self, name, gpa, grad_date,units):\\n        self.name = name\\n        self.GPA = gpa\\n        self.grad_date = grad_date\\n        self.units = units\\n    \\n    def total_GPA(self):\\n        return self.GPA * self.units\\n    \\nSage = Student('Sage',4.0, 'May 2021', 12)\\nKate = Student('Kate', 3.8, 'Dec 2021', 14)\""
      ]
     },
     "execution_count": 4,
     "metadata": {},
     "output_type": "execute_result"
    }
   ],
   "source": [
    """"class Student:\n",
    "    def __init__(self, name, gpa, grad_date,units):\n",
    "        self.name = name\n",
    "        self.GPA = gpa\n",
    "        self.grad_date = grad_date\n",
    "        self.units = units\n",
    "    \n",
    "    def total_GPA(self):\n",
    "        return self.GPA * self.units\n",
    "    \n",
    "Sage = Student('Sage',4.0, 'May 2021', 12)\n",
    "Kate = Student('Kate', 3.8, 'Dec 2021', 14)""""
   ]
  },
  {
   "cell_type": "markdown",
   "metadata": {},
   "source": [
    "## Test heatmap"
   ]
  },
  {
   "cell_type": "code",
   "execution_count": 5,
   "metadata": {
    "execution": {
     "iopub.execute_input": "2021-01-22T19:00:57.236333Z",
     "iopub.status.busy": "2021-01-22T19:00:57.236105Z",
     "iopub.status.idle": "2021-01-22T19:00:57.246557Z",
     "shell.execute_reply": "2021-01-22T19:00:57.245782Z",
     "shell.execute_reply.started": "2021-01-22T19:00:57.236314Z"
    }
   },
   "outputs": [],
   "source": [
    "def test_plot_heatmap_plotly():\n",
    "    # Get object\n",
    "    obj_test = hras_RBD()\n",
    "\n",
    "    # Define aux function\n",
    "    def _test_plot_heatmap_plotly_output(parameters):\n",
    "        error = False\n",
    "        try:\n",
    "            obj_test.heatmap_plotly(\n",
    "                **parameters\n",
    "            )  # pass dictionary as arguments of method\n",
    "        except:\n",
    "            error = True\n",
    "        return error\n",
    "\n",
    "    # Define dictionary of parameters\n",
    "    # Each dict in the list will be a different set of parameters\n",
    "    list_params = [\n",
    "        {'show': False},\n",
    "        {\n",
    "            'show': False,\n",
    "            'title': 'Changing this parameter for fun',\n",
    "            'return_plot_object': True,\n",
    "        },\n",
    "    ]\n",
    "\n",
    "    # Assert\n",
    "    for parameters in list_params:\n",
    "        assert _test_plot_heatmap_plotly_output(\n",
    "            parameters\n",
    "        ) == False, \"heatmap_plotly failed with {} parameters\".format(\n",
    "            parameters\n",
    "        )"
   ]
  },
  {
   "cell_type": "markdown",
   "metadata": {},
   "source": [
    "## Test scatter"
   ]
  },
  {
   "cell_type": "code",
   "execution_count": 4,
   "metadata": {
    "execution": {
     "iopub.execute_input": "2021-01-20T02:51:22.509404Z",
     "iopub.status.busy": "2021-01-20T02:51:22.509147Z",
     "iopub.status.idle": "2021-01-20T02:51:22.516916Z",
     "shell.execute_reply": "2021-01-20T02:51:22.515562Z",
     "shell.execute_reply.started": "2021-01-20T02:51:22.509378Z"
    }
   },
   "outputs": [],
   "source": [
    "def test_plot_scatter_plotly():  # change\n",
    "    # Get object\n",
    "    obj_test = hras_RBD()\n",
    "\n",
    "    # Define aux function\n",
    "    def _test_plot_scatter_plotly_output(parameters):  # change\n",
    "        error = False\n",
    "        try:\n",
    "            obj_test.scatter_plotly(\n",
    "                obj_test, **parameters\n",
    "            )  # pass dictionary as arguments of method\n",
    "        except:\n",
    "            error = True\n",
    "        return error\n",
    "\n",
    "    # Define dictionary of parameters\n",
    "    # Each dict in the list will be a different set of parameters\n",
    "    list_params = [\n",
    "        {'show': False},\n",
    "        {\n",
    "            'show': False,\n",
    "            'title': 'Changing this parameter for fun',\n",
    "            'return_plot_object': True,\n",
    "        },\n",
    "        {'mode': 'mean', 'show': False, 'title': 'hello world'},\n",
    "        {'mode': 'pointmutant', 'show': False, 'title': 'go bears'},\n",
    "    ]\n",
    "\n",
    "    # Assert\n",
    "    for parameters in list_params:\n",
    "        assert _test_plot_scatter_plotly_output(\n",
    "            parameters\n",
    "        ) == False, \"scatter_plotly failed with {} parameters\".format(\n",
    "            parameters\n",
    "        )"
   ]
  },
  {
   "cell_type": "markdown",
   "metadata": {},
   "source": [
    "## Test Rank"
   ]
  },
  {
   "cell_type": "code",
   "execution_count": 5,
   "metadata": {
    "execution": {
     "iopub.execute_input": "2021-01-20T02:51:23.203441Z",
     "iopub.status.busy": "2021-01-20T02:51:23.203045Z",
     "iopub.status.idle": "2021-01-20T02:51:23.210856Z",
     "shell.execute_reply": "2021-01-20T02:51:23.209357Z",
     "shell.execute_reply.started": "2021-01-20T02:51:23.203398Z"
    }
   },
   "outputs": [],
   "source": [
    "def test_plot_rank_plotly():\n",
    "    # Get object\n",
    "    obj_test = hras_RBD()\n",
    "\n",
    "    # Define aux function\n",
    "    def _test_plot_rank_plotly_output(parameters):\n",
    "        error = False\n",
    "        try:\n",
    "            obj_test.rank_plotly(\n",
    "                **parameters\n",
    "            )  # pass dictionary as arguments of method\n",
    "        except:\n",
    "            error = True\n",
    "        return error\n",
    "\n",
    "    # Define dictionary of parameters\n",
    "    # Each dict in the list will be a different set of parameters\n",
    "    list_params = [\n",
    "        {'show': False},\n",
    "        {\n",
    "            'show': False,\n",
    "            'title': 'Changing this parameter for fun',\n",
    "            'return_plot_object': True,\n",
    "        },\n",
    "        {'mode': 'mean', 'show': False, 'title': 'hello world'},\n",
    "        {'mode': 'pointmutant', 'show': False, 'title': 'go bears'},\n",
    "    ]\n",
    "\n",
    "    # Assert\n",
    "    for parameters in list_params:\n",
    "        assert _test_plot_rank_plotly_output(\n",
    "            parameters\n",
    "        ) == False, \"rank_plotly failed with {} parameters\".format(parameters)"
   ]
  },
  {
   "cell_type": "markdown",
   "metadata": {},
   "source": [
    "## Test Histogram "
   ]
  },
  {
   "cell_type": "code",
   "execution_count": 7,
   "metadata": {
    "execution": {
     "iopub.execute_input": "2021-01-20T02:51:25.555548Z",
     "iopub.status.busy": "2021-01-20T02:51:25.555218Z",
     "iopub.status.idle": "2021-01-20T02:51:25.563056Z",
     "shell.execute_reply": "2021-01-20T02:51:25.561542Z",
     "shell.execute_reply.started": "2021-01-20T02:51:25.555513Z"
    }
   },
   "outputs": [],
   "source": [
    "def test_plot_histogram_plotly():\n",
    "    # Get object\n",
    "    obj_test = hras_RBD()\n",
    "\n",
    "    # Define aux function\n",
    "    def _test_plot_histogram_plotly_output(parameters):\n",
    "        error = False\n",
    "        try:\n",
    "            obj_test.histogram_plotly(\n",
    "                **parameters\n",
    "            )  # pass dictionary as arguments of method\n",
    "        except:\n",
    "            error = True\n",
    "        return error\n",
    "\n",
    "    # Define dictionary of parameters\n",
    "    # Each dict in the list will be a different set of parameters\n",
    "    list_params = [\n",
    "        {'show': False},\n",
    "        {\n",
    "            'show': False,\n",
    "            'title': 'Changing this parameter for fun',\n",
    "            'return_plot_object': True,\n",
    "        },\n",
    "        {'mode': 'mean', 'show': False, 'title': 'hello world'},\n",
    "        {'mode': 'pointmutant', 'show': False, 'title': 'go bears'},\n",
    "    ]\n",
    "\n",
    "    # Assert\n",
    "    for parameters in list_params:\n",
    "        assert _test_plot_histogram_plotly_output(\n",
    "            parameters\n",
    "        ) == False, \"histogram_plotly failed with {} parameters\".format(\n",
    "            parameters\n",
    "        )"
   ]
  },
  {
   "cell_type": "markdown",
   "metadata": {},
   "source": [
    "## Test Mean"
   ]
  },
  {
   "cell_type": "code",
   "execution_count": 9,
   "metadata": {
    "execution": {
     "iopub.execute_input": "2021-01-20T02:51:27.537309Z",
     "iopub.status.busy": "2021-01-20T02:51:27.537024Z",
     "iopub.status.idle": "2021-01-20T02:51:27.544494Z",
     "shell.execute_reply": "2021-01-20T02:51:27.543083Z",
     "shell.execute_reply.started": "2021-01-20T02:51:27.537283Z"
    }
   },
   "outputs": [],
   "source": [
    "def test_plot_mean_plotly():\n",
    "    # Get object\n",
    "    obj_test = hras_RBD()\n",
    "\n",
    "    # Define aux function\n",
    "    def _test_plot_mean_plotly_output(parameters):\n",
    "        error = False\n",
    "        try:\n",
    "            obj_test.mean_plotly(\n",
    "                **parameters\n",
    "            )  # pass dictionary as arguments of method\n",
    "        except:\n",
    "            error = True\n",
    "        return error\n",
    "\n",
    "    # Define dictionary of parameters\n",
    "    # Each dict in the list will be a different set of parameters\n",
    "    list_params = [\n",
    "        {'show': False},\n",
    "        {\n",
    "            'show': False,\n",
    "            'title': 'Changing this parameter for fun',\n",
    "            'return_plot_object': True,\n",
    "        },\n",
    "        {'mode': 'mean', 'show': False, 'title': 'hello world'},\n",
    "        {'mode': 'A', 'show': False, 'title': 'go bears'},\n",
    "    ]\n",
    "\n",
    "    # Assert\n",
    "    for parameters in list_params:\n",
    "        assert _test_plot_mean_plotly_output(\n",
    "            parameters\n",
    "        ) == False, \"mean_plotly failed with {} parameters\".format(parameters)"
   ]
  },
  {
   "cell_type": "markdown",
   "metadata": {},
   "source": [
    "## Test 3D Scatter"
   ]
  },
  {
   "cell_type": "code",
   "execution_count": 11,
   "metadata": {
    "execution": {
     "iopub.execute_input": "2021-01-20T02:51:29.422312Z",
     "iopub.status.busy": "2021-01-20T02:51:29.421931Z",
     "iopub.status.idle": "2021-01-20T02:51:29.447521Z",
     "shell.execute_reply": "2021-01-20T02:51:29.436484Z",
     "shell.execute_reply.started": "2021-01-20T02:51:29.422282Z"
    }
   },
   "outputs": [],
   "source": [
    "def test_plot_scatter_3D_plotly():\n",
    "    # Get object\n",
    "    obj_test = hras_RBD()\n",
    "\n",
    "    # Define aux function\n",
    "    def _test_plot_scatter_3D_plotly_output(parameters):\n",
    "        error = False\n",
    "        try:\n",
    "            obj_test.scatter_3D_plotly(\n",
    "                **parameters\n",
    "            )  # pass dictionary as arguments of method\n",
    "        except:\n",
    "            error = True\n",
    "        return error\n",
    "\n",
    "    # Define dictionary of parameters\n",
    "    # Each dict in the list will be a different set of parameters\n",
    "    list_params = [\n",
    "        {\n",
    "            'mode': 'A',\n",
    "            'pdb_path': pdb_path,\n",
    "            'title': 'Scatter 3D',\n",
    "            'squared': True,\n",
    "            'x_label': 'x',\n",
    "            'y_label': 'y',\n",
    "            'z_label': 'z',\n",
    "            'show': False,\n",
    "            'return_plot_object': True,\n",
    "        },\n",
    "        {\n",
    "            'mode': 'mean',\n",
    "            'pdb_path': pdb_path,\n",
    "            'title': 'Scatter 3D',\n",
    "            'squared': False,\n",
    "            'x_label': 'x',\n",
    "            'y_label': 'y',\n",
    "            'z_label': 'z',\n",
    "            'show': False,\n",
    "            'return_plot_object': True,\n",
    "        },\n",
    "    ]\n",
    "\n",
    "    # Assert\n",
    "    for parameters in list_params:\n",
    "        assert _test_plot_scatter_3D_plotly_output(\n",
    "            parameters\n",
    "        ) == False, \"scatter_3D_plotly failed with {} parameters\".format(\n",
    "            parameters\n",
    "        )"
   ]
  },
  {
   "cell_type": "markdown",
   "metadata": {},
   "source": [
    "## test plot_scatter_3D_pdbprop_plotly"
   ]
  },
  {
   "cell_type": "code",
   "execution_count": 15,
   "metadata": {
    "execution": {
     "iopub.execute_input": "2021-01-22T03:25:35.602866Z",
     "iopub.status.busy": "2021-01-22T03:25:35.602407Z",
     "iopub.status.idle": "2021-01-22T03:25:35.620837Z",
     "shell.execute_reply": "2021-01-22T03:25:35.619996Z",
     "shell.execute_reply.started": "2021-01-22T03:25:35.602826Z"
    }
   },
   "outputs": [],
   "source": [
    "def test_plot_scatter_3D_pdbprop_plotly():\n",
    "    # Get object\n",
    "    obj_test = hras_RBD()\n",
    "\n",
    "    # Define aux function\n",
    "    def _test_plot_scatter_3D_pdbprop_plotly_output(parameters):\n",
    "        error = False\n",
    "        try:\n",
    "            obj_test.scatter_3D_pdbprop_plotly(\n",
    "                **parameters\n",
    "            )  # pass dictionary as arguments of method\n",
    "        except Exception as e:\n",
    "            \n",
    "            print(e)\n",
    "            print(traceback.format_exc())\n",
    "            error = True\n",
    "        return error\n",
    "\n",
    "    # Define dictionary of parameters\n",
    "    # Each dict in the list will be a different set of parameters\n",
    "    list_params = [\n",
    "        {\n",
    "            'mode':'A',\n",
    "            'plot': ['Distance', 'SASA', 'log B-factor'],\n",
    "            'pdb_path': pdb_path,\n",
    "            'show': False,\n",
    "            'return_plot_object': True,\n",
    "        },\n",
    "        {\n",
    "            'plot': ['Distance', 'SASA', 'log B-factor'],\n",
    "            'pdb_path': pdb_path,\n",
    "            'show': False,\n",
    "            'return_plot_object': True,\n",
    "        },\n",
    "    ]\n",
    "\n",
    "    # Assert\n",
    "    for parameters in list_params:\n",
    "        assert _test_plot_scatter_3D_pdbprop_plotly_output(\n",
    "            parameters\n",
    "        ) == False, \"scatter_3D_pdbprop_plotly failed with {} parameters\".format(\n",
    "            parameters\n",
    "        )"
   ]
  }
 ],
 "metadata": {
  "kernelspec": {
   "display_name": "Python 3",
   "language": "python",
   "name": "python3"
  },
  "language_info": {
   "codemirror_mode": {
    "name": "ipython",
    "version": 3
   },
   "file_extension": ".py",
   "mimetype": "text/x-python",
   "name": "python",
   "nbconvert_exporter": "python",
   "pygments_lexer": "ipython3",
   "version": "3.8.3"
  }
 },
 "nbformat": 4,
 "nbformat_minor": 4
}
