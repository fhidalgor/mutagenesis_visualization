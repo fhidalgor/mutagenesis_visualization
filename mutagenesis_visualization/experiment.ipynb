{
 "cells": [
  {
   "cell_type": "code",
   "execution_count": 4,
   "metadata": {},
   "outputs": [],
   "source": [
    "import pandas as pd\n",
    "import numpy as np"
   ]
  },
  {
   "cell_type": "code",
   "execution_count": 12,
   "metadata": {},
   "outputs": [],
   "source": [
    "df_ouput = pd.DataFrame()\n",
    "df_ouput['Position'] = np.arange(2,22)\n",
    "df_ouput['dataset_1'] = np.arange(0,20)-10\n",
    "df_ouput['dataset_2'] = (np.arange(0,20)+10)\n",
    "\n"
   ]
  },
  {
   "cell_type": "code",
   "execution_count": 18,
   "metadata": {},
   "outputs": [
    {
     "data": {
      "text/html": "<div>\n<style scoped>\n    .dataframe tbody tr th:only-of-type {\n        vertical-align: middle;\n    }\n\n    .dataframe tbody tr th {\n        vertical-align: top;\n    }\n\n    .dataframe thead th {\n        text-align: right;\n    }\n</style>\n<table border=\"1\" class=\"dataframe\">\n  <thead>\n    <tr style=\"text-align: right;\">\n      <th></th>\n      <th>Position</th>\n      <th>dataset_1</th>\n      <th>dataset_2</th>\n      <th>d1 - d2</th>\n    </tr>\n  </thead>\n  <tbody>\n    <tr>\n      <th>0</th>\n      <td>1.414214</td>\n      <td>NaN</td>\n      <td>3.162278</td>\n      <td>0.000000</td>\n    </tr>\n    <tr>\n      <th>1</th>\n      <td>1.732051</td>\n      <td>NaN</td>\n      <td>3.316625</td>\n      <td>6.324555</td>\n    </tr>\n    <tr>\n      <th>2</th>\n      <td>2.000000</td>\n      <td>NaN</td>\n      <td>3.464102</td>\n      <td>8.944272</td>\n    </tr>\n    <tr>\n      <th>3</th>\n      <td>2.236068</td>\n      <td>NaN</td>\n      <td>3.605551</td>\n      <td>10.954451</td>\n    </tr>\n    <tr>\n      <th>4</th>\n      <td>2.449490</td>\n      <td>NaN</td>\n      <td>3.741657</td>\n      <td>12.649111</td>\n    </tr>\n    <tr>\n      <th>5</th>\n      <td>2.645751</td>\n      <td>NaN</td>\n      <td>3.872983</td>\n      <td>14.142136</td>\n    </tr>\n    <tr>\n      <th>6</th>\n      <td>2.828427</td>\n      <td>NaN</td>\n      <td>4.000000</td>\n      <td>15.491933</td>\n    </tr>\n    <tr>\n      <th>7</th>\n      <td>3.000000</td>\n      <td>NaN</td>\n      <td>4.123106</td>\n      <td>16.733201</td>\n    </tr>\n    <tr>\n      <th>8</th>\n      <td>3.162278</td>\n      <td>NaN</td>\n      <td>4.242641</td>\n      <td>17.888544</td>\n    </tr>\n    <tr>\n      <th>9</th>\n      <td>3.316625</td>\n      <td>NaN</td>\n      <td>4.358899</td>\n      <td>18.973666</td>\n    </tr>\n    <tr>\n      <th>10</th>\n      <td>3.464102</td>\n      <td>0.000000</td>\n      <td>4.472136</td>\n      <td>20.000000</td>\n    </tr>\n    <tr>\n      <th>11</th>\n      <td>3.605551</td>\n      <td>1.000000</td>\n      <td>4.582576</td>\n      <td>20.976177</td>\n    </tr>\n    <tr>\n      <th>12</th>\n      <td>3.741657</td>\n      <td>1.414214</td>\n      <td>4.690416</td>\n      <td>21.908902</td>\n    </tr>\n    <tr>\n      <th>13</th>\n      <td>3.872983</td>\n      <td>1.732051</td>\n      <td>4.795832</td>\n      <td>22.803509</td>\n    </tr>\n    <tr>\n      <th>14</th>\n      <td>4.000000</td>\n      <td>2.000000</td>\n      <td>4.898979</td>\n      <td>23.664319</td>\n    </tr>\n    <tr>\n      <th>15</th>\n      <td>4.123106</td>\n      <td>2.236068</td>\n      <td>5.000000</td>\n      <td>24.494897</td>\n    </tr>\n    <tr>\n      <th>16</th>\n      <td>4.242641</td>\n      <td>2.449490</td>\n      <td>5.099020</td>\n      <td>25.298221</td>\n    </tr>\n    <tr>\n      <th>17</th>\n      <td>4.358899</td>\n      <td>2.645751</td>\n      <td>5.196152</td>\n      <td>26.076810</td>\n    </tr>\n    <tr>\n      <th>18</th>\n      <td>4.472136</td>\n      <td>2.828427</td>\n      <td>5.291503</td>\n      <td>26.832816</td>\n    </tr>\n    <tr>\n      <th>19</th>\n      <td>4.582576</td>\n      <td>3.000000</td>\n      <td>5.385165</td>\n      <td>27.568098</td>\n    </tr>\n  </tbody>\n</table>\n</div>",
      "text/plain": "    Position  dataset_1  dataset_2    d1 - d2\n0   1.414214        NaN   3.162278   0.000000\n1   1.732051        NaN   3.316625   6.324555\n2   2.000000        NaN   3.464102   8.944272\n3   2.236068        NaN   3.605551  10.954451\n4   2.449490        NaN   3.741657  12.649111\n5   2.645751        NaN   3.872983  14.142136\n6   2.828427        NaN   4.000000  15.491933\n7   3.000000        NaN   4.123106  16.733201\n8   3.162278        NaN   4.242641  17.888544\n9   3.316625        NaN   4.358899  18.973666\n10  3.464102   0.000000   4.472136  20.000000\n11  3.605551   1.000000   4.582576  20.976177\n12  3.741657   1.414214   4.690416  21.908902\n13  3.872983   1.732051   4.795832  22.803509\n14  4.000000   2.000000   4.898979  23.664319\n15  4.123106   2.236068   5.000000  24.494897\n16  4.242641   2.449490   5.099020  25.298221\n17  4.358899   2.645751   5.196152  26.076810\n18  4.472136   2.828427   5.291503  26.832816\n19  4.582576   3.000000   5.385165  27.568098"
     },
     "execution_count": 18,
     "metadata": {},
     "output_type": "execute_result"
    }
   ],
   "source": [
    "df_ouput['d1 - d2'] = (df_ouput['dataset_2']**2 - df_ouput['dataset_1']**2)\n",
    "df_diff = df_ouput.groupby(['Position'], as_index=False).mean()**0.5\n",
    "df_diff"
   ]
  },
  {
   "cell_type": "code",
   "execution_count": 6,
   "metadata": {},
   "outputs": [
    {
     "data": {
      "text/html": "<div>\n<style scoped>\n    .dataframe tbody tr th:only-of-type {\n        vertical-align: middle;\n    }\n\n    .dataframe tbody tr th {\n        vertical-align: top;\n    }\n\n    .dataframe thead th {\n        text-align: right;\n    }\n</style>\n<table border=\"1\" class=\"dataframe\">\n  <thead>\n    <tr style=\"text-align: right;\">\n      <th></th>\n      <th>Position</th>\n      <th>dataset_1</th>\n      <th>dataset_2</th>\n    </tr>\n  </thead>\n  <tbody>\n    <tr>\n      <th>0</th>\n      <td>0</td>\n      <td>-10</td>\n      <td>10</td>\n    </tr>\n    <tr>\n      <th>1</th>\n      <td>1</td>\n      <td>-9</td>\n      <td>11</td>\n    </tr>\n    <tr>\n      <th>2</th>\n      <td>2</td>\n      <td>-8</td>\n      <td>12</td>\n    </tr>\n    <tr>\n      <th>3</th>\n      <td>3</td>\n      <td>-7</td>\n      <td>13</td>\n    </tr>\n    <tr>\n      <th>4</th>\n      <td>4</td>\n      <td>-6</td>\n      <td>14</td>\n    </tr>\n    <tr>\n      <th>5</th>\n      <td>5</td>\n      <td>-5</td>\n      <td>15</td>\n    </tr>\n    <tr>\n      <th>6</th>\n      <td>6</td>\n      <td>-4</td>\n      <td>16</td>\n    </tr>\n    <tr>\n      <th>7</th>\n      <td>7</td>\n      <td>-3</td>\n      <td>17</td>\n    </tr>\n    <tr>\n      <th>8</th>\n      <td>8</td>\n      <td>-2</td>\n      <td>18</td>\n    </tr>\n    <tr>\n      <th>9</th>\n      <td>9</td>\n      <td>-1</td>\n      <td>19</td>\n    </tr>\n    <tr>\n      <th>10</th>\n      <td>10</td>\n      <td>0</td>\n      <td>20</td>\n    </tr>\n    <tr>\n      <th>11</th>\n      <td>11</td>\n      <td>1</td>\n      <td>21</td>\n    </tr>\n    <tr>\n      <th>12</th>\n      <td>12</td>\n      <td>2</td>\n      <td>22</td>\n    </tr>\n    <tr>\n      <th>13</th>\n      <td>13</td>\n      <td>3</td>\n      <td>23</td>\n    </tr>\n    <tr>\n      <th>14</th>\n      <td>14</td>\n      <td>4</td>\n      <td>24</td>\n    </tr>\n    <tr>\n      <th>15</th>\n      <td>15</td>\n      <td>5</td>\n      <td>25</td>\n    </tr>\n    <tr>\n      <th>16</th>\n      <td>16</td>\n      <td>6</td>\n      <td>26</td>\n    </tr>\n    <tr>\n      <th>17</th>\n      <td>17</td>\n      <td>7</td>\n      <td>27</td>\n    </tr>\n    <tr>\n      <th>18</th>\n      <td>18</td>\n      <td>8</td>\n      <td>28</td>\n    </tr>\n    <tr>\n      <th>19</th>\n      <td>19</td>\n      <td>9</td>\n      <td>29</td>\n    </tr>\n  </tbody>\n</table>\n</div>",
      "text/plain": "    Position  dataset_1  dataset_2\n0          0        -10         10\n1          1         -9         11\n2          2         -8         12\n3          3         -7         13\n4          4         -6         14\n5          5         -5         15\n6          6         -4         16\n7          7         -3         17\n8          8         -2         18\n9          9         -1         19\n10        10          0         20\n11        11          1         21\n12        12          2         22\n13        13          3         23\n14        14          4         24\n15        15          5         25\n16        16          6         26\n17        17          7         27\n18        18          8         28\n19        19          9         29"
     },
     "execution_count": 6,
     "metadata": {},
     "output_type": "execute_result"
    }
   ],
   "source": [
    "        df_ouput['d1 - d2'] = (df_ouput['dataset_1'].mean() - df_ouput['dataset_2'])\n",
    "        df_diff = df_ouput.groupby(['Position'], as_index=False).mean()\n",
    "    elif metric.lower() == 'rmse':\n",
    "        df_ouput['d1 - d2'] = ((df_ouput['dataset_1'] - df_ouput['dataset_2'])**2)\n",
    "        df_diff = df_ouput.groupby(['Position'], as_index=False).mean()**0.5\n",
    "    elif metric.lower() == 'squared':\n",
    "        df_ouput['d1 - d2'] = (df_ouput['dataset_1']**2 - df_ouput['dataset_2']**2)\n",
    "        df_diff = df_ouput.groupby(['Position'], as_index=False).mean()\n",
    "    df_diff.dropna(how='any', inplace=True)\n",
    "    return df_diff\n"
   ]
  },
  {
   "cell_type": "code",
   "execution_count": 19,
   "metadata": {},
   "outputs": [],
   "source": [
    "l = [[1, 2, 3], [1, None, 4], [2, 1, 3], [1, 2, 2]]\n",
    "df = pd.DataFrame(l, columns=[\"a\", \"b\", \"c\"])"
   ]
  },
  {
   "cell_type": "code",
   "execution_count": 20,
   "metadata": {},
   "outputs": [
    {
     "data": {
      "text/html": "<div>\n<style scoped>\n    .dataframe tbody tr th:only-of-type {\n        vertical-align: middle;\n    }\n\n    .dataframe tbody tr th {\n        vertical-align: top;\n    }\n\n    .dataframe thead th {\n        text-align: right;\n    }\n</style>\n<table border=\"1\" class=\"dataframe\">\n  <thead>\n    <tr style=\"text-align: right;\">\n      <th></th>\n      <th>a</th>\n      <th>c</th>\n    </tr>\n    <tr>\n      <th>b</th>\n      <th></th>\n      <th></th>\n    </tr>\n  </thead>\n  <tbody>\n    <tr>\n      <th>1.0</th>\n      <td>2.0</td>\n      <td>3.0</td>\n    </tr>\n    <tr>\n      <th>2.0</th>\n      <td>1.0</td>\n      <td>2.5</td>\n    </tr>\n  </tbody>\n</table>\n</div>",
      "text/plain": "       a    c\nb            \n1.0  2.0  3.0\n2.0  1.0  2.5"
     },
     "execution_count": 20,
     "metadata": {},
     "output_type": "execute_result"
    }
   ],
   "source": [
    "df.groupby(by=[\"b\"]).mean()\n",
    "df"
   ]
  },
  {
   "cell_type": "code",
   "execution_count": null,
   "metadata": {},
   "outputs": [],
   "source": []
  }
 ],
 "metadata": {
  "kernelspec": {
   "display_name": "Python 3.9.2 64-bit ('mutagenesis-visualization-NsjifA68-py3.9': venv)",
   "name": "python392jvsc74a57bd0722ba8cd244824779673bda02dd3c9429b019b25bafc8b2e589590aff5be60cf"
  },
  "language_info": {
   "codemirror_mode": {
    "name": "ipython",
    "version": 3
   },
   "file_extension": ".py",
   "mimetype": "text/x-python",
   "name": "python",
   "nbconvert_exporter": "python",
   "pygments_lexer": "ipython3",
   "version": "3.9.2"
  },
  "orig_nbformat": 2
 },
 "nbformat": 4,
 "nbformat_minor": 2
}