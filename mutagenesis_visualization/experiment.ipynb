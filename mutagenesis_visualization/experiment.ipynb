{
 "cells": [
  {
   "cell_type": "code",
   "execution_count": 3,
   "metadata": {},
   "outputs": [],
   "source": [
    "import numpy as np\n",
    "from mutagenesis_visualization.main.utils.pandas_functions import (transform_dataset, transform_sequence, transform_secondary)\n"
   ]
  },
  {
   "cell_type": "code",
   "execution_count": 10,
   "metadata": {},
   "outputs": [],
   "source": [
    "def hras_RBD():\n",
    "    \"\"\"\n",
    "    Create object hras_RBD.\n",
    "    \"\"\"\n",
    "\n",
    "    my_file = \"mutagenesis_visualization/data/HRas166_RBD.csv\"\n",
    "\n",
    "    # Load enrichment scores\n",
    "    dataset = np.genfromtxt(my_file, delimiter=',')\n",
    "\n",
    "    # Define protein sequence\n",
    "    sequence = 'TEYKLVVVGAGGVGKSALTIQLIQNHFVDEYDPTIEDSYRKQVVIDGETCLLDILDTAGQEEYSAMRDQYMRTGEGFLCVFAINNTKSFEDIHQYREQIKRVKDSDDVPMVLVGNKCDLAARTVESRQAQDLARSYGIPYIETSAKTRQGVEDAFYTLVREIRQH'\n",
    "\n",
    "    # Define secondary structure\n",
    "    secondary = [['L0'], ['β1'] * (9 - 1), ['L1'] * (15 - 9), ['α1'] * (25 - 15), ['L2'] * (36 - 25),\n",
    "                 ['β2'] * (46 - 36), ['L3'] * (48 - 46), ['β3'] * (58 - 48), ['L4'] * (64 - 58), ['α2'] * (74 - 64),\n",
    "                 ['L5'] * (76 - 74), ['β4'] * (83 - 76), ['L6'] * (86 - 83), ['α3'] * (103 - 86), ['L7'] * (110 - 103),\n",
    "                 ['β5'] * (116 - 110), ['L8'] * (126 - 116), ['α4'] * (137 - 126), ['L9'] * (140 - 137),\n",
    "                 ['β6'] * (143 - 140), ['L10'] * (151 - 143), ['α5'] * (172 - 151), ['L11'] * (190 - 172)]\n",
    "    aminoacids = list('ACDEFGHIKLMNPQRSTVWY*')\n",
    "    start_position = 2\n",
    "    fillna = 0\n",
    "    # Create object\n",
    "    dataframe_stopcodons, dataframe = transform_dataset(dataset, sequence, aminoacids, start_position, fillna)\n",
    "    return hras_RBD\n"
   ]
  },
  {
   "cell_type": "code",
   "execution_count": 11,
   "metadata": {},
   "outputs": [],
   "source": [
    "hras_RBD = hras_RBD()"
   ]
  },
  {
   "cell_type": "code",
   "execution_count": null,
   "metadata": {},
   "outputs": [],
   "source": []
  }
 ],
 "metadata": {
  "kernelspec": {
   "display_name": "Python 3.9.2 64-bit ('mutagenesis-visualization-NsjifA68-py3.9': poetry)",
   "name": "python392jvsc74a57bd0722ba8cd244824779673bda02dd3c9429b019b25bafc8b2e589590aff5be60cf"
  },
  "language_info": {
   "codemirror_mode": {
    "name": "ipython",
    "version": 3
   },
   "file_extension": ".py",
   "mimetype": "text/x-python",
   "name": "python",
   "nbconvert_exporter": "python",
   "pygments_lexer": "ipython3",
   "version": "3.9.2"
  },
  "orig_nbformat": 2
 },
 "nbformat": 4,
 "nbformat_minor": 2
}