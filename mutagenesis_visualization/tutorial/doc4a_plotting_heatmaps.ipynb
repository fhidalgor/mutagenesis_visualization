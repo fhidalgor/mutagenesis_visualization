{
 "cells": [
  {
   "cell_type": "markdown",
   "source": [
    "# Creating heatmaps"
   ],
   "metadata": {}
  },
  {
   "cell_type": "raw",
   "source": [
    "This section shows how to use the mutagenesis_visualization package. The plotting functions can be used regardless of how you process your data. For the examples, we are using two datasets that are derived from Pradeep’s legacy. [#Pradeep2017]_"
   ],
   "metadata": {}
  },
  {
   "cell_type": "markdown",
   "source": [
    "## Import modules"
   ],
   "metadata": {}
  },
  {
   "cell_type": "code",
   "execution_count": 1,
   "source": [
    "# running locally, if you pip install then you just have to import the module\n",
    "%matplotlib inline\n",
    "from typing import List\n",
    "import numpy as np\n",
    "import matplotlib as plt\n",
    "import copy\n",
    "from mutagenesis_visualization import Screen\n",
    "from mutagenesis_visualization.main.utils.data_paths import HRAS_RBD_COUNTS_CSV, HRAS_GAPGEF_COUNTS_CSV\n"
   ],
   "outputs": [],
   "metadata": {
    "ExecuteTime": {
     "end_time": "2020-10-01T18:51:26.629721Z",
     "start_time": "2020-10-01T18:51:26.011552Z"
    },
    "execution": {
     "iopub.execute_input": "2020-11-27T02:24:06.390609Z",
     "iopub.status.busy": "2020-11-27T02:24:06.390401Z",
     "iopub.status.idle": "2020-11-27T02:24:08.003187Z",
     "shell.execute_reply": "2020-11-27T02:24:08.002373Z",
     "shell.execute_reply.started": "2020-11-27T02:24:06.390588Z"
    }
   }
  },
  {
   "cell_type": "markdown",
   "source": [
    "## Create object of class Screen"
   ],
   "metadata": {}
  },
  {
   "cell_type": "raw",
   "source": [
    "Class reviewed in this section:\n",
    "    - :class:`mutagenesis_visualization.main.classes.screen.Screen`"
   ],
   "metadata": {}
  },
  {
   "cell_type": "markdown",
   "source": [
    "In order to create plots, the first step is to create a ``Screen.object``. The enrichment scores will be passed using the parameter ``dataset`` . The protein sequence ``sequence`` and the amino acid substitutions order ``aminoacids`` need to be defined for the object to be created. Adding the secondary structure ``secondary`` is optional, but without it some plots will not work. In this example, we are importing two datasets and creating two objects named ``hras_GAPGEF`` and ``hras_RBD``."
   ],
   "metadata": {}
  },
  {
   "cell_type": "code",
   "execution_count": null,
   "source": [
    "# Load enrichment scores. This is how you would load them from a local file.\n",
    "hras_enrichment_GAPGEF = np.genfromtxt(HRAS_GAPGEF_COUNTS_CSV, delimiter=',')\n",
    "hras_enrichment_RBD = np.genfromtxt(HRAS_RBD_COUNTS_CSV, delimiter=',')\n",
    "\n",
    "# Define protein sequence\n",
    "hras_sequence: str = 'MTEYKLVVVGAGGVGKSALTIQLIQNHFVDEYDPTIEDSYRKQVVIDGETCLLDILDTAGQEEY'\\\n",
    "                + 'SAMRDQYMRTGEGFLCVFAINNTKSFEDIHQYREQIKRVKDSDDVPMVLVGNKCDLAARTVES'\\\n",
    "                + 'RQAQDLARSYGIPYIETSAKTRQGVEDAFYTLVREIRQHKLRKLNPPDESGPG'\n",
    "\n",
    "# Order of amino acid substitutions in the hras_enrichment dataset\n",
    "aminoacids: List[str] = list('ACDEFGHIKLMNPQRSTVWY*')\n",
    "\n",
    "# First residue of the hras_enrichment dataset. Because 1-Met was not mutated, the dataset starts at residue 2\n",
    "start_position: int = 2\n",
    "\n",
    "# Define secondary structure\n",
    "secondary = [['L0'], ['β1'] * (9 - 1), ['L1'] * (15 - 9), ['α1'] * (25 - 15),\n",
    "             ['L2'] * (36 - 25), ['β2'] * (46 - 36), ['L3'] * (48 - 46),\n",
    "             ['β3'] * (58 - 48), ['L4'] * (64 - 58), ['α2'] * (74 - 64),\n",
    "             ['L5'] * (76 - 74), ['β4'] * (83 - 76), ['L6'] * (86 - 83),\n",
    "             ['α3'] * (103 - 86), ['L7'] * (110 - 103), ['β5'] * (116 - 110),\n",
    "             ['L8'] * (126 - 116), ['α4'] * (137 - 126), ['L9'] * (140 - 137),\n",
    "             ['β6'] * (143 - 140), ['L10'] * (151 - 143), ['α5'] * (172 - 151),\n",
    "             ['L11'] * (190 - 172)]\n",
    "\n",
    "# Substitute Nan values with 0\n",
    "fillna: int = 0\n",
    "\n",
    "# Create objects\n",
    "hras_GAPGEF: Screen = Screen(\n",
    "    hras_enrichment_GAPGEF, hras_sequence, aminoacids, start_position, fillna,\n",
    "    secondary\n",
    ")\n",
    "hras_RBD: Screen = Screen(\n",
    "    hras_enrichment_RBD, hras_sequence, aminoacids, start_position, fillna,\n",
    "    secondary\n",
    ")"
   ],
   "outputs": [],
   "metadata": {
    "ExecuteTime": {
     "end_time": "2020-10-01T18:51:31.468756Z",
     "start_time": "2020-10-01T18:51:30.907726Z"
    },
    "execution": {
     "iopub.execute_input": "2020-11-27T02:24:09.854195Z",
     "iopub.status.busy": "2020-11-27T02:24:09.853846Z",
     "iopub.status.idle": "2020-11-27T02:24:10.401405Z",
     "shell.execute_reply": "2020-11-27T02:24:10.399256Z",
     "shell.execute_reply.started": "2020-11-27T02:24:09.854164Z"
    }
   }
  },
  {
   "cell_type": "markdown",
   "source": [
    "## Heatmaps"
   ],
   "metadata": {}
  },
  {
   "cell_type": "raw",
   "source": [
    "Methods reviewed in this section:\n",
    "    - :meth:`mutagenesis_visualization.main.heatmaps.heatmap.Heatmap`\n",
    "    - :meth:`mutagenesis_visualization.main.heatmaps.heatmap_rows.HeatmapRows`\n",
    "    - :meth:`mutagenesis_visualization.main.heatmaps.heatmap.columns.HeatmapColumns`\n",
    "    - :meth:`mutagenesis_visualization.main.heatmaps.miniheatmap.Miniheatmap`"
   ],
   "metadata": {}
  },
  {
   "cell_type": "markdown",
   "source": [
    "Once the object ``hras_RBD`` is created, we will plot a heatmap of the enrichment scores using the method ``object.heatmap``."
   ],
   "metadata": {}
  },
  {
   "cell_type": "code",
   "execution_count": null,
   "source": [
    "# Create full heatmap\n",
    "hras_RBD.heatmap(title='H-Ras 2-166', show_cartoon=True)"
   ],
   "outputs": [],
   "metadata": {
    "ExecuteTime": {
     "end_time": "2020-10-01T18:19:29.786531Z",
     "start_time": "2020-10-01T18:19:17.186087Z"
    }
   }
  },
  {
   "cell_type": "raw",
   "source": [
    ".. image:: images/exported_images/hras_fullheatmap.png"
   ],
   "metadata": {}
  },
  {
   "cell_type": "markdown",
   "source": [
    "If you set the parameter ``hierarchical=True``, it will sort the columns using hierarchical clustering"
   ],
   "metadata": {}
  },
  {
   "cell_type": "code",
   "execution_count": null,
   "source": [
    "hras_RBD.heatmap(title='H-Ras 2-166', hierarchical=True, output_file=None)"
   ],
   "outputs": [],
   "metadata": {}
  },
  {
   "cell_type": "raw",
   "source": [
    ".. image:: images/exported_images/hras_fullheatmap_hierarchical.png"
   ],
   "metadata": {}
  },
  {
   "cell_type": "markdown",
   "source": [
    "You can change the scale and the color map using the parameters ``colorbar_scale`` and ``colormap``."
   ],
   "metadata": {}
  },
  {
   "cell_type": "code",
   "execution_count": null,
   "source": [
    "# Load a color map from matplotlib\n",
    "colormap = copy.copy((plt.cm.get_cmap('PuOr')))\n",
    "\n",
    "# Change scale and colormap\n",
    "hras_RBD.heatmap(\n",
    "    title='H-Ras 2-166',\n",
    "    colorbar_scale=(-2, 2),\n",
    "    colormap=colormap,\n",
    "    show_cartoon=True,\n",
    ")"
   ],
   "outputs": [],
   "metadata": {
    "ExecuteTime": {
     "end_time": "2020-10-01T18:19:42.501073Z",
     "start_time": "2020-10-01T18:19:29.788483Z"
    }
   }
  },
  {
   "cell_type": "raw",
   "source": [
    ".. image:: images/exported_images/hras_fullheatmap_colormap.png"
   ],
   "metadata": {}
  },
  {
   "cell_type": "markdown",
   "source": [
    "If you set the parameter ``show_snv=True``, the algorithm will color green every mutation that is not a single nucleotide variant (SNV) of the wild-type protein. You will notice how many mutations are not accessible through a nucleotide change. This option may be useful to you so you can quickly evaluate which mutations are accessible through random DNA mutations. In the example of Ras, the frequency of non-SNV substitutions at residues 12 and 13 is dramatically lower."
   ],
   "metadata": {}
  },
  {
   "cell_type": "code",
   "execution_count": null,
   "source": [
    "# Create full heatmap showing only SNV mutants\n",
    "hras_RBD.heatmap(\n",
    "    title='H-Ras 2-166', show_cartoon=True, show_snv=True)"
   ],
   "outputs": [],
   "metadata": {
    "ExecuteTime": {
     "end_time": "2020-10-01T18:19:54.628958Z",
     "start_time": "2020-10-01T18:19:42.506024Z"
    }
   }
  },
  {
   "cell_type": "raw",
   "source": [
    ".. image:: images/exported_images/hras_fullheatmap_snv.png"
   ],
   "metadata": {}
  },
  {
   "cell_type": "markdown",
   "source": [
    "We can slice the full heatmap by either showing only some columns or some rows. To show only a few amino acid mutational profiles (rows), we will use the method ``object.heatmap_rows``. Note that we need to specify which amino acids to show with ``selection``."
   ],
   "metadata": {}
  },
  {
   "cell_type": "markdown",
   "source": [
    "## Heatmap slices"
   ],
   "metadata": {}
  },
  {
   "cell_type": "code",
   "execution_count": null,
   "source": [
    "# Create heatmap of selected aminoacid substitutions\n",
    "hras_RBD.heatmap_rows(\n",
    "    title='H-Ras 2-166',\n",
    "    selection=['E', 'Q', 'A', 'P', 'V', 'Y'],\n",
    ")"
   ],
   "outputs": [],
   "metadata": {
    "ExecuteTime": {
     "end_time": "2020-10-01T18:20:01.399239Z",
     "start_time": "2020-10-01T18:19:54.647958Z"
    }
   }
  },
  {
   "cell_type": "raw",
   "source": [
    ".. image:: images/exported_images/hras_selectionheatmap.png"
   ],
   "metadata": {}
  },
  {
   "cell_type": "markdown",
   "source": [
    "If we want to display only a few positions in the protein (columns), we will use the method ``object.heatmap_columns``. The parameter ``segment`` will indicate which are the contigous columns to show."
   ],
   "metadata": {}
  },
  {
   "cell_type": "code",
   "execution_count": null,
   "source": [
    "# Create a heatmap of a subset region in the protein\n",
    "hras_RBD.heatmap_columns(segment=[20, 40])"
   ],
   "outputs": [],
   "metadata": {
    "ExecuteTime": {
     "end_time": "2020-10-01T18:20:01.962306Z",
     "start_time": "2020-10-01T18:20:01.403781Z"
    }
   }
  },
  {
   "cell_type": "raw",
   "source": [
    ".. image:: images/exported_images/hras_subsetheatmap.png\n",
    "   :width: 200px\n",
    "   :align: center"
   ],
   "metadata": {}
  },
  {
   "cell_type": "markdown",
   "source": [
    "## Miniheamap"
   ],
   "metadata": {}
  },
  {
   "cell_type": "markdown",
   "source": [
    "A summarized heatmap can also be generated. It is useful to evaluate global trends in the data. The command to use is ``object.miniheatmap``."
   ],
   "metadata": {}
  },
  {
   "cell_type": "code",
   "execution_count": null,
   "source": [
    "# Condensed heatmap\n",
    "hras_RBD.miniheatmap(title='Wt residue H-Ras')"
   ],
   "outputs": [],
   "metadata": {
    "ExecuteTime": {
     "end_time": "2020-10-01T18:22:03.734679Z",
     "start_time": "2020-10-01T18:22:03.243012Z"
    },
    "execution": {
     "iopub.execute_input": "2020-11-27T02:24:13.449873Z",
     "iopub.status.busy": "2020-11-27T02:24:13.449644Z",
     "iopub.status.idle": "2020-11-27T02:24:13.943280Z",
     "shell.execute_reply": "2020-11-27T02:24:13.942554Z",
     "shell.execute_reply.started": "2020-11-27T02:24:13.449851Z"
    }
   }
  },
  {
   "cell_type": "raw",
   "source": [
    ".. image:: images/exported_images/hras_miniheatmap.png\n",
    "   :width: 250px\n",
    "   :align: center"
   ],
   "metadata": {}
  },
  {
   "cell_type": "markdown",
   "source": [
    "Now lets look at the effect of having a certain residue in front the mutated residue. For instance, the column of prolines is the average of all the columns that had a proline in the n-1 position. To accomplish this, ``set offset=-1``."
   ],
   "metadata": {}
  },
  {
   "cell_type": "code",
   "execution_count": null,
   "source": [
    "# Condensed heatmap offset no background correction\n",
    "hras_RBD.miniheatmap(\n",
    "    title='Wt residue H-Ras',\n",
    "    offset=-1,\n",
    "    background_correction=False,\n",
    ")"
   ],
   "outputs": [],
   "metadata": {
    "execution": {
     "iopub.execute_input": "2020-11-27T02:39:07.085897Z",
     "iopub.status.busy": "2020-11-27T02:39:07.085607Z",
     "iopub.status.idle": "2020-11-27T02:39:07.770626Z",
     "shell.execute_reply": "2020-11-27T02:39:07.770065Z",
     "shell.execute_reply.started": "2020-11-27T02:39:07.085871Z"
    }
   }
  },
  {
   "cell_type": "raw",
   "source": [
    ".. image:: images/exported_images/hras_miniheatmap_offset.png\n",
    "   :width: 250px\n",
    "   :align: center"
   ],
   "metadata": {}
  },
  {
   "cell_type": "markdown",
   "source": [
    "Now lets do a background correction by setting ``background_correction=True``. To the calculated values, it will subtract the mean enrichment score for every substitution type. In the example, proline is the only residues than wen situated before the mutation, it seems to have a detrimental effect."
   ],
   "metadata": {}
  },
  {
   "cell_type": "code",
   "execution_count": null,
   "source": [
    "# Condensed heatmap offset with background correction\n",
    "hras_RBD.miniheatmap(\n",
    "    title='Wt residue H-Ras',\n",
    "    offset=-1,\n",
    "    background_correction=True,\n",
    ")"
   ],
   "outputs": [],
   "metadata": {
    "execution": {
     "iopub.execute_input": "2020-11-27T02:40:39.787192Z",
     "iopub.status.busy": "2020-11-27T02:40:39.786957Z",
     "iopub.status.idle": "2020-11-27T02:40:40.762164Z",
     "shell.execute_reply": "2020-11-27T02:40:40.761601Z",
     "shell.execute_reply.started": "2020-11-27T02:40:39.787169Z"
    }
   }
  },
  {
   "cell_type": "raw",
   "source": [
    ".. image:: images/exported_images/hras_miniheatmap_offset_bgcorrection.png\n",
    "   :width: 250px\n",
    "   :align: center"
   ],
   "metadata": {}
  },
  {
   "cell_type": "markdown",
   "source": [
    "## Reference"
   ],
   "metadata": {}
  },
  {
   "cell_type": "raw",
   "source": [
    ".. [#Pradeep2017] Bandaru, P., Shah, N. H., Bhattacharyya, M., Barton, J. P., Kondo, Y., Cofsky, J. C., … Kuriyan, J. (2017). Deconstruction of the Ras switching cycle through saturation mutagenesis. ELife, 6. `DOI: 10.7554/eLife.27810  <https://elifesciences.org/articles/27810>`_"
   ],
   "metadata": {}
  }
 ],
 "metadata": {
  "interpreter": {
   "hash": "08c9c2b188ca295d277b82af7270a3b3910abb6ed0b382c4dc897f4b123534db"
  },
  "kernelspec": {
   "name": "python3",
   "display_name": "Python 3.9.5 64-bit ('mutagenesis-visualization-US1tCWpD-py3.9': poetry)"
  },
  "language_info": {
   "codemirror_mode": {
    "name": "ipython",
    "version": 3
   },
   "file_extension": ".py",
   "mimetype": "text/x-python",
   "name": "python",
   "nbconvert_exporter": "python",
   "pygments_lexer": "ipython3",
   "version": "3.9.5"
  },
  "toc": {
   "base_numbering": 1,
   "nav_menu": {},
   "number_sections": true,
   "sideBar": true,
   "skip_h1_title": false,
   "title_cell": "Table of Contents",
   "title_sidebar": "Contents",
   "toc_cell": false,
   "toc_position": {
    "height": "calc(100% - 180px)",
    "left": "10px",
    "top": "150px",
    "width": "165px"
   },
   "toc_section_display": true,
   "toc_window_display": true
  },
  "toc-autonumbering": true,
  "toc-showmarkdowntxt": false,
  "toc-showtags": false
 },
 "nbformat": 4,
 "nbformat_minor": 4
}