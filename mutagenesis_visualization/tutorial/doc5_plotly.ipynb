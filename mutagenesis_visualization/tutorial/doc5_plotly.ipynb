{
 "cells": [
  {
   "cell_type": "markdown",
   "metadata": {},
   "source": [
    "# Visualizing with plotly"
   ]
  },
  {
   "cell_type": "markdown",
   "metadata": {},
   "source": [
    "In this section we will use Plotly to make interactive plots. Please let us know if you have suggestions for new figures that could be made with Plotly."
   ]
  },
  {
   "cell_type": "code",
   "execution_count": null,
   "metadata": {
    "ExecuteTime": {
     "end_time": "2020-10-12T23:52:54.028080Z",
     "start_time": "2020-10-12T23:52:53.755443Z"
    }
   },
   "outputs": [],
   "source": [
    "%matplotlib inline\n",
    "import numpy as np\n",
    "from mutagenesis_visualization.main.demo.demo_objects import DemoObjects\n",
    "from mutagenesis_visualization.main.utils.data_paths import PDB_5P21\n",
    "\n",
    "DEMO_OBJECTS:DemoObjects = DemoObjects()\n",
    "hras_rbd = DEMO_OBJECTS.hras_rbd\n",
    "hras_gapgef = DEMO_OBJECTS.hras_gapgef"
   ]
  },
  {
   "cell_type": "markdown",
   "metadata": {},
   "source": [
    "## Heatmap"
   ]
  },
  {
   "cell_type": "raw",
   "metadata": {},
   "source": [
    "Classes reviewed in this section:\n",
    "    - :class:`mutagenesis_visualization.main.plotly.heatmap.HeatmapP`\n"
   ]
  },
  {
   "cell_type": "markdown",
   "metadata": {},
   "source": [
    "Plot an interactive heatmap. Hopover individual pixels to get their characteristics."
   ]
  },
  {
   "cell_type": "code",
   "execution_count": null,
   "metadata": {},
   "outputs": [],
   "source": [
    "hras_rbd.plotly_heatmap(\n",
    "    title='H-Ras Heatmap',\n",
    "    figsize=(6, 2.5),\n",
    ")"
   ]
  },
  {
   "cell_type": "raw",
   "metadata": {},
   "source": [
    ".. raw:: html\n",
    "    :file: html/hras_heatmap.html"
   ]
  },
  {
   "cell_type": "markdown",
   "metadata": {},
   "source": [
    "## Mean"
   ]
  },
  {
   "cell_type": "raw",
   "metadata": {},
   "source": [
    "Classes reviewed in this section:\n",
    "    - :class:`mutagenesis_visualization.main.plotly.enrichment_bar.EnrichmentBarP`\n"
   ]
  },
  {
   "cell_type": "markdown",
   "metadata": {},
   "source": [
    "Analogous function to ``object.mean`` but rendered using plotly. Will plot the mean enrichment score for every position on a bar chart. It will be colored blue for loss of function and red for gain of function. Additionally, setting the parameter ``mode`` to an amino acid (using the one letter code) will plot the enrichment for that particular amino acid along the protein. In this example, we are showing the mean enrichment scores (top) and an alanine scan (bottom)"
   ]
  },
  {
   "cell_type": "code",
   "execution_count": null,
   "metadata": {},
   "outputs": [],
   "source": [
    "hras_rbd.plotly_enrichment_bar(\n",
    "    title='Mean',\n",
    "    figsize=(6, 2.5),\n",
    ")\n",
    "\n",
    "hras_rbd.plotly_enrichment_bar(\n",
    "    title='A scan',\n",
    "    mode='A',\n",
    "    figsize=(6, 2.5),\n",
    ")"
   ]
  },
  {
   "cell_type": "raw",
   "metadata": {},
   "source": [
    ".. raw:: html\n",
    "    :file: html/hras_mean.html\n",
    ".. raw:: html\n",
    "    :file: html/hras_mean_A.html"
   ]
  },
  {
   "cell_type": "markdown",
   "metadata": {},
   "source": [
    "## Histogram"
   ]
  },
  {
   "cell_type": "raw",
   "metadata": {},
   "source": [
    "Classes reviewed in this section:\n",
    "    - :class:`mutagenesis_visualization.main.plotly.histogram.HistogramP`\n"
   ]
  },
  {
   "cell_type": "markdown",
   "metadata": {},
   "source": [
    "Plot a histogram."
   ]
  },
  {
   "cell_type": "code",
   "execution_count": null,
   "metadata": {},
   "outputs": [],
   "source": [
    "hras_rbd.plotly_histogram(\n",
    "    title='Histogram',\n",
    "    figsize=(3, 2.5),\n",
    ")"
   ]
  },
  {
   "cell_type": "raw",
   "metadata": {},
   "source": [
    ".. raw:: html\n",
    "    :file: html/hras_histogram.html"
   ]
  },
  {
   "cell_type": "markdown",
   "metadata": {},
   "source": [
    "## Rank"
   ]
  },
  {
   "cell_type": "raw",
   "metadata": {},
   "source": [
    "Classes reviewed in this section:\n",
    "    - :class:`mutagenesis_visualization.main.plotly.rank.RankP`\n"
   ]
  },
  {
   "cell_type": "markdown",
   "metadata": {},
   "source": [
    "Create an interactive rank figure that displays each mutant. The default mode is set to pointmutant to provide the ranking on the mutation level. You can download the plot as a png file by clicking the camera icon which appears on the far left when our cursor is over the plot. You can export to an html file by giving a path to the variable ``output_html``. "
   ]
  },
  {
   "cell_type": "code",
   "execution_count": null,
   "metadata": {
    "ExecuteTime": {
     "end_time": "2020-10-12T23:59:39.537099Z",
     "start_time": "2020-10-12T23:59:39.426512Z"
    }
   },
   "outputs": [],
   "source": [
    "hras_rbd.plotly_rank(\n",
    "    title='Rank of pointmutants',\n",
    ")"
   ]
  },
  {
   "cell_type": "raw",
   "metadata": {},
   "source": [
    ".. raw:: html\n",
    "    :file: html/hras_rankpointmutants.html"
   ]
  },
  {
   "cell_type": "markdown",
   "metadata": {},
   "source": [
    "Now display the rank of the positional mean."
   ]
  },
  {
   "cell_type": "code",
   "execution_count": null,
   "metadata": {
    "ExecuteTime": {
     "end_time": "2020-10-12T23:59:28.600801Z",
     "start_time": "2020-10-12T23:59:28.536616Z"
    }
   },
   "outputs": [],
   "source": [
    "hras_rbd.plotly_rank(mode='mean',title='Rank of positions')"
   ]
  },
  {
   "cell_type": "raw",
   "metadata": {},
   "source": [
    ".. raw:: html\n",
    "    :file: html/hras_rankposition.html"
   ]
  },
  {
   "cell_type": "markdown",
   "metadata": {},
   "source": [
    "## Scatter"
   ]
  },
  {
   "cell_type": "raw",
   "metadata": {},
   "source": [
    "Classes reviewed in this section:\n",
    "    - :class:`mutagenesis_visualization.main.plotly.scatter.ScatterP`\n"
   ]
  },
  {
   "cell_type": "markdown",
   "metadata": {},
   "source": [
    "If you have two datasets, you can create a scatter plot. The advantage of using plotly over matplotlib is that you can visually check each data point by hovoring your cursor over a point. By setting show_results = True, the OLS regression results will also be printed as output. The mode = 'pointmutant' is default which shows a comparison as mutation by mutation."
   ]
  },
  {
   "cell_type": "code",
   "execution_count": null,
   "metadata": {},
   "outputs": [],
   "source": [
    "hras_rbd.plotly_scatter(\n",
    "    hras_gapgef,\n",
    "    show_results=False,\n",
    "    title='Scatter Point Mutants',\n",
    "    x_label='hras_rbd',\n",
    "    y_label='hras_gapgef',\n",
    ")"
   ]
  },
  {
   "cell_type": "raw",
   "metadata": {},
   "source": [
    ".. raw:: html\n",
    "    :file: html/hras_scatterpointmutants.html"
   ]
  },
  {
   "cell_type": "markdown",
   "metadata": {},
   "source": [
    "Now we just look at the positional average."
   ]
  },
  {
   "cell_type": "code",
   "execution_count": null,
   "metadata": {},
   "outputs": [],
   "source": [
    "hras_rbd.plotly_scatter(\n",
    "    hras_gapgef,\n",
    "    mode='mean',\n",
    "    title='Scatter Positional Average',\n",
    "    x_label='hras_rbd',\n",
    "    y_label='hras_gapgef',\n",
    ")"
   ]
  },
  {
   "cell_type": "raw",
   "metadata": {},
   "source": [
    ".. raw:: html\n",
    "    :file: html/hras_scatterposition.html"
   ]
  },
  {
   "cell_type": "markdown",
   "metadata": {},
   "source": [
    "## 3D scatter plot "
   ]
  },
  {
   "cell_type": "raw",
   "metadata": {},
   "source": [
    "Classes reviewed in this section:\n",
    "    - :class:`mutagenesis_visualization.main.plotly.scatter_3d.Scatter3D`\n"
   ]
  },
  {
   "cell_type": "markdown",
   "metadata": {},
   "source": [
    "If there is an available PDB structure, you can input it and the software will plot a 3d plot of the C-alpha atoms, colored by their enrichment score. \n",
    "\n",
    "The method ``object.plotly_scatter_3d`` will take as an input either a PDB file (``pdb_path=/path/to/file``) or the x,y,z coordinates (``df_coordinates``)."
   ]
  },
  {
   "cell_type": "code",
   "execution_count": null,
   "metadata": {},
   "outputs": [],
   "source": [
    "hras_rbd.plotly_scatter_3d(\n",
    "    mode='mean',\n",
    "    pdb_path=PDB_5P21,\n",
    "    title='Scatter 3D',\n",
    "    squared=False,\n",
    "    x_label='x',\n",
    "    y_label='y',\n",
    "    z_label='z',\n",
    ")"
   ]
  },
  {
   "cell_type": "raw",
   "metadata": {},
   "source": [
    ".. raw:: html\n",
    "    :file: html/hras_3dscatter.html"
   ]
  },
  {
   "cell_type": "markdown",
   "metadata": {},
   "source": [
    "By setting up mode='V', we can evaluate the impact of valine substitutions. Mode can be set up to any residue. In this example, residues in the core are tolerant to valine substitutions."
   ]
  },
  {
   "cell_type": "code",
   "execution_count": null,
   "metadata": {},
   "outputs": [],
   "source": [
    "hras_rbd.plotly_scatter_3d(\n",
    "    mode='V',\n",
    "    pdb_path=PDB_5P21,\n",
    "    title='Scatter 3D - Valine substitution',\n",
    "    squared=False,\n",
    "    x_label='x',\n",
    "    y_label='y',\n",
    "    z_label='z',\n",
    ")"
   ]
  },
  {
   "cell_type": "raw",
   "metadata": {},
   "source": [
    ".. raw:: html\n",
    "    :file: html/hras_3dvalsubstitution.html"
   ]
  },
  {
   "cell_type": "markdown",
   "metadata": {},
   "source": [
    "When we set mode='D', the core of the protein turns completely blue."
   ]
  },
  {
   "cell_type": "code",
   "execution_count": null,
   "metadata": {},
   "outputs": [],
   "source": [
    "hras_rbd.plotly_scatter_3d(\n",
    "    mode='D',\n",
    "    pdb_path=PDB_5P21,\n",
    "    title='Scatter 3D - Aspartate substitution',\n",
    "    squared=False,\n",
    "    x_label='x',\n",
    "    y_label='y',\n",
    "    z_label='z',\n",
    ")"
   ]
  },
  {
   "cell_type": "raw",
   "metadata": {},
   "source": [
    ".. raw:: html\n",
    "    :file: html/hras_3daspsubstitution.html"
   ]
  },
  {
   "cell_type": "markdown",
   "metadata": {},
   "source": [
    "By setting squared = True, we plot the distance to the center of the protein of each residue. In this example, we see that residues in the core of the protein are blue, indicating a sensitivity to mutations."
   ]
  },
  {
   "cell_type": "code",
   "execution_count": null,
   "metadata": {},
   "outputs": [],
   "source": [
    "hras_rbd.plotly_scatter_3d(\n",
    "    mode='mean',\n",
    "    pdb_path=PDB_5P21,\n",
    "    title='Scatter 3D - Distance to center',\n",
    "    squared=True,\n",
    "    x_label='x',\n",
    "    y_label='y',\n",
    "    z_label='z',\n",
    ")"
   ]
  },
  {
   "cell_type": "raw",
   "metadata": {},
   "source": [
    ".. raw:: html\n",
    "    :file: html/hras_3ddistcenter.html"
   ]
  },
  {
   "cell_type": "markdown",
   "metadata": {},
   "source": [
    "## PDB properties"
   ]
  },
  {
   "cell_type": "raw",
   "metadata": {},
   "source": [
    "Classes reviewed in this section:\n",
    "    - :class:`mutagenesis_visualization.main.plotly.scatter_3d_pdb.Scatter3DPDB`\n"
   ]
  },
  {
   "cell_type": "markdown",
   "metadata": {},
   "source": [
    "From the PDB, properties such as B-factor or SASA can be extracted. Using plotly we allow the user to have a 3-D scatter plot colored by the enrichment scores. You can additionally include other properties to include such as the conservation scores using the parameter ``custom``."
   ]
  },
  {
   "cell_type": "code",
   "execution_count": null,
   "metadata": {},
   "outputs": [],
   "source": [
    "# Plot 3-D SASA, log B-factor and Shannon Entropy\n",
    "hras_rbd.plotly_scatter_3d_pdbprop(\n",
    "    plot = ['Distance', 'SASA', 'log B-factor'],\n",
    "    pdb_path=PDB_5P21,\n",
    "    title='Scatter 3D - PDB properties',\n",
    ")"
   ]
  },
  {
   "cell_type": "raw",
   "metadata": {},
   "source": [
    ".. raw:: html\n",
    "    :file: html/hras_3d_pdbprop.html"
   ]
  }
 ],
 "metadata": {
  "interpreter": {
   "hash": "08c9c2b188ca295d277b82af7270a3b3910abb6ed0b382c4dc897f4b123534db"
  },
  "kernelspec": {
   "display_name": "Python 3.9.5 64-bit ('mutagenesis-visualization-US1tCWpD-py3.9': poetry)",
   "name": "python3"
  },
  "language_info": {
   "codemirror_mode": {
    "name": "ipython",
    "version": 3
   },
   "file_extension": ".py",
   "mimetype": "text/x-python",
   "name": "python",
   "nbconvert_exporter": "python",
   "pygments_lexer": "ipython3",
   "version": "3.9.5"
  },
  "toc": {
   "base_numbering": 1,
   "nav_menu": {},
   "number_sections": true,
   "sideBar": true,
   "skip_h1_title": false,
   "title_cell": "Table of Contents",
   "title_sidebar": "Contents",
   "toc_cell": false,
   "toc_position": {},
   "toc_section_display": true,
   "toc_window_display": false
  },
  "toc-autonumbering": true
 },
 "nbformat": 4,
 "nbformat_minor": 4
}
