{
 "cells": [
  {
   "cell_type": "markdown",
   "metadata": {},
   "source": [
    "# Processing DNA reads"
   ]
  },
  {
   "cell_type": "markdown",
   "metadata": {},
   "source": [
    "This section will teach you how to use the built-in data muting functions. If you already have your own muting pipeline built, you can skip this section and go to the plotting examples."
   ]
  },
  {
   "cell_type": "markdown",
   "metadata": {},
   "source": [
    "## Import module"
   ]
  },
  {
   "cell_type": "code",
   "execution_count": null,
   "metadata": {},
   "outputs": [],
   "source": [
    "%matplotlib inline\n",
    "from typing import List\n",
    "import numpy as np\n",
    "import pandas as pd\n",
    "from pandas.core.frame import DataFrame\n",
    "from mutagenesis_visualization import count_reads\n",
    "from mutagenesis_visualization import count_fastq\n",
    "from mutagenesis_visualization import calculate_enrichment\n",
    "\n",
    "from mutagenesis_visualization.main.utils.data_paths import HRAS_FASTQ, HRAS_GAPGEF_COUNTS\n",
    "from mutagenesis_visualization import Counts\n",
    "from mutagenesis_visualization import Screen\n"
   ]
  },
  {
   "cell_type": "markdown",
   "metadata": {},
   "source": [
    "## Count DNA reads from fastq file"
   ]
  },
  {
   "cell_type": "markdown",
   "metadata": {
    "execution": {
     "iopub.execute_input": "2020-10-27T05:16:16.097807Z",
     "iopub.status.busy": "2020-10-27T05:16:16.097583Z",
     "iopub.status.idle": "2020-10-27T05:16:16.101489Z",
     "shell.execute_reply": "2020-10-27T05:16:16.100610Z",
     "shell.execute_reply.started": "2020-10-27T05:16:16.097786Z"
    }
   },
   "source": [
    "### Site saturation mutagenesis"
   ]
  },
  {
   "cell_type": "raw",
   "metadata": {},
   "source": [
    "Methods and functions reviewed in this notebook:\n",
    "    - :func:`mutagenesis_visualization.count_fastq`\n",
    "    - :func:`mutagenesis_visualization.count_reads`\n",
    "    - :class:`mutagenesis_visualization.Counts`"
   ]
  },
  {
   "cell_type": "markdown",
   "metadata": {},
   "source": [
    "After sequencing your DNA library, using other packages you will assemble the forward and reverse reads and trim the flanking bases. That will produce a trimmed fastq file that contains the DNA reads. This is where ``mutagenesis_visualization`` kicks in. The following function ``count_reads`` will read your trimmed fastq file and count the number of times a DNA sequence is present. You will have to pass as inputs a ``dna_sequence`` and a ``codon_list`` with the codons that were used to make the point mutant library. If ``savefile=True`` , it will export the results to txt files. Below there is a prettified example of the output file."
   ]
  },
  {
   "cell_type": "code",
   "execution_count": null,
   "metadata": {
    "ExecuteTime": {
     "end_time": "2020-10-01T17:58:49.554291Z",
     "start_time": "2020-10-01T17:58:49.522994Z"
    }
   },
   "outputs": [],
   "source": [
    "# H-Ras dna sequence\n",
    "hras_dnasequence: str = 'acggaatataagctggtggtggtgggcgccggcggtgtgggcaagagtgcgctgaccat'\\\n",
    "    + 'ccagctgatccagaaccattttgtggacgaatacgaccccactatagaggattcctaccggaagcaggtgg'\\\n",
    "    + 'tcattgatggggagacgtgcctgttggacatcctg'\n",
    "\n",
    "# Codons used to make the NNS library. I could also have used 'NNS' and the package will use the NNS codons\n",
    "codon_list: List[str] = [\n",
    "    \"GCC\", \"GCG\", \"TGC\", \"GAC\", \"GAG\", \"TTC\", \"GGC\", \"GGG\", \"CAC\", \"ATC\", \"AAG\",\n",
    "    \"CTC\", \"CTG\", \"TTG\", \"ATG\", \"AAC\", \"CCC\", \"CCG\", \"CAG\", \"CGC\", \"CGG\", \"AGG\",\n",
    "    \"TCC\", \"TCG\", \"AGC\", \"ACC\", \"ACG\", \"GTC\", \"GTG\", \"TGG\", \"TAC\", \"TAG\"\n",
    "]\n",
    "\n",
    "counts_wt: bool = False\n",
    "start_position: int = 2\n",
    "\n",
    "# Execute count reads\n",
    "df_counts_pre, wt_counts_pre = count_reads(\n",
    "    hras_dnasequence, HRAS_FASTQ, codon_list, counts_wt, start_position)"
   ]
  },
  {
   "cell_type": "raw",
   "metadata": {
    "ExecuteTime": {
     "end_time": "2020-09-03T20:09:38.460580Z",
     "start_time": "2020-09-03T20:09:38.455250Z"
    }
   },
   "source": [
    ".. image:: images/exported_images/hras_tablecounts.png\n",
    "   :width: 450px\n",
    "   :align: center"
   ]
  },
  {
   "cell_type": "markdown",
   "metadata": {},
   "source": [
    "Create object of class ``Counts``."
   ]
  },
  {
   "cell_type": "code",
   "execution_count": null,
   "metadata": {},
   "outputs": [],
   "source": [
    "hras_obj = Counts(df_counts_pre, start_position = 2)"
   ]
  },
  {
   "cell_type": "markdown",
   "metadata": {},
   "source": [
    "Once the reads have been counted, the method ``mean_counts`` can be used to evaluate the coverage by position. The method ``library_representation`` will tell you the percentage coverage of each amino acid per position."
   ]
  },
  {
   "cell_type": "code",
   "execution_count": null,
   "metadata": {},
   "outputs": [],
   "source": [
    "hras_obj.mean_counts(title='H-Ras mean counts per position')\n",
    "\n",
    "hras_obj.library_representation(title='H-Ras amino acid coverage')"
   ]
  },
  {
   "cell_type": "raw",
   "metadata": {},
   "source": [
    ".. image:: images/exported_images/hras_countspre.png\n",
    "   :width: 500px\n",
    "   :align: center\n",
    "        \n",
    ".. image:: images/exported_images/hras_countspre_aacoverage.png\n",
    "   :width: 500px\n",
    "   :align: center"
   ]
  },
  {
   "cell_type": "markdown",
   "metadata": {},
   "source": [
    "### Custom DNA list"
   ]
  },
  {
   "cell_type": "markdown",
   "metadata": {},
   "source": [
    "Use a custom input DNA list. That way it does not matter if you are using NNS or you have second order mutations. Create a list of variants on your own, and the software will count the frequency of each of those variants on the fastq file you provide as an input. In the example non of the sequences we are specifying are found in the trimmed file, thus there are 0% of useful reads."
   ]
  },
  {
   "cell_type": "code",
   "execution_count": null,
   "metadata": {},
   "outputs": [],
   "source": [
    "# Create your list of variants\n",
    "variants: List[str] = [\n",
    "    'acggaatataagctggtggtggtgggcgccggcggtgtgggcaagagtgcgctgaccat' +\n",
    "    'ccagctgatccagaaccattttgtggacgaatacgaccccactatagaggattcctaccggaagcaggtgg' +\n",
    "    'tcattgatggggagacgtgcctgttggacatcctg',\n",
    "    'aaaaaatataagctggtggtggtgggcgccggcggtgtgggcaagagtgcgctgaccat' +\n",
    "    'ccagctgatccagaaccattttgtggacgaatacgaccccactatagaggattcctaccggaagcaggtgg' +\n",
    "    'tcattgatggggagacgtgcctgttggacatcctg',\n",
    "    'tttttttataagctggtggtggtgggcgccggcggtgtgggcaagagtgcgctgaccat' +\n",
    "    'ccagctgatccagaaccattttgtggacgaatacgaccccactatagaggattcctaccggaagcaggtgg' +\n",
    "    'tcattgatggggagacgtgcctgttggacatcctg'\n",
    "]\n",
    "\n",
    "variants, totalreads, usefulreads = count_fastq(variants, HRAS_FASTQ)\n",
    "\n",
    "# Evaluate how many variants in the fastq file were useful\n",
    "print(\n",
    "    '{}/{} useful reads ({}%)'.format(\n",
    "        str(usefulreads), str(totalreads),\n",
    "        str(int(usefulreads / totalreads * 100))\n",
    "    )\n",
    ")"
   ]
  },
  {
   "cell_type": "markdown",
   "metadata": {},
   "source": [
    "## Calculate enrichment scores"
   ]
  },
  {
   "cell_type": "raw",
   "metadata": {},
   "source": [
    "Methods and functions reviewed in this section:\n",
    "    - :class:`mutagenesis_visualization.Screen`\n",
    "    - :func:`mutagenesis_visualization.calculate_enrichment`"
   ]
  },
  {
   "cell_type": "markdown",
   "metadata": {},
   "source": [
    "If you are performing a selection experiment, where you sequence your library before and after selection, you will need to calculate the enrichment score of each mutant. The function to do so is ``calculate_enrichment``. This function allows for different parameters to tune how the data is muted and normalized."
   ]
  },
  {
   "cell_type": "raw",
   "metadata": {},
   "source": [
    "In this example, we show two different ways of using ``calculate_enrichment``. Note that the parameters of choice will have a say on the final result. In the example, the tonality of red of the two heatmaps is slightly different. A more detailed explanation of the parameters can be found in :ref:`Normalizing datasets`."
   ]
  },
  {
   "cell_type": "code",
   "execution_count": null,
   "metadata": {
    "ExecuteTime": {
     "end_time": "2020-10-01T17:53:45.991044Z",
     "start_time": "2020-10-01T17:53:45.751331Z"
    }
   },
   "outputs": [],
   "source": [
    "# Read counts from file (could be txt, csv, xlsx, etc...)\n",
    "df_counts_pre: DataFrame = pd.read_excel(\n",
    "    HRAS_GAPGEF_COUNTS,\n",
    "    'R1_before',\n",
    "    skiprows=1,\n",
    "    index_col='Codons',\n",
    "    usecols='E:FN',\n",
    "    nrows=32\n",
    ")\n",
    "\n",
    "df_counts_sel: DataFrame = pd.read_excel(\n",
    "    HRAS_GAPGEF_COUNTS,\n",
    "    'R1_after',\n",
    "    skiprows=1,\n",
    "    index_col='Codons',\n",
    "    usecols='E:FN',\n",
    "    nrows=32\n",
    ")"
   ]
  },
  {
   "cell_type": "code",
   "execution_count": null,
   "metadata": {
    "ExecuteTime": {
     "end_time": "2020-10-01T18:01:51.229736Z",
     "start_time": "2020-10-01T18:01:51.222245Z"
    }
   },
   "outputs": [],
   "source": [
    "# Ras parameters to create an object\n",
    "\n",
    "# Define protein sequence\n",
    "hras_sequence: str = 'MTEYKLVVVGAGGVGKSALTIQLIQNHFVDEYDPTIEDSYRKQVVIDGETCLLDILDTAGQEEY'\\\n",
    "                + 'SAMRDQYMRTGEGFLCVFAINNTKSFEDIHQYREQIKRVKDSDDVPMVLVGNKCDLAARTVES'\\\n",
    "                + 'RQAQDLARSYGIPYIETSAKTRQGVEDAFYTLVREIRQHKLRKLNPPDESGPG'\n",
    "\n",
    "# Order of amino acid substitutions in the hras_enrichment dataset\n",
    "aminoacids: List[str] = list('ACDEFGHIKLMNPQRSTVWY*')\n",
    "\n",
    "# First residue of the hras_enrichment dataset. Because 1-Met was not mutated, the dataset starts at residue 2\n",
    "start_position: int = 2\n",
    "\n",
    "# Define secondary structure\n",
    "secondary = [['L0'], ['β1'] * (9 - 1), ['L1'] * (15 - 9), ['α1'] * (25 - 15),\n",
    "             ['L2'] * (36 - 25), ['β2'] * (46 - 36), ['L3'] * (48 - 46),\n",
    "             ['β3'] * (58 - 48), ['L4'] * (64 - 58), ['α2'] * (74 - 64),\n",
    "             ['L5'] * (76 - 74), ['β4'] * (83 - 76), ['L6'] * (86 - 83),\n",
    "             ['α3'] * (103 - 86), ['L7'] * (110 - 103), ['β5'] * (116 - 110),\n",
    "             ['L8'] * (126 - 116), ['α4'] * (137 - 126), ['L9'] * (140 - 137),\n",
    "             ['β6'] * (143 - 140), ['L10'] * (151 - 143), ['α5'] * (172 - 151),\n",
    "             ['L11'] * (190 - 172)]\n",
    "\n",
    "# Substitute Nan values with 0\n",
    "fillna = 0"
   ]
  },
  {
   "cell_type": "code",
   "execution_count": null,
   "metadata": {
    "ExecuteTime": {
     "end_time": "2020-10-01T18:18:09.541241Z",
     "start_time": "2020-10-01T18:17:51.526918Z"
    }
   },
   "outputs": [],
   "source": [
    "# Order of amino acids (from count_reads)\n",
    "aminoacids_NNS: List[str] = list('AACDEFGGHIKLLLMNPPQRRRSSSTTVVWY*')\n",
    "\n",
    "# Different parameters can be used to calculate the enrichment scores. They are described in the implementation section\n",
    "\n",
    "# Zeroing using the median of the population, and not using stop codons to correct.\n",
    "frequencies = calculate_enrichment(\n",
    "    aminoacids=aminoacids_NNS,\n",
    "    pre_lib=df_counts_pre.iloc[:, :54],\n",
    "    post_lib=df_counts_sel.iloc[:, :54],\n",
    "    zeroing_method='population',\n",
    "    zeroing_metric ='median',\n",
    "    norm_std=True,\n",
    "    stopcodon=True,\n",
    "    min_counts=25,\n",
    "    min_countswt=100,\n",
    "    mpop=2,\n",
    "    mwt=2,\n",
    "    infinite=3,\n",
    "    std_scale=0.3\n",
    ")\n",
    "\n",
    "hras_example1 = Screen(\n",
    "    np.array(frequencies), hras_sequence, aminoacids, start_position, fillna,\n",
    "    secondary\n",
    ")\n",
    "\n",
    "hras_example1.heatmap(title='Normal distribution zeroing', output_file=None)\n",
    "\n",
    "# Zeroing using the median of the population, and not using stop codons to correct.\n",
    "frequencies = calculate_enrichment(\n",
    "    aminoacids=aminoacids_NNS,\n",
    "    pre_lib=df_counts_pre.iloc[:, :54],\n",
    "    post_lib=df_counts_sel.iloc[:, :54],\n",
    "    zeroing_method='kernel',\n",
    "    zeroing_metric ='median',\n",
    "    norm_std=True,\n",
    "    stopcodon=True,\n",
    "    min_counts=25,\n",
    "    min_countswt=100,\n",
    "    mpop=2,\n",
    "    mwt=2,\n",
    "    infinite=3,\n",
    "    std_scale=0.15\n",
    ")\n",
    "\n",
    "hras_example2 = Screen(\n",
    "    np.array(frequencies), hras_sequence, aminoacids, start_position, fillna,\n",
    "    secondary\n",
    ")\n",
    "\n",
    "hras_example2.heatmap(title='KDE zeroing', output_file=None)\n",
    "\n",
    "# Note that the two heatmaps look quite similar but the red tonality is slighly different. That is caused by\n",
    "# small differences in zeroing the data."
   ]
  },
  {
   "cell_type": "raw",
   "metadata": {},
   "source": [
    ".. image:: images/exported_images/hras_tableenrichment.png\n",
    "   :width: 450px\n",
    "   :align: center\n",
    "\n",
    ".. image:: images/exported_images/hras_zeronormal.png\n",
    "   :width: 300px\n",
    "   :align: center\n",
    "\n",
    ".. image:: images/exported_images/hras_zerokernel.png\n",
    "   :width: 300px\n",
    "   :align: center"
   ]
  }
 ],
 "metadata": {
  "interpreter": {
   "hash": "08c9c2b188ca295d277b82af7270a3b3910abb6ed0b382c4dc897f4b123534db"
  },
  "kernelspec": {
   "display_name": "Python 3.9.5 64-bit ('mutagenesis-visualization-US1tCWpD-py3.9': poetry)",
   "name": "python3"
  },
  "language_info": {
   "codemirror_mode": {
    "name": "ipython",
    "version": 3
   },
   "file_extension": ".py",
   "mimetype": "text/x-python",
   "name": "python",
   "nbconvert_exporter": "python",
   "pygments_lexer": "ipython3",
   "version": "3.9.5"
  },
  "toc": {
   "base_numbering": 1,
   "nav_menu": {},
   "number_sections": true,
   "sideBar": true,
   "skip_h1_title": false,
   "title_cell": "Table of Contents",
   "title_sidebar": "Contents",
   "toc_cell": false,
   "toc_position": {
    "height": "calc(100% - 180px)",
    "left": "10px",
    "top": "150px",
    "width": "215px"
   },
   "toc_section_display": true,
   "toc_window_display": false
  }
 },
 "nbformat": 4,
 "nbformat_minor": 4
}
