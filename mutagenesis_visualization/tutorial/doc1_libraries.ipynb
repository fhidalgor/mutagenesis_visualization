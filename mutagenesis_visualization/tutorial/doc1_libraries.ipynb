{
 "cells": [
  {
   "cell_type": "markdown",
   "source": [
    "# Design DNA libraries"
   ],
   "metadata": {}
  },
  {
   "cell_type": "markdown",
   "source": [
    "In this section we will generate the primers that are used to do saturation mutagenesis on proteins (ie. NNS primers). \n",
    "\n",
    "We will also generate each possible point mutant sequence and export it to a Fasta file, which can be useful if you use Twist Bioscience to generate your site saturation library. "
   ],
   "metadata": {}
  },
  {
   "cell_type": "raw",
   "source": [
    "Classes reviewed in this notebook:\n",
    "    - :class:`mutagenesis_visualization.GeneratePrimers`\n",
    "    - :class:`mutagenesis_visualization.CreateVariants`\n"
   ],
   "metadata": {}
  },
  {
   "cell_type": "markdown",
   "source": [
    "## Design primers"
   ],
   "metadata": {}
  },
  {
   "cell_type": "markdown",
   "source": [
    "Now we will define the dna sequence, the beginning and end of the mutable part."
   ],
   "metadata": {}
  },
  {
   "cell_type": "code",
   "execution_count": null,
   "source": [
    "from typing import List\n",
    "from pandas.core.frame import DataFrame\n",
    "from mutagenesis_visualization import GeneratePrimers\n",
    "\n",
    "# DNA\n",
    "dna: str = 'TGTACAGTAATACAAGGGGTGTTATGGAAAAAATTATGCCGGAAGAAGAATACAGCGAATTTAAAGAACTGATTCTGCAGAAGGAACTGCACGTGGTGTATGCACTGAGCCACGTGTGTGGCCAGGATCGTACCCTGCTGGCCAGTATCTTACTGCGCATCTTTCTGCACGAGAAGCTGGAGAGCCTGTTACTGTGCACACTGAACGATCGCGAGATCAGCATGGAAGATGAAGCCACCACCCTGTTCCGCGCAACAACCCTGGCCAGCACCCTGATGGAGCAGTATATGAAAGCCACCGCCACCCAGTTCGTGCATCATGCCCTGAAAGATAGCATTTTAAAAATTATGGAAAGCAAACAGAGCTGCGAACTGAGCCCGAGCAAGCTGGAGAAAAACGAGGACGTGAACACCAACCTGACCCACCTGCTGAACATTCTGAGCGAACTGGTGGAAAAAATCTTTATGGCAAGCGAAATCCTGCCTCCGACCCTGCGTTACATCTACGGCTGCCTGCAGAAGAGCGTGCAGCATAAATGGCCGACCAATACCACCATGCGCACACGTGTGGTGAGCGGTTTTGTGTTCCTGCGTCTGATCTGCCCGGCAATCCTGAACCCGCGCATGTTCAACATCATTAGCGACAGCCCGAGTCCTATCGCAGCACGTACCCTGATCCTGGTGGCAAAAAGCGTGCAAAATCTGGCCAACCTGGTGGAATTTGGCGCCAAAGAGCCGTACATGGAAGGCGTGAATCCGTTTATCAAAAGTAACAAACATCGCATGATCATGTTCCTGGACGAACTGGGCAACGTTCCGGAACTGCCGGATACAACCGAACATAGTCGCACAGACCTGAGTCGTGACCTGGCCGCCCTGCATGAAATCTGCGTGGCCCATAGCGATGAGCTGCGCACACTGAGCAACGAGCGTGGCGCCCAGCAGCACGTGCTGAAGAAACTGCTGGCCATTACCGAACTGCTGCAACAAAAGCAGAACCAGTACACCAAAACCAACGACGTGCGTtatccgtatgatgtgccggattatgcgccatcacttggctagaggcatc'\n",
    "                                               #^\n",
    "# Start of protein. Note 'ATG' codon is the first codon.\n",
    "start: str = 'ATGGAAAAAATTATGCCGGAAGAA'\n",
    "\n",
    "# The 'tat' codon will be the first codon that is not mutated\n",
    "end: str = 'tatccgtatgatgtgccggattatgcg'\n",
    "\n",
    "# Initialize instance of class GeneratePrimers\n",
    "generate_primers : GeneratePrimers = GeneratePrimers(dna, start, end)\n"
   ],
   "outputs": [],
   "metadata": {}
  },
  {
   "cell_type": "markdown",
   "source": [
    "Set all primers to have the same base pair length."
   ],
   "metadata": {}
  },
  {
   "cell_type": "code",
   "execution_count": null,
   "source": [
    "df_primers: DataFrame = generate_primers(codon='NNS', length_primer=15)"
   ],
   "outputs": [],
   "metadata": {}
  },
  {
   "cell_type": "markdown",
   "source": [
    "Set all primers to have the same melting temperature."
   ],
   "metadata": {}
  },
  {
   "cell_type": "code",
   "execution_count": null,
   "source": [
    "df_primers_tm: DataFrame = generate_primers(codon='NNS', melting_temp=60)"
   ],
   "outputs": [],
   "metadata": {}
  },
  {
   "cell_type": "markdown",
   "source": [
    "If you just want to export the file to excel. This command must be run after first generating a dataframe."
   ],
   "metadata": {}
  },
  {
   "cell_type": "code",
   "execution_count": null,
   "source": [
    "generate_primers.export_file(output_file=\"path/to/file.xlsx\")"
   ],
   "outputs": [],
   "metadata": {}
  },
  {
   "cell_type": "raw",
   "source": [
    ".. image:: images/exported_images/primers.png\n",
    "   :width: 450px\n",
    "   :align: center"
   ],
   "metadata": {}
  },
  {
   "cell_type": "markdown",
   "source": [
    "## Design site-saturation sequences"
   ],
   "metadata": {}
  },
  {
   "cell_type": "markdown",
   "source": [
    "Define dna sequence and the list of codons that we want to use to generate the mutants."
   ],
   "metadata": {}
  },
  {
   "cell_type": "code",
   "execution_count": null,
   "source": [
    "from mutagenesis_visualization import CreateVariants\n",
    "\n",
    "# list of codons we want to use\n",
    "codon_list: List[str] = [\"GCC\", \"GCG\", \"TGC\", \"GAC\", \"GAG\", \"TTC\"]\n",
    "# DNA sequence we are going to use as the template\n",
    "dna: str = 'ATGGCCGTGGGGTGTTATGGATGTACAGTAATACAAGGGGTGTTATGGAAAAAATTATGCCGGAAGAAGAATACAGCGAATTTAAAG'\n",
    "\n",
    "# Initialize instance\n",
    "create_variants: CreateVariants = CreateVariants()"
   ],
   "outputs": [],
   "metadata": {}
  },
  {
   "cell_type": "markdown",
   "source": [
    "Get a dataframe with the sequences:"
   ],
   "metadata": {}
  },
  {
   "cell_type": "code",
   "execution_count": null,
   "source": [
    "df_variants: DataFrame = create_variants(dna, codon_list)"
   ],
   "outputs": [],
   "metadata": {}
  },
  {
   "cell_type": "markdown",
   "source": [
    "If you just want to export the file to fasta. This command must be run after first generating a dataframe."
   ],
   "metadata": {}
  },
  {
   "cell_type": "code",
   "execution_count": null,
   "source": [
    "create_variants.export_file(output_file=\"path/to/sequences.fasta\")"
   ],
   "outputs": [],
   "metadata": {}
  },
  {
   "cell_type": "raw",
   "source": [
    ".. image:: images/exported_images/fasta.png\n",
    "   :width: 300px\n",
    "   :align: center"
   ],
   "metadata": {}
  },
  {
   "cell_type": "markdown",
   "source": [
    "If you just want to export the file to excel:"
   ],
   "metadata": {}
  },
  {
   "cell_type": "code",
   "execution_count": null,
   "source": [
    "create_variants.export_file(output_file=\"path/to/sequences.xlsx\")"
   ],
   "outputs": [],
   "metadata": {}
  }
 ],
 "metadata": {
  "interpreter": {
   "hash": "08c9c2b188ca295d277b82af7270a3b3910abb6ed0b382c4dc897f4b123534db"
  },
  "kernelspec": {
   "name": "python3",
   "display_name": "Python 3.9.5 64-bit ('mutagenesis-visualization-US1tCWpD-py3.9': poetry)"
  },
  "language_info": {
   "codemirror_mode": {
    "name": "ipython",
    "version": 3
   },
   "file_extension": ".py",
   "mimetype": "text/x-python",
   "name": "python",
   "nbconvert_exporter": "python",
   "pygments_lexer": "ipython3",
   "version": "3.9.5"
  }
 },
 "nbformat": 4,
 "nbformat_minor": 4
}