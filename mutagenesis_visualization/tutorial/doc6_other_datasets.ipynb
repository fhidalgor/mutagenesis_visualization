{
 "cells": [
  {
   "cell_type": "markdown",
   "metadata": {},
   "source": [
    "# Other datasets"
   ]
  },
  {
   "cell_type": "markdown",
   "metadata": {},
   "source": [
    "Up to this moment, we have only shown how the package performs with our own dataset. The moment of truth is when we test our software with other people's datasets. In this section we have compiled saturation mutagenesis datasets found in the literature and we reproduce the analysis. Not only does the package works with other datasets, but also it allows to customize a wide range of parameters such as color maps, scales, etc. Furthermore, on top of testing the resilience of ``mutagenesis_visualization``, we are providing extra examples on how to use this API."
   ]
  },
  {
   "cell_type": "code",
   "execution_count": null,
   "metadata": {
    "ExecuteTime": {
     "end_time": "2020-10-01T18:59:51.877066Z",
     "start_time": "2020-10-01T18:59:51.688208Z"
    }
   },
   "outputs": [],
   "source": [
    "%matplotlib inline\n",
    "from typing import Dict, Union, List\n",
    "from pandas.core.frame import DataFrame\n",
    "import numpy as np\n",
    "import pandas as pd\n",
    "import matplotlib as plt\n",
    "import copy\n",
    "\n",
    "from mutagenesis_visualization import Screen\n",
    "from mutagenesis_visualization import load_demo_datasets\n",
    "from mutagenesis_visualization import DemoObjects\n",
    "from mutagenesis_visualization.main.utils.data_paths import PDB_1ERM, PDB_1A5R, PDB_1ND4\n",
    "\n",
    "DEMO_DATASETS: Dict[str, Union[np.array, DataFrame]] = load_demo_datasets()\n"
   ]
  },
  {
   "cell_type": "raw",
   "metadata": {},
   "source": [
    "Function reviewed in this section:\n",
    "    - :func:`mutagenesis_visualization.load_demo_datasets`\n"
   ]
  },
  {
   "cell_type": "markdown",
   "metadata": {},
   "source": [
    "## Load objects"
   ]
  },
  {
   "cell_type": "markdown",
   "metadata": {},
   "source": [
    "For simplicity, we also have added the option of loading those datasets into objects automatically There are 10 objects to load from other papers (hras_rbd, hras_gapgef, bla_obj, sumo_obj, mapk1_obj, ube2i_obj, tat_obj, rev_obj, asynuclein_obj, aph_obj, b11l5f_obj) and all the heatmaps from the Hidalgo et al. eLife 2022 paper (hras_166_gap, hras_166_rbd, hras_188_baf3, hras_180_gap, hras_180_rbd, kras_165_gap, kras_165_gapgef, kras_173_gapgef, kras_165_gef, kras_173_gef, kras_165_rbd, kras_173_gap, kras_173_rbd, hras_166_gapgef, krasq61l_173_gap, and krasq61l_173_rbd.)."
   ]
  },
  {
   "cell_type": "markdown",
   "metadata": {},
   "source": [
    "## Hidalgo et al. eLife 2022 paper"
   ]
  },
  {
   "cell_type": "markdown",
   "metadata": {},
   "source": [
    "The figures of the Hidalgo et al. eLife 2022 paper were created using mutagenesis-visualization. To retrieve the objects, just instantiate the class `DemoObjects` and then access each of the datasets."
   ]
  },
  {
   "cell_type": "code",
   "execution_count": null,
   "metadata": {},
   "outputs": [],
   "source": [
    "# instantiate \n",
    "demo_objects = DemoObjects()\n",
    "\n",
    "# access the datasets\n",
    "demo_objects.hras_188_baf3.heatmap()"
   ]
  },
  {
   "cell_type": "markdown",
   "metadata": {},
   "source": [
    "## Beta Lactamase"
   ]
  },
  {
   "cell_type": "markdown",
   "metadata": {},
   "source": [
    "### Create object"
   ]
  },
  {
   "cell_type": "code",
   "execution_count": null,
   "metadata": {
    "ExecuteTime": {
     "end_time": "2020-10-01T18:59:55.324561Z",
     "start_time": "2020-10-01T18:59:55.012878Z"
    }
   },
   "outputs": [],
   "source": [
    "#https://www.uniprot.org/uniprot/P62593#sequences\n",
    "\n",
    "# Order of amino acid substitutions in the hras_enrichment dataset\n",
    "aminoacids: List[str] = list(DEMO_DATASETS['df_bla'].index)\n",
    "neworder_aminoacids: List[str]  = list('DEKHRGNQASTPCVYMILFW')\n",
    "\n",
    "# First residue of the hras_enrichment dataset. Because 1-Met was not mutated, the dataset starts at residue 2\n",
    "start_position = DEMO_DATASETS['df_bla'].columns[0]\n",
    "\n",
    "# Define sequence. If you dont know the start of the sequence, just add X's\n",
    "sequence_bla_x = 'MSIQHFRVALIPFFAAFCLPVFAHPETLVKVKDAEDQLGARVGYIELDLNSGKILESFRP' + 'EERFPMMSTFKVLLCGAVLSRVDAGQEQLGRRIHYSQNDLVEYSPVTEKHLTDGMTVREL' + 'CSAAITMSDNTAANLLLTTIGGPKELTAFLHNMGDHVTRLDRWEPELNEAIPNDERDTTM' + 'PAAMATTLRKLLTGELLTLASRQQLIDWMEADKVAGPLLRSALPAGWFIADKSGAGERGS' + 'RGIIAALGPDGKPSRIVVIYTTGSQATMDERNRQIAEIGASLIKHW'\n",
    "\n",
    "# Define secondary structure\n",
    "secondary_bla = [['L0'] * 23, ['α1'] * (38 - 23), ['L1'] * 2, ['β1'] * (48 - 40),\n",
    "                    ['L2'] * 5, ['β2'] * (57 - 53), ['L3'] * (68 - 57), ['α2'] * (84 - 68),\n",
    "                    ['L4'] * (95 - 84), ['α3'] * (100 - 95), ['L5'] * (103 - 100),\n",
    "                    ['α4'] * (110 - 103), ['L6'] * (116 - 110), ['α5'] * (140 - 116),\n",
    "                    ['L7'] * (1), ['α6'] * (153 - 141), ['L8'] * (164 - 153),\n",
    "                    ['α7'] * (169 - 164), ['L9'] * (179 - 169), ['α8'] * (194 - 179), ['L10'] *\n",
    "                    3, ['α9'] * (210 - 197), ['L11'] * (227 - 210), ['β3'] * (235 - 227),\n",
    "                    ['L12'] * (240 - 235), ['β4'] * (249 - 240), ['L13'] * (254 - 249),\n",
    "                    ['β5'] * (262 - 254), ['L14'] * (266 - 262), ['α10'] * (286 - 266)]\n",
    "\n",
    "bla_obj: Screen = Screen(\n",
    "    DEMO_DATASETS['df_bla'], sequence_bla_x, aminoacids, start_position, 0, secondary_bla\n",
    ")"
   ]
  },
  {
   "cell_type": "markdown",
   "metadata": {},
   "source": [
    "### 2D Plots"
   ]
  },
  {
   "cell_type": "code",
   "execution_count": null,
   "metadata": {
    "ExecuteTime": {
     "end_time": "2020-10-01T18:56:54.679575Z",
     "start_time": "2020-10-01T18:56:31.777986Z"
    }
   },
   "outputs": [],
   "source": [
    "# Create full heatmap\n",
    "bla_obj.heatmap(\n",
    "    colorbar_scale=(-3, 3),\n",
    "    neworder_aminoacids=neworder_aminoacids,\n",
    "    title='Beta Lactamase',\n",
    "    show_cartoon=True,\n",
    ")\n",
    "\n",
    "# Miniheatmap\n",
    "bla_obj.miniheatmap(\n",
    "    title='Wt residue Beta Lactamase',\n",
    "    neworder_aminoacids=neworder_aminoacids,\n",
    ")\n",
    "\n",
    "# Positional mean\n",
    "bla_obj.enrichment_bar(\n",
    "    figsize=[10, 2.5],\n",
    "    mode='mean',\n",
    "    show_cartoon=True,\n",
    "    yscale=[-3, 0.25],\n",
    "    title='',\n",
    ")\n",
    "\n",
    "# Kernel\n",
    "bla_obj.kernel(\n",
    "    histogram=True, title='Beta Lactamase', xscale=[-4, 1]\n",
    ")\n",
    "\n",
    "# Graph bar of the mean of each secondary motif\n",
    "bla_obj.secondary_mean(\n",
    "    yscale=[-1.5, 0],\n",
    "    figsize=[5, 2],\n",
    "    title='Mean of secondary motifs',\n",
    ")\n",
    "\n",
    "# Correlation between amino acids\n",
    "bla_obj.correlation(\n",
    "    colorbar_scale=[0.5, 1],\n",
    "    title='Correlation',\n",
    "    neworder_aminoacids=neworder_aminoacids,\n",
    ")\n",
    "\n",
    "# Explained variability by amino acid\n",
    "bla_obj.individual_correlation(\n",
    "    yscale=[0, 0.6],\n",
    "    title='Explained variability by amino acid',\n",
    ")\n",
    "\n",
    "# PCA by amino acid substitution\n",
    "bla_obj.pca(\n",
    "    title='',\n",
    "    dimensions=[0, 1],\n",
    "    figsize=(2, 2),\n",
    "    adjustlabels=True,\n",
    ")\n",
    "\n",
    "# PCA by secondary structure motif\n",
    "bla_obj.pca(\n",
    "    title='',\n",
    "    mode='secondary',\n",
    "    dimensions=[0, 1],\n",
    "    figsize=(2, 2),\n",
    "    adjustlabels=True,\n",
    ")"
   ]
  },
  {
   "cell_type": "raw",
   "metadata": {},
   "source": [
    ".. image:: images/other_examples/bla_fullheatmap.png\n",
    "\n",
    ".. image:: images/other_examples/bla_miniheatmap.png\n",
    "   :width: 200px\n",
    "   :align: center\n",
    "   \n",
    ".. image:: images/other_examples/bla_bar_mean.png\n",
    "   :align: center\n",
    "   \n",
    ".. image:: images/other_examples/bla_kde.png\n",
    "   :width: 240px\n",
    "   :align: center\n",
    "\n",
    ".. image:: images/other_examples/bla_secondary.png\n",
    "   :width: 300px\n",
    "   :align: center\n",
    "   \n",
    ".. image:: images/other_examples/bla_correlation.png\n",
    "   :width: 250px\n",
    "   :align: center\n",
    "   \n",
    ".. image:: images/other_examples/bla_variability.png\n",
    "   :width: 300px\n",
    "   :align: center\n",
    "   \n",
    ".. image:: images/other_examples/bla_pcaaminoacid.png\n",
    "   :width: 200px\n",
    "\n",
    ".. image:: images/other_examples/bla_pcasecondary.png\n",
    "   :width: 200px\n"
   ]
  },
  {
   "cell_type": "markdown",
   "metadata": {},
   "source": [
    "### 3D Plots"
   ]
  },
  {
   "cell_type": "code",
   "execution_count": null,
   "metadata": {
    "ExecuteTime": {
     "end_time": "2020-10-01T18:59:57.996781Z",
     "start_time": "2020-10-01T18:59:57.621910Z"
    }
   },
   "outputs": [],
   "source": [
    "# Plot 3-D plot\n",
    "bla_obj.plotly_scatter_3d(\n",
    "    mode='mean',\n",
    "    pdb_path=PDB_1ERM,\n",
    "    position_correction=2,\n",
    "    title='Scatter 3D',\n",
    "    squared=False,\n",
    "    x_label='x',\n",
    "    y_label='y',\n",
    "    z_label='z',\n",
    ")\n",
    "\n",
    "# Plot 3-D of distance to center of protein, SASA and B-factor\n",
    "bla_obj.plotly_scatter_3d_pdbprop(\n",
    "    plot=['Distance', 'SASA', 'log B-factor'],\n",
    "    position_correction=2,\n",
    "    pdb_path=PDB_1ERM,\n",
    "    title='Scatter 3D - PDB properties',\n",
    ")\n"
   ]
  },
  {
   "cell_type": "raw",
   "metadata": {},
   "source": [
    ".. raw:: html\n",
    "    :file: html/bla_3dscatter.html\n",
    "    \n",
    ".. raw:: html\n",
    "    :file: html/bla_3d_pdbprop.html"
   ]
  },
  {
   "cell_type": "code",
   "execution_count": null,
   "metadata": {
    "ExecuteTime": {
     "end_time": "2020-10-01T18:55:15.957563Z",
     "start_time": "2020-10-01T18:55:14.466017Z"
    }
   },
   "outputs": [],
   "source": [
    "# Start pymol and color residues. Cut offs are set with gof and lof parameters.\n",
    "bla_obj.pymol(\n",
    "    pdb=PDB_1ERM, mode='mean', gof=0.2, lof=-1, position_correction=2\n",
    ")"
   ]
  },
  {
   "cell_type": "raw",
   "metadata": {},
   "source": [
    ".. image:: images/other_examples/bla_pymol.png\n",
    "   :align: center"
   ]
  },
  {
   "cell_type": "markdown",
   "metadata": {},
   "source": [
    "## Sumo1"
   ]
  },
  {
   "cell_type": "markdown",
   "metadata": {},
   "source": [
    "### Create object"
   ]
  },
  {
   "cell_type": "code",
   "execution_count": null,
   "metadata": {
    "ExecuteTime": {
     "end_time": "2020-10-01T18:58:00.956105Z",
     "start_time": "2020-10-01T18:58:00.816157Z"
    }
   },
   "outputs": [],
   "source": [
    "#https://doi.org/10.15252/msb.20177908\n",
    "\n",
    "# Order of amino acid substitutions in the hras_enrichment dataset\n",
    "aminoacids = list(DEMO_DATASETS['df_sumo1'].index)\n",
    "\n",
    "# First residue of the hras_enrichment dataset. Because 1-Met was not mutated, the dataset starts at residue 2\n",
    "start_position = DEMO_DATASETS['df_sumo1'].columns[0]\n",
    "\n",
    "# Full sequence\n",
    "sequence_sumo1 = 'MSDQEAKPSTEDLGDKKEGEYIKLKVIGQDSSEIHFKVKMTTHLKKLKESYCQRQGVPMN' + 'SLRFLFEGQRIADNHTPKELGMEEEDVIEVYQEQTGGHSTV'\n",
    "\n",
    "# Define secondary structure\n",
    "secondary_sumo1 = [['L0'] * (20), ['β1'] * (28 - 20), ['L1'] * 3, ['β2'] * (39 - 31),\n",
    "                    ['L2'] * 4, ['α1'] * (55 - 43),\n",
    "                    ['L3'] * (6), ['β3'] * (65 - 61), ['L4'] * (75 - 65), ['α2'] * (80 - 75),\n",
    "                    ['L5'] * (85 - 80), ['β4'] * (92 - 85), ['L6'] * (101 - 92)]\n",
    "\n",
    "sumo_obj: Screen = Screen(\n",
    "    DEMO_DATASETS['df_sumo1'], sequence_sumo1, aminoacids, start_position, 1,\n",
    "    secondary_sumo1\n",
    ")"
   ]
  },
  {
   "cell_type": "markdown",
   "metadata": {},
   "source": [
    "### 2D Plots"
   ]
  },
  {
   "cell_type": "code",
   "execution_count": null,
   "metadata": {
    "ExecuteTime": {
     "end_time": "2020-10-01T18:58:12.224632Z",
     "start_time": "2020-10-01T18:58:01.809867Z"
    }
   },
   "outputs": [],
   "source": [
    "# You can use your own colormap or import it from matplotlib\n",
    "colormap = copy.copy((plt.cm.get_cmap('Blues_r')))\n",
    "\n",
    "# Create full heatmap\n",
    "sumo_obj.heatmap(\n",
    "    colorbar_scale=(-0.5, 1),\n",
    "    neworder_aminoacids=neworder_aminoacids,\n",
    "    title='Sumo1',\n",
    "    colormap=colormap,\n",
    "    show_cartoon=True,\n",
    ")\n",
    "\n",
    "# Miniheatmap\n",
    "sumo_obj.miniheatmap(\n",
    "    colorbar_scale=(0, 1),\n",
    "    title='Wt residue Sumo1',\n",
    "    neworder_aminoacids=neworder_aminoacids,\n",
    "    colormap=colormap,\n",
    ")\n",
    "\n",
    "# Positional mean\n",
    "sumo_obj.enrichment_bar(\n",
    "    figsize=[6, 2.5],\n",
    "    mode='mean',\n",
    "    show_cartoon=True,\n",
    "    yscale=[0, 1],\n",
    "    title='',\n",
    ")\n",
    "\n",
    "# Kernel\n",
    "sumo_obj.kernel(histogram=True, title='Sumo1', xscale=[-1, 2], output_file=None)\n",
    "\n",
    "# Graph bar of the mean of each secondary motif\n",
    "sumo_obj.secondary_mean(\n",
    "    yscale=[0, 1],\n",
    "    figsize=[2, 2],\n",
    "    title='Mean of secondary motifs',\n",
    ")\n",
    "\n",
    "# Correlation between amino acids\n",
    "sumo_obj.correlation(\n",
    "    colorbar_scale=[0.25, 0.75],\n",
    "    title='Correlation',\n",
    "    neworder_aminoacids=neworder_aminoacids,\n",
    ")\n",
    "\n",
    "# Explained variability by amino acid\n",
    "sumo_obj.individual_correlation(\n",
    "    yscale=[0, 0.6],\n",
    "    title='Explained variability by amino acid',\n",
    ")\n",
    "\n",
    "# PCA by amino acid substitution\n",
    "sumo_obj.pca(\n",
    "    title='',\n",
    "    dimensions=[0, 1],\n",
    "    figsize=(2, 2),\n",
    "    adjustlabels=True,\n",
    ")\n",
    "\n",
    "# PCA by secondary structure motif\n",
    "sumo_obj.pca(\n",
    "    title='',\n",
    "    mode='secondary',\n",
    "    dimensions=[0, 1],\n",
    "    figsize=(2, 2),\n",
    "    adjustlabels=True,\n",
    ")"
   ]
  },
  {
   "cell_type": "raw",
   "metadata": {},
   "source": [
    ".. image:: images/other_examples/sumo_fullheatmap.png\n",
    "\n",
    ".. image:: images/other_examples/sumo_miniheatmap.png\n",
    "   :width: 200px\n",
    "   :align: center\n",
    "   \n",
    ".. image:: images/other_examples/sumo_bar_mean.png\n",
    "   :width: 400px\n",
    "   :align: center\n",
    "   \n",
    ".. image:: images/other_examples/sumo_kde.png\n",
    "   :width: 240px\n",
    "   :align: center\n",
    "\n",
    ".. image:: images/other_examples/sumo_secondary.png\n",
    "   :width: 300px\n",
    "   :align: center\n",
    "   \n",
    ".. image:: images/other_examples/sumo_correlation.png\n",
    "   :width: 250px\n",
    "   :align: center\n",
    "   \n",
    ".. image:: images/other_examples/sumo_variability.png\n",
    "   :width: 300px\n",
    "   :align: center\n",
    "   \n",
    ".. image:: images/other_examples/sumo_pcaaminoacid.png\n",
    "   :width: 200px\n",
    "\n",
    ".. image:: images/other_examples/sumo_pcasecondary.png\n",
    "   :width: 200px\n"
   ]
  },
  {
   "cell_type": "code",
   "execution_count": null,
   "metadata": {
    "ExecuteTime": {
     "end_time": "2020-10-01T18:34:56.094820Z",
     "start_time": "2020-10-01T18:34:55.941557Z"
    }
   },
   "outputs": [],
   "source": [
    "# Open pymol and color the sumo structure\n",
    "sumo_obj.pymol(pdb=PDB_1A5R, mode='mean', gof=1, lof=0.5)"
   ]
  },
  {
   "cell_type": "raw",
   "metadata": {},
   "source": [
    ".. image:: images/other_examples/sumo_pymol.png\n",
    "   :align: center"
   ]
  },
  {
   "cell_type": "markdown",
   "metadata": {},
   "source": [
    "## MAPK1"
   ]
  },
  {
   "cell_type": "markdown",
   "metadata": {},
   "source": [
    "### Create object"
   ]
  },
  {
   "cell_type": "code",
   "execution_count": null,
   "metadata": {
    "ExecuteTime": {
     "end_time": "2020-10-01T18:34:56.611469Z",
     "start_time": "2020-10-01T18:34:56.231055Z"
    }
   },
   "outputs": [],
   "source": [
    "# Order of amino acid substitutions in the hras_enrichment dataset\n",
    "aminoacids = list(DEMO_DATASETS['df_mapk1'].index)\n",
    "\n",
    "# First residue of the hras_enrichment dataset. Because 1-Met was not mutated, the dataset starts at residue 2\n",
    "start_position = DEMO_DATASETS['df_mapk1'].columns[0]\n",
    "\n",
    "# Full sequence\n",
    "sequence_mapk1_x = 'MAAAAAAGAGPEMVRGQVFDVGPRYTNLSYIGEGAYGMVCSAYDNVNKVRVAIK' + 'KISPFEHQTYCQRTLREIKILLRFRHENIIGINDIIRAPTIEQMKDVYIVQDLMETDLYKLLKTQ' + 'HLSNDHICYFLYQILRGLKYIHSANVLHRDLKPSNLLLNTTCDLKICDFGLARVADPDHDHTGFL' + 'TEYVATRWYRAPEIMLNSKGYTKSIDIWSVGCILAEMLSNRPIFPGKHYLDQLNHILGILGSPSQ' + 'EDLNCIINLKARNYLLSLPHKNKVPWNRLFPNADSKALDLLDKMLTFNPHKRIEVEQALAHPYLE' + 'QYYDPSDEPIAEAPFKFDMELDDLPKEKLKELIFEETARFQPGYRS'\n",
    "\n",
    "# Create objects\n",
    "mapk1_obj: Screen = Screen(DEMO_DATASETS['df_mapk1'], sequence_mapk1_x, aminoacids, start_position, 0)"
   ]
  },
  {
   "cell_type": "markdown",
   "metadata": {},
   "source": [
    "### 2D Plots"
   ]
  },
  {
   "cell_type": "code",
   "execution_count": null,
   "metadata": {
    "ExecuteTime": {
     "end_time": "2020-10-01T18:35:24.966281Z",
     "start_time": "2020-10-01T18:34:56.614756Z"
    }
   },
   "outputs": [],
   "source": [
    "# Create full heatmap\n",
    "mapk1_obj.heatmap(\n",
    "    colorbar_scale=(-2, 2),\n",
    "    neworder_aminoacids=neworder_aminoacids,\n",
    "    title='MAPK1',\n",
    "    show_cartoon=False,\n",
    ")\n",
    "\n",
    "# Miniheatmap\n",
    "mapk1_obj.miniheatmap(\n",
    "    title='Wt residue MAPK1',\n",
    "    neworder_aminoacids=neworder_aminoacids,\n",
    ")\n",
    "\n",
    "# Positional mean\n",
    "mapk1_obj.enrichment_bar(\n",
    "    figsize=[10, 2.5],\n",
    "    mode='mean',\n",
    "    show_cartoon=False,\n",
    "    yscale=[-1, 1],\n",
    "    title='',\n",
    ")\n",
    "\n",
    "# Kernel\n",
    "mapk1_obj.kernel(\n",
    "    histogram=True, title='MAPK1', xscale=[-2, 2], output_file=None\n",
    ")\n",
    "\n",
    "# Correlation between amino acids\n",
    "mapk1_obj.correlation(\n",
    "    colorbar_scale=[0.25, 0.75],\n",
    "    title='Correlation',\n",
    "    neworder_aminoacids=neworder_aminoacids,\n",
    ")\n",
    "\n",
    "# Explained variability by amino acid\n",
    "mapk1_obj.individual_correlation(\n",
    "    yscale=[0, 0.6],\n",
    "    title='Explained variability by amino acid',\n",
    ")\n",
    "\n",
    "# PCA by amino acid substitution\n",
    "mapk1_obj.pca(\n",
    "    title='',\n",
    "    dimensions=[0, 1],\n",
    "    figsize=(2, 2),\n",
    "    adjustlabels=True,\n",
    ")"
   ]
  },
  {
   "cell_type": "raw",
   "metadata": {},
   "source": [
    ".. image:: images/other_examples/mapk1_fullheatmap.png\n",
    "\n",
    ".. image:: images/other_examples/mapk1_miniheatmap.png\n",
    "   :width: 200px\n",
    "   :align: center\n",
    "   \n",
    ".. image:: images/other_examples/mapk1_bar_mean.png\n",
    "   :width: 400px\n",
    "   :align: center\n",
    "   \n",
    ".. image:: images/other_examples/mapk1_kde.png\n",
    "   :width: 240px\n",
    "   :align: center\n",
    "   \n",
    ".. image:: images/other_examples/mapk1_correlation.png\n",
    "   :width: 250px\n",
    "   :align: center\n",
    "   \n",
    ".. image:: images/other_examples/mapk1_variability.png\n",
    "   :width: 300px\n",
    "   :align: center\n",
    "   \n",
    ".. image:: images/other_examples/mapk1_pcaaminoacid.png\n",
    "   :width: 200px\n",
    "   :align: center\n"
   ]
  },
  {
   "cell_type": "markdown",
   "metadata": {},
   "source": [
    "## UBE2I"
   ]
  },
  {
   "cell_type": "markdown",
   "metadata": {},
   "source": [
    "### Create object"
   ]
  },
  {
   "cell_type": "code",
   "execution_count": null,
   "metadata": {
    "ExecuteTime": {
     "end_time": "2020-10-01T18:35:25.320028Z",
     "start_time": "2020-10-01T18:35:25.044621Z"
    }
   },
   "outputs": [],
   "source": [
    "# Order of amino acid substitutions in the hras_enrichment dataset\n",
    "aminoacids = list(DEMO_DATASETS['df_ube2i'].index)\n",
    "\n",
    "# First residue of the hras_enrichment dataset. Because 1-Met was not mutated, the dataset starts at residue 2\n",
    "start_position = DEMO_DATASETS['df_ube2i'].columns[0]\n",
    "\n",
    "# Full sequence\n",
    "sequence_ube2i_x = 'MSGIALSRLAQERKAWRKDHPFGFVAVPTKNPDGTMNLMNWECAIPGKKGTP' + 'WEGGLFKLRMLFKDDYPSSPPKCKFEPPLFHPNVYPSGTVCLSILEEDKDWRPAITIKQ' + 'ILLGIQELLNEPNIQDPAQAEAYTIYCQNRVEYEKRVRAQAKKFAPS'\n",
    "\n",
    "# Define secondary structure\n",
    "secondary_ube2i = [['α1'] * (20 - 1), ['L1'] * (24 - 20), ['β1'] * (30 - 24), ['L2'] * 5,\n",
    "                    ['β2'] * (46 - 35), ['L3'] * (56 - 46), ['β3'] * (63 - 56),\n",
    "                    ['L4'] * (73 - 63), ['β4'] * (77 - 73), ['L5'] * (93 - 77),\n",
    "                    ['α2'] * (98 - 93), ['L6'] * (107 - 98), ['α3'] * (122 - 107),\n",
    "                    ['L7'] * (129 - 122), ['α4'] * (155 - 129), ['L8'] * (160 - 155)]\n",
    "\n",
    "# Create objects\n",
    "ube2i_obj: Screen = Screen(\n",
    "    DEMO_DATASETS['df_ube2i'], sequence_ube2i_x, aminoacids, start_position, 1,\n",
    "    secondary_ube2i\n",
    "        )"
   ]
  },
  {
   "cell_type": "markdown",
   "metadata": {},
   "source": [
    "### 2D Plots"
   ]
  },
  {
   "cell_type": "code",
   "execution_count": null,
   "metadata": {
    "ExecuteTime": {
     "end_time": "2020-10-01T18:35:41.131421Z",
     "start_time": "2020-10-01T18:35:25.322665Z"
    }
   },
   "outputs": [],
   "source": [
    "colormap = copy.copy((plt.cm.get_cmap('Blues_r')))\n",
    "\n",
    "# Create full heatmap\n",
    "ube2i_obj.heatmap(\n",
    "    colorbar_scale=(0, 1),\n",
    "    neworder_aminoacids=neworder_aminoacids,\n",
    "    title='Ube2i',\n",
    "    colormap=colormap,\n",
    "    show_cartoon=True,\n",
    ")\n",
    "\n",
    "# Miniheatmap\n",
    "ube2i_obj.miniheatmap(\n",
    "    colorbar_scale=(0, 1),\n",
    "    title='Wt residue Ube2i',\n",
    "    neworder_aminoacids=neworder_aminoacids,\n",
    "    colormap=colormap,\n",
    ")\n",
    "\n",
    "# Positional mean\n",
    "ube2i_obj.enrichment_bar(\n",
    "    figsize=[10, 2.5],\n",
    "    mode='mean',\n",
    "    show_cartoon=True,\n",
    "    yscale=[0, 2],\n",
    "    title='',\n",
    ")\n",
    "\n",
    "# Kernel\n",
    "ube2i_obj.kernel(\n",
    "    histogram=True, title='Ube2i', xscale=[-1, 2], output_file=None\n",
    ")\n",
    "\n",
    "# Graph bar of the mean of each secondary motif\n",
    "ube2i_obj.secondary_mean(\n",
    "    yscale=[0, 2],\n",
    "    figsize=[3, 2],\n",
    "    title='Mean of secondary motifs',\n",
    ")\n",
    "\n",
    "# Correlation between amino acids\n",
    "ube2i_obj.correlation(\n",
    "    colorbar_scale=[0.25, 0.75],\n",
    "    title='Correlation',\n",
    "    neworder_aminoacids=neworder_aminoacids,\n",
    ")\n",
    "\n",
    "# Explained variability by amino acid\n",
    "ube2i_obj.individual_correlation(\n",
    "    yscale=[0, 0.6],\n",
    "    title='Explained variability by amino acid',\n",
    ")\n",
    "\n",
    "# PCA by amino acid substitution\n",
    "ube2i_obj.pca(\n",
    "    title='',\n",
    "    dimensions=[0, 1],\n",
    "    figsize=(2, 2),\n",
    "    adjustlabels=True,\n",
    ")\n",
    "\n",
    "# PCA by secondary structure motif\n",
    "ube2i_obj.pca(\n",
    "    title='',\n",
    "    mode='secondary',\n",
    "    dimensions=[0, 1],\n",
    "    figsize=(2, 2),\n",
    "    adjustlabels=True,\n",
    ")"
   ]
  },
  {
   "cell_type": "raw",
   "metadata": {},
   "source": [
    ".. image:: images/other_examples/ube2i_fullheatmap.png\n",
    "\n",
    ".. image:: images/other_examples/ube2i_miniheatmap.png\n",
    "   :width: 200px\n",
    "   :align: center\n",
    "   \n",
    ".. image:: images/other_examples/ube2i_bar_mean.png\n",
    "   :width: 400px\n",
    "   :align: center\n",
    "   \n",
    ".. image:: images/other_examples/ube2i_kde.png\n",
    "   :width: 240px\n",
    "   :align: center\n",
    "\n",
    ".. image:: images/other_examples/ube2i_secondary.png\n",
    "   :width: 300px\n",
    "   :align: center\n",
    "   \n",
    ".. image:: images/other_examples/ube2i_correlation.png\n",
    "   :width: 250px\n",
    "   :align: center\n",
    "   \n",
    ".. image:: images/other_examples/ube2i_variability.png\n",
    "   :width: 300px\n",
    "   :align: center\n",
    "   \n",
    ".. image:: images/other_examples/ube2i_pcaaminoacid.png\n",
    "   :width: 200px\n",
    "\n",
    ".. image:: images/other_examples/ube2i_pcasecondary.png\n",
    "   :width: 200px\n"
   ]
  },
  {
   "cell_type": "markdown",
   "metadata": {},
   "source": [
    "## TAT"
   ]
  },
  {
   "cell_type": "markdown",
   "metadata": {},
   "source": [
    "### Create object"
   ]
  },
  {
   "cell_type": "code",
   "execution_count": null,
   "metadata": {
    "ExecuteTime": {
     "end_time": "2020-10-01T18:35:41.293300Z",
     "start_time": "2020-10-01T18:35:41.151971Z"
    }
   },
   "outputs": [],
   "source": [
    "#https://doi.org/10.1016/j.cell.2016.11.031\n",
    "\n",
    "# Order of amino acid substitutions in the hras_enrichment dataset\n",
    "aminoacids = list(DEMO_DATASETS['df_tat'].index)\n",
    "\n",
    "# First residue of the hras_enrichment dataset. Because 1-Met was not mutated, the dataset starts at residue 2\n",
    "start_position = DEMO_DATASETS['df_tat'].columns[0]\n",
    "\n",
    "# Full sequence\n",
    "sequence_tat = 'MEPVDPRLEPWKHPGSQPKTACTNCYCKKCCFHCQVCFITKALGISYGRKKRRQRRRAHQ' + 'NSQTHQASLSKQPTSQPRGDPTGPKE'\n",
    "\n",
    "# Define secondary structure\n",
    "secondary_tat = [['L1'] * (8), ['α1'] * (13 - 8), ['L2'] * (28 - 14), ['α2'] * (41 - 28),\n",
    "                    ['L3'] * (90 - 41)]\n",
    "\n",
    "tat_obj: Screen = Screen(\n",
    "    DEMO_DATASETS['df_tat'], sequence_tat, aminoacids, start_position, 0, secondary_tat\n",
    ")"
   ]
  },
  {
   "cell_type": "markdown",
   "metadata": {},
   "source": [
    "### 2D Plots"
   ]
  },
  {
   "cell_type": "code",
   "execution_count": null,
   "metadata": {
    "ExecuteTime": {
     "end_time": "2020-10-01T18:35:59.447240Z",
     "start_time": "2020-10-01T18:35:41.295244Z"
    }
   },
   "outputs": [],
   "source": [
    "# Create full heatmap\n",
    "tat_obj.heatmap(\n",
    "    colorbar_scale=(-0.75, 0.75),\n",
    "    neworder_aminoacids=neworder_aminoacids,\n",
    "    title='TAT',\n",
    "    show_cartoon=True,\n",
    "\n",
    ")\n",
    "\n",
    "# Miniheatmap\n",
    "tat_obj.miniheatmap(\n",
    "    title='Wt residue TAT',\n",
    "    colorbar_scale=(-0.75, 0.75),\n",
    "    neworder_aminoacids=neworder_aminoacids,\n",
    "\n",
    ")\n",
    "\n",
    "# Positional mean\n",
    "tat_obj.enrichment_bar(\n",
    "    figsize=[6, 2.5],\n",
    "    mode='mean',\n",
    "    show_cartoon=True,\n",
    "    yscale=[-0.5, 0.25],\n",
    "    title='',\n",
    "\n",
    ")\n",
    "\n",
    "# Kernel\n",
    "tat_obj.kernel(histogram=True, title='TAT', xscale=[-1, 1], output_file=None)\n",
    "\n",
    "# Correlation between amino acids\n",
    "tat_obj.correlation(\n",
    "    colorbar_scale=[0.25, 1],\n",
    "    title='Correlation',\n",
    "    neworder_aminoacids=neworder_aminoacids,\n",
    "\n",
    ")\n",
    "\n",
    "# Explained variability by amino acid\n",
    "tat_obj.individual_correlation(\n",
    "    yscale=[0, 0.6],\n",
    "    title='Explained variability by amino acid',\n",
    "\n",
    ")\n",
    "\n",
    "# PCA by amino acid substitution\n",
    "tat_obj.pca(\n",
    "    title='',\n",
    "    dimensions=[0, 1],\n",
    "    figsize=(2, 2),\n",
    "    adjustlabels=True,\n",
    "\n",
    ")"
   ]
  },
  {
   "cell_type": "raw",
   "metadata": {},
   "source": [
    ".. image:: images/other_examples/tat_fullheatmap.png\n",
    "\n",
    ".. image:: images/other_examples/tat_miniheatmap.png\n",
    "   :width: 200px\n",
    "   :align: center\n",
    "   \n",
    ".. image:: images/other_examples/tat_bar_mean.png\n",
    "   :width: 400px\n",
    "   :align: center\n",
    "   \n",
    ".. image:: images/other_examples/tat_kde.png\n",
    "   :width: 240px\n",
    "   :align: center\n",
    "   \n",
    ".. image:: images/other_examples/tat_correlation.png\n",
    "   :width: 250px\n",
    "   :align: center\n",
    "   \n",
    ".. image:: images/other_examples/tat_variability.png\n",
    "   :width: 300px\n",
    "   :align: center\n",
    "   \n",
    ".. image:: images/other_examples/tat_pcaaminoacid.png\n",
    "   :width: 200px\n",
    "   :align: center\n"
   ]
  },
  {
   "cell_type": "markdown",
   "metadata": {},
   "source": [
    "## REV"
   ]
  },
  {
   "cell_type": "markdown",
   "metadata": {},
   "source": [
    "### Create object"
   ]
  },
  {
   "cell_type": "code",
   "execution_count": null,
   "metadata": {
    "ExecuteTime": {
     "end_time": "2020-10-01T18:35:59.611525Z",
     "start_time": "2020-10-01T18:35:59.461667Z"
    }
   },
   "outputs": [],
   "source": [
    "#https://doi.org/10.1016/j.cell.2016.11.031\n",
    "#https://www.uniprot.org/uniprot/P69718\n",
    "\n",
    "# Order of amino acid substitutions in the hras_enrichment dataset\n",
    "aminoacids = list(DEMO_DATASETS['df_rev'].index)\n",
    "\n",
    "# First residue of the hras_enrichment dataset. Because 1-Met was not mureved, the dataset starts at residue 2\n",
    "start_position = DEMO_DATASETS['df_rev'].columns[0]\n",
    "\n",
    "# Full sequence\n",
    "sequence_rev = 'MAGRSGDSDEDLLKAVRLIKFLYQSNPPPNPEGTRQARRNRRRRWRERQRQIHSISERIL' + 'STYLGRSAEPVPLQLPPLERLTLDCNEDCGTSGTQGVGSPQILVESPTILESGAKE'\n",
    "\n",
    "# Define secondary structure\n",
    "secondary_rev = [['L1'] * (8), ['α1'] * (25 - 8), ['L2'] * (33 - 25), ['α2'] * (68 - 33),\n",
    "                    ['L3'] * (116 - 41)]\n",
    "\n",
    "rev_obj: Screen = Screen(\n",
    "    DEMO_DATASETS['df_rev'], sequence_rev, aminoacids, start_position, 0, secondary_rev\n",
    ")"
   ]
  },
  {
   "cell_type": "markdown",
   "metadata": {},
   "source": [
    "### 2D Plots"
   ]
  },
  {
   "cell_type": "code",
   "execution_count": null,
   "metadata": {
    "ExecuteTime": {
     "end_time": "2020-10-01T18:36:20.809895Z",
     "start_time": "2020-10-01T18:36:08.444591Z"
    }
   },
   "outputs": [],
   "source": [
    "# Create full heatmap\n",
    "rev_obj.heatmap(\n",
    "    colorbar_scale=(-0.75, 0.75),\n",
    "    neworder_aminoacids=neworder_aminoacids+[\"*\"],\n",
    "    title='REV',\n",
    "    show_cartoon=True,\n",
    ")\n",
    "\n",
    "# Miniheatmap\n",
    "rev_obj.miniheatmap(\n",
    "    title='Wt residue REV',\n",
    "    colorbar_scale=(-0.75, 0.75),\n",
    "    neworder_aminoacids=neworder_aminoacids+[\"*\"],\n",
    ")\n",
    "\n",
    "# Positional mean\n",
    "rev_obj.enrichment_bar(\n",
    "    figsize=[6, 2.5],\n",
    "    mode='mean',\n",
    "    show_cartoon=True,\n",
    "    yscale=[-0.5, 0.25],\n",
    "    title='',\n",
    ")\n",
    "\n",
    "# Kernel\n",
    "rev_obj.kernel(histogram=True, title='REV', xscale=[-1, 1], output_file=None)\n",
    "\n",
    "# Correlation between amino acids\n",
    "rev_obj.correlation(\n",
    "    colorbar_scale=[0.25, 1],\n",
    "    title='Correlation',\n",
    "    neworder_aminoacids=neworder_aminoacids,\n",
    ")\n",
    "\n",
    "# Explained variability by amino acid\n",
    "rev_obj.individual_correlation(\n",
    "    yscale=[0, 0.6],\n",
    "    title='Explained variability by amino acid',\n",
    ")\n",
    "\n",
    "# PCA by amino acid substitution\n",
    "rev_obj.pca(\n",
    "    title='',\n",
    "    dimensions=[0, 1],\n",
    "    figsize=(2, 2),\n",
    "    adjustlabels=True,\n",
    ")"
   ]
  },
  {
   "cell_type": "raw",
   "metadata": {},
   "source": [
    ".. image:: images/other_examples/rev_fullheatmap.png\n",
    "\n",
    ".. image:: images/other_examples/rev_miniheatmap.png\n",
    "   :width: 200px\n",
    "   :align: center\n",
    "   \n",
    ".. image:: images/other_examples/rev_bar_mean.png\n",
    "   :width: 400px\n",
    "   :align: center\n",
    "   \n",
    ".. image:: images/other_examples/rev_kde.png\n",
    "   :width: 240px\n",
    "   :align: center\n",
    "   \n",
    ".. image:: images/other_examples/rev_correlation.png\n",
    "   :width: 250px\n",
    "   :align: center\n",
    "   \n",
    ".. image:: images/other_examples/rev_variability.png\n",
    "   :width: 300px\n",
    "   :align: center\n",
    "   \n",
    ".. image:: images/other_examples/rev_pcaaminoacid.png\n",
    "   :width: 200px\n",
    "   :align: center\n"
   ]
  },
  {
   "cell_type": "markdown",
   "metadata": {},
   "source": [
    "## α-synuclein"
   ]
  },
  {
   "cell_type": "markdown",
   "metadata": {},
   "source": [
    "### Load data"
   ]
  },
  {
   "cell_type": "code",
   "execution_count": null,
   "metadata": {
    "ExecuteTime": {
     "end_time": "2020-10-01T18:36:20.997781Z",
     "start_time": "2020-10-01T18:36:20.822372Z"
    }
   },
   "outputs": [],
   "source": [
    "#https://www.uniprot.org/uniprot/P37840#sequences\n",
    "#https://doi.org/10.1038/s41589-020-0480-6\n",
    "\n",
    "# Order of amino acid substitutions in the hras_enrichment dataset\n",
    "aminoacids = list(DEMO_DATASETS['df_asynuclein'].index)\n",
    "\n",
    "# First residue of the hras_enrichment dataset. Because 1-Met was not mureved, the dataset starts at residue 2\n",
    "start_position = DEMO_DATASETS['df_asynuclein'].columns[0]\n",
    "\n",
    "# Full sequence\n",
    "sequence_asynuclein = 'MDVFMKGLSKAKEGVVAAAEKTKQGVAEAAGKTKEGVLYVGSKTKEGVVHGVATVAEKTK' + 'EQVTNVGGAVVTGVTAVAQKTVEGAGSIAAATGFVKKDQLGKNEEGAPQEGILEDMPVDP' + 'DNEAYEMPSEEGYQDYEPEA'\n",
    "\n",
    "# Define secondary structure\n",
    "secondary_asynuclein = [['L1'] * (1), ['α1'] * (37 - 1), ['L2'] * (44 - 37),\n",
    "                        ['α2'] * (92 - 44), ['L3'] * (140 - 92)]\n",
    "\n",
    "asynuclein_obj: Screen = Screen(\n",
    "    DEMO_DATASETS['df_asynuclein'], sequence_asynuclein, aminoacids, start_position, 0,\n",
    "    secondary_asynuclein\n",
    ")"
   ]
  },
  {
   "cell_type": "markdown",
   "metadata": {},
   "source": [
    "### 2D Plots"
   ]
  },
  {
   "cell_type": "code",
   "execution_count": null,
   "metadata": {
    "ExecuteTime": {
     "end_time": "2020-10-01T18:36:33.776887Z",
     "start_time": "2020-10-01T18:36:21.003361Z"
    }
   },
   "outputs": [],
   "source": [
    "# Create full heatmap\n",
    "asynuclein_obj.heatmap(\n",
    "    colorbar_scale=(-0.75, 0.75),\n",
    "    neworder_aminoacids=neworder_aminoacids,\n",
    "    title='α-synuclein',\n",
    "    show_cartoon=True,\n",
    ")\n",
    "\n",
    "# Miniheatmap\n",
    "asynuclein_obj.miniheatmap(\n",
    "    title='Wt residue α-synuclein',\n",
    "    colorbar_scale=(-0.75, 0.75),\n",
    "    neworder_aminoacids=neworder_aminoacids,\n",
    ")\n",
    "\n",
    "# Positional mean\n",
    "asynuclein_obj.enrichment_bar(\n",
    "    figsize=[6, 2.5],\n",
    "    mode='mean',\n",
    "    show_cartoon=True,\n",
    "    yscale=[0, 0.5],\n",
    "    title='',\n",
    ")\n",
    "\n",
    "# Kernel\n",
    "asynuclein_obj.kernel(\n",
    "    histogram=True, title='α-synuclein', xscale=[-0.75, 0.75], output_file=None\n",
    ")\n",
    "\n",
    "# Correlation between amino acids\n",
    "asynuclein_obj.correlation(\n",
    "    colorbar_scale=[0.5, 1],\n",
    "    title='Correlation',\n",
    "    neworder_aminoacids=neworder_aminoacids,\n",
    ")\n",
    "\n",
    "# Explained variability by amino acid\n",
    "asynuclein_obj.individual_correlation(\n",
    "    yscale=[0, 0.6],\n",
    "    title='Explained variability by amino acid',\n",
    ")\n",
    "\n",
    "# PCA by amino acid substitution\n",
    "asynuclein_obj.pca(\n",
    "    title='',\n",
    "    dimensions=[0, 1],\n",
    "    figsize=(2, 2),\n",
    "    adjustlabels=True,\n",
    ")"
   ]
  },
  {
   "cell_type": "raw",
   "metadata": {},
   "source": [
    ".. image:: images/other_examples/asynuclein_fullheatmap.png\n",
    "\n",
    ".. image:: images/other_examples/asynuclein_miniheatmap.png\n",
    "   :width: 200px\n",
    "   :align: center\n",
    "   \n",
    ".. image:: images/other_examples/asynuclein_bar_mean.png\n",
    "   :width: 400px\n",
    "   :align: center\n",
    "   \n",
    ".. image:: images/other_examples/asynuclein_kde.png\n",
    "   :width: 240px\n",
    "   :align: center\n",
    "   \n",
    ".. image:: images/other_examples/asynuclein_correlation.png\n",
    "   :width: 250px\n",
    "   :align: center\n",
    "   \n",
    ".. image:: images/other_examples/asynuclein_variability.png\n",
    "   :width: 300px\n",
    "   :align: center\n",
    "   \n",
    ".. image:: images/other_examples/asynuclein_pcaaminoacid.png\n",
    "   :width: 200px\n",
    "   :align: center\n"
   ]
  },
  {
   "cell_type": "markdown",
   "metadata": {},
   "source": [
    "## APH(3) II"
   ]
  },
  {
   "cell_type": "markdown",
   "metadata": {},
   "source": [
    "### Create object"
   ]
  },
  {
   "cell_type": "code",
   "execution_count": null,
   "metadata": {
    "ExecuteTime": {
     "end_time": "2020-10-01T18:58:50.034255Z",
     "start_time": "2020-10-01T18:58:49.736071Z"
    }
   },
   "outputs": [],
   "source": [
    "#https://doi.org/10.1093/nar/gku511\n",
    "\n",
    "aminoacids = list(DEMO_DATASETS['df_aph'].index)\n",
    "\n",
    "# First residue of the hras_enrichment dataset. Because 1-Met was not mureved, the dataset starts at residue 2\n",
    "start_position = DEMO_DATASETS['df_aph'].columns[0]\n",
    "\n",
    "# Full sequence\n",
    "sequence_aph = 'MIEQDGLHAGSPAAWVERLFGYDWAQQTIGCSDAAVFRLSAQGRPVLFVKTDLSGALNELQ' + 'DEAARLSWLATTGVPCAAVLDVVTEAGRDWLLLGEVPGQDLLSSHLAPAEKVSIMADAMRR' + 'LHTLDPATCPFDHQAKHRIERARTRMEAGLVDQDDLDEEHQGLAPAELFARLKARMPDGED' + 'LVVTHGDACLPNIMVENGRFSGFIDCGRLGVADRYQDIALATRDIAEELGGEWADRFLVLY' + 'GIAAPDSQRIAFYRLLDEFF'\n",
    "\n",
    "# Define secondary structure\n",
    "secondary_aph = [['L1'] * (11), ['α1'] * (16 - 11), ['L2'] * (22 - 16), ['β1'] * (26 - 22),\n",
    "                    ['L3'] * (34 - 26), ['β2'] * (40 - 34), ['L4'] * (46 - 40), ['β3'] *\n",
    "                    (52 - 46), ['L5'] * (58 - 52), ['α2'] * (72 - 58), ['L6'] * (79 - 72),\n",
    "                    ['β4'] * (85 - 79), ['L7'] * (89 - 85), ['β5'] * (95 - 89),\n",
    "                    ['L8'] * (99 - 95), ['β6'] * (101 - 99), ['L9'] * (107 - 101),\n",
    "                    ['α3'] * (131 - 107), ['L10'] * (135 - 131), ['α4'] * (150 - 135),\n",
    "                    ['L11'] * (158 - 150), ['α5'] * (163 - 158), ['L12'] * (165 - 163),\n",
    "                    ['α6'] * (177 - 165), ['L13'] * (183 - 177), ['β7'] * (187 - 183),\n",
    "                    ['L14'] * (191 - 187), ['α7'] * (194 - 191), ['L15'] * (1),\n",
    "                    ['β8'] * (199 - 195), ['L16'] * (201 - 199), ['β9'] * (206 - 201),\n",
    "                    ['L17'] * (212 - 206), ['β10'] * (216 - 212), ['α8'] * (245 - 216),\n",
    "                    ['L18'] * (4), ['α9'] * (264 - 249)]\n",
    "\n",
    "aph_obj: Screen = Screen(\n",
    "    np.log10(DEMO_DATASETS['df_aph']), sequence_aph, aminoacids, start_position, 0,\n",
    "    secondary_aph\n",
    ")"
   ]
  },
  {
   "cell_type": "markdown",
   "metadata": {},
   "source": [
    "### 2D Plots"
   ]
  },
  {
   "cell_type": "code",
   "execution_count": null,
   "metadata": {
    "ExecuteTime": {
     "end_time": "2020-10-01T18:59:14.386117Z",
     "start_time": "2020-10-01T18:58:51.264161Z"
    }
   },
   "outputs": [],
   "source": [
    "colormap = copy.copy((plt.cm.get_cmap('Blues_r')))\n",
    "\n",
    "# Create full heatmap\n",
    "aph_obj.heatmap(\n",
    "    colorbar_scale=(-0.75, 0.25),\n",
    "    neworder_aminoacids=neworder_aminoacids,\n",
    "    title='APH',\n",
    "    show_cartoon=True,\n",
    "    colormap=colormap,\n",
    ")\n",
    "\n",
    "# Miniheatmap\n",
    "aph_obj.miniheatmap(\n",
    "    title='Wt residue APH',\n",
    "    neworder_aminoacids=neworder_aminoacids,\n",
    "    colormap=colormap,\n",
    "    colorbar_scale=(-0.75, 0.25),\n",
    ")\n",
    "\n",
    "# Positional mean\n",
    "aph_obj.enrichment_bar(\n",
    "    figsize=[10, 2.5],\n",
    "    mode='mean',\n",
    "    show_cartoon=True,\n",
    "    yscale=[-1.5, 0.5],\n",
    "    title='',\n",
    ")\n",
    "\n",
    "# Kernel\n",
    "aph_obj.kernel(histogram=True, title='APH', xscale=[-2, 2], output_file=None)\n",
    "\n",
    "# Graph bar of the mean of each secondary motif\n",
    "aph_obj.secondary_mean(\n",
    "    yscale=[-1, 0],\n",
    "    figsize=[5, 2],\n",
    "    title='Mean of secondary motifs',\n",
    ")\n",
    "\n",
    "# Correlation between amino acids\n",
    "aph_obj.correlation(\n",
    "    colorbar_scale=[0.25, 0.75],\n",
    "    title='Correlation',\n",
    "    neworder_aminoacids=neworder_aminoacids,\n",
    ")\n",
    "\n",
    "# Explained variability by amino acid\n",
    "aph_obj.individual_correlation(\n",
    "    yscale=[0, 0.6],\n",
    "    title='Explained variability by amino acid',\n",
    ")\n",
    "\n",
    "# PCA by amino acid substitution\n",
    "aph_obj.pca(\n",
    "    title='',\n",
    "    dimensions=[0, 1],\n",
    "    figsize=(2, 2),\n",
    "    adjustlabels=True,\n",
    ")\n",
    "\n",
    "# PCA by secondary structure motif\n",
    "aph_obj.pca(\n",
    "    title='',\n",
    "    mode='secondary',\n",
    "    dimensions=[0, 1],\n",
    "    figsize=(2, 2),\n",
    "    adjustlabels=True,\n",
    ")"
   ]
  },
  {
   "cell_type": "raw",
   "metadata": {},
   "source": [
    ".. image:: images/other_examples/aph_fullheatmap.png\n",
    "\n",
    ".. image:: images/other_examples/aph_miniheatmap.png\n",
    "   :width: 200px\n",
    "   :align: center\n",
    "   \n",
    ".. image:: images/other_examples/aph_bar_mean.png\n",
    "   :align: center\n",
    "   \n",
    ".. image:: images/other_examples/aph_kde.png\n",
    "   :width: 240px\n",
    "   :align: center\n",
    "\n",
    ".. image:: images/other_examples/aph_secondary.png\n",
    "   :width: 300px\n",
    "   :align: center\n",
    "   \n",
    ".. image:: images/other_examples/aph_correlation.png\n",
    "   :width: 250px\n",
    "   :align: center\n",
    "   \n",
    ".. image:: images/other_examples/aph_variability.png\n",
    "   :width: 300px\n",
    "   :align: center\n",
    "   \n",
    ".. image:: images/other_examples/aph_pcaaminoacid.png\n",
    "   :width: 200px\n",
    "\n",
    ".. image:: images/other_examples/aph_pcasecondary.png\n",
    "   :width: 200px\n"
   ]
  },
  {
   "cell_type": "markdown",
   "metadata": {},
   "source": [
    "### 3D plots"
   ]
  },
  {
   "cell_type": "code",
   "execution_count": null,
   "metadata": {
    "ExecuteTime": {
     "end_time": "2020-10-01T18:59:32.522694Z",
     "start_time": "2020-10-01T18:59:32.123475Z"
    }
   },
   "outputs": [],
   "source": [
    "colormap = copy.copy((plt.cm.get_cmap('Blues_r')))\n",
    "\n",
    "# Plot 3-D plot\n",
    "aph_obj.plotly_scatter_3d(\n",
    "    mode='mean',\n",
    "    pdb_path=PDB_1ND4,\n",
    "    title='Scatter 3D aph',\n",
    "    squared=False,\n",
    "    position_correction=0,\n",
    "    x_label='x',\n",
    "    y_label='y',\n",
    "    z_label='z',\n",
    "    colormap = colormap,\n",
    "    colorbar_scale = (-.75, 0.25),\n",
    ")\n",
    "\n",
    "# Plot 3-D of distance to center of protein, SASA and B-factor\n",
    "aph_obj.plotly_scatter_3d_pdbprop(\n",
    "    plot=['Distance', 'SASA', 'log B-factor'],\n",
    "    position_correction=0,\n",
    "    pdb_path=PDB_1ND4,\n",
    "    title='Scatter 3D - PDB properties',\n",
    "    colorbar_scale = (-.75, 0.25),\n",
    "    colormap = colormap,\n",
    ")\n"
   ]
  },
  {
   "cell_type": "raw",
   "metadata": {},
   "source": [
    ".. raw:: html\n",
    "    :file: html/aph_3dscatter.html\n",
    "    \n",
    ".. raw:: html\n",
    "    :file: html/aph_3d_pdbprop.html"
   ]
  },
  {
   "cell_type": "code",
   "execution_count": null,
   "metadata": {
    "ExecuteTime": {
     "end_time": "2020-10-01T18:42:52.381276Z",
     "start_time": "2020-10-01T18:42:52.010795Z"
    }
   },
   "outputs": [],
   "source": [
    "# Start pymol and color residues. Cut offs are set with gof and lof parameters.\n",
    "aph_obj.pymol(\n",
    "    pdb=PDB_1ND4,\n",
    "    mode='mean',\n",
    "    gof=0.25,\n",
    "    lof=-0.5,\n",
    "    position_correction=0\n",
    ")"
   ]
  },
  {
   "cell_type": "raw",
   "metadata": {},
   "source": [
    ".. image:: images/other_examples/aph_pymol.png\n",
    "   :align: center"
   ]
  },
  {
   "cell_type": "markdown",
   "metadata": {},
   "source": [
    "## b11l5f"
   ]
  },
  {
   "cell_type": "markdown",
   "metadata": {},
   "source": [
    "### Create object"
   ]
  },
  {
   "cell_type": "code",
   "execution_count": null,
   "metadata": {
    "ExecuteTime": {
     "end_time": "2020-10-01T18:36:58.506074Z",
     "start_time": "2020-10-01T18:36:58.381289Z"
    }
   },
   "outputs": [],
   "source": [
    "#https://doi.org/10.5281/zenodo.1216229\n",
    "\n",
    "# Order of amino acid substitutions in the hras_enrichment dataset\n",
    "aminoacids = list(DEMO_DATASETS['df_b11l5f'].index)\n",
    "neworder_aminoacids: List[str]  = list('DEKHRGNQASTPVYMILFW')\n",
    "\n",
    "# Sequence\n",
    "sequence_b11l5f = 'CRAASLLPGTWQVTMTNEDGQTSQGQMHFQPRSPYTLDVKAQGTISDGRPI' + 'SGKGKVTCKTPDTMDVDITYPSLGNMKVQGQVTLDSPTQFKFDVTTSDGSKVTGTLQRQE'\n",
    "\n",
    "# First residue of the hras_enrichment dataset. Because 1-Met was not mureved, the dataset starts at residue 2\n",
    "start_position = DEMO_DATASETS['df_b11l5f'].columns[0]\n",
    "\n",
    "b11l5f_obj: Screen = Screen(DEMO_DATASETS['df_b11l5f'], sequence_b11l5f, aminoacids, start_position, 0)\n"
   ]
  },
  {
   "cell_type": "markdown",
   "metadata": {},
   "source": [
    "### 2D Plots"
   ]
  },
  {
   "cell_type": "code",
   "execution_count": null,
   "metadata": {
    "ExecuteTime": {
     "end_time": "2020-10-01T18:43:27.344336Z",
     "start_time": "2020-10-01T18:43:17.479831Z"
    }
   },
   "outputs": [],
   "source": [
    "colormap = copy.copy((plt.cm.get_cmap('bwr')))\n",
    "\n",
    "# Create full heatmap\n",
    "b11l5f_obj.heatmap(\n",
    "    neworder_aminoacids=neworder_aminoacids, title='b11l5f', output_file=None\n",
    ")\n",
    "\n",
    "# Miniheatmap\n",
    "b11l5f_obj.miniheatmap(\n",
    "    title='Wt residue b11l5f',\n",
    "    neworder_aminoacids=neworder_aminoacids,\n",
    ")\n",
    "\n",
    "# Positional mean\n",
    "b11l5f_obj.enrichment_bar(\n",
    "    figsize=[6, 2.5],\n",
    "    mode='mean',\n",
    "    yscale=[-1.5, 0.5],\n",
    "    title='',\n",
    ")\n",
    "\n",
    "# Kernel\n",
    "b11l5f_obj.kernel(\n",
    "    histogram=True, title='b11l5f', xscale=[-2, 1], output_file=None\n",
    ")\n",
    "\n",
    "# Correlation between amino acids\n",
    "b11l5f_obj.correlation(\n",
    "    colorbar_scale=[0.25, 1],\n",
    "    title='Correlation',\n",
    "    neworder_aminoacids=neworder_aminoacids,\n",
    ")\n",
    "\n",
    "# Explained variability by amino acid\n",
    "b11l5f_obj.individual_correlation(\n",
    "    yscale=[0, 0.6],\n",
    "    title='Explained variability by amino acid',\n",
    "    neworder_aminoacids=neworder_aminoacids,\n",
    ")\n",
    "# PCA by amino acid substitution\n",
    "b11l5f_obj.pca(\n",
    "    title='',\n",
    "    dimensions=[0, 1],\n",
    "    figsize=(2, 2),\n",
    "    adjustlabels=True,\n",
    "    neworder_aminoacids=neworder_aminoacids,\n",
    ")"
   ]
  },
  {
   "cell_type": "raw",
   "metadata": {},
   "source": [
    ".. image:: images/other_examples/b11l5f_fullheatmap.png\n",
    "\n",
    ".. image:: images/other_examples/b11l5f_miniheatmap.png\n",
    "   :width: 200px\n",
    "   :align: center\n",
    "   \n",
    ".. image:: images/other_examples/b11l5f_bar_mean.png\n",
    "   :width: 400px\n",
    "   :align: center\n",
    "   \n",
    ".. image:: images/other_examples/b11l5f_kde.png\n",
    "   :width: 240px\n",
    "   :align: center\n",
    "   \n",
    ".. image:: images/other_examples/b11l5f_correlation.png\n",
    "   :width: 250px\n",
    "   :align: center\n",
    "   \n",
    ".. image:: images/other_examples/b11l5f_variability.png\n",
    "   :width: 300px\n",
    "   :align: center\n",
    "   \n",
    ".. image:: images/other_examples/b11l5f_pcaaminoacid.png\n",
    "   :width: 200px\n",
    "   :align: center"
   ]
  },
  {
   "cell_type": "markdown",
   "metadata": {},
   "source": [
    "## References"
   ]
  },
  {
   "cell_type": "raw",
   "metadata": {},
   "source": [
    "The raw data was extracted from published material. Here are the sources: beta lactamase [#Stiffler2015]_ , sumo1 and ube2i [#Weile2017]_ , mapk1 [#Livesey2020]_ , tat and rev [#Fernandes2016]_ , alpha-synuclein [#Newberry2020]_ , aph(3)II [#Melnikov2014]_ , b11l5f [#Dou2018]_ )."
   ]
  },
  {
   "cell_type": "raw",
   "metadata": {},
   "source": [
    ".. [#Dou2018] Dou, J., Vorobieva, A., Sheffler, W., Doyle, L., Park, H., Bick, M., … Baker, D. (2018). De Novo Design Of A Fluorescence-Activating Β-Barrel. Zenodo. `doi:10.5281/zenodo.1216229 <https://www.nature.com/articles/s41586-018-0509-0>`_\n",
    "\n",
    ".. [#Fernandes2016] Fernandes, J. D., Faust, T. B., Strauli, N. B., Smith, C., Crosby, D. C., Nakamura, R. L., … Frankel, A. D. (2016). Functional segregation of overlapping genes in HIV. Cell, 167(7), 1762–1773.e12. `doi:10.1016/j.cell.2016.11.031 <https://www.cell.com/cell/fulltext/S0092-8674(16)31603-8?_returnURL=https%3A%2F%2Flinkinghub.elsevier.com%2Fretrieve%2Fpii%2FS0092867416316038%3Fshowall%3Dtrue>`_\n",
    "\n",
    "\n",
    ".. [#Livesey2020] Livesey, B. J., & Marsh, J. A. (2020). Using deep mutational scanning to benchmark variant effect predictors and identify disease mutations. Molecular Systems Biology, 16(7), e9380. `doi:10.15252/msb.20199380 <https://www.embopress.org/doi/full/10.15252/msb.20199380>`_\n",
    "\n",
    "\n",
    ".. [#Melnikov2014] Melnikov, A., Rogov, P., Wang, L., Gnirke, A., & Mikkelsen, T. S. (2014). Comprehensive mutational scanning of a kinase in vivo reveals substrate-dependent fitness landscapes. Nucleic Acids Research, 42(14), e112. `doi:10.1093/nar/gku511 <https://academic.oup.com/nar/article/42/14/e112/1266940>`_\n",
    "\n",
    "\n",
    ".. [#Newberry2020] Newberry, R. W., Leong, J. T., Chow, E. D., Kampmann, M., & DeGrado, W. F. (2020). Deep mutational scanning reveals the structural basis for α-synuclein activity. Nature Chemical Biology, 16(6), 653–659. `doi:10.1038/s41589-020-0480-6 <https://www.nature.com/articles/s41589-020-0480-6>`_\n",
    "\n",
    "\n",
    ".. [#Stiffler2015] Stiffler, M. A., Hekstra, D. R., & Ranganathan, R. (2015). Evolvability as a function of purifying selection in TEM-1 β-lactamase. Cell, 160(5), 882–892. `doi:10.1016/j.cell.2015.01.035 <https://www.cell.com/cell/fulltext/S0092-8674(15)00078-1?_returnURL=https%3A%2F%2Flinkinghub.elsevier.com%2Fretrieve%2Fpii%2FS0092867415000781%3Fshowall%3Dtrue>`_\n",
    "\n",
    "\n",
    ".. [#Weile2017] Weile, J., Sun, S., Cote, A. G., Knapp, J., Verby, M., Mellor, J. C., … Roth, F. P. (2017). A framework for exhaustively mapping functional missense variants. Molecular Systems Biology, 13(12), 957. `doi:10.15252/msb.20177908 <https://www.embopress.org/doi/full/10.15252/msb.20177908>`_\n",
    "\n"
   ]
  }
 ],
 "metadata": {
  "interpreter": {
   "hash": "08c9c2b188ca295d277b82af7270a3b3910abb6ed0b382c4dc897f4b123534db"
  },
  "kernelspec": {
   "display_name": "Python 3.9.6 64-bit ('mutagenesis-visualization-US1tCWpD-py3.9': poetry)",
   "name": "python3"
  },
  "language_info": {
   "codemirror_mode": {
    "name": "ipython",
    "version": 3
   },
   "file_extension": ".py",
   "mimetype": "text/x-python",
   "name": "python",
   "nbconvert_exporter": "python",
   "pygments_lexer": "ipython3",
   "version": "3.9.6"
  },
  "toc": {
   "base_numbering": 1,
   "nav_menu": {},
   "number_sections": true,
   "sideBar": true,
   "skip_h1_title": false,
   "title_cell": "Table of Contents",
   "title_sidebar": "Contents",
   "toc_cell": false,
   "toc_position": {
    "height": "calc(100% - 180px)",
    "left": "10px",
    "top": "150px",
    "width": "215.038px"
   },
   "toc_section_display": true,
   "toc_window_display": true
  }
 },
 "nbformat": 4,
 "nbformat_minor": 4
}
