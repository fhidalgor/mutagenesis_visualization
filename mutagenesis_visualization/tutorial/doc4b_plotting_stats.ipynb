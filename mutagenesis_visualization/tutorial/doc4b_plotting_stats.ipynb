{
 "cells": [
  {
   "cell_type": "markdown",
   "metadata": {},
   "source": [
    "# Creating plots"
   ]
  },
  {
   "cell_type": "raw",
   "metadata": {},
   "source": [
    "This section continues showing how to do different types of plots."
   ]
  },
  {
   "cell_type": "markdown",
   "metadata": {},
   "source": [
    "## Import modules"
   ]
  },
  {
   "cell_type": "code",
   "execution_count": null,
   "metadata": {
    "ExecuteTime": {
     "end_time": "2020-10-01T18:51:26.629721Z",
     "start_time": "2020-10-01T18:51:26.011552Z"
    }
   },
   "outputs": [],
   "source": [
    "# running locally, if you pip install then you just have to import the module\n",
    "%matplotlib inline\n",
    "from pandas.core.frame import DataFrame\n",
    "import numpy as np\n",
    "import pandas as pd\n",
    "from mutagenesis_visualization.main.demo.demo_objects import DemoObjects\n",
    "DEMO_OBJECTS:DemoObjects = DemoObjects()\n",
    "hras_rbd = DEMO_OBJECTS.hras_rbd\n",
    "hras_gapgef = DEMO_OBJECTS.hras_gapgef"
   ]
  },
  {
   "cell_type": "markdown",
   "metadata": {},
   "source": [
    "## Histogram, scatter and more"
   ]
  },
  {
   "cell_type": "raw",
   "metadata": {},
   "source": [
    "Classes reviewed in this section:\n",
    "    - :class:`mutagenesis_visualization.main.kernel.kernel.Kernel`\n",
    "    - :class:`mutagenesis_visualization.main.kernel.histogram.Histogram`\n",
    "    - :class:`mutagenesis_visualization.main.kernel.sequence_differences.SequenceDifferences`\n",
    "    - :class:`mutagenesis_visualization.main.scatter.scatter.Scatter`\n",
    "    - :class:`mutagenesis_visualization.main.other_stats.rank.Rank`\n",
    "    - :class:`mutagenesis_visualization.main.other_stats.cumulative.Cumulative`"
   ]
  },
  {
   "cell_type": "markdown",
   "metadata": {},
   "source": [
    "There are different tools to analyze the data. The package can plot the kernel density estimation (``object.kernel``). There is the option to fit other functions to the data (see Implementation for more). You could also only plot a histogram (``object.histogram``). For the histograms, we can select to plot only the single nucleotide variants (SNVs) or the non-SNVs. In the example, it actually changes the shape of the population. Non-SNVs are more sensitive to mutations than SNVs because there is a higher proportion of non-conservative amino acid replacements. "
   ]
  },
  {
   "cell_type": "code",
   "execution_count": null,
   "metadata": {
    "ExecuteTime": {
     "end_time": "2020-10-01T18:22:07.878691Z",
     "start_time": "2020-10-01T18:22:07.296679Z"
    }
   },
   "outputs": [],
   "source": [
    "# Plot kernel dist using sns.distplot.\n",
    "hras_rbd.kernel(\n",
    "    title='H-Ras 2-166', xscale=[-2, 1]\n",
    ")\n",
    "\n",
    "# Plot histogram of SNVs\n",
    "hras_rbd.histogram(\n",
    "    population='SNV', title='H-Ras 2-166 SNV', xscale=[-2, 1]\n",
    ")\n",
    "\n",
    "# Plot histogram of non-SNVs\n",
    "hras_rbd.histogram(\n",
    "    population='nonSNV',\n",
    "    title='H-Ras 2-166 non-SNV',\n",
    "    xscale=[-2, 1],\n",
    ")"
   ]
  },
  {
   "cell_type": "raw",
   "metadata": {},
   "source": [
    ".. image:: images/exported_images/hras_kde.png\n",
    "   :width: 240px\n",
    "\n",
    ".. image:: images/exported_images/hras_histsnv.png\n",
    "   :width: 200px\n",
    "\n",
    ".. image:: images/exported_images/hras_histnonsnv.png\n",
    "   :width: 200px"
   ]
  },
  {
   "cell_type": "markdown",
   "metadata": {},
   "source": [
    "If you have multiple datasets and want to compare them, you can do it with the method ``object.scatter``. We give the option to do the comparison at a mutation by mutation level ``mode=pointmutant``, or at a position level ``mode=mean``."
   ]
  },
  {
   "cell_type": "code",
   "execution_count": null,
   "metadata": {
    "ExecuteTime": {
     "end_time": "2020-10-01T18:22:09.876423Z",
     "start_time": "2020-10-01T18:22:09.594417Z"
    }
   },
   "outputs": [],
   "source": [
    "# Plot a scatter plot of each mutation\n",
    "hras_rbd.scatter(\n",
    "    hras_gapgef,\n",
    "    title='Individual mutations',\n",
    "    mode='pointmutant',\n",
    "    xscale=(-2.5, 1.5),\n",
    "    yscale=(-2.5, 1.5),\n",
    "    x_label='H-Ras Unregulated',\n",
    "    y_label='H-Ras Regulated',\n",
    ")\n",
    "\n",
    "# Plot a scatter plot of the mean position\n",
    "hras_rbd.scatter(\n",
    "    hras_gapgef,\n",
    "    title='Positional average',\n",
    "    mode='mean',\n",
    "    xscale=(-2, 1),\n",
    "    yscale=(-2, 1),\n",
    "    x_label='H-Ras Unregulated',\n",
    "    y_label='H-Ras Regulated',\n",
    ")"
   ]
  },
  {
   "cell_type": "raw",
   "metadata": {},
   "source": [
    ".. image:: images/exported_images/hras_scatter.png\n",
    "   :width: 200px\n",
    "\n",
    ".. image:: images/exported_images/hras_scatter_mean.png\n",
    "   :width: 200px"
   ]
  },
  {
   "cell_type": "markdown",
   "metadata": {},
   "source": [
    "If you are comparing two homologs/paralogs, you can evaluate what happens when mutating every site that differs between the two proteins to the identity in the other second protein. (ie K4A and A4K)"
   ]
  },
  {
   "cell_type": "code",
   "execution_count": null,
   "metadata": {},
   "outputs": [],
   "source": [
    "# here map the residues that are different between the two proteins\n",
    "map_sequence_changes = [(1, 1), (5, 5), (56, 56), (122, 123)]\n",
    "                        #^ same residue             #^ the residue 122 of the first protein matches the 123 rd of the second protein\n",
    "# ancestralras_rbd does not exist yet, so this cell wont run\n",
    "hras_rbd.sequence_differences(ancestralras_rbd, map_sequence_changes)"
   ]
  },
  {
   "cell_type": "raw",
   "metadata": {},
   "source": [
    ".. image:: images/exported_images/hras_histogram_A_to_B.png\n",
    "   :width: 400px"
   ]
  },
  {
   "cell_type": "markdown",
   "metadata": {},
   "source": [
    "The method ``object.rank`` sorts each mutation (or position) by its enrichment score."
   ]
  },
  {
   "cell_type": "code",
   "execution_count": null,
   "metadata": {
    "ExecuteTime": {
     "end_time": "2020-10-01T18:22:11.403963Z",
     "start_time": "2020-10-01T18:22:11.175550Z"
    }
   },
   "outputs": [],
   "source": [
    "hras_rbd.rank(mode='pointmutant', outdf=True, title='Rank of mutations')"
   ]
  },
  {
   "cell_type": "raw",
   "metadata": {},
   "source": [
    ".. image:: images/exported_images/hras_rank.png\n",
    "   :width: 400px\n",
    "   \n",
    ".. image:: images/exported_images/hras_ranktable.png\n",
    "   :width: 200px"
   ]
  },
  {
   "cell_type": "markdown",
   "metadata": {},
   "source": [
    "The method ``object.cumulative`` draws a cumulative plot that sums the mean enrichment score of every position. This  plot is useful to determine if the sensitivity to mutations is constant throughout the protein or not. In the example, we see that the cumulative function follows the x=y line, suggestion a homogeneous mutational tolerance. \n"
   ]
  },
  {
   "cell_type": "code",
   "execution_count": null,
   "metadata": {
    "ExecuteTime": {
     "end_time": "2020-10-01T18:22:12.745267Z",
     "start_time": "2020-10-01T18:22:12.623974Z"
    }
   },
   "outputs": [],
   "source": [
    "# Cumulative plot\n",
    "hras_rbd.cumulative(mode='all', title='Cumulative Score')"
   ]
  },
  {
   "cell_type": "raw",
   "metadata": {},
   "source": [
    ".. image:: images/exported_images/hras_cumulative.png\n",
    "   :width: 300px\n",
    "   :align: center"
   ]
  },
  {
   "cell_type": "markdown",
   "metadata": {},
   "source": [
    "## Bar and line charts"
   ]
  },
  {
   "cell_type": "raw",
   "metadata": {},
   "source": [
    "Classes reviewed in this section:\n",
    "    - :class:`mutagenesis_visualization.main.bar_graphs.enrichment_bar.EnrichmentBar`\n",
    "    - :class:`mutagenesis_visualization.main.bar_graphs.differential.Differential`\n",
    "    - :class:`mutagenesis_visualization.main.bar_graphs.position_bar.PositionBar`\n",
    "    - :class:`mutagenesis_visualization.main.bar_graphs.secondary.Secondary`"
   ]
  },
  {
   "cell_type": "markdown",
   "metadata": {},
   "source": [
    "The method ``object.enrichment_bar`` will plot the mean enrichment score for every position on a bar chart. It will be colored blue for loss of function and red for gain of function. Additionally, setting the parameter ``mode`` to an amino acid (using the one letter code) will plot the enrichment for that particular amino acid along the protein. In this example, we are showing the mean enrichment scores (top) and an alanine scan (bottom)"
   ]
  },
  {
   "cell_type": "code",
   "execution_count": null,
   "metadata": {
    "ExecuteTime": {
     "end_time": "2020-10-01T18:25:52.438263Z",
     "start_time": "2020-10-01T18:25:51.339286Z"
    }
   },
   "outputs": [],
   "source": [
    "# Plot a bar graph with the mean enrichment score\n",
    "hras_rbd.enrichment_bar(\n",
    "    figsize=[6, 2.5],\n",
    "    mode='mean',\n",
    "    show_cartoon=True,\n",
    "    yscale=[-2, 0.5],\n",
    "    title='',\n",
    ")\n",
    "\n",
    "# Plot a bar graph with the alanine enrichment score\n",
    "hras_rbd.enrichment_bar(\n",
    "    figsize=[6, 2.5],\n",
    "    mode='A',\n",
    "    show_cartoon=True,\n",
    "    yscale=[-2, 0.5],\n",
    "    title='',\n",
    ")"
   ]
  },
  {
   "cell_type": "raw",
   "metadata": {},
   "source": [
    ".. image:: images/exported_images/hras_bar_mean.png\n",
    "   :width: 500px\n",
    "   :align: center\n",
    "   \n",
    ".. image:: images/exported_images/hras_bar_alanine.png\n",
    "   :width: 500px\n",
    "   :align: center"
   ]
  },
  {
   "cell_type": "markdown",
   "metadata": {},
   "source": [
    "The mean differential effect between the two example datasets is displayed using the method ``object.differential``. This plot is useful to compare either orthologs/paralogs or the same protein with different effectors, and determine which areas of the protein have a different sensitivity to mutations."
   ]
  },
  {
   "cell_type": "code",
   "execution_count": null,
   "metadata": {
    "ExecuteTime": {
     "end_time": "2020-10-01T18:25:53.286188Z",
     "start_time": "2020-10-01T18:25:53.084308Z"
    }
   },
   "outputs": [],
   "source": [
    "# Plot the difference between H-Ras unregulated and H-Ras regulated datasets\n",
    "# The subtraction is hras_RBD - hrasGAPGEF\n",
    "hras_rbd.differential(\n",
    "    hras_gapgef,\n",
    "    figsize=[6, 2.5],\n",
    "    show_cartoon=True,\n",
    "    yscale=[-1, 1],\n",
    "    title='',\n",
    ")"
   ]
  },
  {
   "cell_type": "raw",
   "metadata": {
    "ExecuteTime": {
     "end_time": "2020-09-01T03:12:53.467153Z",
     "start_time": "2020-09-01T03:12:53.462676Z"
    }
   },
   "source": [
    ".. image:: images/exported_images/hras_diffenrichment.png\n",
    "   :width: 500px\n",
    "   :align: center"
   ]
  },
  {
   "cell_type": "markdown",
   "metadata": {},
   "source": [
    "You can check the individual mutational profile of a residue by using ``object.position_bar``."
   ]
  },
  {
   "cell_type": "code",
   "execution_count": null,
   "metadata": {
    "ExecuteTime": {
     "end_time": "2020-10-01T18:25:55.049389Z",
     "start_time": "2020-10-01T18:25:54.882646Z"
    }
   },
   "outputs": [],
   "source": [
    "# Create plot for position 117\n",
    "hras_rbd.position_bar(\n",
    "    position=117,\n",
    "    yscale=(-1.5, 0.8),\n",
    "    figsize=(3.5, 2),\n",
    "    title='Position 117',\n",
    ")"
   ]
  },
  {
   "cell_type": "raw",
   "metadata": {},
   "source": [
    ".. image:: images/exported_images/hras_position117.png\n",
    "   :width: 350px\n",
    "   :align: center"
   ]
  },
  {
   "cell_type": "markdown",
   "metadata": {},
   "source": [
    "If you added the secondary structure as an attribute of the object, you can plot the mean enrichment score for each alpha and beta motif in the protein (``object.secondary_mean``)."
   ]
  },
  {
   "cell_type": "code",
   "execution_count": null,
   "metadata": {
    "ExecuteTime": {
     "end_time": "2020-10-01T18:25:56.793148Z",
     "start_time": "2020-10-01T18:25:56.651647Z"
    }
   },
   "outputs": [],
   "source": [
    "# Graph bar of the mean of each secondary motif\n",
    "hras_rbd.secondary_mean(\n",
    "    yscale=[-1, 0],\n",
    "    figsize=[3, 2],\n",
    "    title='Mean of secondary motifs',\n",
    "    output_file=None\n",
    ")"
   ]
  },
  {
   "cell_type": "raw",
   "metadata": {},
   "source": [
    ".. image:: images/exported_images/hras_secondary.png\n",
    "   :width: 300px\n",
    "   :align: center"
   ]
  },
  {
   "cell_type": "markdown",
   "metadata": {},
   "source": [
    "## Correlation, PCA and ROC AUC"
   ]
  },
  {
   "cell_type": "raw",
   "metadata": {},
   "source": [
    "Classes reviewed in this section:\n",
    "    - :class:`mutagenesis_visualization.main.pca_analysis.correlation.Correlation`\n",
    "    - :class:`mutagenesis_visualization.main.pca_analysis.individual_correlation.IndividualCorrelation`\n",
    "    - :class:`mutagenesis_visualization.main.pca_analysis.pca.PCA`\n",
    "    - :class:`mutagenesis_visualization.main.other_stats.roc_analysis.ROC`"
   ]
  },
  {
   "cell_type": "raw",
   "metadata": {},
   "source": [
    "If you want to know more about PCA and ROC, watch the following StatQuest videos on youtube:\n",
    "`PCA <https://www.youtube.com/watch?v=FgakZw6K1QQ&ab_channel=StatQuestwithJoshStarmer>`_\n",
    "`ROC and AUC <https://www.youtube.com/watch?v=4jRBRDbJemM&ab_channel=StatQuestwithJoshStarmer>`_"
   ]
  },
  {
   "cell_type": "markdown",
   "metadata": {},
   "source": [
    "The correlation of amino acid substitution profiles can be calculated for each amino acid and graphed using ``object.correlation``. In the example we observe that polar amino acids have high correlation between themselves but low correlation with hydrophobic amino acids."
   ]
  },
  {
   "cell_type": "code",
   "execution_count": null,
   "metadata": {
    "ExecuteTime": {
     "end_time": "2020-10-01T18:26:00.985930Z",
     "start_time": "2020-10-01T18:26:00.637882Z"
    }
   },
   "outputs": [],
   "source": [
    "# Correlation between amino acids\n",
    "hras_rbd.correlation(\n",
    "    colorbar_scale=[0.5, 1], title='Correlation'\n",
    ")"
   ]
  },
  {
   "cell_type": "raw",
   "metadata": {
    "ExecuteTime": {
     "end_time": "2020-09-01T03:16:24.018490Z",
     "start_time": "2020-09-01T03:16:24.013197Z"
    }
   },
   "source": [
    ".. image:: images/exported_images/hras_correlation.png\n",
    "   :width: 250px\n",
    "   :align: center"
   ]
  },
  {
   "cell_type": "markdown",
   "metadata": {},
   "source": [
    "The method ``object.individual_correlation`` will tell you how a single amino acid substitution profile (row of the heatmap) correlates to the rest of the dataset."
   ]
  },
  {
   "cell_type": "code",
   "execution_count": null,
   "metadata": {
    "ExecuteTime": {
     "end_time": "2020-10-01T18:26:02.207684Z",
     "start_time": "2020-10-01T18:26:02.037745Z"
    }
   },
   "outputs": [],
   "source": [
    "# Explained variability by amino acid\n",
    "hras_rbd.individual_correlation(\n",
    "    yscale=[0, 0.6],\n",
    "    title='Explained variability by amino acid',\n",
    "    output_file=None\n",
    ")"
   ]
  },
  {
   "cell_type": "raw",
   "metadata": {},
   "source": [
    ".. image:: images/exported_images/hras_variability.png\n",
    "   :width: 300px\n",
    "   :align: center"
   ]
  },
  {
   "cell_type": "markdown",
   "metadata": {},
   "source": [
    "The package can perform principal component analysis (PCA) using the method ``object.pca``. The parameter ``mode`` can be set to ``aminoacid``, in which will cluster amino acids based on their similarity, ``individual`` in which will do the same for each individual residue and ``secondary``, in which will cluster for each motif. By default, the first two dimensions will be plotted (0 and 1 in Python notation), but that can be changed by ``dimensions`` parameter."
   ]
  },
  {
   "cell_type": "code",
   "execution_count": null,
   "metadata": {
    "ExecuteTime": {
     "end_time": "2020-10-01T18:26:11.370548Z",
     "start_time": "2020-10-01T18:26:08.733299Z"
    }
   },
   "outputs": [],
   "source": [
    "# PCA by amino acid substitution\n",
    "hras_rbd.pca(\n",
    "    title='',\n",
    "    dimensions=[0, 1],\n",
    "    figsize=(2, 2),\n",
    "    adjustlabels=True,\n",
    "    output_file=None\n",
    ")\n",
    "\n",
    "# PCA by secondary structure motif\n",
    "hras_rbd.pca(\n",
    "    title='',\n",
    "    mode='secondary',\n",
    "    dimensions=[0, 1],\n",
    "    figsize=(2, 2),\n",
    "    adjustlabels=True,\n",
    "    output_file=None\n",
    ")\n",
    "\n",
    "# PCA by each individual residue. Don't set adjustlabels = True unless really big figsize\n",
    "hras_rbd.pca(\n",
    "    title='',\n",
    "    mode='individual',\n",
    "    dimensions=[0, 1],\n",
    "    figsize=(5, 5),\n",
    "    adjustlabels=False,\n",
    "    output_file=None\n",
    ")"
   ]
  },
  {
   "cell_type": "raw",
   "metadata": {},
   "source": [
    ".. image:: images/exported_images/hras_pcaaminoacid.png\n",
    "   :width: 200px\n",
    "\n",
    ".. image:: images/exported_images/hras_pcasecondary.png\n",
    "   :width: 200px\n",
    "\n",
    ".. image:: images/exported_images/hras_pcaindividual.png\n",
    "   :width: 250px"
   ]
  },
  {
   "cell_type": "markdown",
   "metadata": {},
   "source": [
    "Another type of plot that can be done is a receiver operating characteristic (ROC) curve for classification. You will use the method ``object.roc`` and as an input you will pass a dataframe that contains the label for each variant."
   ]
  },
  {
   "cell_type": "code",
   "execution_count": null,
   "metadata": {
    "ExecuteTime": {
     "end_time": "2020-10-01T18:26:11.627124Z",
     "start_time": "2020-10-01T18:26:11.375327Z"
    }
   },
   "outputs": [],
   "source": [
    "#  Fake data\n",
    "df_freq: DataFrame = DataFrame()\n",
    "df_freq['Variant'] = hras_rbd.dataframes.df_notstopcodons[-1]['Variant']\n",
    "df_freq['Class'] = np.random.randint(2, size=len(df_freq))\n",
    "\n",
    "# Plot ROC curve\n",
    "hras_rbd.roc(\n",
    "    df_freq[['Variant', 'Class']],\n",
    "    title='ROC example',\n",
    ")"
   ]
  },
  {
   "cell_type": "raw",
   "metadata": {},
   "source": [
    ".. image:: images/exported_images/hras_roc.png\n",
    "   :width: 250px\n",
    "   :align: center"
   ]
  },
  {
   "cell_type": "markdown",
   "metadata": {},
   "source": [
    "## Pymol"
   ]
  },
  {
   "cell_type": "raw",
   "metadata": {
    "ExecuteTime": {
     "end_time": "2020-09-15T23:51:23.133650Z",
     "start_time": "2020-09-15T23:51:23.128545Z"
    }
   },
   "source": [
    "Class reviewed in this section:\n",
    "    - :class:`mutagenesis_visualization.main.pymol.pymol.Pymol`\n"
   ]
  },
  {
   "cell_type": "markdown",
   "metadata": {},
   "source": [
    "The data can be visualized on a Pymol object using ``object.pymol``. It is important that not only Pymol is installed, but also on the same path as Python. You may have to manually install the ipymol API. See the Getting Started chapter for more information.\n",
    "\n",
    "The parameter ``pdb`` will fetch the pdb that you want to use. Note that the protein chain needs to be specified (see example). Red for gain of function and blue for loss of function. ``mode`` lets you specifiy whether to plot the mean or an individual amino acid profile (left - Leucine, right - Aspartate)."
   ]
  },
  {
   "cell_type": "code",
   "execution_count": null,
   "metadata": {
    "ExecuteTime": {
     "end_time": "2020-10-01T18:27:12.714186Z",
     "start_time": "2020-10-01T18:27:10.122402Z"
    }
   },
   "outputs": [],
   "source": [
    "# Start pymol and color residues. Cut offs are set with gof and lof parameters.\n",
    "hras_rbd.pymol(pdb='5p21_A', mode='mean', gof=0.2, lof=-0.5)\n",
    "\n",
    "# Now check the mutational profile of Leucine (left image)\n",
    "hras_rbd.pymol(pdb='5p21_A', mode='L', gof=0.2, lof=-0.5)\n",
    "\n",
    "# Now check the mutational profile of Aspartate (right image)\n",
    "hras_rbd.pymol(pdb='5p21_A', mode='D', gof=0.2, lof=-0.5)"
   ]
  },
  {
   "cell_type": "raw",
   "metadata": {},
   "source": [
    ".. image:: images/exported_images/hras_pymol_combLD.png\n",
    "   :align: center"
   ]
  },
  {
   "cell_type": "markdown",
   "metadata": {},
   "source": [
    "## Art"
   ]
  },
  {
   "cell_type": "markdown",
   "metadata": {},
   "source": [
    "The heatmap method can be used to generate artistic plots such as the one in the documentation overview. In here we show how that is done. On an Excel we have defined the color for each square in the heatmap (also available with the package, see ``logo.xlsx``). The first step is to import the excel file, and then we perform the same steps as in a normal dataset."
   ]
  },
  {
   "cell_type": "code",
   "execution_count": null,
   "metadata": {
    "ExecuteTime": {
     "end_time": "2020-10-01T18:26:12.351727Z",
     "start_time": "2020-10-01T18:26:08.304Z"
    }
   },
   "outputs": [],
   "source": [
    "%matplotlib inline\n",
    "\n",
    "from mutagenesis_visualization.main.classes.screen import Screen\n",
    "from mutagenesis_visualization.main.utils.data_paths import PATH_LOGO\n",
    "# Read excel file\n",
    "usecols = 'A:BL'\n",
    "#df_logo = pd.read_excel(path, 'logo', usecols=usecols, nrows=21)\n",
    "#df_faded = pd.read_excel(path, 'logo_faded', usecols=usecols, nrows=21)\n",
    "df_logo = pd.read_excel(PATH_LOGO, 'logo_2', usecols=usecols, nrows=21)\n",
    "df_faded = pd.read_excel(PATH_LOGO, 'logo_faded_2', usecols=usecols, nrows=21)\n",
    "\n",
    "# Combine two dataframes\n",
    "df_mixed = df_logo * 1.2 - df_faded\n",
    "\n",
    "# Aminoacids\n",
    "aminoacids = list('ACDEFGHIKLMNPQRSTVWY*')\n",
    "\n",
    "# Define protein sequence\n",
    "sequence_logo = \"FUNNY THAT YOU ARE READING THIS SEQUENCE. NO SECRET CODE FOR NOW\"\n",
    "\n",
    "# Define secondary structure\n",
    "secondary = [['L0'] * 5, ['β1'] * (9 - 1), ['L1'] * (15 - 9),\n",
    "             ['α1'] * (25 - 20), ['L2'] * (32 - 25), ['β2'] * (42 - 32),\n",
    "             ['L3'] * (50 - 42), ['α2'] * (58 - 50), ['L4'] * (70 - 58)]\n",
    "\n",
    "# Create object\n",
    "logo_obj = Screen(\n",
    "    df_mixed, sequence_logo, aminoacids = aminoacids, start_position=1, fillna=0, secondary=secondary\n",
    ")\n",
    "\n",
    "# Create hetmap\n",
    "logo_obj.heatmap(\n",
    "    show_cartoon=True,\n",
    "    title='',\n",
    "    neworder_aminoacids='ACDEFGHIKLMNPQRSTVWY*',\n",
    ")"
   ]
  },
  {
   "cell_type": "raw",
   "metadata": {},
   "source": [
    ".. image:: images/exported_images/heatmap_intro.png\n",
    "   :width: 350px\n",
    "   :align: center"
   ]
  },
  {
   "cell_type": "markdown",
   "metadata": {},
   "source": [
    "## Reference"
   ]
  },
  {
   "cell_type": "raw",
   "metadata": {},
   "source": [
    ".. [#Pradeep2017] Bandaru, P., Shah, N. H., Bhattacharyya, M., Barton, J. P., Kondo, Y., Cofsky, J. C., … Kuriyan, J. (2017). Deconstruction of the Ras switching cycle through saturation mutagenesis. ELife, 6. `DOI: 10.7554/eLife.27810  <https://elifesciences.org/articles/27810>`_"
   ]
  }
 ],
 "metadata": {
  "interpreter": {
   "hash": "08c9c2b188ca295d277b82af7270a3b3910abb6ed0b382c4dc897f4b123534db"
  },
  "kernelspec": {
   "display_name": "Python 3.9.6 64-bit ('mutagenesis-visualization-US1tCWpD-py3.9': poetry)",
   "name": "python3"
  },
  "language_info": {
   "codemirror_mode": {
    "name": "ipython",
    "version": 3
   },
   "file_extension": ".py",
   "mimetype": "text/x-python",
   "name": "python",
   "nbconvert_exporter": "python",
   "pygments_lexer": "ipython3",
   "version": "3.9.6"
  },
  "toc": {
   "base_numbering": 1,
   "nav_menu": {},
   "number_sections": true,
   "sideBar": true,
   "skip_h1_title": false,
   "title_cell": "Table of Contents",
   "title_sidebar": "Contents",
   "toc_cell": false,
   "toc_position": {
    "height": "calc(100% - 180px)",
    "left": "10px",
    "top": "150px",
    "width": "165px"
   },
   "toc_section_display": true,
   "toc_window_display": true
  },
  "toc-autonumbering": true,
  "toc-showmarkdowntxt": false,
  "toc-showtags": false
 },
 "nbformat": 4,
 "nbformat_minor": 4
}
